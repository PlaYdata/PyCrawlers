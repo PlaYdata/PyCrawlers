{
 "metadata": {
  "name": "",
  "signature": "sha256:6a525c4b7c1168ffa0fa837f51de3b4e5a93c5a1ff78803bb4c5f08a1314d5f4"
 },
 "nbformat": 3,
 "nbformat_minor": 0,
 "worksheets": [
  {
   "cells": [
    {
     "cell_type": "markdown",
     "metadata": {},
     "source": [
      "# Reference\n",
      "\n",
      "- https://gist.github.com/anonymous/7568323\n",
      "- http://tw.18dao.net/%E6%9F%A5ASC%E7%A2%BC/%E5%90%84%E9%8D%B5%E5%B0%8D%E6%87%89%E7%9A%84ASCII%E7%A2%BC%E5%80%BC\n",
      "- https://www.ptt.cc/bbs/Python/M.1237219456.A.8DE.html\n",
      "- https://www.ptt.cc/bbs/Python/M.1331268840.A.D49.html\n",
      "- http://en.wikipedia.org/wiki/Control_character"
     ]
    },
    {
     "cell_type": "code",
     "collapsed": false,
     "input": [
      "import telnetlib\n",
      "import os\n",
      "import time"
     ],
     "language": "python",
     "metadata": {},
     "outputs": [],
     "prompt_number": 11
    },
    {
     "cell_type": "code",
     "collapsed": false,
     "input": [
      "# Make a connection to ptt.cc\n",
      "ptt = telnetlib.Telnet('ptt.cc')"
     ],
     "language": "python",
     "metadata": {},
     "outputs": [],
     "prompt_number": 39
    },
    {
     "cell_type": "code",
     "collapsed": false,
     "input": [
      "# read the response from the server and parse it into utf-8 format which is reconginizable to python.\n",
      "# We ignore all non-ascii characters\n",
      "data = ptt.read_very_eager()\n",
      "print data.decode(\"big5\", \"ignore\")"
     ],
     "language": "python",
     "metadata": {},
     "outputs": [
      {
       "output_type": "stream",
       "stream": "stdout",
       "text": [
        "HTTP/1.1 200 OK\r\n",
        "\r\n",
        "     \u02d9      \u001b[33;1mPTT\u001b[m                \u00b7   \u25e3        \u00b7  \u02d9      \u001b[1m\u25e2\u001b[47m\u2588\u2588\u2588\u2588\u2588\u2588\u001b[40m\u25e4\u001b[m\r\n",
        "             \u001b[1m140.112.172.11 \u001b[m\u00b7     \u25e2\u001b[47m\u2588\u001b[1m\u25e5\u001b[40m\u2588\u25e4\u001b[m            \u001b[1m\u25e2\u001b[47m\u2588\u2588\u2588\u2588\u2588\u001b[m\r\n",
        "  \u250c\u2500\u2510     \u001b[33;1m\u6279\u8e22\u8e22\u5be6\u696d\u574a\u001b[m        \u25e2\u001b[30;47m\u2583\u001b[37m\u2588\u2588\u001b[1m\u25e5\u2588\u001b[40m\u25e4\u001b[m   \u00b7   \u001b[1m\u25e2\u001b[47m\u2588\u2588\u2588\u2588\u2588\u001b[40m\u25e4  \u001b[m\u00b7\u001b[m\r\n",
        "  \u2502\u001b[1m\u2013\u001b[m\u2514\u2510   \u001b[1mptt.cc       \u001b[m     \u25e2\u001b[47m\u2588\u2588\u2588\u2588\u2588\u001b[1m\u25e5\u001b[40m\u2588\u25e4\u001b[m    \u001b[1m\u25e2\u001b[47m\u2588\u2588\u2588\u2588\u2588\u001b[m\r\n",
        "  \u2502\u001b[1m\u2013\u001b[m  \u2502                   \u25e2\u001b[47m\u2588\u2588\u2588\u001b[40m\u25e4\u001b[47m\u2588\u2588\u2588\u001b[1m\u25e5\u001b[40m\u25e4\u001b[m  \u001b[1m\u25e2\u001b[47m\u2588\u2588\u2588\u2588\u2588\u001b[40m\u25e4  \u001b[m\u02d9  \u00b7\u001b[m\r\n",
        "\u2500\u2518    \u2502\u250c\u2500\u2500\u2510  \u00b7       \u25e5\u25e4      \u001b[47m\u2588\u2588\u2588\u2588\u001b[40m\u25e3\u001b[1m\u25e2\u001b[47m\u2588\u2588\u2588\u2588\u001b[40m    \u001b[m\u00b7\u001b[m\r\n",
        "        \u2514\u2524  \u001b[33;1m\u2013\u001b[m\u2502      \u00b7           \u25e2\u001b[47m\u2588\u2588\u2588\u2588\u001b[1m\u25e2\u2588\u2588\u2588\u001b[40m\u25e4            \u001b[m\u00b7\u001b[m\r\n",
        "                \u2502\u250c\u2500\u2500\u2500\u2510         \u001b[47m\u2588\u2588\u2588\u2588\u2588\u001b[40m\u2587\u2587\u2586\u2586\u2585\u2585\u2584\u2584\u2583\u2582\u2581\u001b[m\r\n",
        "            \u250c\u2500\u2534\u2518\u001b[1m\u2013\u001b[33m\u2013\u001b[m  \u2514 \u25e2\u001b[47m\u2588\u2588\u2588\u2588\u2588\u001b[40m\u2587\u2587\u2586\u2586\u2585\u2585\u2584\u2584\u2583\u2583\u2582\u2582\u2581\u001b[m\r\n",
        "            \u2502\u001b[1m\u2013\u2013\u001b[m           \u25e5\u001b[47m\u2588\u2588\u001b[40m      \u2588\u2587\u2587\u2586\u2586\u2585\u2585\u2584\u2584\u2583\u2582\u2581\u001b[m\r\n",
        "\u001b[H\u001b[2J\u001b[1;36;47m\ufe4f\u001b[;46m\u2587\u001b[36;47m(\u001b[;46m\u25e4 \u001b[1;36m\u2571                                                 \"-.\u001b[;31;46m\u25e5\u001b[41m \u001b[36m__\u001b[1m\u2500  \u001b[;36;41m\u2581_\u001b[1m-\u001b[;36;41m_\u001b[37m[47m[36m\"\u001b[m\r\n",
        "\u001b[47m \u001b[36m-\u001b[;46m\u25e4\ufe4a\u001b[1;36m\uff0f                     \u2500    \ufe4a    \u2500                  \u2572\u001b[;31;46m\u2594\u25e5\u001b[1;36;41m\u2582\u001b[;31;46m[1;36;41m\u54c4\\\ufe4f\u001b[;36;41m\u2594-\u001b[47m \u001b[m\r\n",
        "\u001b[46m\u258a\u001b[1;36m-_\u2581           .-  \"            \u001b[;31;46m\u25e5\u2586\u2582      \u2581\u001b[1;36m\" -.            \u2594\u001b[;31;46m\u25e5\u001b[41m  \u001b[37m[47m[41m\u2586 \u001b[1;36m)\u001b[;36;41m-\u001b[31;47m\u258a\u001b[m\r\n",
        "\u001b[47m[46m[1;36m\u2594                     .- \u2500   \"  \u001b[;31;46m[41m \u001b[46m\u25e3\u001b[1;36m-.\u001b[;31;46m\u25e2\u001b[40m\u25e4\u001b[30;46m\u25e4              \u001b[1;36m\u2572 \u001b[;36;41m\u2585[31mf\u001b[47m\u2581\u001b[;41m\u2587\u001b[1;36m\u2581\ufe4a\u001b[m\r\n",
        "\u001b[1;36;41m-\u001b[46m  /       \u2571        .-\"    \u001b[;31;46m\u2581\u2583\u2585\u2586\u001b[41m   \u001b[33m\u2572 \u001b[31;46m[41m[40m\u25e4\u001b[30;46m\u25e4        \u001b[1;36m\u2572     \\ \u2581\u001b[;36;46m[47mh\u001b[;46m[41m\u001b[1;36m-\u001b[47m \u2594\u001b[41m \u001b[;31;47m\u2589\u001b[m\r\n",
        "\u001b[31;46m\u258f                 \u001b[1;36m\u2571      \u001b[;36m\u2585\u001b[30;41m\u2585\u2582  \u001b[33m\" -. .-\" \u001b[;31m\u258d\u001b[30;46m\u258f\u001b[1;36m\u2572                \u2594 \u001b[;31;46m\u2584\u2586\u001b[41m[37mg\u001b[47m \u001b[36m~\u001b[;41m\u25e4\u001b[m\r\n",
        "\u001b[1;36;46m/       \uff0f        /      \u2571    \u001b[;36m\u2586\u001b[31m\u25e2\u001b[41m  \u001b[33m.-\" \"-.\u001b[;31m\u258e\u001b[46m    \u001b[1;36m\\        \uff3c   )  \\   \u001b[;31;46m[41m[36m\ufe4a\u001b[37m[47m[1;36;41m\u2500\u001b[m\r\n",
        "\u001b[46m                 \u001b[1;36m\u2502      \u001b[;31;46m\u2581\u2582\u2584\u2587\u001b[33;41m_.-\"  /     \u001b[40m \u001b[30;46m\u258f                      \u001b[1;36m\u2572 \u001b[;31;46m[41m\u001b[;47m[41m[47m \u001b[m\r\n",
        "\u001b[46m                  \u001b[1;36m\\     \u001b[;36m\u2587\u001b[41m\u2587\u2585\u2583\u2582\u001b[1m\u2581\u001b[;36;41m[31mc\u001b[33m/\u001b[;31m\u258a\u001b[46m\u25e5\u001b[40m\u258a\u001b[30;46m\u258e   \u001b[1;36m/              \u2572       \\\u001b[;36;47m\u2585 \u001b[1m)\u001b[m\r\n",
        "\u001b[46m        \u001b[1;36m\\          \u2572      \"-.  -   \u001b[;36;41m[1mm \u001b[;31m[46ml  [;30m[46m   \u001b[1;36m\u2571   \u001b[;31;46m\u25e2\u25e4   \u001b[1;36m/ \u001b[41m \u001b[;31;46m[36m   \u001b[1m.     \u001b[;46m\u2582[47me\u001b[m\r\n",
        "\u001b[46m                     \u001b[1;36m\"-.         \ufe4a\u001b[;36;41m\u2589\u001b[31;46m\u25e4      \u001b[1;36m.-\"  \u001b[;31;46m\u25e2\u25e4\u258b  \u25e3  \u2588  \u25e2      \u001b[1;36m|\u001b[;31;46m\u25e2\u001b[36;47m\u258d\u001b[m\r\n",
        "\u001b[46m                        \u001b[1;36m\" -. _         _ .- \"         \u001b[;31;46m\u258c \u001b[36m[31m[41m \u001b[46m[36m[31m\u258a \u2588\u25e4     \u2588\u25e4\u001b[36;47m\"\u001b[m\r\n",
        "\u001b[46m         \u001b[36m[31m[1;36m\u2572     \u001b[;36;46m[31m     \u001b[36m[31m      \u001b[1;36m\ufe4a             \u001b[;31;46m\u25e5\u2587\u001b[41m[46mg\u001b[36;41m\u2581\u001b[46m    \u001b[31m\u258b [36m      \u001b[31m[36m[37m_[47m[m\r\n",
        "\u001b[46m   \u001b[36m[41m\u001b[31;46m\u2588\u2588\u001b[41m[46m\u001b[36m[41m[31;46m\u2588\u2588\u001b[41m[46m[36m[41m[31;46m\u2588\u2588\u001b[41m[46m                     \u25e2 \u001b[41m \u001b[46m[41m[46m\u25e3 \u001b[36;41m\u2589\u001b[31;46m\u258c     \u001b[1;36m\u2571  /\u001b[;46m\u25e2\u001b[36;47m\u2581\u001b[1m~\u001b[m\r\n",
        "\u001b[46m \u001b[31m\u25e2\u25e4 \u25e2\u25e4/   \u25e2\u25e4 /  \u25e2\u25e4 /\u25e2             \u2588[41m[46m  \u001b[36;41m\u2586\u001b[46m  \u001b[31;41m[46m\u54c8\u001b[41m[46m\u25e3     \u001b[37m\u25e2\u001b[1;36;47m-  \u001b[;36;47m\u2581\u001b[m\r\n",
        "\u001b[31;46m\u25e4  \u001b[36;41m\u2587\u2587\u001b[46m     \u001b[31m\u25e4      \u25e4\u001b[1;36m- . \u001b[;31;46m[41m\u5cb7\u001b[46m \u001b[41m[46m\u001b[41m[46m      \u001b[1;36m.- \"     \u001b[;31;46m\u258c  \u2583\u25e4  \u25e5\u001b[41m \u001b[46m\u25e3 \u001b[1;36m(  \u001b[;36;47m\u2587\u001b[46m   \u001b[1m-\u001b[m\r\n",
        "\u001b[31;46m\u25e5\u001b[30;41m\u2502\u001b[31;46m\u25e4 \u001b[41m[46m\u001b[41m[46m[1;36m\"             \u001b[;31;46m\u25e5\u258b \u001b[36;41m\u2586\u001b[46m             \u001b[1m\u2572 - \ufe4a\u001b[m\r\n",
        "\u001b[46m                            \u001b[31m/          Vorukrus                        \u001b[1;36m\"-.  \u2500 \u001b[m\r\n",
        "            \u6b61\u8fce\u4f86\u5230 \u001b[1;36m\u6279\u8e22\u8e22\u5be6\u696d\u574a \u001b[m\u76ee\u524d\u6709\u3010\u001b[1;31m134531\u001b[m\u3011\u4f4d\u4f7f\u7528\u8005\u5728\u7dda\u4e0a\r\n",
        "\r\n",
        "\u001b[21;1H\u001b[K\u001b[m\u8acb\u8f38\u5165\u4ee3\u865f\uff0c\u6216\u4ee5 guest \u53c3\u89c0\uff0c\u6216\u4ee5 new \u8a3b\u518a: \u001b[7m              \b\b\b\b\b\b\b\b\b\b\b\b\b\b\n"
       ]
      }
     ],
     "prompt_number": 40
    },
    {
     "cell_type": "code",
     "collapsed": false,
     "input": [
      "# Enter the username.\n",
      "ptt.write(\"NCCUcrawler\\r\\n\")\n",
      "# pause a while for server to response.\n",
      "time.sleep(1)\n",
      "# Enter the password.\n",
      "ptt.write(\"nccu\\r\\n\")\n",
      "time.sleep(2)\n",
      "# Login!!\n",
      "data = ptt.read_very_eager()\n",
      "print data.decode(\"big5\", \"ignore\")"
     ],
     "language": "python",
     "metadata": {},
     "outputs": [
      {
       "output_type": "stream",
       "stream": "stdout",
       "text": [
        "NCCUcrawler\u001b[m\u001b[22;1H\u001b[K\u001b[m\u8acb\u8f38\u5165\u60a8\u7684\u5bc6\u78bc: \u0007\u001b[22;1H\u001b[K\u001b[m\u6b63\u5728\u6aa2\u67e5\u5e33\u865f\u8207\u5bc6\u78bc...\u001b[22;1H\u001b[K\u001b[m\u5bc6\u78bc\u6b63\u78ba\uff01 \u958b\u59cb\u767b\u5165\u7cfb\u7d71...\r\n",
        "\u001b[H\u001b[2J\u001b[H\u001b[2J\u001b[m\u001b[23;1H\u767b\u5165\u4e2d\uff0c\u8acb\u7a0d\u5019...\r",
        "\u6b63\u5728\u66f4\u65b0\u8207\u540c\u6b65\u7dda\u4e0a\u4f7f\u7528\u8005\u53ca\u597d\u53cb\u540d\u55ae\uff0c\u7cfb\u7d71\u8ca0\u8377\u91cf\u5927\u6642\u6703\u9700\u6642\u8f03\u4e45...\r\n",
        "\u001b[H\u001b[2J\u001b[23;1H\u6b63\u5728\u66f4\u65b0\u8207\u540c\u6b65\u7dda\u4e0a\u4f7f\u7528\u8005\u53ca\u597d\u53cb\u540d\u55ae\uff0c\u7cfb\u7d71\u8ca0\u8377\u91cf\u5927\u6642\u6703\u9700\u6642\u8f03\u4e45...\r\n",
        "\u001b[21;7H\u6b61\u8fce\u60a8\u518d\u5ea6\u62dc\u8a2a\uff0c\u4e0a\u6b21\u60a8\u662f\u5f9e \u001b[1;33m1.171.176.193 \u001b[m\u9023\u5f80\u672c\u7ad9\u3002\r\n",
        "\n",
        "\u001b[K\n",
        "\u001b[1;34;44m \u2584\u2584\u2584\u2584\u2584\u2584\u2584\u2584\u2584\u2584\u2584\u2584\u2584\u2584\u2584\u001b[0;1;37;44m \u8acb\u6309\u4efb\u610f\u9375\u7e7c\u7e8c \u001b[34m\u2584\u2584\u2584\u2584\u2584\u2584\u2584\u2584\u2584\u2584\u2584\u2584\u2584\u2584\u2584  \u001b[m\n"
       ]
      }
     ],
     "prompt_number": 41
    },
    {
     "cell_type": "code",
     "collapsed": false,
     "input": [
      "# press arbitrary key to continue.\n",
      "ptt.write(\"s\".encode(\"big5\"))\n",
      "time.sleep(2)\n",
      "data = ptt.read_very_eager()\n",
      "# Home page!\n",
      "print data.decode(\"big5\", \"ignore\")"
     ],
     "language": "python",
     "metadata": {},
     "outputs": [
      {
       "output_type": "stream",
       "stream": "stdout",
       "text": [
        "\u001b[H\u001b[1;37;44m\u3010\u4e3b\u529f\u80fd\u8868\u3011                     \u001b[33m\u6279\u8e22\u8e22\u5be6\u696d\u574a\u001b[0;1;37;44m                                  \u001b[2;25H\u001b[0;30;44m\u258b \u3008    \u001b[34m[30mK   \u3003\u001b[34;47m\u258f        \u001b[30m\u2581\u2582        \u001b[0;47m[31m   [41m[0;41m[47m \u001b[31m[0;47m  \u001b[3;25H\u001b[30;44m\u258d        |\\    \u001b[34;47m\u258d     \u001b[30m\u25e2\u001b[0;30m      \u001b[47m\u25e3    \u001b[0;47m[31mc[41mj\u001b[0;41m[47m \u001b[31m[0;47mp [31mk\u001b[41m[47m  \u001b[4;25H\u001b[30;44m\u258f     \u001b[34m[30ms   [34md  \u001b[47m\u258a   \u001b[m\u2589\u001b[30m[47m[m\u2586\u2583[30mb \u001b[m[47m [41mg\u001b[47m                 \u001b[5;4H\u001b[m\u57f7\u5b50\u4e4b\u624b  \u5055\u8001\u767d\u982d   \u001b[30;44m\u258e\u001b[34m[30m_\uff3f_`\u001b[34m[30me\u258a \u2032\u001b[34;47m\u258b  \u001b[m\u258b\u001b[30m[m\u7095\u001b[47m[30m[0;47m\u001b[33m[0;30m\u7095\u001b[47m                    \u001b[6;25H\u001b[0;30m[44m\\\u2582\u2583\u001b[1m\u2584\u001b[0;30m    \u001b[33;44m\u2582\u2583\u001b[30;47m   [0;30m[47mf `[0;47mH\u001b[43m\u258a\u001b[0;33m\u258e\u001b[m\u25e5\u001b[47m    \u001b[30m2014  \u611b\u4f60\u4e00\u4e16 \u001b[7;26H\u001b[44m\u258a \u001b[0;1;30m)\"\u001b[0;30m[33md\u001b[43m  [0;33m\u001b[30;43mL7  /\u001b[47m    [0;30mj  [47mg[33me[43mg[0;33m\u001b[30m[47mg[0;47md                \u001b[8;26H\u001b[30;44m\u2589[0;30m[43mi \u001b[33m \u001b[30m  \u001b[0;30m \u001b[43m\u306d\uff0f \u001b[33;47m\u258e  \u001b[30m[0;30m[47m[0;30m\u54c8\u001b[mc\u001b[35m[43mf\u2587\u001b[30;45m,'\u001b[0;45m[47m[m[47mf\u001b[30m`[0;47mt              \r\n",
        "\u001b[0;30m [31m                       \u001b[1;30m{  \u001b[0;30m[43m \u001b[33m[30m[0;33m\u258e\u001b[30m[0;43mf\u001b[30;47m\u2032\\   \u001b[0;47m[30m\u001b[m\u2587\u001b[47m[45m\u001b[30m`\u301e [47mI  \u001b[0;47m[1;30m[0;30;47m \uff3c            \r\n",
        "\u001b[0;31m  [30;41mj\u001b[0;31m\u301e\u001b[30m[41m\u8aa5[0;30m             \u001b[31m[30mc   \u001b[1mk   \u001b[0;30;43m\u25e3\u2032[0;30m\u001b[m[30;47mB \uff3c _\uff0f    \u001b[0;47m[45mg[35mc  \u001b[47m[30mo   \u001b[1m\uff3c  \u001b[0;30;47m\\           \r\n",
        "\u001b[0;30m       [41mg\u001b[0;30m [31mo\u001b[41m[0;31m\u001b[30m[31m   \u001b[30m[41m\u001b[31m[0;31m \u001b[1;30m\u2572_   _\u2571   \u001b[0;30;47m\uff3c  [0;47m[30m   \u2571\\  \u001b[0;47m[45mg[35mc [30;47m  \u001b[1m\uff3c \u001b[0;30;47m\uff5c          \r\n",
        "\u001b[0;31m            [30m[41ms\u001b[31m[0;31m  \u001b[30m[31mp      \u001b[30m[1m\u737a     \u001b[0;30;47m  [0;47mt\u001b[30m\ufe37\u3127\u301e  \\     \u001b[35m\u25e5\u001b[30;45m[0;47m  \u001b[30m\\\u001b[33m\u2583[0;47me         \r\n",
        "\u001b[m\u2500\u2500\u2500\u2500\u2500\u2500\u2500\u2500\u2500 \u4e0a\u65b9\u70ba\u4f7f\u7528\u8005\u5fc3\u60c5\u9ede\u64ad\u7559\u8a00\u5340\uff0c\u4e0d\u4ee3\u8868\u672c\u7ad9\u7acb\u5834 \u2500\u2500\u2500\u2500\u2500\u2500\u2500\u2500\u001b[14;23H(\u001b[1;36mA\u001b[m)nnounce     \u3010 \u7cbe\u83ef\u516c\u4f48\u6b04 \u3011\u001b[15;23H(\u001b[1;36mF\u001b[m)avorite     \u3010 \u6211 \u7684 \u6700\u611b \u3011\u001b[16;21H> (\u001b[1;36mC\u001b[m)lass\u001b[16;38H\u3010 \u5206\u7d44\u8a0e\u8ad6\u5340 \u3011\u001b[17;23H(\u001b[1;36mM\u001b[m)ail\u001b[17;38H\u3010 \u79c1\u4eba\u4fe1\u4ef6\u5340 \u3011\u001b[18;23H(\u001b[1;36mT\u001b[m)alk\u001b[18;38H\u3010 \u4f11\u9592\u804a\u5929\u5340 \u3011\u001b[19;23H(\u001b[1;36mU\u001b[m)ser\u001b[19;38H\u3010 \u500b\u4eba\u8a2d\u5b9a\u5340 \u3011\u001b[20;23H(\u001b[1;36mX\u001b[m)yz\u001b[20;38H\u3010 \u7cfb\u7d71\u8cc7\u8a0a\u5340 \u3011\u001b[21;7H                (\u001b[1;36mP\u001b[m)lay         \u3010 \u5a1b\u6a02\u8207\u4f11\u9592 \u3011\u001b[K\u001b[22;23H(\u001b[1;36mN\u001b[m)amelist     \u3010 \u7de8\u7279\u5225\u540d\u55ae \u3011\u001b[23;23H(\u001b[1;36mG\u001b[m)oodbye\u001b[23;41H\u96e2\u958b\uff0c\u518d\u898b\u2026\r\n",
        "\u001b[34;46m[11/26 \u661f\u671f\u4e09 21:46]\u001b[1;33;45m [ \u6c34\u74f6\u6642 ]   \u001b[30;47m \u7dda\u4e0a\u001b[31m134898\u001b[30m\u4eba, \u6211\u662f\u001b[31mNCCUcrawler\u001b[30m  [\u547c\u53eb\u5668]\u001b[31m\u6253\u958b \u001b[m\u001b[16;21H\n"
       ]
      }
     ],
     "prompt_number": 42
    },
    {
     "cell_type": "code",
     "collapsed": false,
     "input": [
      "# Press s to search for specific board (ptt-only)\n",
      "ptt.write(\"s\".encode(\"big5\"))\n",
      "time.sleep(1)\n",
      "# Search for Hate board.\n",
      "ptt.write(\"Hate\\r\\n\".encode(\"big5\"))\n",
      "time.sleep(1)\n",
      "data = ptt.read_very_eager()\n",
      "print data.decode(\"big5\", \"ignore\")"
     ],
     "language": "python",
     "metadata": {},
     "outputs": [
      {
       "output_type": "stream",
       "stream": "stdout",
       "text": [
        "\u001b[H\u001b[30;47m\u3010 \u641c\u5c0b\u5168\u7ad9\u770b\u677f \u3011\u001b[m  (\u82e5\u8981\u9650\u5b9a\u641c\u5c0b\u7bc4\u570d\u70ba\u76ee\u524d\u5217\u8868\u8acb\u6539\u7528 Ctrl-S)\u001b[K\r\n",
        "\u8acb\u8f38\u5165\u770b\u677f\u540d\u7a31(\u6309\u7a7a\u767d\u9375\u81ea\u52d5\u641c\u5c0b): \u001b[30;47m             \u001b[m\u001b[K\u001b[8;11H \u001b[2;35H\u001b[H\u001b[1;33m\uff3c    \uff5c     \uff0f \u001b[m                                               \u001b[1;36m\u5e79\u64cd\u6a5f\u63b0\u52d2\r\n",
        "\u001b[m                 \u5e79\u4f60\u5abd\u7684\u597d\u5929\u6c23                \u001b[2;62H\u001b[1;36m\u7684          \u5e79\r\n",
        "\u001b[m  \u001b[1;33m\u25e2\u2588\u2588\u2588\u25e3\u001b[m     \u4e0d\u001b[1;31m\u9ed1\u7279\u001b[m\u4e00\u4e0b\u55ce\uff1f                             \u001b[1;36m\u4f60  \u001b[31m  \u001b[32mH\u001b[33mA\u001b[0;36mT\u001b[1;35mE\u001b[36m    \u4f60\r\n",
        "\u001b[33m _\u25e4\u001b[m   \u2261  \u001b[1;33m\u258c\u001b[m   \u256f                               \u001b[32m\u840c\u001b[m          \u001b[1;36m\u53bb          \u8001\r\n",
        "\u001b[33m\uff5c \u001b[m\u2500\u2609-\u2609 \u001b[1;33m\u258c \uff0d \u001b[m                   \u001b[32m\u840c\u840c       \u840c  \u840c   \u001b[m       \u001b[1;36m\u808f\u76ee\u767d\u6b7b\u6728\u001b[m\u001b[K\u001b[6;2H\u001b[1;33m\uff5c    \u001b[m\u76bf\u001b[1;33m  \u258c \u001b[6;35H\u001b[0;32m\u840c   \u840c     \u840c     \u840c\u001b[m\u001b[K\u001b[7;3H\u001b[1;33m\u25e5\uff3f\uff3f\uff3f\u25e4\u001b[7;34H\u001b[0;32m\u840c      \u840c \u840c         \u840c\u001b[m\u001b[K\r\n",
        "\u001b[1;33m\uff0f\u3000          \uff3c     \u001b[m          \u001b[32m\u840c          \u840c            \u840c\u001b[8;76H\u001b[0;1;37;45m\u6d77\u001b[9;7H\u001b[0;1;33m\uff5c        \u001b[m              \u001b[32m\u840c  \u001b[1;31mH H\u001b[0;32m   \u001b[1;31mA\u001b[0;32m   \u840c   \u001b[1;31mTTT EEE\u001b[0;32m   \u840c\u001b[m              \u001b[1;36;41m\u8a93\u001b[10;17H\u001b[m            \u001b[32m\u840c    \u001b[1;31mHHH\u001b[0;32m  \u001b[1;31mA_A\u001b[0;32m    \u840c  \u001b[1;31mT  E--\u001b[0;32m     \u840c\u001b[m            \u001b[1;32;44m\u5c71\u001b[11;17H\u001b[m          \u001b[32m\u840c      \u001b[1;31mH H\u001b[0;32m \u001b[1;31mA   A\u001b[0;32m    \u840c \u001b[1;31mT  EEE\u001b[0;32m       \u840c\u001b[m          \u001b[1;31;46m\u76df\r\n",
        "\u001b[m\u001b[K\u001b[13;17H\u001b[34m\u20224*\"`'*-.,_,.-*'`\"*-.,_4,.-*`'`*-\u20224*\"`'*-.,_,.-*'`\"\u001b[m\u001b[K\u001b[14;17H    \u001b[34m444444444444\u001b[1;30m         \u001b[0;34m4444444444\u001b[1;30m       \u001b[0;34m44444444444\u001b[m\u001b[K\u001b[15;13H\u001b[34m\u20224*\"`'*-.,_,.-*'`\"*-.,_4,.-*`'`*-\u20224*\"`'*-.,_,.-*'`\"*-.,_4\u001b[16;17H\u001b[m     \u001b[34m444444444    44444444444     4444444444\u001b[m\u001b[K\u001b[17;16H \u001b[34m.-*'`\"*-.,_4,.-*`'`*-\u20224*\"`'*-.,_,.-*'`\"*-.,_4,.-*`'`*-\r\n",
        "\u001b[m\u001b[K\u001b[19;10H\u5e79\u4f60\u5abd\u7684\u8aaa\u597d\u8981\u4e00\u8d77                     \u64cd\u4ed6\u5abd\u7684\u4f60\u6b7b\u76f8\u5566\u001b[20;10H\u4e00\u76f4\u9ed1\u7279\u4e0b\u53bb\u56c9\u223c   \b\b\u001b[20;29H\u001b[20;50H>////////////<\u001b[21;15H\u256f\u001b[21;61H\u2570\u001b[22;4Hv(\uffe3\ufe36\uffe3)y\u001b[22;64H(\u2267<>\u2266)\r\n",
        "\n",
        "\u001b[1;34;44m \u2584\u2584\u2584\u2584\u2584\u2584\u2584\u2584\u2584\u2584\u2584\u2584\u2584\u2584\u2584\u001b[0;1;37;44m \u8acb\u6309\u4efb\u610f\u9375\u7e7c\u7e8c \u001b[34m\u2584\u2584\u2584\u2584\u2584\u2584\u2584\u2584\u2584\u2584\u2584\u2584\u2584\u2584\u2584  \u001b[m\n"
       ]
      }
     ],
     "prompt_number": 44
    },
    {
     "cell_type": "code",
     "collapsed": false,
     "input": [
      "# Press return\n",
      "ptt.write(\"\\r\\n\")\n",
      "time.sleep(1)\n",
      "data = ptt.read_very_eager().decode(\"big5\", \"ignore\")\n",
      "# Here we are, the Hate board!!\n",
      "print data"
     ],
     "language": "python",
     "metadata": {},
     "outputs": [
      {
       "output_type": "stream",
       "stream": "stdout",
       "text": [
        "\u001b[H\u001b[1;37;44m\u3010\u677f\u4e3b:tigotigo\u3011                   \u001b[33m\u9ed1\u7279\u677f\u001b[0;1;37;44m                         \u770b\u677f\u300aHate\u300b\r\n",
        "\u001b[m[\u2190]\u96e2\u958b [\u2192]\u95b1\u8b80 [Ctrl-P]\u767c\u8868\u6587\u7ae0 [d]\u522a\u9664 [z]\u7cbe\u83ef\u5340 [i]\u770b\u677f\u8cc7\u8a0a/\u8a2d\u5b9a [h]\u8aaa\u660e\r\n",
        "\u001b[30;47m   \u7de8\u865f    \u65e5 \u671f \u4f5c  \u8005       \u6587  \u7ae0  \u6a19  \u984c                          \u4eba\u6c23:36  \r\n",
        "\u001b[m  50484  \u001b[1;32m 1\u001b[m11/26 \u001b[1;37maramaram     \u001b[m\u25a1 [\u7169\u8036] \u9762\u5177\u001b[K\r\n",
        "  50485  \u001b[1;30m  \u001b[m11/26 joliecheer   \u25a1 [\u9707\u6012] \u9080\u5565\u5c0f\u001b[K\u001b[6;2H 50486  \u001b[1;30m  \u001b[m11/26 \u001b[1;37mlovewin      \u001b[m\u25a1 [\u592d\u58fd] \u53c8\u69d3\u9f9c\u001b[K\u001b[7;3H50487  \u001b[1;30m  \u001b[m11/26 lmf770410    \u25a1 [\u706b\u5927] HATE!!!!!\u001b[K\r\n",
        "  50488  \u001b[1;32m 4\u001b[m11/26 justbrisk    \u25a1 [\u706b\u5927] 13\u54ed\u54ed\u771f\u7684\u6709\u7528\u8036\u001b[K\u001b[9;3H50489  \u001b[1;30m  \u001b[m11/26 yakura       \u25a1 [\u9ed1\u7279]\u001b[K\u001b[10;3H50490  \u001b[1;30m  \u001b[m11/26 beautycute94 \u25a1 [\u738b\u516b] \u8d85\u7d1a\u96de\u63b0\u7684\u8cb7\u5bb6\u001b[K\u001b[11;3H50491  \u001b[1;30m  \u001b[m11/26 \u001b[1;37mMKPTT        \u001b[m\u25a1 [\u706b\u5927] \u5ba3\u50b3\u8eca\u5c31\u5df2\u7d93\u5920\u5435\u4e86 \u9084\u6253\u96fb\u8a71\u4f86\u7169\u662f\u600e\u6a23\u001b[12;3H50492  \u001b[1;30m  \u001b[m11/26 zealotry     \u25a1 [\u8d85\u5e79]\u001b[13;3H50493 +\u001b[1;30m  \u001b[m11/26 \u001b[1;37mmidori666    \u001b[m\u25a1 [\u9ed1\u7279] \u5e79\u2026\u001b[K\u001b[14;3H50494 +\u001b[1;32m 2\u001b[m11/26 elflucy0701  \u25a1 [\u8d85\u5e79] \u5e79\u52d2\u001b[K\u001b[15;3H50495 +\u001b[1;30m  \u001b[m11/26 success0409  R: [\u706b\u5927] 13\u54ed\u54ed\u771f\u7684\u6709\u7528\u8036\u001b[K\u001b[16;3H50496 +\u001b[1;30m  \u001b[m11/26 \u001b[1;37mKbart        \u001b[m\u25a1 [\u9ed1\u7279] \u5c41\u5b69\u001b[K\u001b[17;3H50497  \u001b[1;30m  \u001b[m11/26 \u001b[1;37mIronWolf     \u001b[m\u25a1 [\u9ed1\u7279] \u5e79\u4f60\u5a18\u7684\u5783\u573e\u8b70\u54e1\u5ba3\u50b3\u8eca\u001b[K\u001b[18;3H50498 +\u001b[1;32m 3\u001b[m11/26 chuchusocute \u25a1 [\u9ed1\u7279]\u001b[19;3H50499  \u001b[1;30m  \u001b[m11/26 \u001b[1;37msecretthings \u001b[m\u25a1 [\u738b\u516b] \u8f38\u4e86\u001b[K\u001b[20;3H50500 +\u001b[1;30m  \u001b[m11/26 \u001b[1;37mkevincfvgb   \u001b[m\u25a1 [\u706b\u5927] \u808f\u4f60\u5abd\u7684\u6b7b\u4eba\u5783\u573e\u001b[K\r\n",
        "> 50501 ~\u001b[1;32m 1\u001b[m11/26 \u001b[1;37mbobo12       \u001b[m\u25a1 [\u9ed1\u7279]\u001b[K\u001b[22;3H\u001b[1;33m  \u2605 \u001b[m !\u001b[1;30m  \u001b[m 4/02 MadeInChina  \u25a1 \u001b[1;37m[\u516c\u544a] \u001b[m\u9ed1\u7279\u677f\u677f\u898f Ver 1.1\u001b[K\u001b[23;3H\u001b[1;33m  \u2605  \u001b[mm\u001b[1;30m  \u001b[m10/13 tigotigo     \u25a1 \u001b[1;37m[\u516c\u544a] \u001b[mHate\u677f\u533f\u540d\u5e33\u865f-HateOnly\r\n",
        "\u001b[34;46m \u6587\u7ae0\u9078\u8b80 \u001b[30;47m \u001b[31m(y)\u001b[30m\u56de\u61c9\u001b[31m(X)\u001b[30m\u63a8\u6587\u001b[31m(^X)\u001b[30m\u8f49\u9304 \u001b[31m(=[]<>)\u001b[30m\u76f8\u95dc\u4e3b\u984c\u001b[31m(/?a)\u001b[30m\u627e\u6a19\u984c/\u4f5c\u8005 \u001b[31m(b)\u001b[30m\u9032\u677f\u756b\u9762  \u001b[m\u001b[21;1H\n"
       ]
      }
     ],
     "prompt_number": 45
    },
    {
     "cell_type": "code",
     "collapsed": false,
     "input": [
      "# Testing for refresh.\n",
      "ptt.write(\"\\f\")\n",
      "time.sleep(1)\n",
      "data = ptt.read_very_eager().decode(\"big5\", \"ignore\")\n",
      "print data"
     ],
     "language": "python",
     "metadata": {},
     "outputs": [
      {
       "output_type": "stream",
       "stream": "stdout",
       "text": [
        "\u001b[H\u001b[2J\u001b[1;37;44m\u3010\u677f\u4e3b:tigotigo\u3011                   \u001b[33m\u9ed1\u7279\u677f\u001b[0;1;37;44m                         \u770b\u677f\u300aHate\u300b\r\n",
        "\u001b[m[\u2190]\u96e2\u958b [\u2192]\u95b1\u8b80 [Ctrl-P]\u767c\u8868\u6587\u7ae0 [d]\u522a\u9664 [z]\u7cbe\u83ef\u5340 [i]\u770b\u677f\u8cc7\u8a0a/\u8a2d\u5b9a [h]\u8aaa\u660e\r\n",
        "\u001b[30;47m   \u7de8\u865f    \u65e5 \u671f \u4f5c  \u8005       \u6587  \u7ae0  \u6a19  \u984c                          \u4eba\u6c23:36  \u001b[4;3H\u001b[m50484  \u001b[1;32m 1\u001b[m11/26 \u001b[1;37maramaram     \u001b[m\u25a1 [\u7169\u8036] \u9762\u5177\u001b[5;3H50485  \u001b[1;30m  \u001b[m11/26 joliecheer   \u25a1 [\u9707\u6012] \u9080\u5565\u5c0f\u001b[6;3H50486  \u001b[1;30m  \u001b[m11/26 \u001b[1;37mlovewin      \u001b[m\u25a1 [\u592d\u58fd] \u53c8\u69d3\u9f9c\u001b[7;3H50487  \u001b[1;30m  \u001b[m11/26 lmf770410    \u25a1 [\u706b\u5927] HATE!!!!!\u001b[8;3H50488  \u001b[1;32m 4\u001b[m11/26 justbrisk    \u25a1 [\u706b\u5927] 13\u54ed\u54ed\u771f\u7684\u6709\u7528\u8036\u001b[9;3H50489  \u001b[1;30m  \u001b[m11/26 yakura       \u25a1 [\u9ed1\u7279]\u001b[10;3H50490  \u001b[1;30m  \u001b[m11/26 beautycute94 \u25a1 [\u738b\u516b] \u8d85\u7d1a\u96de\u63b0\u7684\u8cb7\u5bb6\u001b[11;3H50491  \u001b[1;30m  \u001b[m11/26 \u001b[1;37mMKPTT        \u001b[m\u25a1 [\u706b\u5927] \u5ba3\u50b3\u8eca\u5c31\u5df2\u7d93\u5920\u5435\u4e86 \u9084\u6253\u96fb\u8a71\u4f86\u7169\u662f\u600e\u6a23\u001b[12;3H50492  \u001b[1;30m  \u001b[m11/26 zealotry     \u25a1 [\u8d85\u5e79]\u001b[13;3H50493 +\u001b[1;30m  \u001b[m11/26 \u001b[1;37mmidori666    \u001b[m\u25a1 [\u9ed1\u7279] \u5e79\u2026\u001b[14;3H50494 +\u001b[1;32m 2\u001b[m11/26 elflucy0701  \u25a1 [\u8d85\u5e79] \u5e79\u52d2\u001b[15;3H50495 +\u001b[1;30m  \u001b[m11/26 success0409  R: [\u706b\u5927] 13\u54ed\u54ed\u771f\u7684\u6709\u7528\u8036\u001b[16;3H50496 +\u001b[1;30m  \u001b[m11/26 \u001b[1;37mKbart        \u001b[m\u25a1 [\u9ed1\u7279] \u5c41\u5b69\u001b[17;3H50497  \u001b[1;30m  \u001b[m11/26 \u001b[1;37mIronWolf     \u001b[m\u25a1 [\u9ed1\u7279] \u5e79\u4f60\u5a18\u7684\u5783\u573e\u8b70\u54e1\u5ba3\u50b3\u8eca\u001b[18;3H50498 +\u001b[1;32m 3\u001b[m11/26 chuchusocute \u25a1 [\u9ed1\u7279]\u001b[19;3H50499  \u001b[1;30m  \u001b[m11/26 \u001b[1;37msecretthings \u001b[m\u25a1 [\u738b\u516b] \u8f38\u4e86\u001b[20;3H50500 +\u001b[1;30m  \u001b[m11/26 \u001b[1;37mkevincfvgb   \u001b[m\u25a1 [\u706b\u5927] \u808f\u4f60\u5abd\u7684\u6b7b\u4eba\u5783\u573e\r\n",
        "> 50501 ~\u001b[1;32m 1\u001b[m11/26 \u001b[1;37mbobo12       \u001b[m\u25a1 [\u9ed1\u7279]\u001b[22;3H\u001b[1;33m  \u2605  \u001b[m!\u001b[1;30m   \u001b[m4/02 MadeInChina  \u25a1 \u001b[1;37m[\u516c\u544a] \u001b[m\u9ed1\u7279\u677f\u677f\u898f Ver 1.1\u001b[23;3H\u001b[1;33m  \u2605  \u001b[mm\u001b[1;30m  \u001b[m10/13 tigotigo     \u25a1 \u001b[1;37m[\u516c\u544a] \u001b[mHate\u677f\u533f\u540d\u5e33\u865f-HateOnly\r\n",
        "\u001b[34;46m \u6587\u7ae0\u9078\u8b80 \u001b[30;47m \u001b[31m(y)\u001b[30m\u56de\u61c9\u001b[31m(X)\u001b[30m\u63a8\u6587\u001b[31m(^X)\u001b[30m\u8f49\u9304 \u001b[31m(=[]<>)\u001b[30m\u76f8\u95dc\u4e3b\u984c\u001b[31m(/?a)\u001b[30m\u627e\u6a19\u984c/\u4f5c\u8005 \u001b[31m(b)\u001b[30m\u9032\u677f\u756b\u9762  \u001b[m\u001b[21;1H\n"
       ]
      }
     ],
     "prompt_number": 46
    },
    {
     "cell_type": "code",
     "collapsed": false,
     "input": [
      "# press right arrow\n",
      "ptt.write(\"\\x27\\r\\n\")\n",
      "time.sleep(1)\n",
      "data = ptt.read_very_eager().decode(\"big5\", \"ignore\")\n",
      "print data"
     ],
     "language": "python",
     "metadata": {},
     "outputs": [
      {
       "output_type": "stream",
       "stream": "stdout",
       "text": [
        "\u001b[H\u001b[34;47m \u4f5c\u8005 \u001b[0;44m bobo12 (\u8c46\u75d8)                                              \u001b[34;47m \u770b\u677f \u001b[0;44m Hate \u001b[m\u001b[K\r\n",
        "\u001b[34;47m \u6a19\u984c \u001b[0;44m [\u9ed1\u7279]                                                                 \r\n",
        "\u001b[34;47m \u6642\u9593 \u001b[0;44m Wed Nov 26 21:33:46 2014                                               \u001b[m\u001b[K\r\n",
        "\u001b[36m\u2500\u2500\u2500\u2500\u2500\u2500\u2500\u2500\u2500\u2500\u2500\u2500\u2500\u2500\u2500\u2500\u2500\u2500\u2500\u2500\u2500\u2500\u2500\u2500\u2500\u2500\u2500\u2500\u2500\u2500\u2500\u2500\u2500\u2500\u2500\u2500\u2500\u2500\u2500\r\n",
        "\u001b[m\u001b[K\n",
        "\u6211\u4e94\u5341\u4e94\u6b72\u001b[K\r\n",
        "\u60f3\u4ea4\u4e8c\u5341\u6b72\u5230\u4e09\u5341\u6b72\u7684\u5e25\u54e5\u001b[K\r\n",
        "\u4e00\u5b9a\u8981\u5e25\u001b[K\r\n",
        "\u001b[K\n",
        "\u001b[K\n",
        "--\u001b[K\r\n",
        "\u001b[32m\u203b \u767c\u4fe1\u7ad9: \u6279\u8e22\u8e22\u5be6\u696d\u574a(ptt.cc), \u4f86\u81ea: 180.176.184.207\r\n",
        "\u203b \u6587\u7ae0\u7db2\u5740: http://www.ptt.cc/bbs/Hate/M.1417008829.A.0B2.html\r\n",
        "\u001b[0;1;37m\u63a8 \u001b[33mrererere147\u001b[0;33m: \u5920\u6709\u9322\u55ce?                                          \u001b[m11/26 21:35\r\n",
        "\u7537\u5973\u5e73\u7b49 \u6709\u771f\u611b\u5427\u001b[K\r\n",
        "\u001b[32m\u203b \u7de8\u8f2f: bobo12 (180.176.184.207), 11/26/2014 21:36:45\r\n",
        "\u001b[m\u001b[K\n",
        "\u001b[K\n",
        "\u001b[K\n",
        "\u001b[K\n",
        "\u001b[K\n",
        "\u001b[K\n",
        "\u001b[K\n",
        "\u001b[44m  \u700f\u89bd \u7b2c 1/1 \u9801 (100%) \u001b[1;30;47m \u76ee\u524d\u986f\u793a: \u7b2c 01~15 \u884c\u001b[0;47m  \u001b[31m(y)\u001b[30m\u56de\u61c9\u001b[31m(X%)\u001b[30m\u63a8\u6587\u001b[31m(h)\u001b[30m\u8aaa\u660e\u001b[31m(\u2190)\u001b[30m\u96e2\u958b\u001b[m\u001b[24;80H\n"
       ]
      }
     ],
     "prompt_number": 47
    },
    {
     "cell_type": "code",
     "collapsed": false,
     "input": [
      "# Press down arrow\n",
      "ptt.write(\"\\x28\\r\\n\")\n",
      "time.sleep(1)\n",
      "data = ptt.read_very_eager().decode(\"big5\", \"ignore\")\n",
      "print data"
     ],
     "language": "python",
     "metadata": {},
     "outputs": [
      {
       "output_type": "stream",
       "stream": "stdout",
       "text": [
        "\u001b[H\u001b[K\n",
        "\u001b[K\n",
        "\u001b[K\n",
        "\u001b[K\n",
        "\n",
        "\u001b[K\n",
        "\u001b[1;37m                   \ufe4a\ufe4a\ufe4a\ufe4a\ufe4a\ufe4a\ufe4a\ufe4a\ufe4a\ufe4a\ufe4a\ufe4a\ufe4a\ufe4a\ufe4a\ufe4a\ufe4a\ufe4a\ufe4a\r\n",
        "\u001b[m\u001b[K\n",
        "\u001b[1;37m                                  [30m[0;1;37m[30mS\u001b[0;1;37m[30mO\r\n",
        "\u001b[0;1;37m                                  \ufe4a\ufe4a\ufe4a\r\n",
        "\u001b[31m                           \u9ed1\u7279\u677f\u03c8\u677f\u898f Ver 1.1\r\n",
        "                           \uffe3\uffe3\uffe3\uffe3\uffe3\uffe3\uffe3\uffe3\uffe3\uffe3\u001b[m\u001b[K\r\n",
        "\u001b[K\n",
        "\u001b[K\n",
        "\u001b[1;37m                   \ufe4a\ufe4a\ufe4a\ufe4a\ufe4a\ufe4a\ufe4a\ufe4a\ufe4a\ufe4a\ufe4a\ufe4a\ufe4a\ufe4a\ufe4a\ufe4a\ufe4a\ufe4a\ufe4a\r\n",
        "\u001b[m\u001b[K\u001b[24;1H\u001b[33;45m  \u700f\u89bd \u7b2c 1/6 \u9801 ( 12%) \u001b[24;42H\u001b[1;30;47m23\u001b[m\u001b[24;80H\n"
       ]
      }
     ],
     "prompt_number": 48
    },
    {
     "cell_type": "code",
     "collapsed": false,
     "input": [
      "# press left arrow\n",
      "ptt.write(\"\\x25\\r\\n\")\n",
      "time.sleep(1)\n",
      "data = ptt.read_very_eager().decode(\"big5\", \"ignore\")\n",
      "print data"
     ],
     "language": "python",
     "metadata": {},
     "outputs": [
      {
       "output_type": "stream",
       "stream": "stdout",
       "text": [
        "\u001b[H\u001b[1;37;44m\u3010\u677f\u4e3b:tigotigo\u3011                   \u001b[33m\u9ed1\u7279\u677f\u001b[0;1;37;44m                         \u770b\u677f\u300aHate\u300b\r\n",
        "\u001b[m[\u2190]\u96e2\u958b [\u2192]\u95b1\u8b80 [Ctrl-P]\u767c\u8868\u6587\u7ae0 [d]\u522a\u9664 [z]\u7cbe\u83ef\u5340 [i]\u770b\u677f\u8cc7\u8a0a/\u8a2d\u5b9a [h]\u8aaa\u660e\r\n",
        "\u001b[30;47m   \u7de8\u865f    \u65e5 \u671f \u4f5c  \u8005       \u6587  \u7ae0  \u6a19  \u984c                          \u4eba\u6c23:32  \u001b[4;3H\u001b[m50484  \u001b[1;32m 1\u001b[m11/26 \u001b[1;37maramaram     \u001b[m\u25a1 [\u7169\u8036] \u9762\u5177\u001b[5;3H50485  \u001b[1;30m  \u001b[m11/26 joliecheer   \u25a1 [\u9707\u6012] \u9080\u5565\u5c0f\u001b[6;3H50486  \u001b[1;30m  \u001b[m11/26 \u001b[1;37mlovewin      \u001b[m\u25a1 [\u592d\u58fd] \u53c8\u69d3\u9f9c\r\n",
        "  50487  \u001b[1;30m  \u001b[m11/26 lmf770410    \u25a1 [\u706b\u5927] HATE!!!!!\u001b[K\u001b[8;3H50488  \u001b[1;32m 4\u001b[m11/26 justbrisk    \u25a1 [\u706b\u5927] 13\u54ed\u54ed\u771f\u7684\u6709\u7528\u8036\r\n",
        "  50489  \u001b[1;30m  \u001b[m11/26 yakura       \u25a1 [\u9ed1\u7279]\u001b[K\r\n",
        "  50490  \u001b[1;30m  \u001b[m11/26 beautycute94 \u25a1 [\u738b\u516b] \u8d85\u7d1a\u96de\u63b0\u7684\u8cb7\u5bb6\r\n",
        "  50491  \u001b[1;30m  \u001b[m11/26 \u001b[1;37mMKPTT        \u001b[m\u25a1 [\u706b\u5927] \u5ba3\u50b3\u8eca\u5c31\u5df2\u7d93\u5920\u5435\u4e86 \u9084\u6253\u96fb\u8a71\u4f86\u7169\u662f\u600e\u6a23\r\n",
        "  50492  \u001b[1;30m  \u001b[m11/26 zealotry     \u25a1 [\u8d85\u5e79]\u001b[K\u001b[13;3H50493 +\u001b[1;30m  \u001b[m11/26 \u001b[1;37mmidori666    \u001b[m\u25a1 [\u9ed1\u7279] \u5e79\u2026\u001b[14;3H50494 +\u001b[1;32m 2\u001b[m11/26 elflucy0701  \u25a1 [\u8d85\u5e79] \u5e79\u52d2\r\n",
        "  50495 +\u001b[1;30m  \u001b[m11/26 success0409  R: [\u706b\u5927] 13\u54ed\u54ed\u771f\u7684\u6709\u7528\u8036\u001b[K\u001b[16;3H50496 +\u001b[1;30m  \u001b[m11/26 \u001b[1;37mKbart        \u001b[m\u25a1 [\u9ed1\u7279] \u5c41\u5b69\u001b[17;3H50497  \u001b[1;30m  \u001b[m11/26 \u001b[1;37mIronWolf     \u001b[m\u25a1 [\u9ed1\u7279] \u5e79\u4f60\u5a18\u7684\u5783\u573e\u8b70\u54e1\u5ba3\u50b3\u8eca\u001b[18;3H50498 +\u001b[1;32m 3\u001b[m11/26 chuchusocute \u25a1 [\u9ed1\u7279]\u001b[19;3H50499  \u001b[1;30m  \u001b[m11/26 \u001b[1;37msecretthings \u001b[m\u25a1 [\u738b\u516b] \u8f38\u4e86\u001b[20;3H50500 +\u001b[1;30m  \u001b[m11/26 \u001b[1;37mkevincfvgb   \u001b[m\u25a1 [\u706b\u5927] \u808f\u4f60\u5abd\u7684\u6b7b\u4eba\u5783\u573e\u001b[21;3H50501  \u001b[1;32m 1\u001b[m11/26 \u001b[1;37mbobo12       \u001b[m\u25a1 [\u9ed1\u7279]\r\n",
        "> 50502 +\u001b[1;30m  \u001b[m11/26 \u001b[1;37mwhogashaga   \u001b[m\u25a1 [\u8d85\u5e79] \u5ef6\u822a\u001b[23;3H\u001b[1;33m  \u2605  \u001b[m!\u001b[1;30m   \u001b[m4/02 MadeInChina  \u001b[1;31m\u25a1 [\u516c\u544a] \u9ed1\u7279\u677f\u677f\u898f Ver 1.1\r\n",
        "\u001b[0;34;46m \u6587\u7ae0\u9078\u8b80 \u001b[30;47m \u001b[31m(y)\u001b[30m\u56de\u61c9\u001b[31m(X)\u001b[30m\u63a8\u6587\u001b[31m(^X)\u001b[30m\u8f49\u9304 \u001b[31m(=[]<>)\u001b[30m\u76f8\u95dc\u4e3b\u984c\u001b[31m(/?a)\u001b[30m\u627e\u6a19\u984c/\u4f5c\u8005 \u001b[31m(b)\u001b[30m\u9032\u677f\u756b\u9762 \u001b[m\u001b[22;1H\n"
       ]
      }
     ],
     "prompt_number": 49
    },
    {
     "cell_type": "code",
     "collapsed": false,
     "input": [],
     "language": "python",
     "metadata": {},
     "outputs": [
      {
       "output_type": "stream",
       "stream": "stdout",
       "text": [
        "\u001b[H\u001b[2J\u001b[1;37;44m\u3010\u677f\u4e3b:tigotigo\u3011                   \u001b[33m\u9ed1\u7279\u677f\u001b[0;1;37;44m                         \u770b\u677f\u300aHate\u300b\r\n",
        "\u001b[m[\u2190]\u96e2\u958b [\u2192]\u95b1\u8b80 [Ctrl-P]\u767c\u8868\u6587\u7ae0 [d]\u522a\u9664 [z]\u7cbe\u83ef\u5340 [i]\u770b\u677f\u8cc7\u8a0a/\u8a2d\u5b9a [h]\u8aaa\u660e\r\n",
        "\u001b[30;47m   \u7de8\u865f    \u65e5 \u671f \u4f5c  \u8005       \u6587  \u7ae0  \u6a19  \u984c                          \u4eba\u6c23:32  \u001b[4;3H\u001b[m50484  \u001b[1;32m 1\u001b[m11/26 \u001b[1;37maramaram     \u001b[m\u25a1 [\u7169\u8036] \u9762\u5177\u001b[5;3H50485  \u001b[1;30m  \u001b[m11/26 joliecheer   \u25a1 [\u9707\u6012] \u9080\u5565\u5c0f\u001b[6;3H50486  \u001b[1;30m  \u001b[m11/26 \u001b[1;37mlovewin      \u001b[m\u25a1 [\u592d\u58fd] \u53c8\u69d3\u9f9c\u001b[7;3H50487  \u001b[1;30m  \u001b[m11/26 lmf770410    \u25a1 [\u706b\u5927] HATE!!!!!\u001b[8;3H50488  \u001b[1;32m 4\u001b[m11/26 justbrisk    \u25a1 [\u706b\u5927] 13\u54ed\u54ed\u771f\u7684\u6709\u7528\u8036\u001b[9;3H50489  \u001b[1;30m  \u001b[m11/26 yakura       \u25a1 [\u9ed1\u7279]\u001b[10;3H50490  \u001b[1;30m  \u001b[m11/26 beautycute94 \u25a1 [\u738b\u516b] \u8d85\u7d1a\u96de\u63b0\u7684\u8cb7\u5bb6\u001b[11;3H50491  \u001b[1;30m  \u001b[m11/26 \u001b[1;37mMKPTT        \u001b[m\u25a1 [\u706b\u5927] \u5ba3\u50b3\u8eca\u5c31\u5df2\u7d93\u5920\u5435\u4e86 \u9084\u6253\u96fb\u8a71\u4f86\u7169\u662f\u600e\u6a23\u001b[12;3H50492  \u001b[1;30m  \u001b[m11/26 zealotry     \u25a1 [\u8d85\u5e79]\u001b[13;3H50493 +\u001b[1;30m  \u001b[m11/26 \u001b[1;37mmidori666    \u001b[m\u25a1 [\u9ed1\u7279] \u5e79\u2026\u001b[14;3H50494 +\u001b[1;32m 2\u001b[m11/26 elflucy0701  \u25a1 [\u8d85\u5e79] \u5e79\u52d2\u001b[15;3H50495 +\u001b[1;30m  \u001b[m11/26 success0409  R: [\u706b\u5927] 13\u54ed\u54ed\u771f\u7684\u6709\u7528\u8036\u001b[16;3H50496 +\u001b[1;30m  \u001b[m11/26 \u001b[1;37mKbart        \u001b[m\u25a1 [\u9ed1\u7279] \u5c41\u5b69\u001b[17;3H50497  \u001b[1;30m  \u001b[m11/26 \u001b[1;37mIronWolf     \u001b[m\u25a1 [\u9ed1\u7279] \u5e79\u4f60\u5a18\u7684\u5783\u573e\u8b70\u54e1\u5ba3\u50b3\u8eca\u001b[18;3H50498 +\u001b[1;32m 3\u001b[m11/26 chuchusocute \u25a1 [\u9ed1\u7279]\u001b[19;3H50499  \u001b[1;30m  \u001b[m11/26 \u001b[1;37msecretthings \u001b[m\u25a1 [\u738b\u516b] \u8f38\u4e86\u001b[20;3H50500 +\u001b[1;30m  \u001b[m11/26 \u001b[1;37mkevincfvgb   \u001b[m\u25a1 [\u706b\u5927] \u808f\u4f60\u5abd\u7684\u6b7b\u4eba\u5783\u573e\u001b[21;3H50501  \u001b[1;32m 1\u001b[m11/26 \u001b[1;37mbobo12       \u001b[m\u25a1 [\u9ed1\u7279]\r\n",
        "> 50502 +\u001b[1;30m  \u001b[m11/26 \u001b[1;37mwhogashaga   \u001b[m\u25a1 [\u8d85\u5e79] \u5ef6\u822a\u001b[23;3H\u001b[1;33m  \u2605  \u001b[m!\u001b[1;30m   \u001b[m4/02 MadeInChina  \u001b[1;31m\u25a1 [\u516c\u544a] \u9ed1\u7279\u677f\u677f\u898f Ver 1.1\r\n",
        "\u001b[0;34;46m \u6587\u7ae0\u9078\u8b80 \u001b[30;47m \u001b[31m(y)\u001b[30m\u56de\u61c9\u001b[31m(X)\u001b[30m\u63a8\u6587\u001b[31m(^X)\u001b[30m\u8f49\u9304 \u001b[31m(=[]<>)\u001b[30m\u76f8\u95dc\u4e3b\u984c\u001b[31m(/?a)\u001b[30m\u627e\u6a19\u984c/\u4f5c\u8005 \u001b[31m(b)\u001b[30m\u9032\u677f\u756b\u9762  \u001b[m\u001b[22;1H\n"
       ]
      }
     ],
     "prompt_number": 50
    },
    {
     "cell_type": "code",
     "collapsed": false,
     "input": [
      "# Jump to article number 50490\n",
      "ptt.write(\"50490\\r\\n\")\n",
      "time.sleep(1)\n",
      "data = ptt.read_very_eager().decode(\"big5\", \"ignore\")\n",
      "print data"
     ],
     "language": "python",
     "metadata": {},
     "outputs": [
      {
       "output_type": "stream",
       "stream": "stdout",
       "text": [
        "\u001b[24;1H\u001b[K\u001b[10;1H\n"
       ]
      }
     ],
     "prompt_number": 54
    },
    {
     "cell_type": "code",
     "collapsed": false,
     "input": [
      "# Press enter to see the article\n",
      "ptt.write(\"\\r\\n\")\n",
      "time.sleep(1)\n",
      "data = ptt.read_very_eager().decode(\"big5\", \"ignore\")\n",
      "print data"
     ],
     "language": "python",
     "metadata": {},
     "outputs": [
      {
       "output_type": "stream",
       "stream": "stdout",
       "text": [
        "\u001b[H\u001b[34;47m \u4f5c\u8005 \u001b[0;44m beautycute94 (*^o^* \u5e78\u798f   \b\b\u001b[1;35H\u5feb\u6a02)                           \u001b[34;47m \u770b\u677f \u001b[0;44m Hate \u001b[m\u001b[K\r\n",
        "\u001b[34;47m \u6a19\u984c \u001b[0;44m [\u738b\u516b] \u8d85\u7d1a\u96de\u63b0\u7684\u8cb7\u5bb6                                                  \r\n",
        "\u001b[34;47m \u6642\u9593 \u001b[0;44m Wed Nov 26 20:32:26 2014                                               \u001b[m\u001b[K\r\n",
        "\u001b[36m\u2500\u2500\u2500\u2500\u2500\u2500\u2500\u2500\u2500\u2500\u2500\u2500\u2500\u2500\u2500\u2500\u2500\u2500\u2500\u2500\u2500\u2500\u2500\u2500\u2500\u2500\u2500\u2500\u2500\u2500\u2500\u2500\u2500\u2500\u2500\u2500\u2500\u2500\u2500\r\n",
        "\u001b[m\u001b[K\n",
        "\uff0a\uff0a\uff0a\uff0a\uff0a\uff0a\uff0a\uff0a\uff0a\uff0a\uff0a\uff0a\uff0a\uff0a\uff0a\uff0a\uff0a\uff0a\uff0a\uff0a\uff0a\uff0a\uff0a\uff0a\uff0a\uff0a\uff0a\uff0a\uff0a\uff0a\uff0a\uff0a\uff0a\uff0a\uff0a\uff0a\uff0a\uff0a\uff0a\r\n",
        "\u001b[K\n",
        "\u5e79\u4ed6\u5abd\u7684~ \u51f8\u001b[K\r\n",
        "\u001b[K\n",
        "\u9047\u5230\u8d85\u7d1a\u96de\u63b0\u7684\u8cb7\u5bb6!\u001b[K\r\n",
        "\u001b[K\n",
        "\u4f86\u4fe1\u8aaa\u8981\u8ddf\u6211\u8cb7\u66f8\uff0c\u001b[K\r\n",
        "\u001b[K\n",
        "\u7d66\u4ed6\u532f\u6b3e\u5e33\u865f\u5f8c\uff0c\u001b[K\r\n",
        "\u001b[K\n",
        "\u7b49\u4e86\u6574\u6574\u4e94\u5929\u90fd\u6c92\u6709\u6536\u5230\u532f\u6b3e\uff0c\u001b[K\r\n",
        "\u001b[K\n",
        "\u5beb\u4fe1\u8acb\u4ed6\u62bd\u7a7a\u532f\u6b3e\uff0c\u001b[K\r\n",
        "\u001b[K\n",
        "\u4ed6\u624d\u56de\u4fe1\u8aaa\u4e0d\u8cb7\u4e86!\u001b[K\r\n",
        "\u001b[K\n",
        "\u001b[K\n",
        "\u4e0d\u8cb7\u4e86\u70ba\u4f55\u4e0d\u8aaa\u4e00\u8072?\u001b[K\r\n",
        "\u001b[33;45m  \u700f\u89bd \u7b2c 1/3 \u9801 ( 45%) \u001b[1;30;47m \u76ee\u524d\u986f\u793a: \u7b2c 01~22 \u884c\u001b[0;47m  \u001b[31m(y)\u001b[30m\u56de\u61c9\u001b[31m(X%)\u001b[30m\u63a8\u6587\u001b[31m(h)\u001b[30m\u8aaa\u660e\u001b[31m(\u2190)\u001b[30m\u96e2\u958b \u001b[m\n"
       ]
      }
     ],
     "prompt_number": 55
    },
    {
     "cell_type": "code",
     "collapsed": false,
     "input": [
      "# get out again.\n",
      "ptt.write(\"\\x25\\r\\n\")\n",
      "time.sleep(1)\n",
      "data = ptt.read_very_eager().decode(\"big5\", \"ignore\")\n",
      "print data"
     ],
     "language": "python",
     "metadata": {},
     "outputs": [
      {
       "output_type": "stream",
       "stream": "stdout",
       "text": [
        "\u001b[H\u001b[1;37;44m\u3010\u677f\u4e3b:tigotigo\u3011                   \u001b[33m\u9ed1\u7279\u677f\u001b[0;1;37;44m                         \u770b\u677f\u300aHate\u300b\r\n",
        "\u001b[m[\u2190]\u96e2\u958b [\u2192]\u95b1\u8b80 [Ctrl-P]\u767c\u8868\u6587\u7ae0 [d]\u522a\u9664 [z]\u7cbe\u83ef\u5340 [i]\u770b\u677f\u8cc7\u8a0a/\u8a2d\u5b9a [h]\u8aaa\u660e\u001b[K\r\n",
        "\u001b[30;47m   \u7de8\u865f    \u65e5 \u671f \u4f5c  \u8005       \u6587  \u7ae0  \u6a19  \u984c                          \u4eba\u6c23:34  \r\n",
        "\u001b[m  50484  \u001b[1;32m 1\u001b[m11/26 \u001b[1;37maramaram     \u001b[m\u25a1 [\u7169\u8036] \u9762\u5177\u001b[K\u001b[5;3H50485  \u001b[1;30m  \u001b[m11/26 joliecheer   \u25a1 [\u9707\u6012] \u9080\u5565\u5c0f\r\n",
        "  50486  \u001b[1;30m  \u001b[m11/26 \u001b[1;37mlovewin      \u001b[m\u25a1 [\u592d\u58fd] \u53c8\u69d3\u9f9c\u001b[K\u001b[7;3H50487  \u001b[1;30m  \u001b[m11/26 lmf770410    \u25a1 [\u706b\u5927] HATE!!!!!\r\n",
        "  50488  \u001b[1;32m 4\u001b[m11/26 justbrisk    \u25a1 [\u706b\u5927] 13\u54ed\u54ed\u771f\u7684\u6709\u7528\u8036\u001b[9;3H50489  \u001b[1;30m  \u001b[m11/26 yakura       \u25a1 [\u9ed1\u7279]\r\n",
        "> 50490  \u001b[1;30m  \u001b[m11/26 beautycute94 \u001b[1;31m\u25a1 [\u738b\u516b] \u8d85\u7d1a\u96de\u63b0\u7684\u8cb7\u5bb6\u001b[11;3H\u001b[m50491  \u001b[1;30m  \u001b[m11/26 \u001b[1;37mMKPTT        \u001b[m\u25a1 [\u706b\u5927] \u5ba3\u50b3\u8eca\u5c31\u5df2\u7d93\u5920\u5435\u4e86 \u9084\u6253\u96fb\u8a71\u4f86\u7169\u662f\u600e\u6a23\r\n",
        "  50492  \u001b[1;30m  \u001b[m11/26 zealotry     \u25a1 [\u8d85\u5e79]\u001b[13;3H50493 +\u001b[1;30m  \u001b[m11/26 \u001b[1;37mmidori666    \u001b[m\u25a1 [\u9ed1\u7279] \u5e79\u2026\r\n",
        "  50494 +\u001b[1;32m 2\u001b[m11/26 elflucy0701  \u25a1 [\u8d85\u5e79] \u5e79\u52d2\u001b[15;3H50495 +\u001b[1;30m  \u001b[m11/26 success0409  R: [\u706b\u5927] 13\u54ed\u54ed\u771f\u7684\u6709\u7528\u8036\r\n",
        "  50496 +\u001b[1;30m  \u001b[m11/26 \u001b[1;37mKbart        \u001b[m\u25a1 [\u9ed1\u7279] \u5c41\u5b69\u001b[17;3H50497  \u001b[1;30m  \u001b[m11/26 \u001b[1;37mIronWolf     \u001b[m\u25a1 [\u9ed1\u7279] \u5e79\u4f60\u5a18\u7684\u5783\u573e\u8b70\u54e1\u5ba3\u50b3\u8eca\r\n",
        "  50498 +\u001b[1;32m 3\u001b[m11/26 chuchusocute \u25a1 [\u9ed1\u7279]\u001b[19;3H50499  \u001b[1;30m  \u001b[m11/26 \u001b[1;37msecretthings \u001b[m\u25a1 [\u738b\u516b] \u8f38\u4e86\r\n",
        "  50500 +\u001b[1;30m  \u001b[m11/26 \u001b[1;37mkevincfvgb   \u001b[m\u25a1 [\u706b\u5927] \u808f\u4f60\u5abd\u7684\u6b7b\u4eba\u5783\u573e\u001b[21;3H50501  \u001b[1;32m 1\u001b[m11/26 bobo12       \u25a1 [\u9ed1\u7279]\u001b[22;3H50502 +\u001b[1;30m  \u001b[m11/26 \u001b[1;37mwhogashaga   \u001b[m\u25a1 [\u8d85\u5e79] \u5ef6\u822a\r\n",
        "  50503 +\u001b[1;30m  \u001b[m11/26 \u001b[1;37mho83leo      \u001b[m\u25a1 [\u8d85\u5e79] \u8cc7\u8a0a\u5c55\u6295\u7968\u65e5\u6c92\u96d9\u500d!!\r\n",
        "\u001b[34;46m \u6587\u7ae0\u9078\u8b80 \u001b[30;47m \u001b[31m(y)\u001b[30m\u56de\u61c9\u001b[31m(X)\u001b[30m\u63a8\u6587\u001b[31m(^X)\u001b[30m\u8f49\u9304 \u001b[31m(=[]<>)\u001b[30m\u76f8\u95dc\u4e3b\u984c\u001b[31m(/?a)\u001b[30m\u627e\u6a19\u984c/\u4f5c\u8005 \u001b[31m(b)\u001b[30m\u9032\u677f\u756b\u9762 \u001b[m\u001b[10;1H\n"
       ]
      }
     ],
     "prompt_number": 56
    },
    {
     "cell_type": "code",
     "collapsed": false,
     "input": [],
     "language": "python",
     "metadata": {},
     "outputs": []
    },
    {
     "cell_type": "code",
     "collapsed": false,
     "input": [],
     "language": "python",
     "metadata": {},
     "outputs": []
    },
    {
     "cell_type": "code",
     "collapsed": false,
     "input": [],
     "language": "python",
     "metadata": {},
     "outputs": []
    },
    {
     "cell_type": "code",
     "collapsed": false,
     "input": [
      "# \u9084\u6c92\u5305\u6210\u7684\u6771\u897f XDDD\n",
      "\n",
      "import telnetlib\n",
      "import time\n",
      "\n",
      "class PyManConnection(object):\n",
      "    \"\"\"\n",
      "    A class of minimal implement PCMan in python.\n",
      "    \"\"\"\n",
      "    keys = {\"left\":\"\\x25\",\n",
      "            \"up\":\"\\x26\",\n",
      "            \"right\":\"\\x27\",\n",
      "            \"down\":\"\\x28\"}\n",
      "    \n",
      "    def __init__(self, host):\n",
      "        self.host = host\n",
      "        self._connect = telnetlib.Telnet(host)\n",
      "        self._data = self._connect.read_very_eager().decode(\"big5\", \"ignore\")\n",
      "        \n",
      "    def show(self):\n",
      "        self.refresh()\n",
      "        self._data = self._connect.read_very_eager().decode(\"big5\", \"ignore\")\n",
      "        print self._data\n",
      "        \n",
      "    def get_current_page(self):\n",
      "        return self._data\n",
      "        \n",
      "    def reconnect(self):\n",
      "        self._connect = telnetlib.Telnet(self.host)\n",
      "        \n",
      "    def refresh(self):\n",
      "        self._connect.write(\"\\f\")\n",
      "        self._data = self._connect.read_very_eager().decode(\"big5\", \"ignore\")\n",
      "        return self._data"
     ],
     "language": "python",
     "metadata": {},
     "outputs": [],
     "prompt_number": 7
    },
    {
     "cell_type": "code",
     "collapsed": false,
     "input": [
      "ptt_test = PyManConnection(\"ptt.cc\")"
     ],
     "language": "python",
     "metadata": {},
     "outputs": [
      {
       "output_type": "stream",
       "stream": "stdout",
       "text": [
        "\n"
       ]
      }
     ],
     "prompt_number": 8
    },
    {
     "cell_type": "code",
     "collapsed": false,
     "input": [
      "print ptt_test.get_current_page()"
     ],
     "language": "python",
     "metadata": {},
     "outputs": [
      {
       "output_type": "stream",
       "stream": "stdout",
       "text": [
        "\n"
       ]
      }
     ],
     "prompt_number": 6
    },
    {
     "cell_type": "code",
     "collapsed": false,
     "input": [],
     "language": "python",
     "metadata": {},
     "outputs": []
    }
   ],
   "metadata": {}
  }
 ]
}