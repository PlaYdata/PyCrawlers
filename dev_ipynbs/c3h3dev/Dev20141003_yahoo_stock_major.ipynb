{
 "metadata": {
  "name": "",
  "signature": "sha256:4c84d8294e9c7a8b76dff46096557dc720f0c68fb934c002268a37df01820825"
 },
 "nbformat": 3,
 "nbformat_minor": 0,
 "worksheets": [
  {
   "cells": [
    {
     "cell_type": "code",
     "collapsed": false,
     "input": [],
     "language": "python",
     "metadata": {},
     "outputs": []
    }
   ],
   "metadata": {}
  }
 ]
}