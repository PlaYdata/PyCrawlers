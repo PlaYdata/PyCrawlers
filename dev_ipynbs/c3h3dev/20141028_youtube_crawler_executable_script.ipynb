{
 "metadata": {
  "name": "",
  "signature": "sha256:5db60d44bfe303415e99227e8e32d952363dd1cab7e7e351ce5d651a29e31846"
 },
 "nbformat": 3,
 "nbformat_minor": 0,
 "worksheets": [
  {
   "cells": [
    {
     "cell_type": "code",
     "collapsed": false,
     "input": [
      "test_channel_ids_list = [\"thecoscup\", \"TWuseRGroup\"]"
     ],
     "language": "python",
     "metadata": {},
     "outputs": [],
     "prompt_number": 1
    },
    {
     "cell_type": "code",
     "collapsed": false,
     "input": [
      "one_channal_id = test_channel_ids_list[1]"
     ],
     "language": "python",
     "metadata": {},
     "outputs": [],
     "prompt_number": 20
    },
    {
     "cell_type": "code",
     "collapsed": false,
     "input": [
      "\n",
      "from pycrawlers.examples.youtube import crawlers\n",
      "video_data = crawlers.crawl_channel_uploads(one_channal_id)\n",
      "playlist_data = crawlers.crawl_channel_playlists_data(one_channal_id)"
     ],
     "language": "python",
     "metadata": {},
     "outputs": [
      {
       "output_type": "stream",
       "stream": "stdout",
       "text": [
        "next_page_list =  ['https://gdata.youtube.com/feeds/users/TWuseRGroup/uploads/']\n",
        "next_page_list = "
       ]
      },
      {
       "output_type": "stream",
       "stream": "stdout",
       "text": [
        " [u'https://gdata.youtube.com/feeds/users/TWuseRGroup/uploads?alt=json&start-index=26&max-results=25']\n",
        "next_page_list = "
       ]
      },
      {
       "output_type": "stream",
       "stream": "stdout",
       "text": [
        " [u'https://gdata.youtube.com/feeds/users/TWuseRGroup/uploads?alt=json&start-index=51&max-results=25']\n",
        "next_page_list = "
       ]
      },
      {
       "output_type": "stream",
       "stream": "stdout",
       "text": [
        " [u'https://gdata.youtube.com/feeds/users/TWuseRGroup/uploads?alt=json&start-index=76&max-results=25']\n",
        "next_page_list = "
       ]
      },
      {
       "output_type": "stream",
       "stream": "stdout",
       "text": [
        " [u'https://gdata.youtube.com/feeds/users/TWuseRGroup/uploads?alt=json&start-index=101&max-results=25']\n",
        "next_page_list = "
       ]
      },
      {
       "output_type": "stream",
       "stream": "stdout",
       "text": [
        " [u'https://gdata.youtube.com/feeds/users/TWuseRGroup/uploads?alt=json&start-index=126&max-results=25']\n",
        "next_page_list = "
       ]
      },
      {
       "output_type": "stream",
       "stream": "stdout",
       "text": [
        " [u'https://gdata.youtube.com/feeds/users/TWuseRGroup/uploads?alt=json&start-index=151&max-results=25']\n",
        "next_page_list = "
       ]
      },
      {
       "output_type": "stream",
       "stream": "stdout",
       "text": [
        " [u'https://gdata.youtube.com/feeds/users/TWuseRGroup/uploads?alt=json&start-index=176&max-results=25']\n",
        "next_page_list = "
       ]
      },
      {
       "output_type": "stream",
       "stream": "stdout",
       "text": [
        " [u'https://gdata.youtube.com/feeds/users/TWuseRGroup/uploads?alt=json&start-index=201&max-results=25']\n",
        "next_page_list = "
       ]
      },
      {
       "output_type": "stream",
       "stream": "stdout",
       "text": [
        " [u'https://gdata.youtube.com/feeds/users/TWuseRGroup/uploads?alt=json&start-index=226&max-results=25']\n",
        "next_page_list = "
       ]
      },
      {
       "output_type": "stream",
       "stream": "stdout",
       "text": [
        " []\n",
        "next_page_list =  ['https://gdata.youtube.com/feeds/users/TWuseRGroup/playlists/']\n",
        "next_page_list = "
       ]
      },
      {
       "output_type": "stream",
       "stream": "stdout",
       "text": [
        " [u'https://gdata.youtube.com/feeds/users/TWuseRGroup/playlists?alt=json&start-index=26&max-results=25']\n",
        "next_page_list = "
       ]
      },
      {
       "output_type": "stream",
       "stream": "stdout",
       "text": [
        " [u'https://gdata.youtube.com/feeds/users/TWuseRGroup/playlists?alt=json&start-index=51&max-results=25']\n",
        "next_page_list = "
       ]
      },
      {
       "output_type": "stream",
       "stream": "stdout",
       "text": [
        " [u'https://gdata.youtube.com/feeds/users/TWuseRGroup/playlists?alt=json&start-index=76&max-results=25']\n",
        "next_page_list = "
       ]
      },
      {
       "output_type": "stream",
       "stream": "stdout",
       "text": [
        " []\n",
        "next_page_list =  ['https://gdata.youtube.com/feeds/playlists/PLM7HGQkDNOHuOloa7Z6qDV_7lAAEbcSk-']\n",
        "next_page_list = "
       ]
      },
      {
       "output_type": "stream",
       "stream": "stdout",
       "text": [
        " [u'https://gdata.youtube.com/feeds/playlists/PLM7HGQkDNOHuOloa7Z6qDV_7lAAEbcSk-?alt=json&start-index=26&max-results=25']\n",
        "next_page_list = "
       ]
      },
      {
       "output_type": "stream",
       "stream": "stdout",
       "text": [
        " []\n",
        "next_page_list = "
       ]
      },
      {
       "output_type": "stream",
       "stream": "stdout",
       "text": [
        " ['https://gdata.youtube.com/feeds/playlists/PLM7HGQkDNOHu4d6mK1PvyluGCe9DamwyC']\n",
        "next_page_list = "
       ]
      },
      {
       "output_type": "stream",
       "stream": "stdout",
       "text": [
        " []\n",
        "next_page_list = "
       ]
      },
      {
       "output_type": "stream",
       "stream": "stdout",
       "text": [
        " ['https://gdata.youtube.com/feeds/playlists/PLM7HGQkDNOHv4MfqMMil2LaMQLyajutWJ']\n",
        "next_page_list = "
       ]
      },
      {
       "output_type": "stream",
       "stream": "stdout",
       "text": [
        " []\n",
        "next_page_list = "
       ]
      },
      {
       "output_type": "stream",
       "stream": "stdout",
       "text": [
        " ['https://gdata.youtube.com/feeds/playlists/PLM7HGQkDNOHvSpSzHzXaXUNNpFWTmuxl4']\n",
        "next_page_list = "
       ]
      },
      {
       "output_type": "stream",
       "stream": "stdout",
       "text": [
        " []\n",
        "next_page_list = "
       ]
      },
      {
       "output_type": "stream",
       "stream": "stdout",
       "text": [
        " ['https://gdata.youtube.com/feeds/playlists/PLM7HGQkDNOHtG-4dpKqy-Oz6ju5PRV_RD']\n",
        "next_page_list = "
       ]
      },
      {
       "output_type": "stream",
       "stream": "stdout",
       "text": [
        " []\n",
        "next_page_list = "
       ]
      },
      {
       "output_type": "stream",
       "stream": "stdout",
       "text": [
        " ['https://gdata.youtube.com/feeds/playlists/PLM7HGQkDNOHuwaaGX0LPl0AmS6HxRnzVa']\n",
        "next_page_list = "
       ]
      },
      {
       "output_type": "stream",
       "stream": "stdout",
       "text": [
        " []\n",
        "next_page_list = "
       ]
      },
      {
       "output_type": "stream",
       "stream": "stdout",
       "text": [
        " ['https://gdata.youtube.com/feeds/playlists/PLM7HGQkDNOHveBuNqLpnWFl09IbiKi-5b']\n",
        "next_page_list = "
       ]
      },
      {
       "output_type": "stream",
       "stream": "stdout",
       "text": [
        " []\n",
        "next_page_list = "
       ]
      },
      {
       "output_type": "stream",
       "stream": "stdout",
       "text": [
        " ['https://gdata.youtube.com/feeds/playlists/PLM7HGQkDNOHsxqfJS6tErHwmIXHBEl-sL']\n",
        "next_page_list = "
       ]
      },
      {
       "output_type": "stream",
       "stream": "stdout",
       "text": [
        " []\n",
        "next_page_list = "
       ]
      },
      {
       "output_type": "stream",
       "stream": "stdout",
       "text": [
        " ['https://gdata.youtube.com/feeds/playlists/PLM7HGQkDNOHtecWgrICYEHBNmMETZyLni']\n",
        "next_page_list = "
       ]
      },
      {
       "output_type": "stream",
       "stream": "stdout",
       "text": [
        " []\n",
        "next_page_list = "
       ]
      },
      {
       "output_type": "stream",
       "stream": "stdout",
       "text": [
        " ['https://gdata.youtube.com/feeds/playlists/PLM7HGQkDNOHsRBSJrJfcU3cJtwUxeokdi']\n",
        "next_page_list = "
       ]
      },
      {
       "output_type": "stream",
       "stream": "stdout",
       "text": [
        " []\n",
        "next_page_list = "
       ]
      },
      {
       "output_type": "stream",
       "stream": "stdout",
       "text": [
        " ['https://gdata.youtube.com/feeds/playlists/PLM7HGQkDNOHt9GkzsOlS2QUMIP5vdjzYM']\n",
        "next_page_list = "
       ]
      },
      {
       "output_type": "stream",
       "stream": "stdout",
       "text": [
        " []\n",
        "next_page_list = "
       ]
      },
      {
       "output_type": "stream",
       "stream": "stdout",
       "text": [
        " ['https://gdata.youtube.com/feeds/playlists/PLM7HGQkDNOHs6Be929aEKyX4Vx_9mFRFY']\n",
        "next_page_list = "
       ]
      },
      {
       "output_type": "stream",
       "stream": "stdout",
       "text": [
        " []\n",
        "next_page_list = "
       ]
      },
      {
       "output_type": "stream",
       "stream": "stdout",
       "text": [
        " ['https://gdata.youtube.com/feeds/playlists/PLM7HGQkDNOHuUZmybw9mzv0w_9-EQm39U']\n",
        "next_page_list = "
       ]
      },
      {
       "output_type": "stream",
       "stream": "stdout",
       "text": [
        " []\n",
        "next_page_list = "
       ]
      },
      {
       "output_type": "stream",
       "stream": "stdout",
       "text": [
        " ['https://gdata.youtube.com/feeds/playlists/PLM7HGQkDNOHsfNjKzrdNpB19TSVypm9nu']\n",
        "next_page_list = "
       ]
      },
      {
       "output_type": "stream",
       "stream": "stdout",
       "text": [
        " []\n",
        "next_page_list = "
       ]
      },
      {
       "output_type": "stream",
       "stream": "stdout",
       "text": [
        " ['https://gdata.youtube.com/feeds/playlists/PLM7HGQkDNOHuGxJTvhujNdE87yhhVtuEN']\n",
        "next_page_list = "
       ]
      },
      {
       "output_type": "stream",
       "stream": "stdout",
       "text": [
        " []\n",
        "next_page_list = "
       ]
      },
      {
       "output_type": "stream",
       "stream": "stdout",
       "text": [
        " ['https://gdata.youtube.com/feeds/playlists/PLM7HGQkDNOHtInKc6VW2fz__5nPIHu-nU']\n",
        "next_page_list = "
       ]
      },
      {
       "output_type": "stream",
       "stream": "stdout",
       "text": [
        " []\n",
        "next_page_list = "
       ]
      },
      {
       "output_type": "stream",
       "stream": "stdout",
       "text": [
        " ['https://gdata.youtube.com/feeds/playlists/PLM7HGQkDNOHs2IAn1-lK-YjAHIAaoowEg']\n",
        "next_page_list = "
       ]
      },
      {
       "output_type": "stream",
       "stream": "stdout",
       "text": [
        " []\n",
        "next_page_list = "
       ]
      },
      {
       "output_type": "stream",
       "stream": "stdout",
       "text": [
        " ['https://gdata.youtube.com/feeds/playlists/PLM7HGQkDNOHs6h_SguGNZfqg_Knfo-D7m']\n",
        "next_page_list = "
       ]
      },
      {
       "output_type": "stream",
       "stream": "stdout",
       "text": [
        " []\n",
        "next_page_list = "
       ]
      },
      {
       "output_type": "stream",
       "stream": "stdout",
       "text": [
        " ['https://gdata.youtube.com/feeds/playlists/PLM7HGQkDNOHtbfKRoB6KAsQPG4RGHkYyE']\n",
        "next_page_list = "
       ]
      },
      {
       "output_type": "stream",
       "stream": "stdout",
       "text": [
        " []\n",
        "next_page_list = "
       ]
      },
      {
       "output_type": "stream",
       "stream": "stdout",
       "text": [
        " ['https://gdata.youtube.com/feeds/playlists/PLM7HGQkDNOHurvnl6aX1Tr6-ItORmhMi8']\n",
        "next_page_list = "
       ]
      },
      {
       "output_type": "stream",
       "stream": "stdout",
       "text": [
        " []\n",
        "next_page_list = "
       ]
      },
      {
       "output_type": "stream",
       "stream": "stdout",
       "text": [
        " ['https://gdata.youtube.com/feeds/playlists/PLM7HGQkDNOHs3AOmaPVLuCtmgo03Pbkxr']\n",
        "next_page_list = "
       ]
      },
      {
       "output_type": "stream",
       "stream": "stdout",
       "text": [
        " []\n",
        "next_page_list = "
       ]
      },
      {
       "output_type": "stream",
       "stream": "stdout",
       "text": [
        " ['https://gdata.youtube.com/feeds/playlists/PLM7HGQkDNOHtXrBvW5JY1hfpKruJeJ7pP']\n",
        "next_page_list = "
       ]
      },
      {
       "output_type": "stream",
       "stream": "stdout",
       "text": [
        " []\n",
        "next_page_list = "
       ]
      },
      {
       "output_type": "stream",
       "stream": "stdout",
       "text": [
        " ['https://gdata.youtube.com/feeds/playlists/PLM7HGQkDNOHtB8o-SVg2E1SUJWJP1J4TE']\n",
        "next_page_list = "
       ]
      },
      {
       "output_type": "stream",
       "stream": "stdout",
       "text": [
        " []\n",
        "next_page_list = "
       ]
      },
      {
       "output_type": "stream",
       "stream": "stdout",
       "text": [
        " ['https://gdata.youtube.com/feeds/playlists/PLM7HGQkDNOHsOizmST3wE7mHm5FlaSITY']\n",
        "next_page_list = "
       ]
      },
      {
       "output_type": "stream",
       "stream": "stdout",
       "text": [
        " []\n",
        "next_page_list = "
       ]
      },
      {
       "output_type": "stream",
       "stream": "stdout",
       "text": [
        " ['https://gdata.youtube.com/feeds/playlists/PLM7HGQkDNOHu5b3fJyhEmgkZ3NLvQbFny']\n",
        "next_page_list = "
       ]
      },
      {
       "output_type": "stream",
       "stream": "stdout",
       "text": [
        " []\n",
        "next_page_list = "
       ]
      },
      {
       "output_type": "stream",
       "stream": "stdout",
       "text": [
        " ['https://gdata.youtube.com/feeds/playlists/PLM7HGQkDNOHsQ0CVmH_hw1n_7pgcrH6Ya']\n",
        "next_page_list = "
       ]
      },
      {
       "output_type": "stream",
       "stream": "stdout",
       "text": [
        " []\n",
        "next_page_list = "
       ]
      },
      {
       "output_type": "stream",
       "stream": "stdout",
       "text": [
        " ['https://gdata.youtube.com/feeds/playlists/PLM7HGQkDNOHuTH4HDRFuQ8PixLBnXiJCZ']\n",
        "next_page_list = "
       ]
      },
      {
       "output_type": "stream",
       "stream": "stdout",
       "text": [
        " []\n",
        "next_page_list = "
       ]
      },
      {
       "output_type": "stream",
       "stream": "stdout",
       "text": [
        " ['https://gdata.youtube.com/feeds/playlists/PLM7HGQkDNOHtisJ-LrOT9ist_Ka7eL4AB']\n",
        "next_page_list = "
       ]
      },
      {
       "output_type": "stream",
       "stream": "stdout",
       "text": [
        " []\n",
        "next_page_list = "
       ]
      },
      {
       "output_type": "stream",
       "stream": "stdout",
       "text": [
        " ['https://gdata.youtube.com/feeds/playlists/PLM7HGQkDNOHtqUTowalvnOwZCx4mWDmte']\n",
        "next_page_list = "
       ]
      },
      {
       "output_type": "stream",
       "stream": "stdout",
       "text": [
        " []\n",
        "next_page_list = "
       ]
      },
      {
       "output_type": "stream",
       "stream": "stdout",
       "text": [
        " ['https://gdata.youtube.com/feeds/playlists/PLM7HGQkDNOHuwN43cj1f2LdPi-ZV11_Po']\n",
        "next_page_list = "
       ]
      },
      {
       "output_type": "stream",
       "stream": "stdout",
       "text": [
        " []\n",
        "next_page_list = "
       ]
      },
      {
       "output_type": "stream",
       "stream": "stdout",
       "text": [
        " ['https://gdata.youtube.com/feeds/playlists/PLM7HGQkDNOHsRD25mAv7KydtrrvuOPv_F']\n",
        "next_page_list = "
       ]
      },
      {
       "output_type": "stream",
       "stream": "stdout",
       "text": [
        " []\n",
        "next_page_list = "
       ]
      },
      {
       "output_type": "stream",
       "stream": "stdout",
       "text": [
        " ['https://gdata.youtube.com/feeds/playlists/PLM7HGQkDNOHvlAOs55LUkhcGLV6GVTogT']\n",
        "next_page_list = "
       ]
      },
      {
       "output_type": "stream",
       "stream": "stdout",
       "text": [
        " []\n",
        "next_page_list = "
       ]
      },
      {
       "output_type": "stream",
       "stream": "stdout",
       "text": [
        " ['https://gdata.youtube.com/feeds/playlists/PLM7HGQkDNOHsGIYuyiKo2uYD5huIkwc76']\n",
        "next_page_list = "
       ]
      },
      {
       "output_type": "stream",
       "stream": "stdout",
       "text": [
        " []\n",
        "next_page_list = "
       ]
      },
      {
       "output_type": "stream",
       "stream": "stdout",
       "text": [
        " ['https://gdata.youtube.com/feeds/playlists/PLM7HGQkDNOHtCGTVZnIDrIBCubbU8KuP7']\n",
        "next_page_list = "
       ]
      },
      {
       "output_type": "stream",
       "stream": "stdout",
       "text": [
        " []\n",
        "next_page_list = "
       ]
      },
      {
       "output_type": "stream",
       "stream": "stdout",
       "text": [
        " ['https://gdata.youtube.com/feeds/playlists/PLM7HGQkDNOHs0EaF9UreRwzQt3cVcoo6G']\n",
        "next_page_list = "
       ]
      },
      {
       "output_type": "stream",
       "stream": "stdout",
       "text": [
        " []\n",
        "next_page_list = "
       ]
      },
      {
       "output_type": "stream",
       "stream": "stdout",
       "text": [
        " ['https://gdata.youtube.com/feeds/playlists/PLM7HGQkDNOHsR3XNwrBUXE8-P435It2LP']\n",
        "next_page_list = "
       ]
      },
      {
       "output_type": "stream",
       "stream": "stdout",
       "text": [
        " []\n",
        "next_page_list = "
       ]
      },
      {
       "output_type": "stream",
       "stream": "stdout",
       "text": [
        " ['https://gdata.youtube.com/feeds/playlists/PLM7HGQkDNOHueXh2Pn_L4wsXa_CxdAL0g']\n",
        "next_page_list = "
       ]
      },
      {
       "output_type": "stream",
       "stream": "stdout",
       "text": [
        " []\n",
        "next_page_list = "
       ]
      },
      {
       "output_type": "stream",
       "stream": "stdout",
       "text": [
        " ['https://gdata.youtube.com/feeds/playlists/PLM7HGQkDNOHsiqAHRhQmwocX7GwS96zoP']\n",
        "next_page_list = "
       ]
      },
      {
       "output_type": "stream",
       "stream": "stdout",
       "text": [
        " []\n",
        "next_page_list = "
       ]
      },
      {
       "output_type": "stream",
       "stream": "stdout",
       "text": [
        " ['https://gdata.youtube.com/feeds/playlists/PLM7HGQkDNOHuIdsYGnQVJlYdFAP4dI_Zo']\n",
        "next_page_list = "
       ]
      },
      {
       "output_type": "stream",
       "stream": "stdout",
       "text": [
        " []\n",
        "next_page_list = "
       ]
      },
      {
       "output_type": "stream",
       "stream": "stdout",
       "text": [
        " ['https://gdata.youtube.com/feeds/playlists/PLM7HGQkDNOHuNiF7Ml9Y8IIrjlUzms6Du']\n",
        "next_page_list = "
       ]
      },
      {
       "output_type": "stream",
       "stream": "stdout",
       "text": [
        " []\n",
        "next_page_list = "
       ]
      },
      {
       "output_type": "stream",
       "stream": "stdout",
       "text": [
        " ['https://gdata.youtube.com/feeds/playlists/PLM7HGQkDNOHv-1CchDajrmgwAFs5xjqLg']\n",
        "next_page_list = "
       ]
      },
      {
       "output_type": "stream",
       "stream": "stdout",
       "text": [
        " []\n",
        "next_page_list = "
       ]
      },
      {
       "output_type": "stream",
       "stream": "stdout",
       "text": [
        " ['https://gdata.youtube.com/feeds/playlists/PLM7HGQkDNOHsaFMMbABbMCdMy7oVdVxxg']\n",
        "next_page_list = "
       ]
      },
      {
       "output_type": "stream",
       "stream": "stdout",
       "text": [
        " []\n",
        "next_page_list = "
       ]
      },
      {
       "output_type": "stream",
       "stream": "stdout",
       "text": [
        " ['https://gdata.youtube.com/feeds/playlists/PLM7HGQkDNOHvodmvoIBx3-R5AFOeO4N3B']\n",
        "next_page_list = "
       ]
      },
      {
       "output_type": "stream",
       "stream": "stdout",
       "text": [
        " []\n",
        "next_page_list = "
       ]
      },
      {
       "output_type": "stream",
       "stream": "stdout",
       "text": [
        " ['https://gdata.youtube.com/feeds/playlists/PLM7HGQkDNOHvl3HaMeaiq0Y07z-YdA1Uq']\n",
        "next_page_list = "
       ]
      },
      {
       "output_type": "stream",
       "stream": "stdout",
       "text": [
        " []\n",
        "next_page_list = "
       ]
      },
      {
       "output_type": "stream",
       "stream": "stdout",
       "text": [
        " ['https://gdata.youtube.com/feeds/playlists/PLM7HGQkDNOHsxYeXHWb-JUSdFWPIbu9lx']\n",
        "next_page_list = "
       ]
      },
      {
       "output_type": "stream",
       "stream": "stdout",
       "text": [
        " []\n",
        "next_page_list = "
       ]
      },
      {
       "output_type": "stream",
       "stream": "stdout",
       "text": [
        " ['https://gdata.youtube.com/feeds/playlists/PLM7HGQkDNOHvH5jpUBsAT0AOL2EalWcly']\n",
        "next_page_list = "
       ]
      },
      {
       "output_type": "stream",
       "stream": "stdout",
       "text": [
        " []\n",
        "next_page_list = "
       ]
      },
      {
       "output_type": "stream",
       "stream": "stdout",
       "text": [
        " ['https://gdata.youtube.com/feeds/playlists/PLM7HGQkDNOHuk2_Nt902YdMGKY3pisEH2']\n",
        "next_page_list = "
       ]
      },
      {
       "output_type": "stream",
       "stream": "stdout",
       "text": [
        " []\n",
        "next_page_list = "
       ]
      },
      {
       "output_type": "stream",
       "stream": "stdout",
       "text": [
        " ['https://gdata.youtube.com/feeds/playlists/PLM7HGQkDNOHu4PQsIEDIRn_j3VqhtVebK']\n",
        "next_page_list = "
       ]
      },
      {
       "output_type": "stream",
       "stream": "stdout",
       "text": [
        " []\n",
        "next_page_list = "
       ]
      },
      {
       "output_type": "stream",
       "stream": "stdout",
       "text": [
        " ['https://gdata.youtube.com/feeds/playlists/PLM7HGQkDNOHvIMzWYu4CHVq6zY7-XjbYD']\n",
        "next_page_list = "
       ]
      },
      {
       "output_type": "stream",
       "stream": "stdout",
       "text": [
        " []\n",
        "next_page_list = "
       ]
      },
      {
       "output_type": "stream",
       "stream": "stdout",
       "text": [
        " ['https://gdata.youtube.com/feeds/playlists/PLM7HGQkDNOHst-R532qBUTR1EqAPLGJ7p']\n",
        "next_page_list = "
       ]
      },
      {
       "output_type": "stream",
       "stream": "stdout",
       "text": [
        " []\n",
        "next_page_list = "
       ]
      },
      {
       "output_type": "stream",
       "stream": "stdout",
       "text": [
        " ['https://gdata.youtube.com/feeds/playlists/PLM7HGQkDNOHtQRkHTsX0C_h9ZHPyZvmkE']\n",
        "next_page_list = "
       ]
      },
      {
       "output_type": "stream",
       "stream": "stdout",
       "text": [
        " []\n",
        "next_page_list = "
       ]
      },
      {
       "output_type": "stream",
       "stream": "stdout",
       "text": [
        " ['https://gdata.youtube.com/feeds/playlists/PLM7HGQkDNOHs04zTGvfyyHESvo7gqqedf']\n",
        "next_page_list = "
       ]
      },
      {
       "output_type": "stream",
       "stream": "stdout",
       "text": [
        " []\n",
        "next_page_list = "
       ]
      },
      {
       "output_type": "stream",
       "stream": "stdout",
       "text": [
        " ['https://gdata.youtube.com/feeds/playlists/PLM7HGQkDNOHvJrJ_S9toPeLNgx-CnFH4L']\n",
        "next_page_list = "
       ]
      },
      {
       "output_type": "stream",
       "stream": "stdout",
       "text": [
        " []\n",
        "next_page_list = "
       ]
      },
      {
       "output_type": "stream",
       "stream": "stdout",
       "text": [
        " ['https://gdata.youtube.com/feeds/playlists/PLM7HGQkDNOHtobSzUmOfefibiDtP35kJZ']\n",
        "next_page_list = "
       ]
      },
      {
       "output_type": "stream",
       "stream": "stdout",
       "text": [
        " []\n",
        "next_page_list = "
       ]
      },
      {
       "output_type": "stream",
       "stream": "stdout",
       "text": [
        " ['https://gdata.youtube.com/feeds/playlists/PLM7HGQkDNOHtrOgCigS-chwOwQuLfmvij']\n",
        "next_page_list = "
       ]
      },
      {
       "output_type": "stream",
       "stream": "stdout",
       "text": [
        " []\n",
        "next_page_list = "
       ]
      },
      {
       "output_type": "stream",
       "stream": "stdout",
       "text": [
        " ['https://gdata.youtube.com/feeds/playlists/PLM7HGQkDNOHszs0RYPemn-_PD0XCNihuS']\n",
        "next_page_list = "
       ]
      },
      {
       "output_type": "stream",
       "stream": "stdout",
       "text": [
        " []\n",
        "next_page_list = "
       ]
      },
      {
       "output_type": "stream",
       "stream": "stdout",
       "text": [
        " ['https://gdata.youtube.com/feeds/playlists/PLM7HGQkDNOHvDa8EdfLV1nKC-m8QQ_dPy']\n",
        "next_page_list = "
       ]
      },
      {
       "output_type": "stream",
       "stream": "stdout",
       "text": [
        " []\n",
        "next_page_list = "
       ]
      },
      {
       "output_type": "stream",
       "stream": "stdout",
       "text": [
        " ['https://gdata.youtube.com/feeds/playlists/PLM7HGQkDNOHtUmjpIuO-aOJ0Rhj0sxT9B']\n",
        "next_page_list = "
       ]
      },
      {
       "output_type": "stream",
       "stream": "stdout",
       "text": [
        " []\n",
        "next_page_list = "
       ]
      },
      {
       "output_type": "stream",
       "stream": "stdout",
       "text": [
        " ['https://gdata.youtube.com/feeds/playlists/PLM7HGQkDNOHvRPotW8UUh3ZH2mCXSm1jY']\n",
        "next_page_list = "
       ]
      },
      {
       "output_type": "stream",
       "stream": "stdout",
       "text": [
        " []\n",
        "next_page_list = "
       ]
      },
      {
       "output_type": "stream",
       "stream": "stdout",
       "text": [
        " ['https://gdata.youtube.com/feeds/playlists/PLM7HGQkDNOHuhJs3S_DGtsqIhwpY-8IBL']\n",
        "next_page_list = "
       ]
      },
      {
       "output_type": "stream",
       "stream": "stdout",
       "text": [
        " []\n",
        "next_page_list = "
       ]
      },
      {
       "output_type": "stream",
       "stream": "stdout",
       "text": [
        " ['https://gdata.youtube.com/feeds/playlists/PLM7HGQkDNOHv_FLBoGEOkQT8O0PRhegSR']\n",
        "next_page_list = "
       ]
      },
      {
       "output_type": "stream",
       "stream": "stdout",
       "text": [
        " []\n",
        "next_page_list = "
       ]
      },
      {
       "output_type": "stream",
       "stream": "stdout",
       "text": [
        " ['https://gdata.youtube.com/feeds/playlists/PLM7HGQkDNOHu4_A9YTrOVfjMx-zz2EJ6G']\n",
        "next_page_list = "
       ]
      },
      {
       "output_type": "stream",
       "stream": "stdout",
       "text": [
        " []\n",
        "next_page_list = "
       ]
      },
      {
       "output_type": "stream",
       "stream": "stdout",
       "text": [
        " ['https://gdata.youtube.com/feeds/playlists/PLM7HGQkDNOHuRDz-59vgGBo8snlXidiy4']\n",
        "next_page_list = "
       ]
      },
      {
       "output_type": "stream",
       "stream": "stdout",
       "text": [
        " []\n",
        "next_page_list = "
       ]
      },
      {
       "output_type": "stream",
       "stream": "stdout",
       "text": [
        " ['https://gdata.youtube.com/feeds/playlists/PLM7HGQkDNOHuiD8twac_hr4jbwMoEfINv']\n",
        "next_page_list = "
       ]
      },
      {
       "output_type": "stream",
       "stream": "stdout",
       "text": [
        " []\n",
        "next_page_list = "
       ]
      },
      {
       "output_type": "stream",
       "stream": "stdout",
       "text": [
        " ['https://gdata.youtube.com/feeds/playlists/PLM7HGQkDNOHsDoD3ZDqgBC4IiD2b5n9-M']\n",
        "next_page_list = "
       ]
      },
      {
       "output_type": "stream",
       "stream": "stdout",
       "text": [
        " []\n",
        "next_page_list = "
       ]
      },
      {
       "output_type": "stream",
       "stream": "stdout",
       "text": [
        " ['https://gdata.youtube.com/feeds/playlists/PLM7HGQkDNOHuAgaqhasSGs_DRkWWHqk4W']\n",
        "next_page_list = "
       ]
      },
      {
       "output_type": "stream",
       "stream": "stdout",
       "text": [
        " []\n",
        "next_page_list = "
       ]
      },
      {
       "output_type": "stream",
       "stream": "stdout",
       "text": [
        " ['https://gdata.youtube.com/feeds/playlists/PLM7HGQkDNOHvS7wl8H_ET47ZWeSj_KCRS']\n",
        "next_page_list = "
       ]
      },
      {
       "output_type": "stream",
       "stream": "stdout",
       "text": [
        " []\n",
        "next_page_list = "
       ]
      },
      {
       "output_type": "stream",
       "stream": "stdout",
       "text": [
        " ['https://gdata.youtube.com/feeds/playlists/PLM7HGQkDNOHtUpVGfwhBMkBITovffU6g0']\n",
        "next_page_list = "
       ]
      },
      {
       "output_type": "stream",
       "stream": "stdout",
       "text": [
        " []\n",
        "next_page_list = "
       ]
      },
      {
       "output_type": "stream",
       "stream": "stdout",
       "text": [
        " ['https://gdata.youtube.com/feeds/playlists/PLM7HGQkDNOHvlBCFXMA3ZYIwNnCFTvUNw']\n",
        "next_page_list = "
       ]
      },
      {
       "output_type": "stream",
       "stream": "stdout",
       "text": [
        " []\n",
        "next_page_list = "
       ]
      },
      {
       "output_type": "stream",
       "stream": "stdout",
       "text": [
        " ['https://gdata.youtube.com/feeds/playlists/PLM7HGQkDNOHt161z4Aks7ojwrBF4Wg7Wc']\n",
        "next_page_list = "
       ]
      },
      {
       "output_type": "stream",
       "stream": "stdout",
       "text": [
        " []\n",
        "next_page_list = "
       ]
      },
      {
       "output_type": "stream",
       "stream": "stdout",
       "text": [
        " ['https://gdata.youtube.com/feeds/playlists/PLM7HGQkDNOHuckZnsB2LL-bdHVUoQRr_k']\n",
        "next_page_list = "
       ]
      },
      {
       "output_type": "stream",
       "stream": "stdout",
       "text": [
        " []\n",
        "next_page_list = "
       ]
      },
      {
       "output_type": "stream",
       "stream": "stdout",
       "text": [
        " ['https://gdata.youtube.com/feeds/playlists/PLM7HGQkDNOHu8jbohhftR0G9m4FH6ki7f']\n",
        "next_page_list = "
       ]
      },
      {
       "output_type": "stream",
       "stream": "stdout",
       "text": [
        " []\n",
        "next_page_list = "
       ]
      },
      {
       "output_type": "stream",
       "stream": "stdout",
       "text": [
        " ['https://gdata.youtube.com/feeds/playlists/PLM7HGQkDNOHvGUCG1pcfoHLYI1vD7WKly']\n",
        "next_page_list = "
       ]
      },
      {
       "output_type": "stream",
       "stream": "stdout",
       "text": [
        " []\n",
        "next_page_list = "
       ]
      },
      {
       "output_type": "stream",
       "stream": "stdout",
       "text": [
        " ['https://gdata.youtube.com/feeds/playlists/PLM7HGQkDNOHtZwH2VndeKN3aHTMiDRtGH']\n",
        "next_page_list = "
       ]
      },
      {
       "output_type": "stream",
       "stream": "stdout",
       "text": [
        " []\n",
        "next_page_list = "
       ]
      },
      {
       "output_type": "stream",
       "stream": "stdout",
       "text": [
        " ['https://gdata.youtube.com/feeds/playlists/PLM7HGQkDNOHtVmLgbgFJzAwFWWyEyClhl']\n",
        "next_page_list = "
       ]
      },
      {
       "output_type": "stream",
       "stream": "stdout",
       "text": [
        " [u'https://gdata.youtube.com/feeds/playlists/PLM7HGQkDNOHtVmLgbgFJzAwFWWyEyClhl?alt=json&start-index=26&max-results=25']\n",
        "next_page_list = "
       ]
      },
      {
       "output_type": "stream",
       "stream": "stdout",
       "text": [
        " []\n",
        "next_page_list = "
       ]
      },
      {
       "output_type": "stream",
       "stream": "stdout",
       "text": [
        " ['https://gdata.youtube.com/feeds/playlists/PLM7HGQkDNOHsic2Q9cD7gyJMe8RJXqtj5']\n",
        "next_page_list = "
       ]
      },
      {
       "output_type": "stream",
       "stream": "stdout",
       "text": [
        " []\n",
        "next_page_list = "
       ]
      },
      {
       "output_type": "stream",
       "stream": "stdout",
       "text": [
        " ['https://gdata.youtube.com/feeds/playlists/PLM7HGQkDNOHuxeWxljFN1CI2X-1KEqBDt']\n",
        "next_page_list = "
       ]
      },
      {
       "output_type": "stream",
       "stream": "stdout",
       "text": [
        " []\n",
        "next_page_list = "
       ]
      },
      {
       "output_type": "stream",
       "stream": "stdout",
       "text": [
        " ['https://gdata.youtube.com/feeds/playlists/PLM7HGQkDNOHuO2Z0XR3lnEHU86lbv8x9w']\n",
        "next_page_list = "
       ]
      },
      {
       "output_type": "stream",
       "stream": "stdout",
       "text": [
        " [u'https://gdata.youtube.com/feeds/playlists/PLM7HGQkDNOHuO2Z0XR3lnEHU86lbv8x9w?alt=json&start-index=26&max-results=25']\n",
        "next_page_list = "
       ]
      },
      {
       "output_type": "stream",
       "stream": "stdout",
       "text": [
        " [u'https://gdata.youtube.com/feeds/playlists/PLM7HGQkDNOHuO2Z0XR3lnEHU86lbv8x9w?alt=json&start-index=51&max-results=25']\n",
        "next_page_list = "
       ]
      },
      {
       "output_type": "stream",
       "stream": "stdout",
       "text": [
        " [u'https://gdata.youtube.com/feeds/playlists/PLM7HGQkDNOHuO2Z0XR3lnEHU86lbv8x9w?alt=json&start-index=76&max-results=25']\n",
        "next_page_list = "
       ]
      },
      {
       "output_type": "stream",
       "stream": "stdout",
       "text": [
        " [u'https://gdata.youtube.com/feeds/playlists/PLM7HGQkDNOHuO2Z0XR3lnEHU86lbv8x9w?alt=json&start-index=101&max-results=25']\n",
        "next_page_list = "
       ]
      },
      {
       "output_type": "stream",
       "stream": "stdout",
       "text": [
        " [u'https://gdata.youtube.com/feeds/playlists/PLM7HGQkDNOHuO2Z0XR3lnEHU86lbv8x9w?alt=json&start-index=126&max-results=25']\n",
        "next_page_list = "
       ]
      },
      {
       "output_type": "stream",
       "stream": "stdout",
       "text": [
        " [u'https://gdata.youtube.com/feeds/playlists/PLM7HGQkDNOHuO2Z0XR3lnEHU86lbv8x9w?alt=json&start-index=151&max-results=25']\n",
        "next_page_list = "
       ]
      },
      {
       "output_type": "stream",
       "stream": "stdout",
       "text": [
        " []\n",
        "next_page_list = "
       ]
      },
      {
       "output_type": "stream",
       "stream": "stdout",
       "text": [
        " ['https://gdata.youtube.com/feeds/playlists/PLM7HGQkDNOHtUwxRB99zR4ieOBbJatnhO']\n",
        "next_page_list = "
       ]
      },
      {
       "output_type": "stream",
       "stream": "stdout",
       "text": [
        " []\n",
        "next_page_list = "
       ]
      },
      {
       "output_type": "stream",
       "stream": "stdout",
       "text": [
        " ['https://gdata.youtube.com/feeds/playlists/PLM7HGQkDNOHu3SXXZjsBvZ2AzVMxSr57A']\n",
        "next_page_list = "
       ]
      },
      {
       "output_type": "stream",
       "stream": "stdout",
       "text": [
        " []\n",
        "next_page_list = "
       ]
      },
      {
       "output_type": "stream",
       "stream": "stdout",
       "text": [
        " ['https://gdata.youtube.com/feeds/playlists/PLM7HGQkDNOHuYOOo98-cfhP-opcEDl7RO']\n",
        "next_page_list = "
       ]
      },
      {
       "output_type": "stream",
       "stream": "stdout",
       "text": [
        " []\n"
       ]
      }
     ],
     "prompt_number": 21
    },
    {
     "cell_type": "code",
     "collapsed": false,
     "input": [
      "def set_video_mongo_data(one_video_data):\n",
      "    if \"ytid\" in one_video_data.keys():\n",
      "        one_video_data[\"_id\"] = one_video_data[\"ytid\"]\n",
      "        del one_video_data[\"ytid\"]\n",
      "        \n",
      "    one_video_data[\"channalId\"] = one_channal_id\n",
      "    \n",
      "    return one_video_data"
     ],
     "language": "python",
     "metadata": {},
     "outputs": [],
     "prompt_number": 22
    },
    {
     "cell_type": "code",
     "collapsed": false,
     "input": [
      "def set_playlist_mongo_data(one_playlist_data):\n",
      "    if \"playlist_id\" in one_playlist_data.keys():\n",
      "        one_playlist_data[\"_id\"] = one_playlist_data[\"playlist_id\"]\n",
      "        del one_playlist_data[\"playlist_id\"]\n",
      "    \n",
      "    if \"video_ids\" in one_playlist_data.keys():\n",
      "        one_playlist_data[\"videoIds\"] = one_playlist_data[\"video_ids\"]\n",
      "        del one_playlist_data[\"video_ids\"]\n",
      "    \n",
      "    one_playlist_data[\"channalId\"] = one_channal_id\n",
      "    \n",
      "    return one_playlist_data\n",
      "    "
     ],
     "language": "python",
     "metadata": {},
     "outputs": [],
     "prompt_number": 23
    },
    {
     "cell_type": "code",
     "collapsed": false,
     "input": [
      "video_data = map(set_video_mongo_data, video_data)\n",
      "playlist_data = map(set_playlist_mongo_data, playlist_data)"
     ],
     "language": "python",
     "metadata": {},
     "outputs": [],
     "prompt_number": 24
    },
    {
     "cell_type": "code",
     "collapsed": false,
     "input": [
      "video_data[:3]"
     ],
     "language": "python",
     "metadata": {},
     "outputs": [
      {
       "metadata": {},
       "output_type": "pyout",
       "prompt_number": 25,
       "text": [
        "[{'_id': u'i6ztCX5tQ_w',\n",
        "  'author': u'TW use-R',\n",
        "  'categories': [{u'scheme': u'http://schemas.google.com/g/2005#kind',\n",
        "    u'term': u'http://gdata.youtube.com/schemas/2007#video'},\n",
        "   {u'label': u'Science & Technology',\n",
        "    u'scheme': u'http://gdata.youtube.com/schemas/2007/categories.cat',\n",
        "    u'term': u'Tech'}],\n",
        "  'channalId': 'TWuseRGroup',\n",
        "  'description': u'\\u8b1b\\u984c\\uff1aTITLE\\n\\u8b1b\\u8005\\uff1aSPEAKER\\n\\nAbstract\\n\\n[Abstract or Description]\\n\\nAbout the Speaker\\n\\n[About the Speaker]',\n",
        "  'title': u'20140804 R ETL part 16 by Aha&\\u5609\\u8473 (MLDM Monday)'},\n",
        " {'_id': u'3vtTq7pf4ig',\n",
        "  'author': u'TW use-R',\n",
        "  'categories': [{u'scheme': u'http://schemas.google.com/g/2005#kind',\n",
        "    u'term': u'http://gdata.youtube.com/schemas/2007#video'},\n",
        "   {u'label': u'Science & Technology',\n",
        "    u'scheme': u'http://gdata.youtube.com/schemas/2007/categories.cat',\n",
        "    u'term': u'Tech'}],\n",
        "  'channalId': 'TWuseRGroup',\n",
        "  'description': u'\\u8b1b\\u984c\\uff1aTITLE\\n\\u8b1b\\u8005\\uff1aSPEAKER\\n\\nAbstract\\n\\n[Abstract or Description]\\n\\nAbout the Speaker\\n\\n[About the Speaker]',\n",
        "  'title': u'20140721 R Basic part 5 by QMal (MLDM Monday)'},\n",
        " {'_id': u'HdFcSqqveQI',\n",
        "  'author': u'TW use-R',\n",
        "  'categories': [{u'scheme': u'http://schemas.google.com/g/2005#kind',\n",
        "    u'term': u'http://gdata.youtube.com/schemas/2007#video'},\n",
        "   {u'label': u'Science & Technology',\n",
        "    u'scheme': u'http://gdata.youtube.com/schemas/2007/categories.cat',\n",
        "    u'term': u'Tech'}],\n",
        "  'channalId': 'TWuseRGroup',\n",
        "  'description': u'\\u8b1b\\u984c\\uff1aTITLE\\n\\u8b1b\\u8005\\uff1aSPEAKER\\n\\nAbstract\\n\\n[Abstract or Description]\\n\\nAbout the Speaker\\n\\n[About the Speaker]',\n",
        "  'title': u'20140728 R ETL part 2 by Aha&\\u5609\\u8473 (MLDM Monday)'}]"
       ]
      }
     ],
     "prompt_number": 25
    },
    {
     "cell_type": "code",
     "collapsed": false,
     "input": [
      "playlist_data[:3]"
     ],
     "language": "python",
     "metadata": {},
     "outputs": [
      {
       "metadata": {},
       "output_type": "pyout",
       "prompt_number": 26,
       "text": [
        "[{'_id': u'PLM7HGQkDNOHuOloa7Z6qDV_7lAAEbcSk-',\n",
        "  'author': u'TW use-R',\n",
        "  'channalId': 'TWuseRGroup',\n",
        "  'logo': u'http://www.gstatic.com/youtube/img/logo.png',\n",
        "  'subtitle': u'',\n",
        "  'title': u'201407 - 201408 R Tutorial Series',\n",
        "  'updated': u'2014-08-05T18:24:15.000Z',\n",
        "  'videoIds': [u'ecGS8Vp1eOQ',\n",
        "   u'QRiEeP056_M',\n",
        "   u'fX_IHLwjwac',\n",
        "   u'vGIEaXda478',\n",
        "   u'3vtTq7pf4ig',\n",
        "   u'VnrWtWH1SSI',\n",
        "   u'_TZyfT7w-QE',\n",
        "   u'dubsAiZM1Bk',\n",
        "   u'knUMjsGaL4s',\n",
        "   u'ukotx7OsQSI',\n",
        "   u'HdFcSqqveQI',\n",
        "   u'4lUpYrxx6uQ',\n",
        "   u'mEa-RO4ZQfM',\n",
        "   u'jazLR3ub_JE',\n",
        "   u'yRCRK8HaXEM',\n",
        "   u'NKJDkh9jj_w',\n",
        "   u'MR7x6EbkxpM',\n",
        "   u'xgPpr_f7yPY',\n",
        "   u'X4TMWez0twc',\n",
        "   u'm627xXko7KY',\n",
        "   u'LZB1tNeMPnk',\n",
        "   u'FpoXlxxtkTA',\n",
        "   u'PcoYykxHtj0',\n",
        "   u'adjucZLJhAY',\n",
        "   u'i6ztCX5tQ_w',\n",
        "   u'e91F30fzsYI']},\n",
        " {'_id': u'PLM7HGQkDNOHu4d6mK1PvyluGCe9DamwyC',\n",
        "  'author': u'TW use-R',\n",
        "  'channalId': 'TWuseRGroup',\n",
        "  'logo': u'http://www.gstatic.com/youtube/img/logo.png',\n",
        "  'subtitle': u'',\n",
        "  'title': u'Series: R Application',\n",
        "  'updated': u'2014-07-02T12:45:55.000Z',\n",
        "  'videoIds': [u'2ghr-Upe204', u'MeDDZN_F7jY']},\n",
        " {'_id': u'PLM7HGQkDNOHv4MfqMMil2LaMQLyajutWJ',\n",
        "  'author': u'TW use-R',\n",
        "  'channalId': 'TWuseRGroup',\n",
        "  'logo': u'http://www.gstatic.com/youtube/img/logo.png',\n",
        "  'subtitle': u'Geographic Information Systems, Spatial Analysis',\n",
        "  'title': u'Series: Geoinformatics',\n",
        "  'updated': u'2014-05-12T18:05:04.000Z',\n",
        "  'videoIds': [u'pUx6-QC6uw4']}]"
       ]
      }
     ],
     "prompt_number": 26
    },
    {
     "cell_type": "code",
     "collapsed": false,
     "input": [],
     "language": "python",
     "metadata": {},
     "outputs": [],
     "prompt_number": 26
    },
    {
     "cell_type": "code",
     "collapsed": false,
     "input": [
      "from pymongo import MongoClient"
     ],
     "language": "python",
     "metadata": {},
     "outputs": [],
     "prompt_number": 37
    },
    {
     "cell_type": "code",
     "collapsed": false,
     "input": [
      "mcli = MongoClient()\n",
      "yt_video_collection = mcli.videomap.ytVideos\n",
      "yt_playlist_collection = mcli.videomap.ytPlaylists\n",
      "\n",
      "#yt_video_collection.drop()\n",
      "#yt_playlist_collection.drop()\n"
     ],
     "language": "python",
     "metadata": {},
     "outputs": [],
     "prompt_number": 53
    },
    {
     "cell_type": "code",
     "collapsed": false,
     "input": [
      "video_data_ids = map(lambda xx:xx[\"_id\"], video_data)\n",
      "playlist_data_ids = map(lambda xx:xx[\"_id\"], playlist_data)"
     ],
     "language": "python",
     "metadata": {},
     "outputs": [],
     "prompt_number": 54
    },
    {
     "cell_type": "code",
     "collapsed": false,
     "input": [
      "yt_video_collection.remove({\"_id\":{\"$in\":video_data_ids}})\n",
      "yt_playlist_collection.remove({\"_id\":{\"$in\":playlist_data_ids}})"
     ],
     "language": "python",
     "metadata": {},
     "outputs": [
      {
       "metadata": {},
       "output_type": "pyout",
       "prompt_number": 59,
       "text": [
        "{u'n': 81, u'ok': 1}"
       ]
      }
     ],
     "prompt_number": 59
    },
    {
     "cell_type": "code",
     "collapsed": false,
     "input": [],
     "language": "python",
     "metadata": {},
     "outputs": [],
     "prompt_number": 59
    },
    {
     "cell_type": "code",
     "collapsed": false,
     "input": [
      "mcli.videomap.ytVideos.insert(video_data)\n",
      "mcli.videomap.ytPlaylists.insert(playlist_data)\n"
     ],
     "language": "python",
     "metadata": {},
     "outputs": [
      {
       "metadata": {},
       "output_type": "pyout",
       "prompt_number": 60,
       "text": [
        "[u'PLM7HGQkDNOHuOloa7Z6qDV_7lAAEbcSk-',\n",
        " u'PLM7HGQkDNOHu4d6mK1PvyluGCe9DamwyC',\n",
        " u'PLM7HGQkDNOHv4MfqMMil2LaMQLyajutWJ',\n",
        " u'PLM7HGQkDNOHvSpSzHzXaXUNNpFWTmuxl4',\n",
        " u'PLM7HGQkDNOHtG-4dpKqy-Oz6ju5PRV_RD',\n",
        " u'PLM7HGQkDNOHuwaaGX0LPl0AmS6HxRnzVa',\n",
        " u'PLM7HGQkDNOHveBuNqLpnWFl09IbiKi-5b',\n",
        " u'PLM7HGQkDNOHsxqfJS6tErHwmIXHBEl-sL',\n",
        " u'PLM7HGQkDNOHtecWgrICYEHBNmMETZyLni',\n",
        " u'PLM7HGQkDNOHsRBSJrJfcU3cJtwUxeokdi',\n",
        " u'PLM7HGQkDNOHt9GkzsOlS2QUMIP5vdjzYM',\n",
        " u'PLM7HGQkDNOHs6Be929aEKyX4Vx_9mFRFY',\n",
        " u'PLM7HGQkDNOHuUZmybw9mzv0w_9-EQm39U',\n",
        " u'PLM7HGQkDNOHsfNjKzrdNpB19TSVypm9nu',\n",
        " u'PLM7HGQkDNOHuGxJTvhujNdE87yhhVtuEN',\n",
        " u'PLM7HGQkDNOHtInKc6VW2fz__5nPIHu-nU',\n",
        " u'PLM7HGQkDNOHs2IAn1-lK-YjAHIAaoowEg',\n",
        " u'PLM7HGQkDNOHs6h_SguGNZfqg_Knfo-D7m',\n",
        " u'PLM7HGQkDNOHtbfKRoB6KAsQPG4RGHkYyE',\n",
        " u'PLM7HGQkDNOHurvnl6aX1Tr6-ItORmhMi8',\n",
        " u'PLM7HGQkDNOHs3AOmaPVLuCtmgo03Pbkxr',\n",
        " u'PLM7HGQkDNOHtXrBvW5JY1hfpKruJeJ7pP',\n",
        " u'PLM7HGQkDNOHtB8o-SVg2E1SUJWJP1J4TE',\n",
        " u'PLM7HGQkDNOHsOizmST3wE7mHm5FlaSITY',\n",
        " u'PLM7HGQkDNOHu5b3fJyhEmgkZ3NLvQbFny',\n",
        " u'PLM7HGQkDNOHsQ0CVmH_hw1n_7pgcrH6Ya',\n",
        " u'PLM7HGQkDNOHuTH4HDRFuQ8PixLBnXiJCZ',\n",
        " u'PLM7HGQkDNOHtisJ-LrOT9ist_Ka7eL4AB',\n",
        " u'PLM7HGQkDNOHtqUTowalvnOwZCx4mWDmte',\n",
        " u'PLM7HGQkDNOHuwN43cj1f2LdPi-ZV11_Po',\n",
        " u'PLM7HGQkDNOHsRD25mAv7KydtrrvuOPv_F',\n",
        " u'PLM7HGQkDNOHvlAOs55LUkhcGLV6GVTogT',\n",
        " u'PLM7HGQkDNOHsGIYuyiKo2uYD5huIkwc76',\n",
        " u'PLM7HGQkDNOHtCGTVZnIDrIBCubbU8KuP7',\n",
        " u'PLM7HGQkDNOHs0EaF9UreRwzQt3cVcoo6G',\n",
        " u'PLM7HGQkDNOHsR3XNwrBUXE8-P435It2LP',\n",
        " u'PLM7HGQkDNOHueXh2Pn_L4wsXa_CxdAL0g',\n",
        " u'PLM7HGQkDNOHsiqAHRhQmwocX7GwS96zoP',\n",
        " u'PLM7HGQkDNOHuIdsYGnQVJlYdFAP4dI_Zo',\n",
        " u'PLM7HGQkDNOHuNiF7Ml9Y8IIrjlUzms6Du',\n",
        " u'PLM7HGQkDNOHv-1CchDajrmgwAFs5xjqLg',\n",
        " u'PLM7HGQkDNOHsaFMMbABbMCdMy7oVdVxxg',\n",
        " u'PLM7HGQkDNOHvodmvoIBx3-R5AFOeO4N3B',\n",
        " u'PLM7HGQkDNOHvl3HaMeaiq0Y07z-YdA1Uq',\n",
        " u'PLM7HGQkDNOHsxYeXHWb-JUSdFWPIbu9lx',\n",
        " u'PLM7HGQkDNOHvH5jpUBsAT0AOL2EalWcly',\n",
        " u'PLM7HGQkDNOHuk2_Nt902YdMGKY3pisEH2',\n",
        " u'PLM7HGQkDNOHu4PQsIEDIRn_j3VqhtVebK',\n",
        " u'PLM7HGQkDNOHvIMzWYu4CHVq6zY7-XjbYD',\n",
        " u'PLM7HGQkDNOHst-R532qBUTR1EqAPLGJ7p',\n",
        " u'PLM7HGQkDNOHtQRkHTsX0C_h9ZHPyZvmkE',\n",
        " u'PLM7HGQkDNOHs04zTGvfyyHESvo7gqqedf',\n",
        " u'PLM7HGQkDNOHvJrJ_S9toPeLNgx-CnFH4L',\n",
        " u'PLM7HGQkDNOHtobSzUmOfefibiDtP35kJZ',\n",
        " u'PLM7HGQkDNOHtrOgCigS-chwOwQuLfmvij',\n",
        " u'PLM7HGQkDNOHszs0RYPemn-_PD0XCNihuS',\n",
        " u'PLM7HGQkDNOHvDa8EdfLV1nKC-m8QQ_dPy',\n",
        " u'PLM7HGQkDNOHtUmjpIuO-aOJ0Rhj0sxT9B',\n",
        " u'PLM7HGQkDNOHvRPotW8UUh3ZH2mCXSm1jY',\n",
        " u'PLM7HGQkDNOHuhJs3S_DGtsqIhwpY-8IBL',\n",
        " u'PLM7HGQkDNOHv_FLBoGEOkQT8O0PRhegSR',\n",
        " u'PLM7HGQkDNOHu4_A9YTrOVfjMx-zz2EJ6G',\n",
        " u'PLM7HGQkDNOHuRDz-59vgGBo8snlXidiy4',\n",
        " u'PLM7HGQkDNOHuiD8twac_hr4jbwMoEfINv',\n",
        " u'PLM7HGQkDNOHsDoD3ZDqgBC4IiD2b5n9-M',\n",
        " u'PLM7HGQkDNOHuAgaqhasSGs_DRkWWHqk4W',\n",
        " u'PLM7HGQkDNOHvS7wl8H_ET47ZWeSj_KCRS',\n",
        " u'PLM7HGQkDNOHtUpVGfwhBMkBITovffU6g0',\n",
        " u'PLM7HGQkDNOHvlBCFXMA3ZYIwNnCFTvUNw',\n",
        " u'PLM7HGQkDNOHt161z4Aks7ojwrBF4Wg7Wc',\n",
        " u'PLM7HGQkDNOHuckZnsB2LL-bdHVUoQRr_k',\n",
        " u'PLM7HGQkDNOHu8jbohhftR0G9m4FH6ki7f',\n",
        " u'PLM7HGQkDNOHvGUCG1pcfoHLYI1vD7WKly',\n",
        " u'PLM7HGQkDNOHtZwH2VndeKN3aHTMiDRtGH',\n",
        " u'PLM7HGQkDNOHtVmLgbgFJzAwFWWyEyClhl',\n",
        " u'PLM7HGQkDNOHsic2Q9cD7gyJMe8RJXqtj5',\n",
        " u'PLM7HGQkDNOHuxeWxljFN1CI2X-1KEqBDt',\n",
        " u'PLM7HGQkDNOHuO2Z0XR3lnEHU86lbv8x9w',\n",
        " u'PLM7HGQkDNOHtUwxRB99zR4ieOBbJatnhO',\n",
        " u'PLM7HGQkDNOHu3SXXZjsBvZ2AzVMxSr57A',\n",
        " u'PLM7HGQkDNOHuYOOo98-cfhP-opcEDl7RO']"
       ]
      }
     ],
     "prompt_number": 60
    },
    {
     "cell_type": "code",
     "collapsed": false,
     "input": [],
     "language": "python",
     "metadata": {},
     "outputs": [],
     "prompt_number": 60
    },
    {
     "cell_type": "code",
     "collapsed": false,
     "input": [],
     "language": "python",
     "metadata": {},
     "outputs": []
    },
    {
     "cell_type": "code",
     "collapsed": false,
     "input": [
      "from pycrawlers.examples.youtube import crawlers\n",
      "from pymongo import MongoClient\n",
      "\n",
      "def set_video_mongo_data(one_video_data):\n",
      "    if \"ytid\" in one_video_data.keys():\n",
      "        one_video_data[\"_id\"] = one_video_data[\"ytid\"]\n",
      "        del one_video_data[\"ytid\"]\n",
      "        \n",
      "    one_video_data[\"channalId\"] = one_channal_id\n",
      "    \n",
      "    return one_video_data\n",
      "\n",
      "def set_playlist_mongo_data(one_playlist_data):\n",
      "    if \"playlist_id\" in one_playlist_data.keys():\n",
      "        one_playlist_data[\"_id\"] = one_playlist_data[\"playlist_id\"]\n",
      "        del one_playlist_data[\"playlist_id\"]\n",
      "    \n",
      "    if \"video_ids\" in one_playlist_data.keys():\n",
      "        one_playlist_data[\"videoIds\"] = one_playlist_data[\"video_ids\"]\n",
      "        del one_playlist_data[\"video_ids\"]\n",
      "    \n",
      "    one_playlist_data[\"channalId\"] = one_channal_id\n",
      "    \n",
      "    return one_playlist_data\n",
      "\n",
      "\n",
      "\n",
      "def update_youtube_channal_data_to_mongo(one_channal_id, yt_video_collection=None, yt_playlist_collection=None):\n",
      "    \n",
      "    if yt_video_collection==None:\n",
      "        mcli = MongoClient()\n",
      "        yt_video_collection = mcli.videomap.ytVideos\n",
      "    \n",
      "    if yt_playlist_collection==None:\n",
      "        mcli = MongoClient()\n",
      "        yt_playlist_collection = mcli.videomap.ytPlaylists\n",
      "\n",
      "    \n",
      "    video_data = crawlers.crawl_channel_uploads(one_channal_id)\n",
      "    playlist_data = crawlers.crawl_channel_playlists_data(one_channal_id)\n",
      "    \n",
      "    video_data_ids = map(lambda xx:xx[\"_id\"], video_data)\n",
      "    playlist_data_ids = map(lambda xx:xx[\"_id\"], playlist_data)\n",
      "    \n",
      "    yt_video_collection.remove({\"_id\":{\"$in\":video_data_ids}})\n",
      "    yt_playlist_collection.remove({\"_id\":{\"$in\":playlist_data_ids}})\n",
      "    \n",
      "    yt_video_collection.insert(video_data)\n",
      "    yt_playlist_collection.insert(playlist_data)\n",
      "\n"
     ],
     "language": "python",
     "metadata": {},
     "outputs": []
    }
   ],
   "metadata": {}
  }
 ]
}