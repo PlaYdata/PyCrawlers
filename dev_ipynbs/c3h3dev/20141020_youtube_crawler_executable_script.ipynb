{
 "metadata": {
  "name": "",
  "signature": "sha256:a28a0793b575fa81cf28fa9b6c3ddd4a86cf577b5a68a39539005e259664502f"
 },
 "nbformat": 3,
 "nbformat_minor": 0,
 "worksheets": [
  {
   "cells": [
    {
     "cell_type": "code",
     "collapsed": false,
     "input": [
      "test_channel_ids_list = [\"thecoscup\", \"TWuseRGroup\"]\n",
      "from pycrawlers.examples.youtube import crawlers\n",
      "test1 = crawlers.crawl_channel_uploads(test_channel_ids_list[0])"
     ],
     "language": "python",
     "metadata": {},
     "outputs": [
      {
       "output_type": "stream",
       "stream": "stdout",
       "text": [
        "next_page_list =  ['https://gdata.youtube.com/feeds/users/thecoscup/uploads/']\n",
        "next_page_list = "
       ]
      }
     ]
    },
    {
     "cell_type": "code",
     "collapsed": false,
     "input": [],
     "language": "python",
     "metadata": {},
     "outputs": [],
     "prompt_number": 2
    },
    {
     "cell_type": "code",
     "collapsed": false,
     "input": [],
     "language": "python",
     "metadata": {},
     "outputs": [
      {
       "output_type": "stream",
       "stream": "stdout",
       "text": [
        "next_page_list =  ['https://gdata.youtube.com/feeds/users/thecoscup/uploads/']\n",
        "next_page_list = "
       ]
      }
     ]
    },
    {
     "cell_type": "code",
     "collapsed": false,
     "input": [],
     "language": "python",
     "metadata": {},
     "outputs": []
    }
   ],
   "metadata": {}
  }
 ]
}