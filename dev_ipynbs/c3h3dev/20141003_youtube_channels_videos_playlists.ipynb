{
 "metadata": {
  "name": "",
  "signature": "sha256:43f1868caf51558fa52b0e57419a0e40f0cd9323d6918e949e0442fec1a8fdea"
 },
 "nbformat": 3,
 "nbformat_minor": 0,
 "worksheets": [
  {
   "cells": [
    {
     "cell_type": "code",
     "collapsed": false,
     "input": [
      "import requests\n",
      "\n",
      "try:\n",
      "    import ujson as json \n",
      "except:\n",
      "    import json"
     ],
     "language": "python",
     "metadata": {},
     "outputs": [],
     "prompt_number": 1
    },
    {
     "cell_type": "code",
     "collapsed": false,
     "input": [
      "test_channel_ids_list = [\"thecoscup\", \"TWuseRGroup\"]"
     ],
     "language": "python",
     "metadata": {},
     "outputs": [],
     "prompt_number": 2
    },
    {
     "cell_type": "code",
     "collapsed": false,
     "input": [],
     "language": "python",
     "metadata": {},
     "outputs": [],
     "prompt_number": 2
    },
    {
     "cell_type": "code",
     "collapsed": false,
     "input": [
      "\n",
      "channel_id = test_channel_ids_list[0]\n",
      "\n",
      "r = requests.get(\"https://gdata.youtube.com/feeds/users/TWuseRGroup\",params={\"alt\":\"json\"})"
     ],
     "language": "python",
     "metadata": {},
     "outputs": [],
     "prompt_number": 3
    },
    {
     "cell_type": "code",
     "collapsed": false,
     "input": [
      "data = json.loads(r.text)"
     ],
     "language": "python",
     "metadata": {},
     "outputs": [],
     "prompt_number": 4
    },
    {
     "cell_type": "code",
     "collapsed": false,
     "input": [
      "print data[\"entry\"][\"author\"][0][\"name\"][\"$t\"]\n",
      "\n",
      "data[\"entry\"][\"gd$feedLink\"]"
     ],
     "language": "python",
     "metadata": {},
     "outputs": [
      {
       "output_type": "stream",
       "stream": "stdout",
       "text": [
        "TW use-R\n"
       ]
      },
      {
       "metadata": {},
       "output_type": "pyout",
       "prompt_number": 5,
       "text": [
        "[{u'countHint': 9,\n",
        "  u'href': u'https://gdata.youtube.com/feeds/users/twusergroup/subscriptions',\n",
        "  u'rel': u'http://gdata.youtube.com/schemas/2007#user.subscriptions'},\n",
        " {u'countHint': 0,\n",
        "  u'href': u'https://gdata.youtube.com/feeds/users/twusergroup/contacts',\n",
        "  u'rel': u'http://gdata.youtube.com/schemas/2007#user.contacts'},\n",
        " {u'href': u'https://gdata.youtube.com/feeds/users/twusergroup/inbox',\n",
        "  u'rel': u'http://gdata.youtube.com/schemas/2007#user.inbox'},\n",
        " {u'href': u'https://gdata.youtube.com/feeds/users/twusergroup/playlists',\n",
        "  u'rel': u'http://gdata.youtube.com/schemas/2007#user.playlists'},\n",
        " {u'countHint': 237,\n",
        "  u'href': u'https://gdata.youtube.com/feeds/users/twusergroup/uploads',\n",
        "  u'rel': u'http://gdata.youtube.com/schemas/2007#user.uploads'},\n",
        " {u'href': u'https://gdata.youtube.com/feeds/api/users/twusergroup/newsubscriptionvideos',\n",
        "  u'rel': u'http://gdata.youtube.com/schemas/2007#user.newsubscriptionvideos'}]"
       ]
      }
     ],
     "prompt_number": 5
    },
    {
     "cell_type": "code",
     "collapsed": false,
     "input": [],
     "language": "python",
     "metadata": {},
     "outputs": [],
     "prompt_number": 5
    },
    {
     "cell_type": "code",
     "collapsed": false,
     "input": [],
     "language": "python",
     "metadata": {},
     "outputs": [],
     "prompt_number": 5
    },
    {
     "cell_type": "code",
     "collapsed": false,
     "input": [],
     "language": "python",
     "metadata": {},
     "outputs": [],
     "prompt_number": 5
    },
    {
     "cell_type": "code",
     "collapsed": false,
     "input": [],
     "language": "python",
     "metadata": {},
     "outputs": [],
     "prompt_number": 5
    },
    {
     "cell_type": "code",
     "collapsed": false,
     "input": [],
     "language": "python",
     "metadata": {},
     "outputs": [],
     "prompt_number": 5
    },
    {
     "cell_type": "code",
     "collapsed": false,
     "input": [
      "\n",
      "def summary_one_upload_data_entry(one_upload_data_entry):\n",
      "    return {\"ytid\":one_upload_data_entry[\"id\"][\"$t\"].split(\"/\")[-1],\n",
      "            \"title\":one_upload_data_entry[\"title\"][\"$t\"],\n",
      "            \"categories\":one_upload_data_entry[\"category\"],\n",
      "            \"author\":one_upload_data_entry[\"author\"][0][\"name\"][\"$t\"],\n",
      "            \"description\":one_upload_data_entry[\"media$group\"][\"media$description\"][\"$t\"],\n",
      "            }\n",
      "\n",
      "\n",
      "\n",
      "class YoutubeChannelOpenData(object):\n",
      "    def __init__(self, channel_id, datatype=\"json\"):\n",
      "        \n",
      "        assert datatype in [\"xml\", \"json\"], 'datatype must in [\"xml\", \"json\"]'\n",
      "        \n",
      "        self.channel_id = channel_id\n",
      "        self.datatype = datatype\n",
      "        \n",
      "    \n",
      "    def _get_data(self, datafeed_url):\n",
      "        if self.datatype == \"json\":\n",
      "            return json.loads(requests.get(datafeed_url, params={\"alt\":\"json\"}).text)\n",
      "        else:\n",
      "            return requests.get(datafeed_url).text\n",
      "            \n",
      "    \n",
      "    @property\n",
      "    def base_url(self):\n",
      "        return \"https://gdata.youtube.com/feeds/users/{channel_id}\".format(channel_id=self.channel_id)\n",
      "    \n",
      "    \n",
      "    @property\n",
      "    def playlist_url(self):\n",
      "        return \"https://gdata.youtube.com/feeds/users/{channel_id}/playlists/\".format(channel_id=self.channel_id)\n",
      "    \n",
      "    \n",
      "    @property\n",
      "    def uploads_url(self):\n",
      "        return \"https://gdata.youtube.com/feeds/users/{channel_id}/uploads/\".format(channel_id=self.channel_id)\n",
      "\n",
      "    \n",
      "    def get_all_uploads(self, entry_parser=summary_one_upload_data_entry):\n",
      "        all_upload_data_list = []\n",
      "        \n",
      "        next_page_list = [self.uploads_url]\n",
      "        print \"next_page_list = \",next_page_list\n",
      "        \n",
      "        while len(next_page_list) > 0:\n",
      "\n",
      "            upload_data = self._get_data(next_page_list[0])\n",
      "            \n",
      "            all_upload_data_list.extend(map(entry_parser, upload_data[\"feed\"][\"entry\"]))\n",
      "            next_page_list = [xx[\"href\"] for xx in upload_data[\"feed\"][\"link\"] if xx[\"rel\"] == \"next\"]\n",
      "            print \"next_page_list = \",next_page_list\n",
      "            \n",
      "        return all_upload_data_list\n",
      "            \n",
      "            \n",
      "        \n",
      "        \n",
      "    \n",
      "    "
     ],
     "language": "python",
     "metadata": {},
     "outputs": [],
     "prompt_number": 28
    },
    {
     "cell_type": "code",
     "collapsed": false,
     "input": [],
     "language": "python",
     "metadata": {},
     "outputs": []
    },
    {
     "cell_type": "code",
     "collapsed": false,
     "input": [
      "test= [] "
     ],
     "language": "python",
     "metadata": {},
     "outputs": [],
     "prompt_number": 27
    },
    {
     "cell_type": "code",
     "collapsed": false,
     "input": [],
     "language": "python",
     "metadata": {},
     "outputs": [],
     "prompt_number": 27
    },
    {
     "cell_type": "code",
     "collapsed": false,
     "input": [
      "yt_coscup = YoutubeChannelOpenData(\"thecoscup\")"
     ],
     "language": "python",
     "metadata": {},
     "outputs": [],
     "prompt_number": 29
    },
    {
     "cell_type": "code",
     "collapsed": false,
     "input": [
      "test = yt_coscup.get_all_uploads()"
     ],
     "language": "python",
     "metadata": {},
     "outputs": [
      {
       "output_type": "stream",
       "stream": "stdout",
       "text": [
        "next_page_list =  ['https://gdata.youtube.com/feeds/users/thecoscup/uploads/']\n",
        "next_page_list = "
       ]
      },
      {
       "output_type": "stream",
       "stream": "stdout",
       "text": [
        " [u'https://gdata.youtube.com/feeds/users/thecoscup/uploads?alt=json&start-index=26&max-results=25']\n",
        "next_page_list = "
       ]
      },
      {
       "output_type": "stream",
       "stream": "stdout",
       "text": [
        " [u'https://gdata.youtube.com/feeds/users/thecoscup/uploads?alt=json&start-index=51&max-results=25']\n",
        "next_page_list = "
       ]
      },
      {
       "output_type": "stream",
       "stream": "stdout",
       "text": [
        " [u'https://gdata.youtube.com/feeds/users/thecoscup/uploads?alt=json&start-index=76&max-results=25']\n",
        "next_page_list = "
       ]
      },
      {
       "output_type": "stream",
       "stream": "stdout",
       "text": [
        " [u'https://gdata.youtube.com/feeds/users/thecoscup/uploads?alt=json&start-index=101&max-results=25']\n",
        "next_page_list = "
       ]
      },
      {
       "output_type": "stream",
       "stream": "stdout",
       "text": [
        " [u'https://gdata.youtube.com/feeds/users/thecoscup/uploads?alt=json&start-index=126&max-results=25']\n",
        "next_page_list = "
       ]
      },
      {
       "output_type": "stream",
       "stream": "stdout",
       "text": [
        " [u'https://gdata.youtube.com/feeds/users/thecoscup/uploads?alt=json&start-index=151&max-results=25']\n",
        "next_page_list = "
       ]
      },
      {
       "output_type": "stream",
       "stream": "stdout",
       "text": [
        " [u'https://gdata.youtube.com/feeds/users/thecoscup/uploads?alt=json&start-index=176&max-results=25']\n",
        "next_page_list = "
       ]
      },
      {
       "output_type": "stream",
       "stream": "stdout",
       "text": [
        " [u'https://gdata.youtube.com/feeds/users/thecoscup/uploads?alt=json&start-index=201&max-results=25']\n",
        "next_page_list = "
       ]
      },
      {
       "output_type": "stream",
       "stream": "stdout",
       "text": [
        " [u'https://gdata.youtube.com/feeds/users/thecoscup/uploads?alt=json&start-index=226&max-results=25']\n",
        "next_page_list = "
       ]
      },
      {
       "output_type": "stream",
       "stream": "stdout",
       "text": [
        " [u'https://gdata.youtube.com/feeds/users/thecoscup/uploads?alt=json&start-index=251&max-results=25']\n",
        "next_page_list = "
       ]
      },
      {
       "output_type": "stream",
       "stream": "stdout",
       "text": [
        " [u'https://gdata.youtube.com/feeds/users/thecoscup/uploads?alt=json&start-index=276&max-results=25']\n",
        "next_page_list = "
       ]
      },
      {
       "output_type": "stream",
       "stream": "stdout",
       "text": [
        " [u'https://gdata.youtube.com/feeds/users/thecoscup/uploads?alt=json&start-index=301&max-results=25']\n",
        "next_page_list = "
       ]
      },
      {
       "output_type": "stream",
       "stream": "stdout",
       "text": [
        " [u'https://gdata.youtube.com/feeds/users/thecoscup/uploads?alt=json&start-index=326&max-results=25']\n",
        "next_page_list = "
       ]
      },
      {
       "output_type": "stream",
       "stream": "stdout",
       "text": [
        " [u'https://gdata.youtube.com/feeds/users/thecoscup/uploads?alt=json&start-index=351&max-results=25']\n",
        "next_page_list = "
       ]
      },
      {
       "output_type": "stream",
       "stream": "stdout",
       "text": [
        " [u'https://gdata.youtube.com/feeds/users/thecoscup/uploads?alt=json&start-index=376&max-results=25']\n",
        "next_page_list = "
       ]
      },
      {
       "output_type": "stream",
       "stream": "stdout",
       "text": [
        " []\n"
       ]
      }
     ],
     "prompt_number": 30
    },
    {
     "cell_type": "code",
     "collapsed": false,
     "input": [
      "len(test)"
     ],
     "language": "python",
     "metadata": {},
     "outputs": [
      {
       "metadata": {},
       "output_type": "pyout",
       "prompt_number": 32,
       "text": [
        "399"
       ]
      }
     ],
     "prompt_number": 32
    },
    {
     "cell_type": "code",
     "collapsed": false,
     "input": [],
     "language": "python",
     "metadata": {},
     "outputs": []
    },
    {
     "cell_type": "code",
     "collapsed": false,
     "input": [
      "yt_TWR = YoutubeChannelOpenData(\"TWuseRGroup\")"
     ],
     "language": "python",
     "metadata": {},
     "outputs": [],
     "prompt_number": 33
    },
    {
     "cell_type": "code",
     "collapsed": false,
     "input": [
      "test2 = yt_TWR.get_all_uploads()"
     ],
     "language": "python",
     "metadata": {},
     "outputs": [
      {
       "output_type": "stream",
       "stream": "stdout",
       "text": [
        "next_page_list =  ['https://gdata.youtube.com/feeds/users/TWuseRGroup/uploads/']\n",
        "next_page_list = "
       ]
      },
      {
       "output_type": "stream",
       "stream": "stdout",
       "text": [
        " [u'https://gdata.youtube.com/feeds/users/TWuseRGroup/uploads?alt=json&start-index=26&max-results=25']\n",
        "next_page_list = "
       ]
      },
      {
       "output_type": "stream",
       "stream": "stdout",
       "text": [
        " [u'https://gdata.youtube.com/feeds/users/TWuseRGroup/uploads?alt=json&start-index=51&max-results=25']\n",
        "next_page_list = "
       ]
      },
      {
       "output_type": "stream",
       "stream": "stdout",
       "text": [
        " [u'https://gdata.youtube.com/feeds/users/TWuseRGroup/uploads?alt=json&start-index=76&max-results=25']\n",
        "next_page_list = "
       ]
      },
      {
       "output_type": "stream",
       "stream": "stdout",
       "text": [
        " [u'https://gdata.youtube.com/feeds/users/TWuseRGroup/uploads?alt=json&start-index=101&max-results=25']\n",
        "next_page_list = "
       ]
      },
      {
       "output_type": "stream",
       "stream": "stdout",
       "text": [
        " [u'https://gdata.youtube.com/feeds/users/TWuseRGroup/uploads?alt=json&start-index=126&max-results=25']\n",
        "next_page_list = "
       ]
      },
      {
       "output_type": "stream",
       "stream": "stdout",
       "text": [
        " [u'https://gdata.youtube.com/feeds/users/TWuseRGroup/uploads?alt=json&start-index=151&max-results=25']\n",
        "next_page_list = "
       ]
      },
      {
       "output_type": "stream",
       "stream": "stdout",
       "text": [
        " [u'https://gdata.youtube.com/feeds/users/TWuseRGroup/uploads?alt=json&start-index=176&max-results=25']\n",
        "next_page_list = "
       ]
      },
      {
       "output_type": "stream",
       "stream": "stdout",
       "text": [
        " [u'https://gdata.youtube.com/feeds/users/TWuseRGroup/uploads?alt=json&start-index=201&max-results=25']\n",
        "next_page_list = "
       ]
      },
      {
       "output_type": "stream",
       "stream": "stdout",
       "text": [
        " [u'https://gdata.youtube.com/feeds/users/TWuseRGroup/uploads?alt=json&start-index=226&max-results=25']\n",
        "next_page_list = "
       ]
      },
      {
       "output_type": "stream",
       "stream": "stdout",
       "text": [
        " []\n"
       ]
      }
     ],
     "prompt_number": 34
    },
    {
     "cell_type": "code",
     "collapsed": false,
     "input": [
      "len(test2)"
     ],
     "language": "python",
     "metadata": {},
     "outputs": [
      {
       "metadata": {},
       "output_type": "pyout",
       "prompt_number": 35,
       "text": [
        "237"
       ]
      }
     ],
     "prompt_number": 35
    },
    {
     "cell_type": "code",
     "collapsed": false,
     "input": [],
     "language": "python",
     "metadata": {},
     "outputs": []
    },
    {
     "cell_type": "code",
     "collapsed": false,
     "input": [],
     "language": "python",
     "metadata": {},
     "outputs": []
    },
    {
     "cell_type": "code",
     "collapsed": false,
     "input": [
      "res = requests.get(yt_coscup.uploads_url)"
     ],
     "language": "python",
     "metadata": {},
     "outputs": [],
     "prompt_number": 8
    },
    {
     "cell_type": "code",
     "collapsed": false,
     "input": [
      "upload_data = yt_coscup._get_data(yt_coscup.uploads_url)"
     ],
     "language": "python",
     "metadata": {},
     "outputs": [],
     "prompt_number": 9
    },
    {
     "cell_type": "code",
     "collapsed": false,
     "input": [
      "upload_data.keys()"
     ],
     "language": "python",
     "metadata": {},
     "outputs": [
      {
       "metadata": {},
       "output_type": "pyout",
       "prompt_number": 10,
       "text": [
        "[u'feed', u'version', u'encoding']"
       ]
      }
     ],
     "prompt_number": 10
    },
    {
     "cell_type": "code",
     "collapsed": false,
     "input": [
      "print upload_data[\"feed\"][\"entry\"][0].keys()\n",
      "one_upload_data_entry = upload_data[\"feed\"][\"entry\"][0]\n",
      "one_upload_data_entry"
     ],
     "language": "python",
     "metadata": {},
     "outputs": [
      {
       "output_type": "stream",
       "stream": "stdout",
       "text": [
        "[u'category', u'updated', u'yt$threed', u'gd$comments', u'title', u'yt$hd', u'gd$rating', u'media$group', u'author', u'yt$statistics', u'content', u'link', u'published', u'id']\n"
       ]
      },
      {
       "metadata": {},
       "output_type": "pyout",
       "prompt_number": 17,
       "text": [
        "{u'author': [{u'name': {u'$t': u'COSCUP \\u958b\\u6e90\\u4eba\\u5e74\\u6703'},\n",
        "   u'uri': {u'$t': u'https://gdata.youtube.com/feeds/users/thecoscup'}}],\n",
        " u'category': [{u'scheme': u'http://schemas.google.com/g/2005#kind',\n",
        "   u'term': u'http://gdata.youtube.com/schemas/2007#video'},\n",
        "  {u'label': u'Travel & Events',\n",
        "   u'scheme': u'http://gdata.youtube.com/schemas/2007/categories.cat',\n",
        "   u'term': u'Travel'}],\n",
        " u'content': {u'$t': u'<div style=\"color: #000000;font-family: Arial, Helvetica, sans-serif;     font-size:12px; font-size: 12px; width: 555px;\">\\n<table cellspacing=\"0\" cellpadding=\"0\" border=\"0\"><tbody><tr><td width=\"140\" valign=\"top\" rowspan=\"2\"><div style=\"border: 1px solid #999999; margin: 0px 10px 5px 0px;\"><a href=\"https://www.youtube.com/watch?v=FhGK7nU-GTc&amp;feature=youtube_gdata\"><img alt=\"\" src=\"https://i.ytimg.com/vi/FhGK7nU-GTc/0.jpg\"></a></div></td>\\n<td width=\"256\" valign=\"top\"><div style=\"font-size: 12px; font-weight: bold;\"><a style=\"font-size: 15px; font-weight: bold;                  font-decoration: none;\" href=\"https://www.youtube.com/watch?v=FhGK7nU-GTc&amp;feature=youtube_gdata\">[COSCUP 2014] &#35352;&#37636;&#32068;&#21729;&#30340;&#19968;&#22825;</a>\\n<br></div>\\n<div style=\"font-size: 12px; margin: 3px 0px;\"><span>60X&#65292;&#36895;&#24230;&#24456;&#24555;&#65292;&#23481;&#26131;&#38957;&#26248;&#32773;&#35531;&#23567;&#24515;&#35264;&#30475;&#65292;&#20063;&#21487;&#20197;&#20351;&#29992; YouTube &#30340;&#24930;&#36895;&#25773;&#25918;&#21151;&#33021;&#12290;</span></div></td>\\n<td style=\"font-size: 11px; line-height: 1.4em; padding-left: 20px;             padding-top: 1px;\" width=\"146\" valign=\"top\"><div><span style=\"color: #666666; font-size: 11px;\">From:</span>\\n<a href=\"https://www.youtube.com/channel/UCU8s-nDqbsKnitUNaVJ2Xvg\">COSCUP &#38283;&#28304;&#20154;&#24180;&#26371;</a></div>\\n<div><span style=\"color: #666666; font-size: 11px;\">Views:</span>\\n602</div>\\n<div style=\"white-space: nowrap;text-align: left\"><img style=\"border: 0px none; margin: 0px; padding: 0px;                    vertical-align: middle; font-size: 11px;\" align=\"top\" alt=\"\" src=\"https://gdata.youtube.com/static/images/icn_star_full_11x11.gif\"> <img style=\"border: 0px none; margin: 0px; padding: 0px;                    vertical-align: middle; font-size: 11px;\" align=\"top\" alt=\"\" src=\"https://gdata.youtube.com/static/images/icn_star_full_11x11.gif\"> <img style=\"border: 0px none; margin: 0px; padding: 0px;                    vertical-align: middle; font-size: 11px;\" align=\"top\" alt=\"\" src=\"https://gdata.youtube.com/static/images/icn_star_full_11x11.gif\"> <img style=\"border: 0px none; margin: 0px; padding: 0px;                    vertical-align: middle; font-size: 11px;\" align=\"top\" alt=\"\" src=\"https://gdata.youtube.com/static/images/icn_star_full_11x11.gif\"> <img style=\"border: 0px none; margin: 0px; padding: 0px;                    vertical-align: middle; font-size: 11px;\" align=\"top\" alt=\"\" src=\"https://gdata.youtube.com/static/images/icn_star_full_11x11.gif\"></div>\\n<div style=\"font-size: 11px;\">10\\n<span style=\"color: #666666; font-size: 11px;\">ratings</span></div></td></tr>\\n<tr><td><span style=\"color: #666666; font-size: 11px;\">Time:</span>\\n<span style=\"color: #000000; font-size: 11px; font-weight: bold;\">10:46</span></td>\\n<td style=\"font-size: 11px; padding-left: 20px;\"><span style=\"color: #666666; font-size: 11px;\">More in</span>\\n<a href=\"https://www.youtube.com/videos?c=19\">Travel &amp; Events</a></td></tr></tbody></table></div>',\n",
        "  u'type': u'html'},\n",
        " u'gd$comments': {u'gd$feedLink': {u'countHint': 0,\n",
        "   u'href': u'https://gdata.youtube.com/feeds/videos/FhGK7nU-GTc/comments',\n",
        "   u'rel': u'http://gdata.youtube.com/schemas/2007#comments'}},\n",
        " u'gd$rating': {u'average': 5.0,\n",
        "  u'max': 5,\n",
        "  u'min': 1,\n",
        "  u'numRaters': 10,\n",
        "  u'rel': u'http://schemas.google.com/g/2005#overall'},\n",
        " u'id': {u'$t': u'http://gdata.youtube.com/feeds/videos/FhGK7nU-GTc'},\n",
        " u'link': [{u'href': u'https://www.youtube.com/watch?v=FhGK7nU-GTc&feature=youtube_gdata',\n",
        "   u'rel': u'alternate',\n",
        "   u'type': u'text/html'},\n",
        "  {u'href': u'https://gdata.youtube.com/feeds/videos/FhGK7nU-GTc/related',\n",
        "   u'rel': u'http://gdata.youtube.com/schemas/2007#video.related',\n",
        "   u'type': u'application/atom+xml'},\n",
        "  {u'href': u'https://m.youtube.com/details?v=FhGK7nU-GTc',\n",
        "   u'rel': u'http://gdata.youtube.com/schemas/2007#mobile',\n",
        "   u'type': u'text/html'},\n",
        "  {u'href': u'https://gdata.youtube.com/feeds/users/thecoscup/uploads/FhGK7nU-GTc',\n",
        "   u'rel': u'self',\n",
        "   u'type': u'application/atom+xml'}],\n",
        " u'media$group': {u'media$category': [{u'$t': u'Travel',\n",
        "    u'label': u'Travel & Events',\n",
        "    u'scheme': u'http://gdata.youtube.com/schemas/2007/categories.cat'}],\n",
        "  u'media$content': [{u'duration': 646,\n",
        "    u'expression': u'full',\n",
        "    u'isDefault': u'true',\n",
        "    u'medium': u'video',\n",
        "    u'type': u'application/x-shockwave-flash',\n",
        "    u'url': u'https://www.youtube.com/v/FhGK7nU-GTc?version=3&f=user_uploads&app=youtube_gdata',\n",
        "    u'yt$format': 5},\n",
        "   {u'duration': 646,\n",
        "    u'expression': u'full',\n",
        "    u'medium': u'video',\n",
        "    u'type': u'video/3gpp',\n",
        "    u'url': u'rtsp://r1---sn-a5m7zu7l.c.youtube.com/CigLENy73wIaHwk3GT517ooRFhMYDSANFEgGUgx1c2VyX3VwbG9hZHMM/0/0/0/video.3gp',\n",
        "    u'yt$format': 1},\n",
        "   {u'duration': 646,\n",
        "    u'expression': u'full',\n",
        "    u'medium': u'video',\n",
        "    u'type': u'video/3gpp',\n",
        "    u'url': u'rtsp://r1---sn-a5m7zu7l.c.youtube.com/CigLENy73wIaHwk3GT517ooRFhMYESARFEgGUgx1c2VyX3VwbG9hZHMM/0/0/0/video.3gp',\n",
        "    u'yt$format': 6}],\n",
        "  u'media$description': {u'$t': u'60X\\uff0c\\u901f\\u5ea6\\u5f88\\u5feb\\uff0c\\u5bb9\\u6613\\u982d\\u6688\\u8005\\u8acb\\u5c0f\\u5fc3\\u89c0\\u770b\\uff0c\\u4e5f\\u53ef\\u4ee5\\u4f7f\\u7528 YouTube \\u7684\\u6162\\u901f\\u64ad\\u653e\\u529f\\u80fd\\u3002',\n",
        "   u'type': u'plain'},\n",
        "  u'media$keywords': {},\n",
        "  u'media$player': [{u'url': u'https://www.youtube.com/watch?v=FhGK7nU-GTc&feature=youtube_gdata_player'}],\n",
        "  u'media$thumbnail': [{u'height': 360,\n",
        "    u'time': u'00:05:23',\n",
        "    u'url': u'https://i.ytimg.com/vi/FhGK7nU-GTc/0.jpg',\n",
        "    u'width': 480},\n",
        "   {u'height': 90,\n",
        "    u'time': u'00:02:41.500',\n",
        "    u'url': u'https://i.ytimg.com/vi/FhGK7nU-GTc/1.jpg',\n",
        "    u'width': 120},\n",
        "   {u'height': 90,\n",
        "    u'time': u'00:05:23',\n",
        "    u'url': u'https://i.ytimg.com/vi/FhGK7nU-GTc/2.jpg',\n",
        "    u'width': 120},\n",
        "   {u'height': 90,\n",
        "    u'time': u'00:08:04.500',\n",
        "    u'url': u'https://i.ytimg.com/vi/FhGK7nU-GTc/3.jpg',\n",
        "    u'width': 120}],\n",
        "  u'media$title': {u'$t': u'[COSCUP 2014] \\u8a18\\u9304\\u7d44\\u54e1\\u7684\\u4e00\\u5929',\n",
        "   u'type': u'plain'},\n",
        "  u'yt$duration': {u'seconds': u'646'}},\n",
        " u'published': {u'$t': u'2014-07-22T14:24:44.000Z'},\n",
        " u'title': {u'$t': u'[COSCUP 2014] \\u8a18\\u9304\\u7d44\\u54e1\\u7684\\u4e00\\u5929',\n",
        "  u'type': u'text'},\n",
        " u'updated': {u'$t': u'2014-07-25T05:07:19.000Z'},\n",
        " u'yt$hd': {},\n",
        " u'yt$statistics': {u'favoriteCount': u'0', u'viewCount': u'602'},\n",
        " u'yt$threed': {u'source': u'converted'}}"
       ]
      }
     ],
     "prompt_number": 17
    },
    {
     "cell_type": "code",
     "collapsed": false,
     "input": [
      "print upload_data[\"feed\"][\"entry\"][1][\"id\"]\n",
      "print upload_data[\"feed\"][\"entry\"][1][\"title\"]\n",
      "print upload_data[\"feed\"][\"entry\"][1][\"category\"]\n",
      "print upload_data[\"feed\"][\"entry\"][1][\"author\"]\n",
      "print upload_data[\"feed\"][\"entry\"][1][\"media$group\"][\"media$description\"][\"$t\"]\n",
      "\n",
      "\n",
      "def summary_one_upload_data_entry(one_upload_data_entry):\n",
      "    return {\"ytid\":one_upload_data_entry[\"id\"][\"$t\"].split(\"/\")[-1],\n",
      "            \"title\":one_upload_data_entry[\"title\"][\"$t\"],\n",
      "            \"categories\":one_upload_data_entry[\"category\"],\n",
      "            \"author\":one_upload_data_entry[\"author\"][0][\"name\"][\"$t\"],\n",
      "            \"description\":one_upload_data_entry[\"media$group\"][\"media$description\"][\"$t\"],\n",
      "            }\n",
      "\n",
      "summary_one_upload_data_entry(one_upload_data_entry)\n"
     ],
     "language": "python",
     "metadata": {},
     "outputs": [
      {
       "output_type": "stream",
       "stream": "stdout",
       "text": [
        "{u'$t': u'http://gdata.youtube.com/feeds/videos/lxbq0VDF4sg'}\n",
        "{u'$t': u'[COSCUP 2013] \\u958b\\u5e55\\u5f0f', u'type': u'text'}\n",
        "[{u'term': u'http://gdata.youtube.com/schemas/2007#video', u'scheme': u'http://schemas.google.com/g/2005#kind'}, {u'term': u'Nonprofit', u'scheme': u'http://gdata.youtube.com/schemas/2007/categories.cat', u'label': u'Nonprofits & Activism'}]\n",
        "[{u'name': {u'$t': u'COSCUP \\u958b\\u6e90\\u4eba\\u5e74\\u6703'}, u'uri': {u'$t': u'https://gdata.youtube.com/feeds/users/thecoscup'}}]\n",
        "\n"
       ]
      },
      {
       "metadata": {},
       "output_type": "pyout",
       "prompt_number": 23,
       "text": [
        "{'author': u'COSCUP \\u958b\\u6e90\\u4eba\\u5e74\\u6703',\n",
        " 'categories': [{u'scheme': u'http://schemas.google.com/g/2005#kind',\n",
        "   u'term': u'http://gdata.youtube.com/schemas/2007#video'},\n",
        "  {u'label': u'Travel & Events',\n",
        "   u'scheme': u'http://gdata.youtube.com/schemas/2007/categories.cat',\n",
        "   u'term': u'Travel'}],\n",
        " 'description': u'60X\\uff0c\\u901f\\u5ea6\\u5f88\\u5feb\\uff0c\\u5bb9\\u6613\\u982d\\u6688\\u8005\\u8acb\\u5c0f\\u5fc3\\u89c0\\u770b\\uff0c\\u4e5f\\u53ef\\u4ee5\\u4f7f\\u7528 YouTube \\u7684\\u6162\\u901f\\u64ad\\u653e\\u529f\\u80fd\\u3002',\n",
        " 'title': u'[COSCUP 2014] \\u8a18\\u9304\\u7d44\\u54e1\\u7684\\u4e00\\u5929',\n",
        " 'ytid': u'FhGK7nU-GTc'}"
       ]
      }
     ],
     "prompt_number": 23
    },
    {
     "cell_type": "code",
     "collapsed": false,
     "input": [
      "[xx[\"href\"] for xx in upload_data[\"feed\"][\"link\"] if xx[\"rel\"] == \"next\"]"
     ],
     "language": "python",
     "metadata": {},
     "outputs": [
      {
       "metadata": {},
       "output_type": "pyout",
       "prompt_number": 13,
       "text": [
        "[u'https://gdata.youtube.com/feeds/users/thecoscup/uploads?alt=json&start-index=26&max-results=25']"
       ]
      }
     ],
     "prompt_number": 13
    },
    {
     "cell_type": "code",
     "collapsed": false,
     "input": [
      "\n",
      "print upload_data[\"feed\"][\"link\"][4]\n",
      "print upload_data[\"feed\"][\"link\"][5][\"href\"]"
     ],
     "language": "python",
     "metadata": {},
     "outputs": [
      {
       "output_type": "stream",
       "stream": "stdout",
       "text": [
        "{u'href': u'https://gdata.youtube.com/feeds/users/thecoscup/uploads?alt=json&start-index=1&max-results=25', u'type': u'application/atom+xml', u'rel': u'self'}\n",
        "https://gdata.youtube.com/feeds/users/thecoscup/uploads?alt=json&start-index=26&max-results=25\n"
       ]
      }
     ],
     "prompt_number": 14
    },
    {
     "cell_type": "code",
     "collapsed": false,
     "input": [],
     "language": "python",
     "metadata": {},
     "outputs": []
    },
    {
     "cell_type": "code",
     "collapsed": false,
     "input": [
      "data = yt_coscup._get_data(upload_data[\"feed\"][\"link\"][5][\"href\"])"
     ],
     "language": "python",
     "metadata": {},
     "outputs": [],
     "prompt_number": 18
    },
    {
     "cell_type": "code",
     "collapsed": false,
     "input": [
      "data[\"feed\"][\"link\"]"
     ],
     "language": "python",
     "metadata": {},
     "outputs": [
      {
       "metadata": {},
       "output_type": "pyout",
       "prompt_number": 22,
       "text": [
        "[{u'href': u'https://gdata.youtube.com/feeds/users/thecoscup',\n",
        "  u'rel': u'related',\n",
        "  u'type': u'application/atom+xml'},\n",
        " {u'href': u'https://www.youtube.com/channel/UCU8s-nDqbsKnitUNaVJ2Xvg/videos',\n",
        "  u'rel': u'alternate',\n",
        "  u'type': u'text/html'},\n",
        " {u'href': u'https://gdata.youtube.com/feeds/users/thecoscup/uploads',\n",
        "  u'rel': u'http://schemas.google.com/g/2005#feed',\n",
        "  u'type': u'application/atom+xml'},\n",
        " {u'href': u'https://gdata.youtube.com/feeds/users/thecoscup/uploads/batch',\n",
        "  u'rel': u'http://schemas.google.com/g/2005#batch',\n",
        "  u'type': u'application/atom+xml'},\n",
        " {u'href': u'https://gdata.youtube.com/feeds/users/thecoscup/uploads?alt=json&start-index=26&max-results=25',\n",
        "  u'rel': u'self',\n",
        "  u'type': u'application/atom+xml'},\n",
        " {u'href': u'https://gdata.youtube.com/feeds/users/thecoscup/uploads?alt=json&start-index=1&max-results=25',\n",
        "  u'rel': u'previous',\n",
        "  u'type': u'application/atom+xml'},\n",
        " {u'href': u'https://gdata.youtube.com/feeds/users/thecoscup/uploads?alt=json&start-index=51&max-results=25',\n",
        "  u'rel': u'next',\n",
        "  u'type': u'application/atom+xml'}]"
       ]
      }
     ],
     "prompt_number": 22
    },
    {
     "cell_type": "code",
     "collapsed": false,
     "input": [
      "next_page_list = [xx[\"href\"] for xx in data[\"feed\"][\"link\"] if xx[\"rel\"] == \"next\"]"
     ],
     "language": "python",
     "metadata": {},
     "outputs": [],
     "prompt_number": 71
    },
    {
     "cell_type": "code",
     "collapsed": false,
     "input": [
      "next_page_list"
     ],
     "language": "python",
     "metadata": {},
     "outputs": [
      {
       "metadata": {},
       "output_type": "pyout",
       "prompt_number": 72,
       "text": [
        "[]"
       ]
      }
     ],
     "prompt_number": 72
    },
    {
     "cell_type": "code",
     "collapsed": false,
     "input": [
      "data = yt_coscup._get_data(next_page_list[0])"
     ],
     "language": "python",
     "metadata": {},
     "outputs": [
      {
       "ename": "IndexError",
       "evalue": "list index out of range",
       "output_type": "pyerr",
       "traceback": [
        "\u001b[1;31m---------------------------------------------------------------------------\u001b[0m\n\u001b[1;31mIndexError\u001b[0m                                Traceback (most recent call last)",
        "\u001b[1;32m<ipython-input-73-e248bc3cea00>\u001b[0m in \u001b[0;36m<module>\u001b[1;34m()\u001b[0m\n\u001b[1;32m----> 1\u001b[1;33m \u001b[0mdata\u001b[0m \u001b[1;33m=\u001b[0m \u001b[0myt_coscup\u001b[0m\u001b[1;33m.\u001b[0m\u001b[0m_get_data\u001b[0m\u001b[1;33m(\u001b[0m\u001b[0mnext_page_list\u001b[0m\u001b[1;33m[\u001b[0m\u001b[1;36m0\u001b[0m\u001b[1;33m]\u001b[0m\u001b[1;33m)\u001b[0m\u001b[1;33m\u001b[0m\u001b[0m\n\u001b[0m",
        "\u001b[1;31mIndexError\u001b[0m: list index out of range"
       ]
      }
     ],
     "prompt_number": 73
    },
    {
     "cell_type": "code",
     "collapsed": false,
     "input": [],
     "language": "python",
     "metadata": {},
     "outputs": []
    },
    {
     "cell_type": "code",
     "collapsed": false,
     "input": [],
     "language": "python",
     "metadata": {},
     "outputs": []
    },
    {
     "cell_type": "code",
     "collapsed": false,
     "input": [
      "data = json.loads(r.text)"
     ],
     "language": "python",
     "metadata": {},
     "outputs": [],
     "prompt_number": 43
    },
    {
     "cell_type": "code",
     "collapsed": false,
     "input": [
      "data"
     ],
     "language": "python",
     "metadata": {},
     "outputs": [
      {
       "metadata": {},
       "output_type": "pyout",
       "prompt_number": 44,
       "text": [
        "{u'encoding': u'UTF-8',\n",
        " u'entry': {u'author': [{u'name': {u'$t': u'COSCUP \\u958b\\u6e90\\u4eba\\u5e74\\u6703'},\n",
        "    u'uri': {u'$t': u'https://gdata.youtube.com/feeds/users/thecoscup'}}],\n",
        "  u'category': [{u'scheme': u'http://schemas.google.com/g/2005#kind',\n",
        "    u'term': u'http://gdata.youtube.com/schemas/2007#userProfile'}],\n",
        "  u'content': {u'$t': u'The official YouTube channel of the COSCUP conference (http://coscup.org/).',\n",
        "   u'type': u'text'},\n",
        "  u'gd$feedLink': [{u'countHint': 0,\n",
        "    u'href': u'https://gdata.youtube.com/feeds/users/thecoscup/subscriptions',\n",
        "    u'rel': u'http://gdata.youtube.com/schemas/2007#user.subscriptions'},\n",
        "   {u'countHint': 0,\n",
        "    u'href': u'https://gdata.youtube.com/feeds/users/thecoscup/contacts',\n",
        "    u'rel': u'http://gdata.youtube.com/schemas/2007#user.contacts'},\n",
        "   {u'href': u'https://gdata.youtube.com/feeds/users/thecoscup/inbox',\n",
        "    u'rel': u'http://gdata.youtube.com/schemas/2007#user.inbox'},\n",
        "   {u'href': u'https://gdata.youtube.com/feeds/users/thecoscup/playlists',\n",
        "    u'rel': u'http://gdata.youtube.com/schemas/2007#user.playlists'},\n",
        "   {u'countHint': 399,\n",
        "    u'href': u'https://gdata.youtube.com/feeds/users/thecoscup/uploads',\n",
        "    u'rel': u'http://gdata.youtube.com/schemas/2007#user.uploads'},\n",
        "   {u'href': u'https://gdata.youtube.com/feeds/api/users/thecoscup/newsubscriptionvideos',\n",
        "    u'rel': u'http://gdata.youtube.com/schemas/2007#user.newsubscriptionvideos'}],\n",
        "  u'id': {u'$t': u'http://gdata.youtube.com/feeds/users/U8s-nDqbsKnitUNaVJ2Xvg'},\n",
        "  u'link': [{u'href': u'https://www.youtube.com/channel/UCU8s-nDqbsKnitUNaVJ2Xvg',\n",
        "    u'rel': u'alternate',\n",
        "    u'type': u'text/html'},\n",
        "   {u'href': u'https://gdata.youtube.com/feeds/users/U8s-nDqbsKnitUNaVJ2Xvg',\n",
        "    u'rel': u'self',\n",
        "    u'type': u'application/atom+xml'}],\n",
        "  u'media$thumbnail': {u'url': u'https://yt3.ggpht.com/-bTJhaitz7aA/AAAAAAAAAAI/AAAAAAAAAAA/JyUlBt6Y-us/s88-c-k-no/photo.jpg'},\n",
        "  u'published': {u'$t': u'2012-03-26T15:15:15.000Z'},\n",
        "  u'title': {u'$t': u'COSCUP \\u958b\\u6e90\\u4eba\\u5e74\\u6703',\n",
        "   u'type': u'text'},\n",
        "  u'updated': {u'$t': u'2014-09-08T11:57:47.000Z'},\n",
        "  u'xmlns': u'http://www.w3.org/2005/Atom',\n",
        "  u'xmlns$gd': u'http://schemas.google.com/g/2005',\n",
        "  u'xmlns$media': u'http://search.yahoo.com/mrss/',\n",
        "  u'xmlns$yt': u'http://gdata.youtube.com/schemas/2007',\n",
        "  u'yt$googlePlusUserId': {u'$t': u'101434041225212178932'},\n",
        "  u'yt$location': {u'$t': u'TW'},\n",
        "  u'yt$statistics': {u'lastWebAccess': u'1970-01-01T00:00:00.000Z',\n",
        "   u'subscriberCount': u'1221',\n",
        "   u'totalUploadViews': u'73422',\n",
        "   u'videoWatchCount': 0,\n",
        "   u'viewCount': u'0'},\n",
        "  u'yt$username': {u'$t': u'thecoscup'}},\n",
        " u'version': u'1.0'}"
       ]
      }
     ],
     "prompt_number": 44
    },
    {
     "cell_type": "code",
     "collapsed": false,
     "input": [],
     "language": "python",
     "metadata": {},
     "outputs": []
    },
    {
     "cell_type": "code",
     "collapsed": false,
     "input": [],
     "language": "python",
     "metadata": {},
     "outputs": []
    },
    {
     "cell_type": "code",
     "collapsed": false,
     "input": [
      "print data.keys()\n",
      "data_urls = [xx[\"href\"] + \"?alt=json\" for xx in data[\"entry\"][\"gd$feedLink\"]]"
     ],
     "language": "python",
     "metadata": {},
     "outputs": [
      {
       "output_type": "stream",
       "stream": "stdout",
       "text": [
        "[u'entry', u'version', u'encoding']\n"
       ]
      }
     ],
     "prompt_number": 10
    },
    {
     "cell_type": "code",
     "collapsed": false,
     "input": [],
     "language": "python",
     "metadata": {},
     "outputs": []
    },
    {
     "cell_type": "code",
     "collapsed": false,
     "input": [],
     "language": "python",
     "metadata": {},
     "outputs": []
    },
    {
     "cell_type": "code",
     "collapsed": false,
     "input": [
      "data_urls"
     ],
     "language": "python",
     "metadata": {},
     "outputs": [
      {
       "metadata": {},
       "output_type": "pyout",
       "prompt_number": 11,
       "text": [
        "[u'https://gdata.youtube.com/feeds/users/thecoscup/subscriptions?alt=json',\n",
        " u'https://gdata.youtube.com/feeds/users/thecoscup/contacts?alt=json',\n",
        " u'https://gdata.youtube.com/feeds/users/thecoscup/inbox?alt=json',\n",
        " u'https://gdata.youtube.com/feeds/users/thecoscup/playlists?alt=json',\n",
        " u'https://gdata.youtube.com/feeds/users/thecoscup/uploads?alt=json',\n",
        " u'https://gdata.youtube.com/feeds/api/users/thecoscup/newsubscriptionvideos?alt=json']"
       ]
      }
     ],
     "prompt_number": 11
    },
    {
     "cell_type": "code",
     "collapsed": false,
     "input": [
      "data_urls_res = map(requests.get,data_urls)"
     ],
     "language": "python",
     "metadata": {},
     "outputs": [],
     "prompt_number": 12
    },
    {
     "cell_type": "code",
     "collapsed": false,
     "input": [
      "data_urls_res_json = map(lambda xx:json.loads(xx.text) if xx.status_code == 200 else None ,data_urls_res)"
     ],
     "language": "python",
     "metadata": {},
     "outputs": [],
     "prompt_number": 28
    },
    {
     "cell_type": "code",
     "collapsed": false,
     "input": [
      "data_urls_res_json[4][]"
     ],
     "language": "python",
     "metadata": {},
     "outputs": [
      {
       "metadata": {},
       "output_type": "pyout",
       "prompt_number": 35,
       "text": [
        "[u'feed', u'version', u'encoding']"
       ]
      }
     ],
     "prompt_number": 35
    },
    {
     "cell_type": "code",
     "collapsed": false,
     "input": [],
     "language": "python",
     "metadata": {},
     "outputs": []
    }
   ],
   "metadata": {}
  }
 ]
}