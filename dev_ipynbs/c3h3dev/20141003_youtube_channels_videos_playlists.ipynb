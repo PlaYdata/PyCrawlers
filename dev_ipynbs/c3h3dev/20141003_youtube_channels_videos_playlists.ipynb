{
 "metadata": {
  "name": "",
  "signature": "sha256:a558f7c2acc0e39db9785fa26e8be7201b7ed4d9b0e09f9e489252307dc495c0"
 },
 "nbformat": 3,
 "nbformat_minor": 0,
 "worksheets": [
  {
   "cells": [
    {
     "cell_type": "code",
     "collapsed": false,
     "input": [
      "import requests\n",
      "\n",
      "try:\n",
      "    import ujson as json \n",
      "except:\n",
      "    import json"
     ],
     "language": "python",
     "metadata": {},
     "outputs": [],
     "prompt_number": 1
    },
    {
     "cell_type": "code",
     "collapsed": false,
     "input": [
      "test_channel_ids_list = [\"thecoscup\", \"TWuseRGroup\"]"
     ],
     "language": "python",
     "metadata": {},
     "outputs": [],
     "prompt_number": 2
    },
    {
     "cell_type": "code",
     "collapsed": false,
     "input": [],
     "language": "python",
     "metadata": {},
     "outputs": [],
     "prompt_number": 2
    },
    {
     "cell_type": "code",
     "collapsed": false,
     "input": [
      "\n",
      "channel_id = test_channel_ids_list[0]\n",
      "\n",
      "r = requests.get(\"https://gdata.youtube.com/feeds/users/TWuseRGroup\",params={\"alt\":\"json\"})"
     ],
     "language": "python",
     "metadata": {},
     "outputs": [],
     "prompt_number": 3
    },
    {
     "cell_type": "code",
     "collapsed": false,
     "input": [
      "data = json.loads(r.text)"
     ],
     "language": "python",
     "metadata": {},
     "outputs": [],
     "prompt_number": 4
    },
    {
     "cell_type": "code",
     "collapsed": false,
     "input": [
      "print data[\"entry\"][\"author\"][0][\"name\"][\"$t\"]\n",
      "\n",
      "data[\"entry\"][\"gd$feedLink\"]"
     ],
     "language": "python",
     "metadata": {},
     "outputs": [
      {
       "output_type": "stream",
       "stream": "stdout",
       "text": [
        "TW use-R\n"
       ]
      },
      {
       "metadata": {},
       "output_type": "pyout",
       "prompt_number": 5,
       "text": [
        "[{u'countHint': 9,\n",
        "  u'href': u'https://gdata.youtube.com/feeds/users/twusergroup/subscriptions',\n",
        "  u'rel': u'http://gdata.youtube.com/schemas/2007#user.subscriptions'},\n",
        " {u'countHint': 0,\n",
        "  u'href': u'https://gdata.youtube.com/feeds/users/twusergroup/contacts',\n",
        "  u'rel': u'http://gdata.youtube.com/schemas/2007#user.contacts'},\n",
        " {u'href': u'https://gdata.youtube.com/feeds/users/twusergroup/inbox',\n",
        "  u'rel': u'http://gdata.youtube.com/schemas/2007#user.inbox'},\n",
        " {u'href': u'https://gdata.youtube.com/feeds/users/twusergroup/playlists',\n",
        "  u'rel': u'http://gdata.youtube.com/schemas/2007#user.playlists'},\n",
        " {u'countHint': 237,\n",
        "  u'href': u'https://gdata.youtube.com/feeds/users/twusergroup/uploads',\n",
        "  u'rel': u'http://gdata.youtube.com/schemas/2007#user.uploads'},\n",
        " {u'href': u'https://gdata.youtube.com/feeds/api/users/twusergroup/newsubscriptionvideos',\n",
        "  u'rel': u'http://gdata.youtube.com/schemas/2007#user.newsubscriptionvideos'}]"
       ]
      }
     ],
     "prompt_number": 5
    },
    {
     "cell_type": "code",
     "collapsed": false,
     "input": [],
     "language": "python",
     "metadata": {},
     "outputs": [],
     "prompt_number": 5
    },
    {
     "cell_type": "code",
     "collapsed": false,
     "input": [],
     "language": "python",
     "metadata": {},
     "outputs": [],
     "prompt_number": 5
    },
    {
     "cell_type": "code",
     "collapsed": false,
     "input": [],
     "language": "python",
     "metadata": {},
     "outputs": [],
     "prompt_number": 5
    },
    {
     "cell_type": "code",
     "collapsed": false,
     "input": [],
     "language": "python",
     "metadata": {},
     "outputs": [],
     "prompt_number": 5
    },
    {
     "cell_type": "code",
     "collapsed": false,
     "input": [],
     "language": "python",
     "metadata": {},
     "outputs": [],
     "prompt_number": 5
    },
    {
     "cell_type": "code",
     "collapsed": false,
     "input": [
      "class YoutubeChannelOpenData(object):\n",
      "    def __init__(self, channel_id, datatype=\"json\"):\n",
      "        \n",
      "        assert datatype in [\"xml\", \"json\"], 'datatype must in [\"xml\", \"json\"]'\n",
      "        \n",
      "        self.channel_id = channel_id\n",
      "        self.datatype = datatype\n",
      "        \n",
      "    \n",
      "    def _get_data(self, datafeed_url):\n",
      "        if self.datatype == \"json\":\n",
      "            return json.loads(requests.get(datafeed_url, params={\"alt\":\"json\"}).text)\n",
      "        else:\n",
      "            return requests.get(datafeed_url).text\n",
      "            \n",
      "    \n",
      "    @property\n",
      "    def base_url(self):\n",
      "        return \"https://gdata.youtube.com/feeds/users/{channel_id}\".format(channel_id=self.channel_id)\n",
      "    \n",
      "    \n",
      "    @property\n",
      "    def playlist_url(self):\n",
      "        return \"https://gdata.youtube.com/feeds/users/{channel_id}/playlists/\".format(channel_id=self.channel_id)\n",
      "    \n",
      "    \n",
      "    @property\n",
      "    def uploads_url(self):\n",
      "        return \"https://gdata.youtube.com/feeds/users/{channel_id}/uploads/\".format(channel_id=self.channel_id)\n",
      "\n",
      "    \n",
      "    \n",
      "    "
     ],
     "language": "python",
     "metadata": {},
     "outputs": [],
     "prompt_number": 6
    },
    {
     "cell_type": "code",
     "collapsed": false,
     "input": [
      "yt_coscup = YoutubeChannelOpenData(\"thecoscup\")"
     ],
     "language": "python",
     "metadata": {},
     "outputs": [],
     "prompt_number": 7
    },
    {
     "cell_type": "code",
     "collapsed": false,
     "input": [
      "res = requests.get(yt_coscup.uploads_url)"
     ],
     "language": "python",
     "metadata": {},
     "outputs": [],
     "prompt_number": 8
    },
    {
     "cell_type": "code",
     "collapsed": false,
     "input": [
      "upload_data = yt_coscup._get_data(yt_coscup.uploads_url)"
     ],
     "language": "python",
     "metadata": {},
     "outputs": [],
     "prompt_number": 9
    },
    {
     "cell_type": "code",
     "collapsed": false,
     "input": [
      "upload_data.keys()"
     ],
     "language": "python",
     "metadata": {},
     "outputs": [
      {
       "metadata": {},
       "output_type": "pyout",
       "prompt_number": 10,
       "text": [
        "[u'feed', u'version', u'encoding']"
       ]
      }
     ],
     "prompt_number": 10
    },
    {
     "cell_type": "code",
     "collapsed": false,
     "input": [
      "upload_data[\"feed\"][\"entry\"][0].keys()"
     ],
     "language": "python",
     "metadata": {},
     "outputs": [
      {
       "metadata": {},
       "output_type": "pyout",
       "prompt_number": 11,
       "text": [
        "[u'category',\n",
        " u'updated',\n",
        " u'yt$threed',\n",
        " u'gd$comments',\n",
        " u'title',\n",
        " u'yt$hd',\n",
        " u'gd$rating',\n",
        " u'media$group',\n",
        " u'author',\n",
        " u'yt$statistics',\n",
        " u'content',\n",
        " u'link',\n",
        " u'published',\n",
        " u'id']"
       ]
      }
     ],
     "prompt_number": 11
    },
    {
     "cell_type": "code",
     "collapsed": false,
     "input": [
      "print upload_data[\"feed\"][\"entry\"][1][\"id\"]\n",
      "print upload_data[\"feed\"][\"entry\"][1][\"title\"]\n",
      "print upload_data[\"feed\"][\"entry\"][1][\"category\"]\n",
      "print upload_data[\"feed\"][\"entry\"][1][\"author\"]\n"
     ],
     "language": "python",
     "metadata": {},
     "outputs": [
      {
       "output_type": "stream",
       "stream": "stdout",
       "text": [
        "{u'$t': u'http://gdata.youtube.com/feeds/videos/lxbq0VDF4sg'}\n",
        "{u'$t': u'[COSCUP 2013] \\u958b\\u5e55\\u5f0f', u'type': u'text'}\n",
        "[{u'term': u'http://gdata.youtube.com/schemas/2007#video', u'scheme': u'http://schemas.google.com/g/2005#kind'}, {u'term': u'Nonprofit', u'scheme': u'http://gdata.youtube.com/schemas/2007/categories.cat', u'label': u'Nonprofits & Activism'}]\n",
        "[{u'name': {u'$t': u'COSCUP \\u958b\\u6e90\\u4eba\\u5e74\\u6703'}, u'uri': {u'$t': u'https://gdata.youtube.com/feeds/users/thecoscup'}}]\n"
       ]
      }
     ],
     "prompt_number": 13
    },
    {
     "cell_type": "code",
     "collapsed": false,
     "input": [
      "[xx[\"href\"] for xx in upload_data[\"feed\"][\"link\"] if xx[\"rel\"] == \"next\"]"
     ],
     "language": "python",
     "metadata": {},
     "outputs": [
      {
       "metadata": {},
       "output_type": "pyout",
       "prompt_number": 25,
       "text": [
        "[u'https://gdata.youtube.com/feeds/users/thecoscup/uploads?alt=json&start-index=26&max-results=25']"
       ]
      }
     ],
     "prompt_number": 25
    },
    {
     "cell_type": "code",
     "collapsed": false,
     "input": [
      "\n",
      "print upload_data[\"feed\"][\"link\"][4]\n",
      "print upload_data[\"feed\"][\"link\"][5][\"href\"]"
     ],
     "language": "python",
     "metadata": {},
     "outputs": [
      {
       "output_type": "stream",
       "stream": "stdout",
       "text": [
        "[{u'href': u'https://gdata.youtube.com/feeds/users/thecoscup', u'type': u'application/atom+xml', u'rel': u'related'}, {u'href': u'https://www.youtube.com/channel/UCU8s-nDqbsKnitUNaVJ2Xvg/videos', u'type': u'text/html', u'rel': u'alternate'}, {u'href': u'https://gdata.youtube.com/feeds/users/thecoscup/uploads', u'type': u'application/atom+xml', u'rel': u'http://schemas.google.com/g/2005#feed'}, {u'href': u'https://gdata.youtube.com/feeds/users/thecoscup/uploads/batch', u'type': u'application/atom+xml', u'rel': u'http://schemas.google.com/g/2005#batch'}, {u'href': u'https://gdata.youtube.com/feeds/users/thecoscup/uploads?alt=json&start-index=1&max-results=25', u'type': u'application/atom+xml', u'rel': u'self'}, {u'href': u'https://gdata.youtube.com/feeds/users/thecoscup/uploads?alt=json&start-index=26&max-results=25', u'type': u'application/atom+xml', u'rel': u'next'}]\n",
        "{u'href': u'https://gdata.youtube.com/feeds/users/thecoscup/uploads?alt=json&start-index=1&max-results=25', u'type': u'application/atom+xml', u'rel': u'self'}\n",
        "https://gdata.youtube.com/feeds/users/thecoscup/uploads?alt=json&start-index=26&max-results=25\n"
       ]
      }
     ],
     "prompt_number": 23
    },
    {
     "cell_type": "code",
     "collapsed": false,
     "input": [],
     "language": "python",
     "metadata": {},
     "outputs": []
    },
    {
     "cell_type": "code",
     "collapsed": false,
     "input": [
      "data = yt_coscup._get_data(upload_data[\"feed\"][\"link\"][5][\"href\"])"
     ],
     "language": "python",
     "metadata": {},
     "outputs": [],
     "prompt_number": 18
    },
    {
     "cell_type": "code",
     "collapsed": false,
     "input": [
      "data[\"feed\"][\"link\"]"
     ],
     "language": "python",
     "metadata": {},
     "outputs": [
      {
       "metadata": {},
       "output_type": "pyout",
       "prompt_number": 22,
       "text": [
        "[{u'href': u'https://gdata.youtube.com/feeds/users/thecoscup',\n",
        "  u'rel': u'related',\n",
        "  u'type': u'application/atom+xml'},\n",
        " {u'href': u'https://www.youtube.com/channel/UCU8s-nDqbsKnitUNaVJ2Xvg/videos',\n",
        "  u'rel': u'alternate',\n",
        "  u'type': u'text/html'},\n",
        " {u'href': u'https://gdata.youtube.com/feeds/users/thecoscup/uploads',\n",
        "  u'rel': u'http://schemas.google.com/g/2005#feed',\n",
        "  u'type': u'application/atom+xml'},\n",
        " {u'href': u'https://gdata.youtube.com/feeds/users/thecoscup/uploads/batch',\n",
        "  u'rel': u'http://schemas.google.com/g/2005#batch',\n",
        "  u'type': u'application/atom+xml'},\n",
        " {u'href': u'https://gdata.youtube.com/feeds/users/thecoscup/uploads?alt=json&start-index=26&max-results=25',\n",
        "  u'rel': u'self',\n",
        "  u'type': u'application/atom+xml'},\n",
        " {u'href': u'https://gdata.youtube.com/feeds/users/thecoscup/uploads?alt=json&start-index=1&max-results=25',\n",
        "  u'rel': u'previous',\n",
        "  u'type': u'application/atom+xml'},\n",
        " {u'href': u'https://gdata.youtube.com/feeds/users/thecoscup/uploads?alt=json&start-index=51&max-results=25',\n",
        "  u'rel': u'next',\n",
        "  u'type': u'application/atom+xml'}]"
       ]
      }
     ],
     "prompt_number": 22
    },
    {
     "cell_type": "code",
     "collapsed": false,
     "input": [
      "next_page_list = [xx[\"href\"] for xx in data[\"feed\"][\"link\"] if xx[\"rel\"] == \"next\"]"
     ],
     "language": "python",
     "metadata": {},
     "outputs": [],
     "prompt_number": 71
    },
    {
     "cell_type": "code",
     "collapsed": false,
     "input": [
      "next_page_list"
     ],
     "language": "python",
     "metadata": {},
     "outputs": [
      {
       "metadata": {},
       "output_type": "pyout",
       "prompt_number": 72,
       "text": [
        "[]"
       ]
      }
     ],
     "prompt_number": 72
    },
    {
     "cell_type": "code",
     "collapsed": false,
     "input": [
      "data = yt_coscup._get_data(next_page_list[0])"
     ],
     "language": "python",
     "metadata": {},
     "outputs": [
      {
       "ename": "IndexError",
       "evalue": "list index out of range",
       "output_type": "pyerr",
       "traceback": [
        "\u001b[1;31m---------------------------------------------------------------------------\u001b[0m\n\u001b[1;31mIndexError\u001b[0m                                Traceback (most recent call last)",
        "\u001b[1;32m<ipython-input-73-e248bc3cea00>\u001b[0m in \u001b[0;36m<module>\u001b[1;34m()\u001b[0m\n\u001b[1;32m----> 1\u001b[1;33m \u001b[0mdata\u001b[0m \u001b[1;33m=\u001b[0m \u001b[0myt_coscup\u001b[0m\u001b[1;33m.\u001b[0m\u001b[0m_get_data\u001b[0m\u001b[1;33m(\u001b[0m\u001b[0mnext_page_list\u001b[0m\u001b[1;33m[\u001b[0m\u001b[1;36m0\u001b[0m\u001b[1;33m]\u001b[0m\u001b[1;33m)\u001b[0m\u001b[1;33m\u001b[0m\u001b[0m\n\u001b[0m",
        "\u001b[1;31mIndexError\u001b[0m: list index out of range"
       ]
      }
     ],
     "prompt_number": 73
    },
    {
     "cell_type": "code",
     "collapsed": false,
     "input": [],
     "language": "python",
     "metadata": {},
     "outputs": []
    },
    {
     "cell_type": "code",
     "collapsed": false,
     "input": [],
     "language": "python",
     "metadata": {},
     "outputs": []
    },
    {
     "cell_type": "code",
     "collapsed": false,
     "input": [
      "data = json.loads(r.text)"
     ],
     "language": "python",
     "metadata": {},
     "outputs": [],
     "prompt_number": 43
    },
    {
     "cell_type": "code",
     "collapsed": false,
     "input": [
      "data"
     ],
     "language": "python",
     "metadata": {},
     "outputs": [
      {
       "metadata": {},
       "output_type": "pyout",
       "prompt_number": 44,
       "text": [
        "{u'encoding': u'UTF-8',\n",
        " u'entry': {u'author': [{u'name': {u'$t': u'COSCUP \\u958b\\u6e90\\u4eba\\u5e74\\u6703'},\n",
        "    u'uri': {u'$t': u'https://gdata.youtube.com/feeds/users/thecoscup'}}],\n",
        "  u'category': [{u'scheme': u'http://schemas.google.com/g/2005#kind',\n",
        "    u'term': u'http://gdata.youtube.com/schemas/2007#userProfile'}],\n",
        "  u'content': {u'$t': u'The official YouTube channel of the COSCUP conference (http://coscup.org/).',\n",
        "   u'type': u'text'},\n",
        "  u'gd$feedLink': [{u'countHint': 0,\n",
        "    u'href': u'https://gdata.youtube.com/feeds/users/thecoscup/subscriptions',\n",
        "    u'rel': u'http://gdata.youtube.com/schemas/2007#user.subscriptions'},\n",
        "   {u'countHint': 0,\n",
        "    u'href': u'https://gdata.youtube.com/feeds/users/thecoscup/contacts',\n",
        "    u'rel': u'http://gdata.youtube.com/schemas/2007#user.contacts'},\n",
        "   {u'href': u'https://gdata.youtube.com/feeds/users/thecoscup/inbox',\n",
        "    u'rel': u'http://gdata.youtube.com/schemas/2007#user.inbox'},\n",
        "   {u'href': u'https://gdata.youtube.com/feeds/users/thecoscup/playlists',\n",
        "    u'rel': u'http://gdata.youtube.com/schemas/2007#user.playlists'},\n",
        "   {u'countHint': 399,\n",
        "    u'href': u'https://gdata.youtube.com/feeds/users/thecoscup/uploads',\n",
        "    u'rel': u'http://gdata.youtube.com/schemas/2007#user.uploads'},\n",
        "   {u'href': u'https://gdata.youtube.com/feeds/api/users/thecoscup/newsubscriptionvideos',\n",
        "    u'rel': u'http://gdata.youtube.com/schemas/2007#user.newsubscriptionvideos'}],\n",
        "  u'id': {u'$t': u'http://gdata.youtube.com/feeds/users/U8s-nDqbsKnitUNaVJ2Xvg'},\n",
        "  u'link': [{u'href': u'https://www.youtube.com/channel/UCU8s-nDqbsKnitUNaVJ2Xvg',\n",
        "    u'rel': u'alternate',\n",
        "    u'type': u'text/html'},\n",
        "   {u'href': u'https://gdata.youtube.com/feeds/users/U8s-nDqbsKnitUNaVJ2Xvg',\n",
        "    u'rel': u'self',\n",
        "    u'type': u'application/atom+xml'}],\n",
        "  u'media$thumbnail': {u'url': u'https://yt3.ggpht.com/-bTJhaitz7aA/AAAAAAAAAAI/AAAAAAAAAAA/JyUlBt6Y-us/s88-c-k-no/photo.jpg'},\n",
        "  u'published': {u'$t': u'2012-03-26T15:15:15.000Z'},\n",
        "  u'title': {u'$t': u'COSCUP \\u958b\\u6e90\\u4eba\\u5e74\\u6703',\n",
        "   u'type': u'text'},\n",
        "  u'updated': {u'$t': u'2014-09-08T11:57:47.000Z'},\n",
        "  u'xmlns': u'http://www.w3.org/2005/Atom',\n",
        "  u'xmlns$gd': u'http://schemas.google.com/g/2005',\n",
        "  u'xmlns$media': u'http://search.yahoo.com/mrss/',\n",
        "  u'xmlns$yt': u'http://gdata.youtube.com/schemas/2007',\n",
        "  u'yt$googlePlusUserId': {u'$t': u'101434041225212178932'},\n",
        "  u'yt$location': {u'$t': u'TW'},\n",
        "  u'yt$statistics': {u'lastWebAccess': u'1970-01-01T00:00:00.000Z',\n",
        "   u'subscriberCount': u'1221',\n",
        "   u'totalUploadViews': u'73422',\n",
        "   u'videoWatchCount': 0,\n",
        "   u'viewCount': u'0'},\n",
        "  u'yt$username': {u'$t': u'thecoscup'}},\n",
        " u'version': u'1.0'}"
       ]
      }
     ],
     "prompt_number": 44
    },
    {
     "cell_type": "code",
     "collapsed": false,
     "input": [],
     "language": "python",
     "metadata": {},
     "outputs": []
    },
    {
     "cell_type": "code",
     "collapsed": false,
     "input": [],
     "language": "python",
     "metadata": {},
     "outputs": []
    },
    {
     "cell_type": "code",
     "collapsed": false,
     "input": [
      "print data.keys()\n",
      "data_urls = [xx[\"href\"] + \"?alt=json\" for xx in data[\"entry\"][\"gd$feedLink\"]]"
     ],
     "language": "python",
     "metadata": {},
     "outputs": [
      {
       "output_type": "stream",
       "stream": "stdout",
       "text": [
        "[u'entry', u'version', u'encoding']\n"
       ]
      }
     ],
     "prompt_number": 10
    },
    {
     "cell_type": "code",
     "collapsed": false,
     "input": [],
     "language": "python",
     "metadata": {},
     "outputs": []
    },
    {
     "cell_type": "code",
     "collapsed": false,
     "input": [],
     "language": "python",
     "metadata": {},
     "outputs": []
    },
    {
     "cell_type": "code",
     "collapsed": false,
     "input": [
      "data_urls"
     ],
     "language": "python",
     "metadata": {},
     "outputs": [
      {
       "metadata": {},
       "output_type": "pyout",
       "prompt_number": 11,
       "text": [
        "[u'https://gdata.youtube.com/feeds/users/thecoscup/subscriptions?alt=json',\n",
        " u'https://gdata.youtube.com/feeds/users/thecoscup/contacts?alt=json',\n",
        " u'https://gdata.youtube.com/feeds/users/thecoscup/inbox?alt=json',\n",
        " u'https://gdata.youtube.com/feeds/users/thecoscup/playlists?alt=json',\n",
        " u'https://gdata.youtube.com/feeds/users/thecoscup/uploads?alt=json',\n",
        " u'https://gdata.youtube.com/feeds/api/users/thecoscup/newsubscriptionvideos?alt=json']"
       ]
      }
     ],
     "prompt_number": 11
    },
    {
     "cell_type": "code",
     "collapsed": false,
     "input": [
      "data_urls_res = map(requests.get,data_urls)"
     ],
     "language": "python",
     "metadata": {},
     "outputs": [],
     "prompt_number": 12
    },
    {
     "cell_type": "code",
     "collapsed": false,
     "input": [
      "data_urls_res_json = map(lambda xx:json.loads(xx.text) if xx.status_code == 200 else None ,data_urls_res)"
     ],
     "language": "python",
     "metadata": {},
     "outputs": [],
     "prompt_number": 28
    },
    {
     "cell_type": "code",
     "collapsed": false,
     "input": [
      "data_urls_res_json[4][]"
     ],
     "language": "python",
     "metadata": {},
     "outputs": [
      {
       "metadata": {},
       "output_type": "pyout",
       "prompt_number": 35,
       "text": [
        "[u'feed', u'version', u'encoding']"
       ]
      }
     ],
     "prompt_number": 35
    },
    {
     "cell_type": "code",
     "collapsed": false,
     "input": [],
     "language": "python",
     "metadata": {},
     "outputs": []
    }
   ],
   "metadata": {}
  }
 ]
}