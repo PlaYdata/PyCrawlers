{
 "metadata": {
  "name": "",
  "signature": "sha256:7f225af6646f4d633a179cae56f518108a249c87695b41fbe384756296330c8f"
 },
 "nbformat": 3,
 "nbformat_minor": 0,
 "worksheets": [
  {
   "cells": [
    {
     "cell_type": "code",
     "collapsed": false,
     "input": [
      "import requests\n",
      "\n",
      "try:\n",
      "    import ujson as json \n",
      "except:\n",
      "    import json"
     ],
     "language": "python",
     "metadata": {},
     "outputs": [],
     "prompt_number": 6
    },
    {
     "cell_type": "code",
     "collapsed": false,
     "input": [
      "test_channel_ids_list = [\"thecoscup\", \"TWuseRGroup\"]"
     ],
     "language": "python",
     "metadata": {},
     "outputs": [],
     "prompt_number": 7
    },
    {
     "cell_type": "code",
     "collapsed": false,
     "input": [],
     "language": "python",
     "metadata": {},
     "outputs": [],
     "prompt_number": 7
    },
    {
     "cell_type": "code",
     "collapsed": false,
     "input": [
      "\n",
      "channel_id = test_channel_ids_list[0]\n",
      "\n",
      "r = requests.get(\"https://gdata.youtube.com/feeds/users/TWuseRGroup\",params={\"alt\":\"json\"})"
     ],
     "language": "python",
     "metadata": {},
     "outputs": [],
     "prompt_number": 8
    },
    {
     "cell_type": "code",
     "collapsed": false,
     "input": [
      "data = json.loads(r.text)"
     ],
     "language": "python",
     "metadata": {},
     "outputs": [],
     "prompt_number": 9
    },
    {
     "cell_type": "code",
     "collapsed": false,
     "input": [
      "print data[\"entry\"][\"author\"][0][\"name\"][\"$t\"]\n",
      "\n",
      "data[\"entry\"][\"gd$feedLink\"]"
     ],
     "language": "python",
     "metadata": {},
     "outputs": [
      {
       "output_type": "stream",
       "stream": "stdout",
       "text": [
        "TW use-R\n"
       ]
      },
      {
       "metadata": {},
       "output_type": "pyout",
       "prompt_number": 10,
       "text": [
        "[{u'countHint': 9,\n",
        "  u'href': u'https://gdata.youtube.com/feeds/users/twusergroup/subscriptions',\n",
        "  u'rel': u'http://gdata.youtube.com/schemas/2007#user.subscriptions'},\n",
        " {u'countHint': 0,\n",
        "  u'href': u'https://gdata.youtube.com/feeds/users/twusergroup/contacts',\n",
        "  u'rel': u'http://gdata.youtube.com/schemas/2007#user.contacts'},\n",
        " {u'href': u'https://gdata.youtube.com/feeds/users/twusergroup/inbox',\n",
        "  u'rel': u'http://gdata.youtube.com/schemas/2007#user.inbox'},\n",
        " {u'href': u'https://gdata.youtube.com/feeds/users/twusergroup/playlists',\n",
        "  u'rel': u'http://gdata.youtube.com/schemas/2007#user.playlists'},\n",
        " {u'countHint': 237,\n",
        "  u'href': u'https://gdata.youtube.com/feeds/users/twusergroup/uploads',\n",
        "  u'rel': u'http://gdata.youtube.com/schemas/2007#user.uploads'},\n",
        " {u'href': u'https://gdata.youtube.com/feeds/api/users/twusergroup/newsubscriptionvideos',\n",
        "  u'rel': u'http://gdata.youtube.com/schemas/2007#user.newsubscriptionvideos'}]"
       ]
      }
     ],
     "prompt_number": 10
    },
    {
     "cell_type": "code",
     "collapsed": false,
     "input": [],
     "language": "python",
     "metadata": {},
     "outputs": [],
     "prompt_number": 10
    },
    {
     "cell_type": "code",
     "collapsed": false,
     "input": [],
     "language": "python",
     "metadata": {},
     "outputs": [],
     "prompt_number": 10
    },
    {
     "cell_type": "code",
     "collapsed": false,
     "input": [],
     "language": "python",
     "metadata": {},
     "outputs": [],
     "prompt_number": 10
    },
    {
     "cell_type": "code",
     "collapsed": false,
     "input": [],
     "language": "python",
     "metadata": {},
     "outputs": [],
     "prompt_number": 10
    },
    {
     "cell_type": "code",
     "collapsed": false,
     "input": [],
     "language": "python",
     "metadata": {},
     "outputs": [],
     "prompt_number": 10
    },
    {
     "cell_type": "code",
     "collapsed": false,
     "input": [
      "class YoutubeChannelOpenData(object):\n",
      "    def __init__(self, channel_id, datatype=\"json\"):\n",
      "        \n",
      "        assert datatype in [\"xml\", \"json\"], 'datatype must in [\"xml\", \"json\"]'\n",
      "        \n",
      "        self.channel_id = channel_id\n",
      "        self.datatype = datatype\n",
      "        \n",
      "    \n",
      "    def _get_data(self, datafeed_url):\n",
      "        if self.datatype == \"json\":\n",
      "            return json.loads(requests.get(datafeed_url, params={\"alt\":\"json\"}).text)\n",
      "        else:\n",
      "            return requests.get(datafeed_url).text\n",
      "            \n",
      "    \n",
      "    @property\n",
      "    def base_url(self):\n",
      "        return \"https://gdata.youtube.com/feeds/users/{channel_id}\".format(channel_id=self.channel_id)\n",
      "    \n",
      "    \n",
      "    @property\n",
      "    def playlist_url(self):\n",
      "        return \"https://gdata.youtube.com/feeds/users/{channel_id}/playlists/\".format(channel_id=self.channel_id)\n",
      "    \n",
      "    \n",
      "    @property\n",
      "    def uploads_url(self):\n",
      "        return \"https://gdata.youtube.com/feeds/users/{channel_id}/uploads/\".format(channel_id=self.channel_id)\n",
      "\n",
      "    \n",
      "    \n",
      "    "
     ],
     "language": "python",
     "metadata": {},
     "outputs": [],
     "prompt_number": 17
    },
    {
     "cell_type": "code",
     "collapsed": false,
     "input": [
      "yt_coscup = YoutubeChannelOpenData(\"thecoscup\")"
     ],
     "language": "python",
     "metadata": {},
     "outputs": [],
     "prompt_number": 18
    },
    {
     "cell_type": "code",
     "collapsed": false,
     "input": [
      "res = requests.get(yt_coscup.uploads_url)"
     ],
     "language": "python",
     "metadata": {},
     "outputs": [],
     "prompt_number": 19
    },
    {
     "cell_type": "code",
     "collapsed": false,
     "input": [
      "upload_data = yt_coscup._get_data(yt_coscup.uploads_url)"
     ],
     "language": "python",
     "metadata": {},
     "outputs": [],
     "prompt_number": 21
    },
    {
     "cell_type": "code",
     "collapsed": false,
     "input": [
      "upload_data.keys()"
     ],
     "language": "python",
     "metadata": {},
     "outputs": [
      {
       "metadata": {},
       "output_type": "pyout",
       "prompt_number": 23,
       "text": [
        "[u'feed', u'version', u'encoding']"
       ]
      }
     ],
     "prompt_number": 23
    },
    {
     "cell_type": "code",
     "collapsed": false,
     "input": [
      "upload_data[\"feed\"][\"entry\"][0].keys()"
     ],
     "language": "python",
     "metadata": {},
     "outputs": [
      {
       "metadata": {},
       "output_type": "pyout",
       "prompt_number": 29,
       "text": [
        "[u'category',\n",
        " u'updated',\n",
        " u'yt$threed',\n",
        " u'gd$comments',\n",
        " u'title',\n",
        " u'yt$hd',\n",
        " u'gd$rating',\n",
        " u'media$group',\n",
        " u'author',\n",
        " u'yt$statistics',\n",
        " u'content',\n",
        " u'link',\n",
        " u'published',\n",
        " u'id']"
       ]
      }
     ],
     "prompt_number": 29
    },
    {
     "cell_type": "code",
     "collapsed": false,
     "input": [
      "print upload_data[\"feed\"][\"entry\"][0][\"id\"]\n",
      "print upload_data[\"feed\"][\"entry\"][0][\"title\"]\n",
      "print upload_data[\"feed\"][\"entry\"][0][\"category\"]\n",
      "print upload_data[\"feed\"][\"entry\"][0][\"author\"]\n"
     ],
     "language": "python",
     "metadata": {},
     "outputs": [
      {
       "output_type": "stream",
       "stream": "stdout",
       "text": [
        "{u'$t': u'http://gdata.youtube.com/feeds/videos/FhGK7nU-GTc'}\n",
        "{u'$t': u'[COSCUP 2014] \\u8a18\\u9304\\u7d44\\u54e1\\u7684\\u4e00\\u5929', u'type': u'text'}\n",
        "[{u'term': u'http://gdata.youtube.com/schemas/2007#video', u'scheme': u'http://schemas.google.com/g/2005#kind'}, {u'term': u'Travel', u'scheme': u'http://gdata.youtube.com/schemas/2007/categories.cat', u'label': u'Travel & Events'}]\n",
        "[{u'name': {u'$t': u'COSCUP \\u958b\\u6e90\\u4eba\\u5e74\\u6703'}, u'uri': {u'$t': u'https://gdata.youtube.com/feeds/users/thecoscup'}}]\n"
       ]
      }
     ],
     "prompt_number": 37
    },
    {
     "cell_type": "code",
     "collapsed": false,
     "input": [],
     "language": "python",
     "metadata": {},
     "outputs": []
    },
    {
     "cell_type": "code",
     "collapsed": false,
     "input": [],
     "language": "python",
     "metadata": {},
     "outputs": []
    },
    {
     "cell_type": "code",
     "collapsed": false,
     "input": [
      "data = json.loads(r.text)"
     ],
     "language": "python",
     "metadata": {},
     "outputs": [],
     "prompt_number": 43
    },
    {
     "cell_type": "code",
     "collapsed": false,
     "input": [
      "data"
     ],
     "language": "python",
     "metadata": {},
     "outputs": [
      {
       "metadata": {},
       "output_type": "pyout",
       "prompt_number": 44,
       "text": [
        "{u'encoding': u'UTF-8',\n",
        " u'entry': {u'author': [{u'name': {u'$t': u'COSCUP \\u958b\\u6e90\\u4eba\\u5e74\\u6703'},\n",
        "    u'uri': {u'$t': u'https://gdata.youtube.com/feeds/users/thecoscup'}}],\n",
        "  u'category': [{u'scheme': u'http://schemas.google.com/g/2005#kind',\n",
        "    u'term': u'http://gdata.youtube.com/schemas/2007#userProfile'}],\n",
        "  u'content': {u'$t': u'The official YouTube channel of the COSCUP conference (http://coscup.org/).',\n",
        "   u'type': u'text'},\n",
        "  u'gd$feedLink': [{u'countHint': 0,\n",
        "    u'href': u'https://gdata.youtube.com/feeds/users/thecoscup/subscriptions',\n",
        "    u'rel': u'http://gdata.youtube.com/schemas/2007#user.subscriptions'},\n",
        "   {u'countHint': 0,\n",
        "    u'href': u'https://gdata.youtube.com/feeds/users/thecoscup/contacts',\n",
        "    u'rel': u'http://gdata.youtube.com/schemas/2007#user.contacts'},\n",
        "   {u'href': u'https://gdata.youtube.com/feeds/users/thecoscup/inbox',\n",
        "    u'rel': u'http://gdata.youtube.com/schemas/2007#user.inbox'},\n",
        "   {u'href': u'https://gdata.youtube.com/feeds/users/thecoscup/playlists',\n",
        "    u'rel': u'http://gdata.youtube.com/schemas/2007#user.playlists'},\n",
        "   {u'countHint': 399,\n",
        "    u'href': u'https://gdata.youtube.com/feeds/users/thecoscup/uploads',\n",
        "    u'rel': u'http://gdata.youtube.com/schemas/2007#user.uploads'},\n",
        "   {u'href': u'https://gdata.youtube.com/feeds/api/users/thecoscup/newsubscriptionvideos',\n",
        "    u'rel': u'http://gdata.youtube.com/schemas/2007#user.newsubscriptionvideos'}],\n",
        "  u'id': {u'$t': u'http://gdata.youtube.com/feeds/users/U8s-nDqbsKnitUNaVJ2Xvg'},\n",
        "  u'link': [{u'href': u'https://www.youtube.com/channel/UCU8s-nDqbsKnitUNaVJ2Xvg',\n",
        "    u'rel': u'alternate',\n",
        "    u'type': u'text/html'},\n",
        "   {u'href': u'https://gdata.youtube.com/feeds/users/U8s-nDqbsKnitUNaVJ2Xvg',\n",
        "    u'rel': u'self',\n",
        "    u'type': u'application/atom+xml'}],\n",
        "  u'media$thumbnail': {u'url': u'https://yt3.ggpht.com/-bTJhaitz7aA/AAAAAAAAAAI/AAAAAAAAAAA/JyUlBt6Y-us/s88-c-k-no/photo.jpg'},\n",
        "  u'published': {u'$t': u'2012-03-26T15:15:15.000Z'},\n",
        "  u'title': {u'$t': u'COSCUP \\u958b\\u6e90\\u4eba\\u5e74\\u6703',\n",
        "   u'type': u'text'},\n",
        "  u'updated': {u'$t': u'2014-09-08T11:57:47.000Z'},\n",
        "  u'xmlns': u'http://www.w3.org/2005/Atom',\n",
        "  u'xmlns$gd': u'http://schemas.google.com/g/2005',\n",
        "  u'xmlns$media': u'http://search.yahoo.com/mrss/',\n",
        "  u'xmlns$yt': u'http://gdata.youtube.com/schemas/2007',\n",
        "  u'yt$googlePlusUserId': {u'$t': u'101434041225212178932'},\n",
        "  u'yt$location': {u'$t': u'TW'},\n",
        "  u'yt$statistics': {u'lastWebAccess': u'1970-01-01T00:00:00.000Z',\n",
        "   u'subscriberCount': u'1221',\n",
        "   u'totalUploadViews': u'73422',\n",
        "   u'videoWatchCount': 0,\n",
        "   u'viewCount': u'0'},\n",
        "  u'yt$username': {u'$t': u'thecoscup'}},\n",
        " u'version': u'1.0'}"
       ]
      }
     ],
     "prompt_number": 44
    },
    {
     "cell_type": "code",
     "collapsed": false,
     "input": [],
     "language": "python",
     "metadata": {},
     "outputs": []
    },
    {
     "cell_type": "code",
     "collapsed": false,
     "input": [],
     "language": "python",
     "metadata": {},
     "outputs": []
    },
    {
     "cell_type": "code",
     "collapsed": false,
     "input": [
      "print data.keys()\n",
      "data_urls = [xx[\"href\"] + \"?alt=json\" for xx in data[\"entry\"][\"gd$feedLink\"]]"
     ],
     "language": "python",
     "metadata": {},
     "outputs": [
      {
       "output_type": "stream",
       "stream": "stdout",
       "text": [
        "[u'entry', u'version', u'encoding']\n"
       ]
      }
     ],
     "prompt_number": 10
    },
    {
     "cell_type": "code",
     "collapsed": false,
     "input": [],
     "language": "python",
     "metadata": {},
     "outputs": []
    },
    {
     "cell_type": "code",
     "collapsed": false,
     "input": [],
     "language": "python",
     "metadata": {},
     "outputs": []
    },
    {
     "cell_type": "code",
     "collapsed": false,
     "input": [
      "data_urls"
     ],
     "language": "python",
     "metadata": {},
     "outputs": [
      {
       "metadata": {},
       "output_type": "pyout",
       "prompt_number": 11,
       "text": [
        "[u'https://gdata.youtube.com/feeds/users/thecoscup/subscriptions?alt=json',\n",
        " u'https://gdata.youtube.com/feeds/users/thecoscup/contacts?alt=json',\n",
        " u'https://gdata.youtube.com/feeds/users/thecoscup/inbox?alt=json',\n",
        " u'https://gdata.youtube.com/feeds/users/thecoscup/playlists?alt=json',\n",
        " u'https://gdata.youtube.com/feeds/users/thecoscup/uploads?alt=json',\n",
        " u'https://gdata.youtube.com/feeds/api/users/thecoscup/newsubscriptionvideos?alt=json']"
       ]
      }
     ],
     "prompt_number": 11
    },
    {
     "cell_type": "code",
     "collapsed": false,
     "input": [
      "data_urls_res = map(requests.get,data_urls)"
     ],
     "language": "python",
     "metadata": {},
     "outputs": [],
     "prompt_number": 12
    },
    {
     "cell_type": "code",
     "collapsed": false,
     "input": [
      "data_urls_res_json = map(lambda xx:json.loads(xx.text) if xx.status_code == 200 else None ,data_urls_res)"
     ],
     "language": "python",
     "metadata": {},
     "outputs": [],
     "prompt_number": 28
    },
    {
     "cell_type": "code",
     "collapsed": false,
     "input": [
      "data_urls_res_json[4][]"
     ],
     "language": "python",
     "metadata": {},
     "outputs": [
      {
       "metadata": {},
       "output_type": "pyout",
       "prompt_number": 35,
       "text": [
        "[u'feed', u'version', u'encoding']"
       ]
      }
     ],
     "prompt_number": 35
    },
    {
     "cell_type": "code",
     "collapsed": false,
     "input": [],
     "language": "python",
     "metadata": {},
     "outputs": []
    }
   ],
   "metadata": {}
  }
 ]
}