{
 "metadata": {
  "name": "",
  "signature": "sha256:8fae66615283609c101201f46a4682d51bd06fef3a7d8f8121e96d70d1171eef"
 },
 "nbformat": 3,
 "nbformat_minor": 0,
 "worksheets": [
  {
   "cells": [
    {
     "cell_type": "code",
     "collapsed": false,
     "input": [
      "import requests\n",
      "\n",
      "try:\n",
      "    import ujson as json \n",
      "except:\n",
      "    import json"
     ],
     "language": "python",
     "metadata": {},
     "outputs": [],
     "prompt_number": 5
    },
    {
     "cell_type": "code",
     "collapsed": false,
     "input": [
      "test_channel_ids_list = [\"thecoscup\", \"TWuseRGroup\"]"
     ],
     "language": "python",
     "metadata": {},
     "outputs": [],
     "prompt_number": 6
    },
    {
     "cell_type": "code",
     "collapsed": false,
     "input": [],
     "language": "python",
     "metadata": {},
     "outputs": [],
     "prompt_number": 6
    },
    {
     "cell_type": "code",
     "collapsed": false,
     "input": [
      "\n",
      "channel_id = test_channel_ids_list[0]\n",
      "\n",
      "r = requests.get(\"https://gdata.youtube.com/feeds/users/TWuseRGroup\",params={\"alt\":\"json\"})"
     ],
     "language": "python",
     "metadata": {},
     "outputs": [],
     "prompt_number": 7
    },
    {
     "cell_type": "code",
     "collapsed": false,
     "input": [
      "data = json.loads(r.text)"
     ],
     "language": "python",
     "metadata": {},
     "outputs": [],
     "prompt_number": 8
    },
    {
     "cell_type": "code",
     "collapsed": false,
     "input": [
      "print data[\"entry\"][\"author\"][0][\"name\"][\"$t\"]\n",
      "\n",
      "data[\"entry\"][\"gd$feedLink\"]"
     ],
     "language": "python",
     "metadata": {},
     "outputs": [
      {
       "output_type": "stream",
       "stream": "stdout",
       "text": [
        "TW use-R\n"
       ]
      },
      {
       "metadata": {},
       "output_type": "pyout",
       "prompt_number": 9,
       "text": [
        "[{u'countHint': 9,\n",
        "  u'href': u'https://gdata.youtube.com/feeds/users/twusergroup/subscriptions',\n",
        "  u'rel': u'http://gdata.youtube.com/schemas/2007#user.subscriptions'},\n",
        " {u'countHint': 0,\n",
        "  u'href': u'https://gdata.youtube.com/feeds/users/twusergroup/contacts',\n",
        "  u'rel': u'http://gdata.youtube.com/schemas/2007#user.contacts'},\n",
        " {u'href': u'https://gdata.youtube.com/feeds/users/twusergroup/inbox',\n",
        "  u'rel': u'http://gdata.youtube.com/schemas/2007#user.inbox'},\n",
        " {u'href': u'https://gdata.youtube.com/feeds/users/twusergroup/playlists',\n",
        "  u'rel': u'http://gdata.youtube.com/schemas/2007#user.playlists'},\n",
        " {u'countHint': 237,\n",
        "  u'href': u'https://gdata.youtube.com/feeds/users/twusergroup/uploads',\n",
        "  u'rel': u'http://gdata.youtube.com/schemas/2007#user.uploads'},\n",
        " {u'href': u'https://gdata.youtube.com/feeds/api/users/twusergroup/newsubscriptionvideos',\n",
        "  u'rel': u'http://gdata.youtube.com/schemas/2007#user.newsubscriptionvideos'}]"
       ]
      }
     ],
     "prompt_number": 9
    },
    {
     "cell_type": "code",
     "collapsed": false,
     "input": [],
     "language": "python",
     "metadata": {},
     "outputs": [],
     "prompt_number": 9
    },
    {
     "cell_type": "code",
     "collapsed": false,
     "input": [],
     "language": "python",
     "metadata": {},
     "outputs": [],
     "prompt_number": 9
    },
    {
     "cell_type": "code",
     "collapsed": false,
     "input": [],
     "language": "python",
     "metadata": {},
     "outputs": [],
     "prompt_number": 9
    },
    {
     "cell_type": "code",
     "collapsed": false,
     "input": [],
     "language": "python",
     "metadata": {},
     "outputs": [],
     "prompt_number": 9
    },
    {
     "cell_type": "code",
     "collapsed": false,
     "input": [],
     "language": "python",
     "metadata": {},
     "outputs": [],
     "prompt_number": 9
    },
    {
     "cell_type": "code",
     "collapsed": false,
     "input": [
      "\n",
      "def summary_one_upload_data_entry(one_upload_data_entry):\n",
      "    return {\"ytid\":one_upload_data_entry[\"id\"][\"$t\"].split(\"/\")[-1],\n",
      "            \"title\":one_upload_data_entry[\"title\"][\"$t\"],\n",
      "            \"categories\":one_upload_data_entry[\"category\"],\n",
      "            \"author\":one_upload_data_entry[\"author\"][0][\"name\"][\"$t\"],\n",
      "            \"description\":one_upload_data_entry[\"media$group\"][\"media$description\"][\"$t\"],\n",
      "            }\n",
      "\n",
      "def get_playlist_id_from_entry(one_playlist_data_entry):\n",
      "    return one_playlist_data_entry[\"yt$playlistId\"][\"$t\"]\n",
      "\n",
      "def get_video_id_from_playlist_data_entry(one_entry):\n",
      "#     return [xx for xx in one_entry[\"media$group\"][\"media$player\"][0][\"url\"].split(\"?\")[-1].split(\"&\") if xx.startswith(\"v=\")][0].replace(\"v=\",\"\")\n",
      "    return [xx for xx in one_entry[\"link\"] if xx[\"rel\"] == \"related\"][0][\"href\"].split(\"/\")[-1]\n",
      "\n",
      "class YoutubeChannelOpenData(object):\n",
      "    def __init__(self, channel_id, datatype=\"json\"):\n",
      "        \n",
      "        assert datatype in [\"xml\", \"json\"], 'datatype must in [\"xml\", \"json\"]'\n",
      "        \n",
      "        self.channel_id = channel_id\n",
      "        self.datatype = datatype\n",
      "        \n",
      "    \n",
      "    def _get_data(self, datafeed_url):\n",
      "        if self.datatype == \"json\":\n",
      "            return json.loads(requests.get(datafeed_url, params={\"alt\":\"json\"}).text)\n",
      "        else:\n",
      "            return requests.get(datafeed_url).text\n",
      "            \n",
      "    \n",
      "    @property\n",
      "    def base_url(self):\n",
      "        return \"https://gdata.youtube.com/feeds/users/{channel_id}\".format(channel_id=self.channel_id)\n",
      "    \n",
      "    \n",
      "    @property\n",
      "    def all_playlist_url(self):\n",
      "        return \"https://gdata.youtube.com/feeds/users/{channel_id}/playlists/\".format(channel_id=self.channel_id)\n",
      "    \n",
      "    \n",
      "    @property\n",
      "    def uploads_url(self):\n",
      "        return \"https://gdata.youtube.com/feeds/users/{channel_id}/uploads/\".format(channel_id=self.channel_id)\n",
      "    \n",
      "    \n",
      "    def playlist_url(self, playlist_id):\n",
      "        return \"https://gdata.youtube.com/feeds/playlists/{playlist_id}\".format(playlist_id=playlist_id)\n",
      "    \n",
      "    def get_all_uploads(self, entry_parser=summary_one_upload_data_entry):\n",
      "        all_upload_data_list = []\n",
      "        \n",
      "        next_page_list = [self.uploads_url]\n",
      "        print \"next_page_list = \",next_page_list\n",
      "        \n",
      "        while len(next_page_list) > 0:\n",
      "\n",
      "            upload_data = self._get_data(next_page_list[0])\n",
      "            \n",
      "            all_upload_data_list.extend(map(entry_parser, upload_data[\"feed\"][\"entry\"]))\n",
      "            next_page_list = [xx[\"href\"] for xx in upload_data[\"feed\"][\"link\"] if xx[\"rel\"] == \"next\"]\n",
      "            print \"next_page_list = \",next_page_list\n",
      "            \n",
      "        return all_upload_data_list\n",
      "            \n",
      "    def get_all_playlist_ids(self, entry_parser=get_playlist_id_from_entry):\n",
      "        all_playlist_ids_list = []\n",
      "        \n",
      "        next_page_list = [self.all_playlist_url]\n",
      "        print \"next_page_list = \",next_page_list\n",
      "        \n",
      "        while len(next_page_list) > 0:\n",
      "\n",
      "            playlist_data = self._get_data(next_page_list[0])\n",
      "            \n",
      "            all_playlist_ids_list.extend(map(entry_parser, playlist_data[\"feed\"][\"entry\"]))\n",
      "            next_page_list = [xx[\"href\"] for xx in playlist_data[\"feed\"][\"link\"] if xx[\"rel\"] == \"next\"]\n",
      "            print \"next_page_list = \",next_page_list\n",
      "            \n",
      "        return all_playlist_ids_list\n",
      "    \n",
      "    def get_one_playlist_all_video_ids(self, playlist_id, entry_parser=get_video_id_from_playlist_data_entry):\n",
      "        all_video_ids_list = []\n",
      "        \n",
      "        next_page_list = [self.playlist_url(playlist_id=playlist_id)]\n",
      "        print \"next_page_list = \",next_page_list\n",
      "        \n",
      "        while len(next_page_list) > 0:\n",
      "\n",
      "            playlist_data = self._get_data(next_page_list[0])\n",
      "            \n",
      "            all_video_ids_list.extend(map(entry_parser, playlist_data[\"feed\"][\"entry\"]))\n",
      "            next_page_list = [xx[\"href\"] for xx in playlist_data[\"feed\"][\"link\"] if xx[\"rel\"] == \"next\"]\n",
      "            print \"next_page_list = \",next_page_list\n",
      "            \n",
      "        return all_video_ids_list\n",
      "    \n",
      "    \n",
      "    def get_all_playlist_all_video_ids(self):\n",
      "        all_playlist_ids = self.get_all_playlist_ids()\n",
      "        results = []\n",
      "        for one_id in all_playlist_ids:\n",
      "            results.append({\"playlist_id\":one_id,\n",
      "                            \"video_ids\":self.get_one_playlist_all_video_ids(one_id)})\n",
      "        \n",
      "        return results\n",
      "    "
     ],
     "language": "python",
     "metadata": {},
     "outputs": [],
     "prompt_number": 16
    },
    {
     "cell_type": "code",
     "collapsed": false,
     "input": [],
     "language": "python",
     "metadata": {},
     "outputs": [],
     "prompt_number": 16
    },
    {
     "cell_type": "code",
     "collapsed": false,
     "input": [
      "test= [] "
     ],
     "language": "python",
     "metadata": {},
     "outputs": [],
     "prompt_number": 17
    },
    {
     "cell_type": "code",
     "collapsed": false,
     "input": [],
     "language": "python",
     "metadata": {},
     "outputs": [],
     "prompt_number": 17
    },
    {
     "cell_type": "code",
     "collapsed": false,
     "input": [
      "yt_coscup = YoutubeChannelOpenData(\"thecoscup\")"
     ],
     "language": "python",
     "metadata": {},
     "outputs": [],
     "prompt_number": 18
    },
    {
     "cell_type": "code",
     "collapsed": false,
     "input": [
      "test = yt_coscup.get_all_playlist_all_video_ids()"
     ],
     "language": "python",
     "metadata": {},
     "outputs": [
      {
       "output_type": "stream",
       "stream": "stdout",
       "text": [
        "next_page_list =  ['https://gdata.youtube.com/feeds/users/thecoscup/playlists/']\n",
        "next_page_list = "
       ]
      },
      {
       "output_type": "stream",
       "stream": "stdout",
       "text": [
        " []\n",
        "next_page_list =  ['https://gdata.youtube.com/feeds/playlists/PLqfib4St70XMqJM3AL-Xe7jr6nbRwetcZ']\n",
        "next_page_list = "
       ]
      },
      {
       "output_type": "stream",
       "stream": "stdout",
       "text": [
        " []\n",
        "next_page_list =  ['https://gdata.youtube.com/feeds/playlists/PLqfib4St70XPA2MCk1-nJFUFHsIQFdSM5']\n",
        "next_page_list = "
       ]
      },
      {
       "output_type": "stream",
       "stream": "stdout",
       "text": [
        " [u'https://gdata.youtube.com/feeds/playlists/PLqfib4St70XPA2MCk1-nJFUFHsIQFdSM5?alt=json&start-index=26&max-results=25']\n",
        "next_page_list = "
       ]
      },
      {
       "output_type": "stream",
       "stream": "stdout",
       "text": [
        " [u'https://gdata.youtube.com/feeds/playlists/PLqfib4St70XPA2MCk1-nJFUFHsIQFdSM5?alt=json&start-index=51&max-results=25']\n",
        "next_page_list = "
       ]
      },
      {
       "output_type": "stream",
       "stream": "stdout",
       "text": [
        " [u'https://gdata.youtube.com/feeds/playlists/PLqfib4St70XPA2MCk1-nJFUFHsIQFdSM5?alt=json&start-index=76&max-results=25']\n",
        "next_page_list = "
       ]
      },
      {
       "output_type": "stream",
       "stream": "stdout",
       "text": [
        " [u'https://gdata.youtube.com/feeds/playlists/PLqfib4St70XPA2MCk1-nJFUFHsIQFdSM5?alt=json&start-index=101&max-results=25']\n",
        "next_page_list = "
       ]
      },
      {
       "output_type": "stream",
       "stream": "stdout",
       "text": [
        " []\n",
        "next_page_list =  ['https://gdata.youtube.com/feeds/playlists/PLqfib4St70XNspmD7hOJQrcXa3CnvCc9V']\n",
        "next_page_list = "
       ]
      },
      {
       "output_type": "stream",
       "stream": "stdout",
       "text": [
        " [u'https://gdata.youtube.com/feeds/playlists/PLqfib4St70XNspmD7hOJQrcXa3CnvCc9V?alt=json&start-index=26&max-results=25']\n",
        "next_page_list = "
       ]
      },
      {
       "output_type": "stream",
       "stream": "stdout",
       "text": [
        " [u'https://gdata.youtube.com/feeds/playlists/PLqfib4St70XNspmD7hOJQrcXa3CnvCc9V?alt=json&start-index=51&max-results=25']\n",
        "next_page_list = "
       ]
      },
      {
       "output_type": "stream",
       "stream": "stdout",
       "text": [
        " []\n",
        "next_page_list =  ['https://gdata.youtube.com/feeds/playlists/PLE8DBA2A06F770766']\n",
        "next_page_list = "
       ]
      },
      {
       "output_type": "stream",
       "stream": "stdout",
       "text": [
        " [u'https://gdata.youtube.com/feeds/playlists/PLE8DBA2A06F770766?alt=json&start-index=26&max-results=25']\n",
        "next_page_list = "
       ]
      },
      {
       "output_type": "stream",
       "stream": "stdout",
       "text": [
        " [u'https://gdata.youtube.com/feeds/playlists/PLE8DBA2A06F770766?alt=json&start-index=51&max-results=25']\n",
        "next_page_list = "
       ]
      },
      {
       "output_type": "stream",
       "stream": "stdout",
       "text": [
        " []\n",
        "next_page_list =  ['https://gdata.youtube.com/feeds/playlists/PLF80AC8951C806F74']\n",
        "next_page_list = "
       ]
      },
      {
       "output_type": "stream",
       "stream": "stdout",
       "text": [
        " [u'https://gdata.youtube.com/feeds/playlists/PLF80AC8951C806F74?alt=json&start-index=26&max-results=25']\n",
        "next_page_list = "
       ]
      },
      {
       "output_type": "stream",
       "stream": "stdout",
       "text": [
        " []\n",
        "next_page_list =  ['https://gdata.youtube.com/feeds/playlists/PLB435557BA4B4BF0D']\n",
        "next_page_list = "
       ]
      },
      {
       "output_type": "stream",
       "stream": "stdout",
       "text": [
        " []\n",
        "next_page_list =  ['https://gdata.youtube.com/feeds/playlists/PL1E00EBFE2E5E040F']\n",
        "next_page_list = "
       ]
      },
      {
       "output_type": "stream",
       "stream": "stdout",
       "text": [
        " [u'https://gdata.youtube.com/feeds/playlists/PL1E00EBFE2E5E040F?alt=json&start-index=26&max-results=25']\n",
        "next_page_list = "
       ]
      },
      {
       "output_type": "stream",
       "stream": "stdout",
       "text": [
        " [u'https://gdata.youtube.com/feeds/playlists/PL1E00EBFE2E5E040F?alt=json&start-index=51&max-results=25']\n",
        "next_page_list = "
       ]
      },
      {
       "output_type": "stream",
       "stream": "stdout",
       "text": [
        " []\n",
        "next_page_list =  ['https://gdata.youtube.com/feeds/playlists/PL1FF14AC1502F9EE3']\n",
        "next_page_list = "
       ]
      },
      {
       "output_type": "stream",
       "stream": "stdout",
       "text": [
        " [u'https://gdata.youtube.com/feeds/playlists/PL1FF14AC1502F9EE3?alt=json&start-index=26&max-results=25']\n",
        "next_page_list = "
       ]
      },
      {
       "output_type": "stream",
       "stream": "stdout",
       "text": [
        " [u'https://gdata.youtube.com/feeds/playlists/PL1FF14AC1502F9EE3?alt=json&start-index=51&max-results=25']\n",
        "next_page_list = "
       ]
      },
      {
       "output_type": "stream",
       "stream": "stdout",
       "text": [
        " [u'https://gdata.youtube.com/feeds/playlists/PL1FF14AC1502F9EE3?alt=json&start-index=76&max-results=25']\n",
        "next_page_list = "
       ]
      },
      {
       "output_type": "stream",
       "stream": "stdout",
       "text": [
        " []\n"
       ]
      }
     ],
     "prompt_number": 19
    },
    {
     "cell_type": "code",
     "collapsed": false,
     "input": [
      "test"
     ],
     "language": "python",
     "metadata": {},
     "outputs": [
      {
       "metadata": {},
       "output_type": "pyout",
       "prompt_number": 20,
       "text": [
        "[{'playlist_id': u'PLqfib4St70XMqJM3AL-Xe7jr6nbRwetcZ',\n",
        "  'video_ids': [u'FhGK7nU-GTc']},\n",
        " {'playlist_id': u'PLqfib4St70XPA2MCk1-nJFUFHsIQFdSM5',\n",
        "  'video_ids': [u'VwAtYGyjTks',\n",
        "   u'8a-ji70_7k0',\n",
        "   u'rvdfWuyysms',\n",
        "   u'ZWwI0q5Ryw0',\n",
        "   u'vQNU-Ij5c5w',\n",
        "   u'gtVcMjo4vjs',\n",
        "   u'iWBH1aqeeLw',\n",
        "   u'N719bgeI--I',\n",
        "   u'ej8TPBd4kOg',\n",
        "   u'ITehdhhkhCE',\n",
        "   u'gHXXjU9p1j8',\n",
        "   u'0hzjTgURohc',\n",
        "   u'JEt4lmoy2hQ',\n",
        "   u'JSd4wOBJbDQ',\n",
        "   u'zkOVUnhiDVg',\n",
        "   u'Vieda2fJuFY',\n",
        "   u'oxqfr3mZEcA',\n",
        "   u'K1zcxJM6NO8',\n",
        "   u'FqNVqtHL_3w',\n",
        "   u'enGVV29B6v0',\n",
        "   u'6oEtGb7YIEY',\n",
        "   u'KrM1EDLV6oM',\n",
        "   u'DOtSNOzPW04',\n",
        "   u'Z5kJgDs7P7w',\n",
        "   u'vpiWNEmfHZQ',\n",
        "   u'AVB5oPUw6GQ',\n",
        "   u'Hdfojn8Ia1g',\n",
        "   u'jd_XBV6f4Rw',\n",
        "   u'MWaRnCOffB4',\n",
        "   u'fHLqSWdDrpA',\n",
        "   u'CidKovMNaL8',\n",
        "   u'jwpdc5jU22Y',\n",
        "   u'dE52LLcUhYk',\n",
        "   u'dF8_DspMaEA',\n",
        "   u'fBiPe_9i724',\n",
        "   u'wE1yQOz_jqM',\n",
        "   u'ZisECCTpotU',\n",
        "   u'pqdAAmy_yPM',\n",
        "   u'hFbQOkfidD4',\n",
        "   u'dZ5bRDW9bZU',\n",
        "   u'lxbq0VDF4sg',\n",
        "   u'X2797zh9x74',\n",
        "   u'9QvuJQ3NNxE',\n",
        "   u'sutQFecmStY',\n",
        "   u'SxrVV-p2dG4',\n",
        "   u'30TOcMX2hlo',\n",
        "   u'mBs1zfNgxOQ',\n",
        "   u'vIV8joT9qlE',\n",
        "   u'twRFIOfr97o',\n",
        "   u'cytlfnbcE_Y',\n",
        "   u'AF5x4gxsGCA',\n",
        "   u'E3aArwN6SqI',\n",
        "   u'Of0g1XrEDLc',\n",
        "   u'NgK5Tgza4W4',\n",
        "   u'kDyia-sFeHw',\n",
        "   u'bdjpk0FEOmA',\n",
        "   u'5uWj_IkfjrE',\n",
        "   u'hPxOpQCqcR4',\n",
        "   u'5YP2Tb45Pyo',\n",
        "   u'BrRTwl2m024',\n",
        "   u'YhamlvLQ8F4',\n",
        "   u'NfZbVoR4Hq8',\n",
        "   u'AGgvfndmunI',\n",
        "   u'8HQTRS6AGsY',\n",
        "   u'liZuNh7Sw7s',\n",
        "   u'eJVld1qnJB8',\n",
        "   u'xdWypsV7f6o',\n",
        "   u'igDgpo3hmeA',\n",
        "   u'-5WSvaSuTEk',\n",
        "   u'bPK2NxzUMGs',\n",
        "   u'1QhNm7aqMcc',\n",
        "   u'pQ-OpkbECuU',\n",
        "   u'IFtFlCN-DNE',\n",
        "   u'dHeIlkI9prs',\n",
        "   u'3Y81BCQvd-o',\n",
        "   u'tAL9IZQY_6A',\n",
        "   u'ERfetj2RXEc',\n",
        "   u'QJODy8qDPcY',\n",
        "   u'OsXI2imoT9I',\n",
        "   u'YOv6MawVKQc',\n",
        "   u'aC6WsTK05cc',\n",
        "   u'zMiNxDJpgws',\n",
        "   u'lOPB8im0yOo',\n",
        "   u'escsixrqG6M',\n",
        "   u'Dc0L2KptNG0',\n",
        "   u'Q2uX3cR2_OI',\n",
        "   u'W4BbHx0G5jE',\n",
        "   u'ZQFfK0Emd8w',\n",
        "   u'OUIyn4b7nxQ',\n",
        "   u'OGbAHXWPlD4',\n",
        "   u'Ztad1Dqj4-M',\n",
        "   u'I6OBszFGlOM',\n",
        "   u'rvdfWuyysms',\n",
        "   u'ZWwI0q5Ryw0',\n",
        "   u'vQNU-Ij5c5w',\n",
        "   u'gtVcMjo4vjs',\n",
        "   u'iWBH1aqeeLw',\n",
        "   u'ITehdhhkhCE',\n",
        "   u'gHXXjU9p1j8',\n",
        "   u'0hzjTgURohc',\n",
        "   u'JEt4lmoy2hQ',\n",
        "   u'JSd4wOBJbDQ',\n",
        "   u'zkOVUnhiDVg',\n",
        "   u'Vieda2fJuFY',\n",
        "   u'8a-ji70_7k0',\n",
        "   u'VwAtYGyjTks',\n",
        "   u'Tn2SQSHfCr4',\n",
        "   u'IhAL1nLIFT0',\n",
        "   u'rc-GL7xF_WI',\n",
        "   u'3QJN-zEsnug',\n",
        "   u'ayQO6H4Mnio',\n",
        "   u'WA38EYL0D9Y',\n",
        "   u'Yg4GafmIuGY',\n",
        "   u'SY5SbymCsUo',\n",
        "   u'vZ31HS28xY0',\n",
        "   u'9MH7smRV8Zc',\n",
        "   u'V2FymnCXeSc']},\n",
        " {'playlist_id': u'PLqfib4St70XNspmD7hOJQrcXa3CnvCc9V',\n",
        "  'video_ids': [u'nhergxHoVYY',\n",
        "   u'qv4SiMSK5SY',\n",
        "   u'yyMhjim9RjY',\n",
        "   u'jpt5oCkfef4',\n",
        "   u'm6R1mFpifa4',\n",
        "   u'kv6AyVkmQZU',\n",
        "   u'VF2-s5wgsS0',\n",
        "   u'FdDf4DrCmjQ',\n",
        "   u'SqEpwNhymuQ',\n",
        "   u'nwPSSxB8oe4',\n",
        "   u'd2B_9oMUx40',\n",
        "   u'yjfJ2fC1T3s',\n",
        "   u'TT6johw6_14',\n",
        "   u'BD9_q6Zl1WI',\n",
        "   u'8yYE07D0ysk',\n",
        "   u'2YyyrQFgmT4',\n",
        "   u'lmVegM_vS9Q',\n",
        "   u'Z_lkUT6h7Hs',\n",
        "   u'wcME4URpLLs',\n",
        "   u'zkLgj1LzK0I',\n",
        "   u'2X7pacN3Ulk',\n",
        "   u'qoGu3NV_jvM',\n",
        "   u'KpZAzD3Fqmw',\n",
        "   u'pwBva_XYjIc',\n",
        "   u'j-v7bhI0dh4',\n",
        "   u'iG4c4ZlXl4M',\n",
        "   u'6dLb_MBOVqw',\n",
        "   u'HuKWKBN1OBU',\n",
        "   u'kh0LKHjmvNg',\n",
        "   u'V31dd8mPXDc',\n",
        "   u'4ajpUhvHDGo',\n",
        "   u'nQfLfHVq50c',\n",
        "   u'HEW39KXn0a4',\n",
        "   u'DNQaudJt-Ak',\n",
        "   u'nCAlAoXKWVk',\n",
        "   u'b-4sigZ3ks0',\n",
        "   u'5e-0DmuLnoM',\n",
        "   u'Iz1hJK6Cz3Q',\n",
        "   u'dweJFWBUXls',\n",
        "   u'6YPpoL_nR6w',\n",
        "   u'LIwQtqHFSlk',\n",
        "   u'eXeK4bSCr_8',\n",
        "   u'xHrMfxj0vt4',\n",
        "   u'7fykQmZuock',\n",
        "   u'CW91J4alArM',\n",
        "   u'b5h9NX9DIwQ',\n",
        "   u'2NlfQjmvXII',\n",
        "   u'YWMQMlQI7FM',\n",
        "   u'dCXd-dD96zs',\n",
        "   u'6lfAjdtwECc',\n",
        "   u'1s3uw9ZfZGc',\n",
        "   u'7s4QtQR56Ns',\n",
        "   u'Rgk7Ld8a2Vg',\n",
        "   u'E_-8lGBi8-k',\n",
        "   u'tZ9fY08wfVM',\n",
        "   u'nWANGhmqINY',\n",
        "   u'ADP098v_EUs',\n",
        "   u'8fablNfKLqU',\n",
        "   u'e3I9wiLhQjc',\n",
        "   u'neOcLyNkHMM',\n",
        "   u'NgpAub45XH4',\n",
        "   u'l0ibyDmTtw0',\n",
        "   u'6oCvLCmWVkk',\n",
        "   u'AkNwNkVemNw',\n",
        "   u'Q5czZT5eXoM',\n",
        "   u'BZ2PMr0n-dM',\n",
        "   u'gA_ScYs_oTk']},\n",
        " {'playlist_id': u'PLE8DBA2A06F770766',\n",
        "  'video_ids': [u'dVgr-VvQFIk',\n",
        "   u'5eT8Lu1Kcrc',\n",
        "   u'RCCsyjT-Xuw',\n",
        "   u'dCqLlcT3n3w',\n",
        "   u'KNfFynIDlMs',\n",
        "   u'nq1qpHhYSSE',\n",
        "   u'pdT0nVYN3SM',\n",
        "   u'KMX-xmSEaPY',\n",
        "   u'VA96uyFbEYs',\n",
        "   u'RhIE_c_amr8',\n",
        "   u'KGj9UgXWHTA',\n",
        "   u'58_UyZnxg9M',\n",
        "   u's9ICWgpaIe0',\n",
        "   u'q0DRFrqagzg',\n",
        "   u'MWnUS0zNB3Q',\n",
        "   u'V7PfZqp8-OE',\n",
        "   u'Stap825iQr4',\n",
        "   u'hy01QtIGIUw',\n",
        "   u'HGNytuGj3io',\n",
        "   u'0uE5wNOho48',\n",
        "   u'j2sEKyHm7Bk',\n",
        "   u'N3ZWXnZBUwo',\n",
        "   u'24iqFC68Fik',\n",
        "   u'XM41L6mMANo',\n",
        "   u'ozEaxJx6Tws',\n",
        "   u'EiK3tsz6Cco',\n",
        "   u'bq-jE4BbhE4',\n",
        "   u'8lbo1jCHWHE',\n",
        "   u'OnfpcqE9QJ0',\n",
        "   u'mz7NKBKmrw8',\n",
        "   u'87eNcOlPS7s',\n",
        "   u'Qm1W1ATTcBQ',\n",
        "   u'efEX0hBkxfo',\n",
        "   u'gRjaP4s8BRw',\n",
        "   u'AO0buIohn_c',\n",
        "   u'Ote_xEf-u0A',\n",
        "   u'RERcZF_cBc8',\n",
        "   u'KzU82n5vjqU',\n",
        "   u'sjlLO7uvkVo',\n",
        "   u'QMxpR6jaT-0',\n",
        "   u'MefozEc7_bQ',\n",
        "   u'tL4A0-sOtEY',\n",
        "   u'oGiDyqTb2gg',\n",
        "   u'h-alZ3u_ryM',\n",
        "   u'C8683MGjgqc',\n",
        "   u'Sm0ni2mXQlU',\n",
        "   u'a1DPXyLJqc8',\n",
        "   u'BX65iJiD6vU',\n",
        "   u'g-YgPoNy-Do',\n",
        "   u'_jx1i3r4lzQ',\n",
        "   u'qZbXhABqzKs',\n",
        "   u'cwmjl_WUedA',\n",
        "   u'8VGbC3OblAA']},\n",
        " {'playlist_id': u'PLF80AC8951C806F74',\n",
        "  'video_ids': [u'kVEuFTZIVL8',\n",
        "   u'AydzO1skFig',\n",
        "   u'hHZiLjQRifY',\n",
        "   u'Qca9hwS2sdg',\n",
        "   u'3kPmojZUAI8',\n",
        "   u'JCcKSHp2Qo0',\n",
        "   u'Vv5QI25xQqI',\n",
        "   u'IoAPUdkACAs',\n",
        "   u'HdWweqU05Mg',\n",
        "   u'O5_XDoytJcw',\n",
        "   u'TI_JabfziRo',\n",
        "   u'94hVcahYRVc',\n",
        "   u'v4mjoP4X10A',\n",
        "   u'Y5unLUwSlgQ',\n",
        "   u'T01AkCKenTA',\n",
        "   u'PDKJ2BbmP88',\n",
        "   u'_DZNRcpV9qY',\n",
        "   u'Fxz15Qqs0jg',\n",
        "   u'AlsFx8ZTI_w',\n",
        "   u'IUhFs4ld27Y',\n",
        "   u'cbEv1tD6eBs',\n",
        "   u'_BI2fmAw_nE',\n",
        "   u'7ZymAAReneo',\n",
        "   u'7gk3jMEwEkw',\n",
        "   u'o7iuTJTPjfQ',\n",
        "   u'00bPH8iEsPg',\n",
        "   u'ULFUozDfUcc']},\n",
        " {'playlist_id': u'PLB435557BA4B4BF0D',\n",
        "  'video_ids': [u'z7EfCGuyxUU',\n",
        "   u'C__hV6TZRw8',\n",
        "   u'5AEoaej8pOE',\n",
        "   u'oCcEvtA6b84',\n",
        "   u'eysVKuf30ps',\n",
        "   u'lgX44SwSz80',\n",
        "   u'uOv-Lz_fv6g',\n",
        "   u'FXIK0fWShBs']},\n",
        " {'playlist_id': u'PL1E00EBFE2E5E040F',\n",
        "  'video_ids': [u'_ymE599jcTY',\n",
        "   u'TuF3JVccfeM',\n",
        "   u'CCEY1BSP9pU',\n",
        "   u'FtEg9mviu8s',\n",
        "   u'-MFk1-8fg0k',\n",
        "   u'sgXmqwY1ma0',\n",
        "   u's5uRe0zTbDw',\n",
        "   u'E_n21MdGOGY',\n",
        "   u'YPgCzaBQzuE',\n",
        "   u'CDOTMOUXqR4',\n",
        "   u'S3yMeeyziJM',\n",
        "   u'k3ja9I6bGvU',\n",
        "   u'ObgBglnElZ4',\n",
        "   u'pYtIH7J4fOc',\n",
        "   u'FOiO8jiGYjw',\n",
        "   u'5b_2ySc9cqQ',\n",
        "   u'fNKEr0peLSw',\n",
        "   u'y81PGSFX_Pc',\n",
        "   u'GYOIZYrpu2c',\n",
        "   u'8PaEiU2gBUQ',\n",
        "   u'44_tMv7gE8U',\n",
        "   u'J9UzrN7An-Y',\n",
        "   u'ppHneWZW81M',\n",
        "   u'vJ23tPluHiU',\n",
        "   u'EQlvcLkIe6g',\n",
        "   u'ikpOCfH5OOg',\n",
        "   u'sTZ-SoSfoTc',\n",
        "   u'DyJ1bXZJOyo',\n",
        "   u'OpGUKAuDKSw',\n",
        "   u'aoIlvxTLPKU',\n",
        "   u'SPV1tMGmLT4',\n",
        "   u'9XwsRlBpCIs',\n",
        "   u'wBSv_GQwH0A',\n",
        "   u'3IRy_nkaYLU',\n",
        "   u'CjXhqj2ghIY',\n",
        "   u'k2r-MA2CuN4',\n",
        "   u'Rp9XnJdS5Ns',\n",
        "   u'KG4tnQttZxE',\n",
        "   u'GcYJPTbYtZk',\n",
        "   u'li6PqLn4Bl4',\n",
        "   u'4yP00yx0YcU',\n",
        "   u'HpRj4jgV-XA',\n",
        "   u'mh8EeD9Qjv0',\n",
        "   u'2XvdZ0dbPLY',\n",
        "   u'boY4vcrC-1M',\n",
        "   u'fD-VGqlN0fw',\n",
        "   u'5SCGymyZZv4',\n",
        "   u'goi-VUwUnjI',\n",
        "   u'BWQbR4o4HLY',\n",
        "   u'JwQTF-feVaY',\n",
        "   u'_CZDs_mnVZI',\n",
        "   u'XcaDmNhXbUQ',\n",
        "   u'yZsEGuLAnu8',\n",
        "   u'77nMm6gn0Pk',\n",
        "   u'ANr3nam7F18',\n",
        "   u'Hte8S_DvQTM',\n",
        "   u'lI9glPno6J8',\n",
        "   u'LNxAiNsTH-Y',\n",
        "   u'r9KdpTHIefk',\n",
        "   u'FMrGjLJLHwI',\n",
        "   u'5OjheG_CFks',\n",
        "   u'P2qrRjGeijs',\n",
        "   u'IynVX4aWPUM',\n",
        "   u'qNTb3t-5k4g',\n",
        "   u'LhCh7bXlCaQ']},\n",
        " {'playlist_id': u'PL1FF14AC1502F9EE3',\n",
        "  'video_ids': [u'cloHoCVJ6M4',\n",
        "   u'3L-BTcz54TU',\n",
        "   u'D3H98yYjfvE',\n",
        "   u'rUjRskCZUks',\n",
        "   u'v_YVkTBke_4',\n",
        "   u'waXGzzBnFhY',\n",
        "   u'jm4MovPl0_8',\n",
        "   u'U47kZ8KMCuQ',\n",
        "   u'HeKToLRsQZ4',\n",
        "   u'zi3xjWLQhks',\n",
        "   u'HnqrQtRZ2K4',\n",
        "   u'qwFXySKZBMo',\n",
        "   u'dvmBiiGmWv8',\n",
        "   u'EpB-ko7MxHQ',\n",
        "   u'h6SMCQYhyc0',\n",
        "   u'dVi_0bfZwxI',\n",
        "   u'aE705_TZuHc',\n",
        "   u'2Fe-xTkWP5Y',\n",
        "   u'gGcQH_YfVxg',\n",
        "   u'y7Nj6ODjiLA',\n",
        "   u'KpizXr9p2q8',\n",
        "   u'ISqAXiTca_s',\n",
        "   u'qY454YyY2lk',\n",
        "   u'YUWHb7yLdPE',\n",
        "   u'64Up432F2OU',\n",
        "   u'WX0qLt_HPv8',\n",
        "   u'jIM3H1lvPnk',\n",
        "   u'RXNIDMWqZ9Q',\n",
        "   u'CTIZaJWb_kA',\n",
        "   u'LhCh7bXlCaQ',\n",
        "   u'wVBitkk_2Uw',\n",
        "   u'pyfcoC63Tcc',\n",
        "   u'hjKHFDFBfOY',\n",
        "   u'Uni04qyHqZY',\n",
        "   u'BmOPWAPIh2g',\n",
        "   u'f0rtlw_6Z7U',\n",
        "   u'dRT0PbpFWPg',\n",
        "   u'ddx64Kq2SEI',\n",
        "   u'yTNNlKVORZ4',\n",
        "   u'8iBGF4Uzmgs',\n",
        "   u'ZdveDS9lsr0',\n",
        "   u'P9jr-8ox_QE',\n",
        "   u'v0rNYzJGS-Q',\n",
        "   u'Zao4ftXK448',\n",
        "   u'e4HWYUOV_nE',\n",
        "   u'7SsLiTPGijc',\n",
        "   u'XyRYF_JvUU8',\n",
        "   u'NEKls3iPbSA',\n",
        "   u'KKt6QLGV8NA',\n",
        "   u'xD4yvaaZ5jY',\n",
        "   u'VXeMThkY1uc',\n",
        "   u'Ae2DKbH__x4',\n",
        "   u'ci-d2g7s0Uo',\n",
        "   u'tgImHTaihdM',\n",
        "   u'ympXaudSnEw',\n",
        "   u'Hkv-ZNz1wCk',\n",
        "   u'rnBuSR6-99I',\n",
        "   u'QrHKliUTjcg',\n",
        "   u'9siu0pUN7M0',\n",
        "   u'mzLCGJnwEnQ',\n",
        "   u'87s6jQaL0w4',\n",
        "   u'TnK8lAyIAjs',\n",
        "   u'oqQuKnzKes0',\n",
        "   u'ZgU0NHdr6uE',\n",
        "   u'NiAjCUInUd8',\n",
        "   u'R81hMuiepsc',\n",
        "   u'kmE49x20xKQ',\n",
        "   u'Vr5lSj9mnBA',\n",
        "   u'pvF40laqV9U',\n",
        "   u'pGRLtVtHHYI',\n",
        "   u'U5gAEMrSo48',\n",
        "   u'yiS05lNcYr0',\n",
        "   u'4HlKt055fWA',\n",
        "   u'aEo7J64fIG0',\n",
        "   u'UlRT_cFNNHA',\n",
        "   u'UuFKSeQhSXY',\n",
        "   u'NM1MyJwLo7s',\n",
        "   u'WVmTQhiM9dQ',\n",
        "   u'WZYN9moRpVQ',\n",
        "   u'8Zj16mueaw8',\n",
        "   u'_dLt5wUsy7s',\n",
        "   u'b2TUQPlVibg',\n",
        "   u'VNHy7XWb134',\n",
        "   u'69dahts_46U',\n",
        "   u'9TBroPjGKMw']}]"
       ]
      }
     ],
     "prompt_number": 20
    },
    {
     "cell_type": "code",
     "collapsed": false,
     "input": [],
     "language": "python",
     "metadata": {},
     "outputs": []
    },
    {
     "cell_type": "code",
     "collapsed": false,
     "input": [],
     "language": "python",
     "metadata": {},
     "outputs": [],
     "prompt_number": 14
    },
    {
     "cell_type": "code",
     "collapsed": false,
     "input": [
      "playlist_data = yt_coscup._get_data(\"https://gdata.youtube.com/feeds/playlists/PLD0F06AA0D2E8FFBA\")"
     ],
     "language": "python",
     "metadata": {},
     "outputs": [],
     "prompt_number": 10
    },
    {
     "cell_type": "code",
     "collapsed": false,
     "input": [
      "next_page_list = [xx[\"href\"] for xx in playlist_data[\"feed\"][\"link\"] if xx[\"rel\"] == \"next\"]"
     ],
     "language": "python",
     "metadata": {},
     "outputs": [],
     "prompt_number": 11
    },
    {
     "cell_type": "code",
     "collapsed": false,
     "input": [
      "next_page_list"
     ],
     "language": "python",
     "metadata": {},
     "outputs": [
      {
       "metadata": {},
       "output_type": "pyout",
       "prompt_number": 12,
       "text": [
        "[u'https://gdata.youtube.com/feeds/playlists/PLD0F06AA0D2E8FFBA?alt=json&start-index=26&max-results=25']"
       ]
      }
     ],
     "prompt_number": 12
    },
    {
     "cell_type": "code",
     "collapsed": false,
     "input": [
      "len(playlist_data[\"feed\"][\"entry\"])"
     ],
     "language": "python",
     "metadata": {},
     "outputs": [
      {
       "metadata": {},
       "output_type": "pyout",
       "prompt_number": 15,
       "text": [
        "25"
       ]
      }
     ],
     "prompt_number": 15
    },
    {
     "cell_type": "code",
     "collapsed": false,
     "input": [
      "[xx for xx in playlist_data[\"feed\"][\"entry\"][0][\"link\"] if xx[\"rel\"] == \"related\"][0][\"href\"].split(\"/\")[-1]"
     ],
     "language": "python",
     "metadata": {},
     "outputs": [
      {
       "metadata": {},
       "output_type": "pyout",
       "prompt_number": 46,
       "text": [
        "u'yDLKJtOVx5c'"
       ]
      }
     ],
     "prompt_number": 46
    },
    {
     "cell_type": "code",
     "collapsed": false,
     "input": [
      "[xx for xx in playlist_data[\"feed\"][\"entry\"][0][\"media$group\"][\"media$player\"][0][\"url\"].split(\"?\")[-1].split(\"&\") if xx.startswith(\"v=\")][0].replace(\"v=\",\"\")"
     ],
     "language": "python",
     "metadata": {},
     "outputs": [
      {
       "metadata": {},
       "output_type": "pyout",
       "prompt_number": 33,
       "text": [
        "u'yDLKJtOVx5c'"
       ]
      }
     ],
     "prompt_number": 33
    },
    {
     "cell_type": "code",
     "collapsed": false,
     "input": [
      "print playlist_data[\"feed\"][\"entry\"][0][\"id\"]\n",
      "print playlist_data[\"feed\"][\"entry\"][1][\"id\"]"
     ],
     "language": "python",
     "metadata": {},
     "outputs": [
      {
       "output_type": "stream",
       "stream": "stdout",
       "text": [
        "{u'$t': u'http://gdata.youtube.com/feeds/playlists/PLD0F06AA0D2E8FFBA/PLEBwJ9WeZAMXSS4JsEcil1NEWwF1pNiO0'}\n",
        "{u'$t': u'http://gdata.youtube.com/feeds/playlists/PLD0F06AA0D2E8FFBA/PLEBwJ9WeZAMW3WLSnhE8rtRJUIajqYTBs'}\n"
       ]
      }
     ],
     "prompt_number": 20
    },
    {
     "cell_type": "code",
     "collapsed": false,
     "input": [],
     "language": "python",
     "metadata": {},
     "outputs": []
    },
    {
     "cell_type": "code",
     "collapsed": false,
     "input": [
      "\n",
      "def get_video_id_from_playlist_data_entry(one_entry):\n",
      "    return [xx for xx in one_entry[\"media$group\"][\"media$player\"][0][\"url\"].split(\"?\")[-1].split(\"&\") if xx.startswith(\"v=\")][0].replace(\"v=\",\"\")"
     ],
     "language": "python",
     "metadata": {},
     "outputs": [],
     "prompt_number": 34
    },
    {
     "cell_type": "code",
     "collapsed": false,
     "input": [
      "map(get_video_id_from_playlist_data_entry,playlist_data[\"feed\"][\"entry\"])"
     ],
     "language": "python",
     "metadata": {},
     "outputs": [
      {
       "metadata": {},
       "output_type": "pyout",
       "prompt_number": 35,
       "text": [
        "[u'yDLKJtOVx5c',\n",
        " u'WpxK__SK2a0',\n",
        " u'lANt56UOaSk',\n",
        " u'pytUuJPOnVI',\n",
        " u'oTtow2Ui8vg',\n",
        " u'4ObVzTuFivY',\n",
        " u'p17C9q2M00Q',\n",
        " u'zvUOpbgtW3c',\n",
        " u'_RxqyvRK0Rw',\n",
        " u'S51plSJBC2g',\n",
        " u'UMtBWQ2m04g',\n",
        " u'5Lu1eTiX7qM',\n",
        " u'JM4Y0B6Ho90',\n",
        " u'o7iDkcpOr_g',\n",
        " u'KYRAO8f5rXA',\n",
        " u'NC_cTB1PHyQ',\n",
        " u'--nMFiqwoZA',\n",
        " u'AihhnWyl-J0',\n",
        " u'frbX2JH-_Aw',\n",
        " u'Ih4R42qPRWo',\n",
        " u'VP3DxMxXw3Q',\n",
        " u'aHwsEXCk4HA',\n",
        " u'2vkm5ZIRsJU',\n",
        " u'XtUNwVrWnPM',\n",
        " u'Ux77m6ujZCc']"
       ]
      }
     ],
     "prompt_number": 35
    },
    {
     "cell_type": "code",
     "collapsed": false,
     "input": [],
     "language": "python",
     "metadata": {},
     "outputs": []
    },
    {
     "cell_type": "code",
     "collapsed": false,
     "input": [
      "#test = yt_coscup.get_all_uploads()"
     ],
     "language": "python",
     "metadata": {},
     "outputs": [],
     "prompt_number": 10
    },
    {
     "cell_type": "code",
     "collapsed": false,
     "input": [
      "#len(test)"
     ],
     "language": "python",
     "metadata": {},
     "outputs": [],
     "prompt_number": 11
    },
    {
     "cell_type": "code",
     "collapsed": false,
     "input": [
      "playlist_data = yt_coscup._get_data(yt_coscup.playlist_url)"
     ],
     "language": "python",
     "metadata": {},
     "outputs": [],
     "prompt_number": 13
    },
    {
     "cell_type": "code",
     "collapsed": false,
     "input": [
      "playlist_data[\"feed\"][\"link\"]"
     ],
     "language": "python",
     "metadata": {},
     "outputs": [
      {
       "metadata": {},
       "output_type": "pyout",
       "prompt_number": 27,
       "text": [
        "[{u'href': u'https://gdata.youtube.com/feeds/users/thecoscup',\n",
        "  u'rel': u'related',\n",
        "  u'type': u'application/atom+xml'},\n",
        " {u'href': u'https://www.youtube.com',\n",
        "  u'rel': u'alternate',\n",
        "  u'type': u'text/html'},\n",
        " {u'href': u'http://pubsubhubbub.appspot.com', u'rel': u'hub'},\n",
        " {u'href': u'https://gdata.youtube.com/feeds/users/thecoscup/playlists',\n",
        "  u'rel': u'http://schemas.google.com/g/2005#feed',\n",
        "  u'type': u'application/atom+xml'},\n",
        " {u'href': u'https://gdata.youtube.com/feeds/users/thecoscup/playlists/batch',\n",
        "  u'rel': u'http://schemas.google.com/g/2005#batch',\n",
        "  u'type': u'application/atom+xml'},\n",
        " {u'href': u'https://gdata.youtube.com/feeds/users/thecoscup/playlists?alt=json&start-index=1&max-results=25',\n",
        "  u'rel': u'self',\n",
        "  u'type': u'application/atom+xml'}]"
       ]
      }
     ],
     "prompt_number": 27
    },
    {
     "cell_type": "code",
     "collapsed": false,
     "input": [
      "next_page_list = [xx[\"href\"] for xx in playlist_data[\"feed\"][\"link\"] if xx[\"rel\"] == \"next\"]\n",
      "next_page_list"
     ],
     "language": "python",
     "metadata": {},
     "outputs": [
      {
       "metadata": {},
       "output_type": "pyout",
       "prompt_number": 28,
       "text": [
        "[]"
       ]
      }
     ],
     "prompt_number": 28
    },
    {
     "cell_type": "code",
     "collapsed": false,
     "input": [
      "one_playlist_data_entry = playlist_data[\"feed\"][\"entry\"][5]"
     ],
     "language": "python",
     "metadata": {},
     "outputs": [],
     "prompt_number": 24
    },
    {
     "cell_type": "code",
     "collapsed": false,
     "input": [
      "one_playlist_data_entry"
     ],
     "language": "python",
     "metadata": {},
     "outputs": [
      {
       "metadata": {},
       "output_type": "pyout",
       "prompt_number": 25,
       "text": [
        "{u'author': [{u'name': {u'$t': u'COSCUP \\u958b\\u6e90\\u4eba\\u5e74\\u6703'},\n",
        "   u'uri': {u'$t': u'https://gdata.youtube.com/feeds/users/thecoscup'}}],\n",
        " u'category': [{u'scheme': u'http://schemas.google.com/g/2005#kind',\n",
        "   u'term': u'http://gdata.youtube.com/schemas/2007#playlistLink'}],\n",
        " u'content': {u'$t': u'', u'type': u'text'},\n",
        " u'gd$feedLink': [{u'countHint': 8,\n",
        "   u'href': u'https://gdata.youtube.com/feeds/playlists/PLB435557BA4B4BF0D',\n",
        "   u'rel': u'http://gdata.youtube.com/schemas/2007#playlist'}],\n",
        " u'id': {u'$t': u'http://gdata.youtube.com/feeds/users/thecoscup/playlists/PLB435557BA4B4BF0D'},\n",
        " u'link': [{u'href': u'https://gdata.youtube.com/feeds/users/thecoscup',\n",
        "   u'rel': u'related',\n",
        "   u'type': u'application/atom+xml'},\n",
        "  {u'href': u'https://www.youtube.com/playlist?list=PLB435557BA4B4BF0D',\n",
        "   u'rel': u'alternate',\n",
        "   u'type': u'text/html'},\n",
        "  {u'href': u'https://gdata.youtube.com/feeds/users/thecoscup/playlists/PLB435557BA4B4BF0D',\n",
        "   u'rel': u'self',\n",
        "   u'type': u'application/atom+xml'}],\n",
        " u'media$group': {u'media$thumbnail': [{u'height': 90,\n",
        "    u'url': u'https://i.ytimg.com/vi/z7EfCGuyxUU/default.jpg',\n",
        "    u'width': 120,\n",
        "    u'yt$name': u'default'},\n",
        "   {u'height': 180,\n",
        "    u'url': u'https://i.ytimg.com/vi/z7EfCGuyxUU/mqdefault.jpg',\n",
        "    u'width': 320,\n",
        "    u'yt$name': u'mqdefault'},\n",
        "   {u'height': 360,\n",
        "    u'url': u'https://i.ytimg.com/vi/z7EfCGuyxUU/hqdefault.jpg',\n",
        "    u'width': 480,\n",
        "    u'yt$name': u'hqdefault'}],\n",
        "  u'yt$duration': {u'seconds': u'0'}},\n",
        " u'published': {u'$t': u'2012-04-11T01:22:36.000Z'},\n",
        " u'title': {u'$t': u'COSCUP 2007', u'type': u'text'},\n",
        " u'updated': {u'$t': u'2014-06-21T05:42:27.000Z'},\n",
        " u'yt$description': {u'$t': u''},\n",
        " u'yt$playlistId': {u'$t': u'PLB435557BA4B4BF0D'}}"
       ]
      }
     ],
     "prompt_number": 25
    },
    {
     "cell_type": "code",
     "collapsed": false,
     "input": [
      "print one_playlist_data_entry[\"author\"][0][\"name\"][\"$t\"]\n",
      "print one_playlist_data_entry[\"yt$playlistId\"][\"$t\"]"
     ],
     "language": "python",
     "metadata": {},
     "outputs": [
      {
       "output_type": "stream",
       "stream": "stdout",
       "text": [
        "COSCUP \u958b\u6e90\u4eba\u5e74\u6703\n",
        "PLB435557BA4B4BF0D\n"
       ]
      }
     ],
     "prompt_number": 26
    },
    {
     "cell_type": "code",
     "collapsed": false,
     "input": [],
     "language": "python",
     "metadata": {},
     "outputs": []
    },
    {
     "cell_type": "code",
     "collapsed": false,
     "input": [
      "map(get_playlist_id_from_entry,playlist_data[\"feed\"][\"entry\"])"
     ],
     "language": "python",
     "metadata": {},
     "outputs": [
      {
       "metadata": {},
       "output_type": "pyout",
       "prompt_number": 30,
       "text": [
        "[u'PLqfib4St70XMqJM3AL-Xe7jr6nbRwetcZ',\n",
        " u'PLqfib4St70XPA2MCk1-nJFUFHsIQFdSM5',\n",
        " u'PLqfib4St70XNspmD7hOJQrcXa3CnvCc9V',\n",
        " u'PLE8DBA2A06F770766',\n",
        " u'PLF80AC8951C806F74',\n",
        " u'PLB435557BA4B4BF0D',\n",
        " u'PL1E00EBFE2E5E040F',\n",
        " u'PL1FF14AC1502F9EE3']"
       ]
      }
     ],
     "prompt_number": 30
    },
    {
     "cell_type": "code",
     "collapsed": false,
     "input": [],
     "language": "python",
     "metadata": {},
     "outputs": []
    },
    {
     "cell_type": "code",
     "collapsed": false,
     "input": [
      "yt_TWR = YoutubeChannelOpenData(\"TWuseRGroup\")"
     ],
     "language": "python",
     "metadata": {},
     "outputs": [],
     "prompt_number": 33
    },
    {
     "cell_type": "code",
     "collapsed": false,
     "input": [
      "test2 = yt_TWR.get_all_uploads()"
     ],
     "language": "python",
     "metadata": {},
     "outputs": [
      {
       "output_type": "stream",
       "stream": "stdout",
       "text": [
        "next_page_list =  ['https://gdata.youtube.com/feeds/users/TWuseRGroup/uploads/']\n",
        "next_page_list = "
       ]
      },
      {
       "output_type": "stream",
       "stream": "stdout",
       "text": [
        " [u'https://gdata.youtube.com/feeds/users/TWuseRGroup/uploads?alt=json&start-index=26&max-results=25']\n",
        "next_page_list = "
       ]
      },
      {
       "output_type": "stream",
       "stream": "stdout",
       "text": [
        " [u'https://gdata.youtube.com/feeds/users/TWuseRGroup/uploads?alt=json&start-index=51&max-results=25']\n",
        "next_page_list = "
       ]
      },
      {
       "output_type": "stream",
       "stream": "stdout",
       "text": [
        " [u'https://gdata.youtube.com/feeds/users/TWuseRGroup/uploads?alt=json&start-index=76&max-results=25']\n",
        "next_page_list = "
       ]
      },
      {
       "output_type": "stream",
       "stream": "stdout",
       "text": [
        " [u'https://gdata.youtube.com/feeds/users/TWuseRGroup/uploads?alt=json&start-index=101&max-results=25']\n",
        "next_page_list = "
       ]
      },
      {
       "output_type": "stream",
       "stream": "stdout",
       "text": [
        " [u'https://gdata.youtube.com/feeds/users/TWuseRGroup/uploads?alt=json&start-index=126&max-results=25']\n",
        "next_page_list = "
       ]
      },
      {
       "output_type": "stream",
       "stream": "stdout",
       "text": [
        " [u'https://gdata.youtube.com/feeds/users/TWuseRGroup/uploads?alt=json&start-index=151&max-results=25']\n",
        "next_page_list = "
       ]
      },
      {
       "output_type": "stream",
       "stream": "stdout",
       "text": [
        " [u'https://gdata.youtube.com/feeds/users/TWuseRGroup/uploads?alt=json&start-index=176&max-results=25']\n",
        "next_page_list = "
       ]
      },
      {
       "output_type": "stream",
       "stream": "stdout",
       "text": [
        " [u'https://gdata.youtube.com/feeds/users/TWuseRGroup/uploads?alt=json&start-index=201&max-results=25']\n",
        "next_page_list = "
       ]
      },
      {
       "output_type": "stream",
       "stream": "stdout",
       "text": [
        " [u'https://gdata.youtube.com/feeds/users/TWuseRGroup/uploads?alt=json&start-index=226&max-results=25']\n",
        "next_page_list = "
       ]
      },
      {
       "output_type": "stream",
       "stream": "stdout",
       "text": [
        " []\n"
       ]
      }
     ],
     "prompt_number": 34
    },
    {
     "cell_type": "code",
     "collapsed": false,
     "input": [
      "len(test2)"
     ],
     "language": "python",
     "metadata": {},
     "outputs": [
      {
       "metadata": {},
       "output_type": "pyout",
       "prompt_number": 35,
       "text": [
        "237"
       ]
      }
     ],
     "prompt_number": 35
    },
    {
     "cell_type": "code",
     "collapsed": false,
     "input": [],
     "language": "python",
     "metadata": {},
     "outputs": []
    },
    {
     "cell_type": "code",
     "collapsed": false,
     "input": [],
     "language": "python",
     "metadata": {},
     "outputs": []
    },
    {
     "cell_type": "code",
     "collapsed": false,
     "input": [
      "res = requests.get(yt_coscup.uploads_url)"
     ],
     "language": "python",
     "metadata": {},
     "outputs": [],
     "prompt_number": 8
    },
    {
     "cell_type": "code",
     "collapsed": false,
     "input": [
      "upload_data = yt_coscup._get_data(yt_coscup.uploads_url)"
     ],
     "language": "python",
     "metadata": {},
     "outputs": [],
     "prompt_number": 9
    },
    {
     "cell_type": "code",
     "collapsed": false,
     "input": [
      "upload_data.keys()"
     ],
     "language": "python",
     "metadata": {},
     "outputs": [
      {
       "metadata": {},
       "output_type": "pyout",
       "prompt_number": 10,
       "text": [
        "[u'feed', u'version', u'encoding']"
       ]
      }
     ],
     "prompt_number": 10
    },
    {
     "cell_type": "code",
     "collapsed": false,
     "input": [
      "print upload_data[\"feed\"][\"entry\"][0].keys()\n",
      "one_upload_data_entry = upload_data[\"feed\"][\"entry\"][0]\n",
      "one_upload_data_entry"
     ],
     "language": "python",
     "metadata": {},
     "outputs": [
      {
       "output_type": "stream",
       "stream": "stdout",
       "text": [
        "[u'category', u'updated', u'yt$threed', u'gd$comments', u'title', u'yt$hd', u'gd$rating', u'media$group', u'author', u'yt$statistics', u'content', u'link', u'published', u'id']\n"
       ]
      },
      {
       "metadata": {},
       "output_type": "pyout",
       "prompt_number": 17,
       "text": [
        "{u'author': [{u'name': {u'$t': u'COSCUP \\u958b\\u6e90\\u4eba\\u5e74\\u6703'},\n",
        "   u'uri': {u'$t': u'https://gdata.youtube.com/feeds/users/thecoscup'}}],\n",
        " u'category': [{u'scheme': u'http://schemas.google.com/g/2005#kind',\n",
        "   u'term': u'http://gdata.youtube.com/schemas/2007#video'},\n",
        "  {u'label': u'Travel & Events',\n",
        "   u'scheme': u'http://gdata.youtube.com/schemas/2007/categories.cat',\n",
        "   u'term': u'Travel'}],\n",
        " u'content': {u'$t': u'<div style=\"color: #000000;font-family: Arial, Helvetica, sans-serif;     font-size:12px; font-size: 12px; width: 555px;\">\\n<table cellspacing=\"0\" cellpadding=\"0\" border=\"0\"><tbody><tr><td width=\"140\" valign=\"top\" rowspan=\"2\"><div style=\"border: 1px solid #999999; margin: 0px 10px 5px 0px;\"><a href=\"https://www.youtube.com/watch?v=FhGK7nU-GTc&amp;feature=youtube_gdata\"><img alt=\"\" src=\"https://i.ytimg.com/vi/FhGK7nU-GTc/0.jpg\"></a></div></td>\\n<td width=\"256\" valign=\"top\"><div style=\"font-size: 12px; font-weight: bold;\"><a style=\"font-size: 15px; font-weight: bold;                  font-decoration: none;\" href=\"https://www.youtube.com/watch?v=FhGK7nU-GTc&amp;feature=youtube_gdata\">[COSCUP 2014] &#35352;&#37636;&#32068;&#21729;&#30340;&#19968;&#22825;</a>\\n<br></div>\\n<div style=\"font-size: 12px; margin: 3px 0px;\"><span>60X&#65292;&#36895;&#24230;&#24456;&#24555;&#65292;&#23481;&#26131;&#38957;&#26248;&#32773;&#35531;&#23567;&#24515;&#35264;&#30475;&#65292;&#20063;&#21487;&#20197;&#20351;&#29992; YouTube &#30340;&#24930;&#36895;&#25773;&#25918;&#21151;&#33021;&#12290;</span></div></td>\\n<td style=\"font-size: 11px; line-height: 1.4em; padding-left: 20px;             padding-top: 1px;\" width=\"146\" valign=\"top\"><div><span style=\"color: #666666; font-size: 11px;\">From:</span>\\n<a href=\"https://www.youtube.com/channel/UCU8s-nDqbsKnitUNaVJ2Xvg\">COSCUP &#38283;&#28304;&#20154;&#24180;&#26371;</a></div>\\n<div><span style=\"color: #666666; font-size: 11px;\">Views:</span>\\n602</div>\\n<div style=\"white-space: nowrap;text-align: left\"><img style=\"border: 0px none; margin: 0px; padding: 0px;                    vertical-align: middle; font-size: 11px;\" align=\"top\" alt=\"\" src=\"https://gdata.youtube.com/static/images/icn_star_full_11x11.gif\"> <img style=\"border: 0px none; margin: 0px; padding: 0px;                    vertical-align: middle; font-size: 11px;\" align=\"top\" alt=\"\" src=\"https://gdata.youtube.com/static/images/icn_star_full_11x11.gif\"> <img style=\"border: 0px none; margin: 0px; padding: 0px;                    vertical-align: middle; font-size: 11px;\" align=\"top\" alt=\"\" src=\"https://gdata.youtube.com/static/images/icn_star_full_11x11.gif\"> <img style=\"border: 0px none; margin: 0px; padding: 0px;                    vertical-align: middle; font-size: 11px;\" align=\"top\" alt=\"\" src=\"https://gdata.youtube.com/static/images/icn_star_full_11x11.gif\"> <img style=\"border: 0px none; margin: 0px; padding: 0px;                    vertical-align: middle; font-size: 11px;\" align=\"top\" alt=\"\" src=\"https://gdata.youtube.com/static/images/icn_star_full_11x11.gif\"></div>\\n<div style=\"font-size: 11px;\">10\\n<span style=\"color: #666666; font-size: 11px;\">ratings</span></div></td></tr>\\n<tr><td><span style=\"color: #666666; font-size: 11px;\">Time:</span>\\n<span style=\"color: #000000; font-size: 11px; font-weight: bold;\">10:46</span></td>\\n<td style=\"font-size: 11px; padding-left: 20px;\"><span style=\"color: #666666; font-size: 11px;\">More in</span>\\n<a href=\"https://www.youtube.com/videos?c=19\">Travel &amp; Events</a></td></tr></tbody></table></div>',\n",
        "  u'type': u'html'},\n",
        " u'gd$comments': {u'gd$feedLink': {u'countHint': 0,\n",
        "   u'href': u'https://gdata.youtube.com/feeds/videos/FhGK7nU-GTc/comments',\n",
        "   u'rel': u'http://gdata.youtube.com/schemas/2007#comments'}},\n",
        " u'gd$rating': {u'average': 5.0,\n",
        "  u'max': 5,\n",
        "  u'min': 1,\n",
        "  u'numRaters': 10,\n",
        "  u'rel': u'http://schemas.google.com/g/2005#overall'},\n",
        " u'id': {u'$t': u'http://gdata.youtube.com/feeds/videos/FhGK7nU-GTc'},\n",
        " u'link': [{u'href': u'https://www.youtube.com/watch?v=FhGK7nU-GTc&feature=youtube_gdata',\n",
        "   u'rel': u'alternate',\n",
        "   u'type': u'text/html'},\n",
        "  {u'href': u'https://gdata.youtube.com/feeds/videos/FhGK7nU-GTc/related',\n",
        "   u'rel': u'http://gdata.youtube.com/schemas/2007#video.related',\n",
        "   u'type': u'application/atom+xml'},\n",
        "  {u'href': u'https://m.youtube.com/details?v=FhGK7nU-GTc',\n",
        "   u'rel': u'http://gdata.youtube.com/schemas/2007#mobile',\n",
        "   u'type': u'text/html'},\n",
        "  {u'href': u'https://gdata.youtube.com/feeds/users/thecoscup/uploads/FhGK7nU-GTc',\n",
        "   u'rel': u'self',\n",
        "   u'type': u'application/atom+xml'}],\n",
        " u'media$group': {u'media$category': [{u'$t': u'Travel',\n",
        "    u'label': u'Travel & Events',\n",
        "    u'scheme': u'http://gdata.youtube.com/schemas/2007/categories.cat'}],\n",
        "  u'media$content': [{u'duration': 646,\n",
        "    u'expression': u'full',\n",
        "    u'isDefault': u'true',\n",
        "    u'medium': u'video',\n",
        "    u'type': u'application/x-shockwave-flash',\n",
        "    u'url': u'https://www.youtube.com/v/FhGK7nU-GTc?version=3&f=user_uploads&app=youtube_gdata',\n",
        "    u'yt$format': 5},\n",
        "   {u'duration': 646,\n",
        "    u'expression': u'full',\n",
        "    u'medium': u'video',\n",
        "    u'type': u'video/3gpp',\n",
        "    u'url': u'rtsp://r1---sn-a5m7zu7l.c.youtube.com/CigLENy73wIaHwk3GT517ooRFhMYDSANFEgGUgx1c2VyX3VwbG9hZHMM/0/0/0/video.3gp',\n",
        "    u'yt$format': 1},\n",
        "   {u'duration': 646,\n",
        "    u'expression': u'full',\n",
        "    u'medium': u'video',\n",
        "    u'type': u'video/3gpp',\n",
        "    u'url': u'rtsp://r1---sn-a5m7zu7l.c.youtube.com/CigLENy73wIaHwk3GT517ooRFhMYESARFEgGUgx1c2VyX3VwbG9hZHMM/0/0/0/video.3gp',\n",
        "    u'yt$format': 6}],\n",
        "  u'media$description': {u'$t': u'60X\\uff0c\\u901f\\u5ea6\\u5f88\\u5feb\\uff0c\\u5bb9\\u6613\\u982d\\u6688\\u8005\\u8acb\\u5c0f\\u5fc3\\u89c0\\u770b\\uff0c\\u4e5f\\u53ef\\u4ee5\\u4f7f\\u7528 YouTube \\u7684\\u6162\\u901f\\u64ad\\u653e\\u529f\\u80fd\\u3002',\n",
        "   u'type': u'plain'},\n",
        "  u'media$keywords': {},\n",
        "  u'media$player': [{u'url': u'https://www.youtube.com/watch?v=FhGK7nU-GTc&feature=youtube_gdata_player'}],\n",
        "  u'media$thumbnail': [{u'height': 360,\n",
        "    u'time': u'00:05:23',\n",
        "    u'url': u'https://i.ytimg.com/vi/FhGK7nU-GTc/0.jpg',\n",
        "    u'width': 480},\n",
        "   {u'height': 90,\n",
        "    u'time': u'00:02:41.500',\n",
        "    u'url': u'https://i.ytimg.com/vi/FhGK7nU-GTc/1.jpg',\n",
        "    u'width': 120},\n",
        "   {u'height': 90,\n",
        "    u'time': u'00:05:23',\n",
        "    u'url': u'https://i.ytimg.com/vi/FhGK7nU-GTc/2.jpg',\n",
        "    u'width': 120},\n",
        "   {u'height': 90,\n",
        "    u'time': u'00:08:04.500',\n",
        "    u'url': u'https://i.ytimg.com/vi/FhGK7nU-GTc/3.jpg',\n",
        "    u'width': 120}],\n",
        "  u'media$title': {u'$t': u'[COSCUP 2014] \\u8a18\\u9304\\u7d44\\u54e1\\u7684\\u4e00\\u5929',\n",
        "   u'type': u'plain'},\n",
        "  u'yt$duration': {u'seconds': u'646'}},\n",
        " u'published': {u'$t': u'2014-07-22T14:24:44.000Z'},\n",
        " u'title': {u'$t': u'[COSCUP 2014] \\u8a18\\u9304\\u7d44\\u54e1\\u7684\\u4e00\\u5929',\n",
        "  u'type': u'text'},\n",
        " u'updated': {u'$t': u'2014-07-25T05:07:19.000Z'},\n",
        " u'yt$hd': {},\n",
        " u'yt$statistics': {u'favoriteCount': u'0', u'viewCount': u'602'},\n",
        " u'yt$threed': {u'source': u'converted'}}"
       ]
      }
     ],
     "prompt_number": 17
    },
    {
     "cell_type": "code",
     "collapsed": false,
     "input": [
      "print upload_data[\"feed\"][\"entry\"][1][\"id\"]\n",
      "print upload_data[\"feed\"][\"entry\"][1][\"title\"]\n",
      "print upload_data[\"feed\"][\"entry\"][1][\"category\"]\n",
      "print upload_data[\"feed\"][\"entry\"][1][\"author\"]\n",
      "print upload_data[\"feed\"][\"entry\"][1][\"media$group\"][\"media$description\"][\"$t\"]\n",
      "\n",
      "\n",
      "def summary_one_upload_data_entry(one_upload_data_entry):\n",
      "    return {\"ytid\":one_upload_data_entry[\"id\"][\"$t\"].split(\"/\")[-1],\n",
      "            \"title\":one_upload_data_entry[\"title\"][\"$t\"],\n",
      "            \"categories\":one_upload_data_entry[\"category\"],\n",
      "            \"author\":one_upload_data_entry[\"author\"][0][\"name\"][\"$t\"],\n",
      "            \"description\":one_upload_data_entry[\"media$group\"][\"media$description\"][\"$t\"],\n",
      "            }\n",
      "\n",
      "summary_one_upload_data_entry(one_upload_data_entry)\n"
     ],
     "language": "python",
     "metadata": {},
     "outputs": [
      {
       "output_type": "stream",
       "stream": "stdout",
       "text": [
        "{u'$t': u'http://gdata.youtube.com/feeds/videos/lxbq0VDF4sg'}\n",
        "{u'$t': u'[COSCUP 2013] \\u958b\\u5e55\\u5f0f', u'type': u'text'}\n",
        "[{u'term': u'http://gdata.youtube.com/schemas/2007#video', u'scheme': u'http://schemas.google.com/g/2005#kind'}, {u'term': u'Nonprofit', u'scheme': u'http://gdata.youtube.com/schemas/2007/categories.cat', u'label': u'Nonprofits & Activism'}]\n",
        "[{u'name': {u'$t': u'COSCUP \\u958b\\u6e90\\u4eba\\u5e74\\u6703'}, u'uri': {u'$t': u'https://gdata.youtube.com/feeds/users/thecoscup'}}]\n",
        "\n"
       ]
      },
      {
       "metadata": {},
       "output_type": "pyout",
       "prompt_number": 23,
       "text": [
        "{'author': u'COSCUP \\u958b\\u6e90\\u4eba\\u5e74\\u6703',\n",
        " 'categories': [{u'scheme': u'http://schemas.google.com/g/2005#kind',\n",
        "   u'term': u'http://gdata.youtube.com/schemas/2007#video'},\n",
        "  {u'label': u'Travel & Events',\n",
        "   u'scheme': u'http://gdata.youtube.com/schemas/2007/categories.cat',\n",
        "   u'term': u'Travel'}],\n",
        " 'description': u'60X\\uff0c\\u901f\\u5ea6\\u5f88\\u5feb\\uff0c\\u5bb9\\u6613\\u982d\\u6688\\u8005\\u8acb\\u5c0f\\u5fc3\\u89c0\\u770b\\uff0c\\u4e5f\\u53ef\\u4ee5\\u4f7f\\u7528 YouTube \\u7684\\u6162\\u901f\\u64ad\\u653e\\u529f\\u80fd\\u3002',\n",
        " 'title': u'[COSCUP 2014] \\u8a18\\u9304\\u7d44\\u54e1\\u7684\\u4e00\\u5929',\n",
        " 'ytid': u'FhGK7nU-GTc'}"
       ]
      }
     ],
     "prompt_number": 23
    },
    {
     "cell_type": "code",
     "collapsed": false,
     "input": [
      "[xx[\"href\"] for xx in upload_data[\"feed\"][\"link\"] if xx[\"rel\"] == \"next\"]"
     ],
     "language": "python",
     "metadata": {},
     "outputs": [
      {
       "metadata": {},
       "output_type": "pyout",
       "prompt_number": 13,
       "text": [
        "[u'https://gdata.youtube.com/feeds/users/thecoscup/uploads?alt=json&start-index=26&max-results=25']"
       ]
      }
     ],
     "prompt_number": 13
    },
    {
     "cell_type": "code",
     "collapsed": false,
     "input": [
      "\n",
      "print upload_data[\"feed\"][\"link\"][4]\n",
      "print upload_data[\"feed\"][\"link\"][5][\"href\"]"
     ],
     "language": "python",
     "metadata": {},
     "outputs": [
      {
       "output_type": "stream",
       "stream": "stdout",
       "text": [
        "{u'href': u'https://gdata.youtube.com/feeds/users/thecoscup/uploads?alt=json&start-index=1&max-results=25', u'type': u'application/atom+xml', u'rel': u'self'}\n",
        "https://gdata.youtube.com/feeds/users/thecoscup/uploads?alt=json&start-index=26&max-results=25\n"
       ]
      }
     ],
     "prompt_number": 14
    },
    {
     "cell_type": "code",
     "collapsed": false,
     "input": [],
     "language": "python",
     "metadata": {},
     "outputs": []
    },
    {
     "cell_type": "code",
     "collapsed": false,
     "input": [
      "data = yt_coscup._get_data(upload_data[\"feed\"][\"link\"][5][\"href\"])"
     ],
     "language": "python",
     "metadata": {},
     "outputs": [],
     "prompt_number": 18
    },
    {
     "cell_type": "code",
     "collapsed": false,
     "input": [
      "data[\"feed\"][\"link\"]"
     ],
     "language": "python",
     "metadata": {},
     "outputs": [
      {
       "metadata": {},
       "output_type": "pyout",
       "prompt_number": 22,
       "text": [
        "[{u'href': u'https://gdata.youtube.com/feeds/users/thecoscup',\n",
        "  u'rel': u'related',\n",
        "  u'type': u'application/atom+xml'},\n",
        " {u'href': u'https://www.youtube.com/channel/UCU8s-nDqbsKnitUNaVJ2Xvg/videos',\n",
        "  u'rel': u'alternate',\n",
        "  u'type': u'text/html'},\n",
        " {u'href': u'https://gdata.youtube.com/feeds/users/thecoscup/uploads',\n",
        "  u'rel': u'http://schemas.google.com/g/2005#feed',\n",
        "  u'type': u'application/atom+xml'},\n",
        " {u'href': u'https://gdata.youtube.com/feeds/users/thecoscup/uploads/batch',\n",
        "  u'rel': u'http://schemas.google.com/g/2005#batch',\n",
        "  u'type': u'application/atom+xml'},\n",
        " {u'href': u'https://gdata.youtube.com/feeds/users/thecoscup/uploads?alt=json&start-index=26&max-results=25',\n",
        "  u'rel': u'self',\n",
        "  u'type': u'application/atom+xml'},\n",
        " {u'href': u'https://gdata.youtube.com/feeds/users/thecoscup/uploads?alt=json&start-index=1&max-results=25',\n",
        "  u'rel': u'previous',\n",
        "  u'type': u'application/atom+xml'},\n",
        " {u'href': u'https://gdata.youtube.com/feeds/users/thecoscup/uploads?alt=json&start-index=51&max-results=25',\n",
        "  u'rel': u'next',\n",
        "  u'type': u'application/atom+xml'}]"
       ]
      }
     ],
     "prompt_number": 22
    },
    {
     "cell_type": "code",
     "collapsed": false,
     "input": [
      "next_page_list = [xx[\"href\"] for xx in data[\"feed\"][\"link\"] if xx[\"rel\"] == \"next\"]"
     ],
     "language": "python",
     "metadata": {},
     "outputs": [],
     "prompt_number": 71
    },
    {
     "cell_type": "code",
     "collapsed": false,
     "input": [
      "next_page_list"
     ],
     "language": "python",
     "metadata": {},
     "outputs": [
      {
       "metadata": {},
       "output_type": "pyout",
       "prompt_number": 72,
       "text": [
        "[]"
       ]
      }
     ],
     "prompt_number": 72
    },
    {
     "cell_type": "code",
     "collapsed": false,
     "input": [
      "data = yt_coscup._get_data(next_page_list[0])"
     ],
     "language": "python",
     "metadata": {},
     "outputs": [
      {
       "ename": "IndexError",
       "evalue": "list index out of range",
       "output_type": "pyerr",
       "traceback": [
        "\u001b[1;31m---------------------------------------------------------------------------\u001b[0m\n\u001b[1;31mIndexError\u001b[0m                                Traceback (most recent call last)",
        "\u001b[1;32m<ipython-input-73-e248bc3cea00>\u001b[0m in \u001b[0;36m<module>\u001b[1;34m()\u001b[0m\n\u001b[1;32m----> 1\u001b[1;33m \u001b[0mdata\u001b[0m \u001b[1;33m=\u001b[0m \u001b[0myt_coscup\u001b[0m\u001b[1;33m.\u001b[0m\u001b[0m_get_data\u001b[0m\u001b[1;33m(\u001b[0m\u001b[0mnext_page_list\u001b[0m\u001b[1;33m[\u001b[0m\u001b[1;36m0\u001b[0m\u001b[1;33m]\u001b[0m\u001b[1;33m)\u001b[0m\u001b[1;33m\u001b[0m\u001b[0m\n\u001b[0m",
        "\u001b[1;31mIndexError\u001b[0m: list index out of range"
       ]
      }
     ],
     "prompt_number": 73
    },
    {
     "cell_type": "code",
     "collapsed": false,
     "input": [],
     "language": "python",
     "metadata": {},
     "outputs": []
    },
    {
     "cell_type": "code",
     "collapsed": false,
     "input": [],
     "language": "python",
     "metadata": {},
     "outputs": []
    },
    {
     "cell_type": "code",
     "collapsed": false,
     "input": [
      "data = json.loads(r.text)"
     ],
     "language": "python",
     "metadata": {},
     "outputs": [],
     "prompt_number": 43
    },
    {
     "cell_type": "code",
     "collapsed": false,
     "input": [
      "data"
     ],
     "language": "python",
     "metadata": {},
     "outputs": [
      {
       "metadata": {},
       "output_type": "pyout",
       "prompt_number": 44,
       "text": [
        "{u'encoding': u'UTF-8',\n",
        " u'entry': {u'author': [{u'name': {u'$t': u'COSCUP \\u958b\\u6e90\\u4eba\\u5e74\\u6703'},\n",
        "    u'uri': {u'$t': u'https://gdata.youtube.com/feeds/users/thecoscup'}}],\n",
        "  u'category': [{u'scheme': u'http://schemas.google.com/g/2005#kind',\n",
        "    u'term': u'http://gdata.youtube.com/schemas/2007#userProfile'}],\n",
        "  u'content': {u'$t': u'The official YouTube channel of the COSCUP conference (http://coscup.org/).',\n",
        "   u'type': u'text'},\n",
        "  u'gd$feedLink': [{u'countHint': 0,\n",
        "    u'href': u'https://gdata.youtube.com/feeds/users/thecoscup/subscriptions',\n",
        "    u'rel': u'http://gdata.youtube.com/schemas/2007#user.subscriptions'},\n",
        "   {u'countHint': 0,\n",
        "    u'href': u'https://gdata.youtube.com/feeds/users/thecoscup/contacts',\n",
        "    u'rel': u'http://gdata.youtube.com/schemas/2007#user.contacts'},\n",
        "   {u'href': u'https://gdata.youtube.com/feeds/users/thecoscup/inbox',\n",
        "    u'rel': u'http://gdata.youtube.com/schemas/2007#user.inbox'},\n",
        "   {u'href': u'https://gdata.youtube.com/feeds/users/thecoscup/playlists',\n",
        "    u'rel': u'http://gdata.youtube.com/schemas/2007#user.playlists'},\n",
        "   {u'countHint': 399,\n",
        "    u'href': u'https://gdata.youtube.com/feeds/users/thecoscup/uploads',\n",
        "    u'rel': u'http://gdata.youtube.com/schemas/2007#user.uploads'},\n",
        "   {u'href': u'https://gdata.youtube.com/feeds/api/users/thecoscup/newsubscriptionvideos',\n",
        "    u'rel': u'http://gdata.youtube.com/schemas/2007#user.newsubscriptionvideos'}],\n",
        "  u'id': {u'$t': u'http://gdata.youtube.com/feeds/users/U8s-nDqbsKnitUNaVJ2Xvg'},\n",
        "  u'link': [{u'href': u'https://www.youtube.com/channel/UCU8s-nDqbsKnitUNaVJ2Xvg',\n",
        "    u'rel': u'alternate',\n",
        "    u'type': u'text/html'},\n",
        "   {u'href': u'https://gdata.youtube.com/feeds/users/U8s-nDqbsKnitUNaVJ2Xvg',\n",
        "    u'rel': u'self',\n",
        "    u'type': u'application/atom+xml'}],\n",
        "  u'media$thumbnail': {u'url': u'https://yt3.ggpht.com/-bTJhaitz7aA/AAAAAAAAAAI/AAAAAAAAAAA/JyUlBt6Y-us/s88-c-k-no/photo.jpg'},\n",
        "  u'published': {u'$t': u'2012-03-26T15:15:15.000Z'},\n",
        "  u'title': {u'$t': u'COSCUP \\u958b\\u6e90\\u4eba\\u5e74\\u6703',\n",
        "   u'type': u'text'},\n",
        "  u'updated': {u'$t': u'2014-09-08T11:57:47.000Z'},\n",
        "  u'xmlns': u'http://www.w3.org/2005/Atom',\n",
        "  u'xmlns$gd': u'http://schemas.google.com/g/2005',\n",
        "  u'xmlns$media': u'http://search.yahoo.com/mrss/',\n",
        "  u'xmlns$yt': u'http://gdata.youtube.com/schemas/2007',\n",
        "  u'yt$googlePlusUserId': {u'$t': u'101434041225212178932'},\n",
        "  u'yt$location': {u'$t': u'TW'},\n",
        "  u'yt$statistics': {u'lastWebAccess': u'1970-01-01T00:00:00.000Z',\n",
        "   u'subscriberCount': u'1221',\n",
        "   u'totalUploadViews': u'73422',\n",
        "   u'videoWatchCount': 0,\n",
        "   u'viewCount': u'0'},\n",
        "  u'yt$username': {u'$t': u'thecoscup'}},\n",
        " u'version': u'1.0'}"
       ]
      }
     ],
     "prompt_number": 44
    },
    {
     "cell_type": "code",
     "collapsed": false,
     "input": [],
     "language": "python",
     "metadata": {},
     "outputs": []
    },
    {
     "cell_type": "code",
     "collapsed": false,
     "input": [],
     "language": "python",
     "metadata": {},
     "outputs": []
    },
    {
     "cell_type": "code",
     "collapsed": false,
     "input": [
      "print data.keys()\n",
      "data_urls = [xx[\"href\"] + \"?alt=json\" for xx in data[\"entry\"][\"gd$feedLink\"]]"
     ],
     "language": "python",
     "metadata": {},
     "outputs": [
      {
       "output_type": "stream",
       "stream": "stdout",
       "text": [
        "[u'entry', u'version', u'encoding']\n"
       ]
      }
     ],
     "prompt_number": 10
    },
    {
     "cell_type": "code",
     "collapsed": false,
     "input": [],
     "language": "python",
     "metadata": {},
     "outputs": []
    },
    {
     "cell_type": "code",
     "collapsed": false,
     "input": [],
     "language": "python",
     "metadata": {},
     "outputs": []
    },
    {
     "cell_type": "code",
     "collapsed": false,
     "input": [
      "data_urls"
     ],
     "language": "python",
     "metadata": {},
     "outputs": [
      {
       "metadata": {},
       "output_type": "pyout",
       "prompt_number": 11,
       "text": [
        "[u'https://gdata.youtube.com/feeds/users/thecoscup/subscriptions?alt=json',\n",
        " u'https://gdata.youtube.com/feeds/users/thecoscup/contacts?alt=json',\n",
        " u'https://gdata.youtube.com/feeds/users/thecoscup/inbox?alt=json',\n",
        " u'https://gdata.youtube.com/feeds/users/thecoscup/playlists?alt=json',\n",
        " u'https://gdata.youtube.com/feeds/users/thecoscup/uploads?alt=json',\n",
        " u'https://gdata.youtube.com/feeds/api/users/thecoscup/newsubscriptionvideos?alt=json']"
       ]
      }
     ],
     "prompt_number": 11
    },
    {
     "cell_type": "code",
     "collapsed": false,
     "input": [
      "data_urls_res = map(requests.get,data_urls)"
     ],
     "language": "python",
     "metadata": {},
     "outputs": [],
     "prompt_number": 12
    },
    {
     "cell_type": "code",
     "collapsed": false,
     "input": [
      "data_urls_res_json = map(lambda xx:json.loads(xx.text) if xx.status_code == 200 else None ,data_urls_res)"
     ],
     "language": "python",
     "metadata": {},
     "outputs": [],
     "prompt_number": 28
    },
    {
     "cell_type": "code",
     "collapsed": false,
     "input": [
      "data_urls_res_json[4][]"
     ],
     "language": "python",
     "metadata": {},
     "outputs": [
      {
       "metadata": {},
       "output_type": "pyout",
       "prompt_number": 35,
       "text": [
        "[u'feed', u'version', u'encoding']"
       ]
      }
     ],
     "prompt_number": 35
    },
    {
     "cell_type": "code",
     "collapsed": false,
     "input": [],
     "language": "python",
     "metadata": {},
     "outputs": []
    }
   ],
   "metadata": {}
  }
 ]
}