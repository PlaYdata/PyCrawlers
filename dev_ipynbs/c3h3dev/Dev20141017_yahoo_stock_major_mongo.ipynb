{
 "metadata": {
  "name": "",
  "signature": "sha256:c8515857409644b965e4b674475526cdd7ea2018d515db75eb956613980d8ed2"
 },
 "nbformat": 3,
 "nbformat_minor": 0,
 "worksheets": [
  {
   "cells": [
    {
     "cell_type": "code",
     "collapsed": false,
     "input": [
      "from pycrawlers.examples.yhstock.crawlers import *"
     ],
     "language": "python",
     "metadata": {},
     "outputs": [
      {
       "output_type": "stream",
       "stream": "stderr",
       "text": [
        "/home/c3h3/.pyenv/versions/innovotech/lib/python2.7/site-packages/pandas-0.15.0-py2.7-linux-x86_64.egg/pandas/io/html.py:843: FutureWarning: infer_types has no effect since 0.15\n",
        "  warnings.warn(\"infer_types has no effect since 0.15\", FutureWarning)\n"
       ]
      }
     ],
     "prompt_number": 2
    },
    {
     "cell_type": "code",
     "collapsed": false,
     "input": [],
     "language": "python",
     "metadata": {},
     "outputs": []
    },
    {
     "cell_type": "code",
     "collapsed": false,
     "input": [
      "def get_stock_major_data(stock_id):\n",
      "\n",
      "    res = requests.get(\"https://tw.stock.yahoo.com/d/s/major_{stock_id}.html\".format(stock_id=stock_id))\n",
      "    S = PyQuery(res.text)\n",
      "    \n",
      "    date_list = map(int,re.findall(\"[0-9]+\",S(\"td.tt\").filter(lambda i,e:len(PyQuery(e).text().split(\"/\"))>1).text()))\n",
      "    date_list[0] = date_list[0]+1911\n",
      "    date = \"-\".join(map(str,date_list))\n",
      "    \n",
      "    data_table = pd.read_html(S(\"table\").filter(lambda i,e:len(PyQuery(e)(\"td.ttt\")) == 128).outerHtml())[0]\n",
      "    \n",
      "    pre_df = np.r_[ data_table.values[1:,0:4], data_table.values[1:,4:]]\n",
      "    df = pd.DataFrame(pre_df)\n",
      "    df.columns = [\"trader\",\"buy\",\"sell\",\"net\"]\n",
      "    df[\"stockId\"] = df[\"trader\"].map(lambda xx: stock_id)\n",
      "    df[\"dateString\"] = df[\"trader\"].map(lambda xx: date)\n",
      "    df = df[[\"dateString\",\"stockId\",\"trader\",\"buy\",\"sell\",\"net\"]]\n",
      "    \n",
      "    return {\"stockId\":stock_id,\"date\":date,\"data\":df}"
     ],
     "language": "python",
     "metadata": {},
     "outputs": [],
     "prompt_number": 1
    },
    {
     "cell_type": "code",
     "collapsed": false,
     "input": [],
     "language": "python",
     "metadata": {},
     "outputs": [],
     "prompt_number": 1
    },
    {
     "cell_type": "code",
     "collapsed": false,
     "input": [
      "one_stock_data = get_stock_major_data(\"8068\")"
     ],
     "language": "python",
     "metadata": {},
     "outputs": [],
     "prompt_number": 21
    },
    {
     "cell_type": "code",
     "collapsed": false,
     "input": [
      "one_stock_data"
     ],
     "language": "python",
     "metadata": {},
     "outputs": [
      {
       "metadata": {},
       "output_type": "pyout",
       "prompt_number": 22,
       "text": [
        "{'data':    dateString stockId trader  buy  sell  net\n",
        " 0  2014-10-22    8068     \u7d71\u4e00    8     0    8\n",
        " 1  2014-10-22    8068    NaN    0     0    0\n",
        " 2  2014-10-22    8068    NaN    0     0    0\n",
        " 3  2014-10-22    8068   \u51f1\u57fa\u8b49\u5238    0     4   -4\n",
        " 4  2014-10-22    8068   \u65b0\u5149\u8b49\u5238    0     2   -2\n",
        " 5  2014-10-22    8068   \u5143\u5927\u5bf6\u4f86    0     2   -2,\n",
        " 'date': '2014-10-22',\n",
        " 'stockId': '8068'}"
       ]
      }
     ],
     "prompt_number": 22
    },
    {
     "cell_type": "code",
     "collapsed": false,
     "input": [
      "one_stock_data[\"date\"]"
     ],
     "language": "python",
     "metadata": {},
     "outputs": [
      {
       "metadata": {},
       "output_type": "pyout",
       "prompt_number": 9,
       "text": [
        "'2014-10-16'"
       ]
      }
     ],
     "prompt_number": 9
    },
    {
     "cell_type": "code",
     "collapsed": false,
     "input": [
      "one_stock_data[\"data\"].to_dict(outtype=\"record\")"
     ],
     "language": "python",
     "metadata": {},
     "outputs": [
      {
       "metadata": {},
       "output_type": "pyout",
       "prompt_number": 16,
       "text": [
        "[{'buy': '125',\n",
        "  'dateString': '2014-10-16',\n",
        "  'net': '+124',\n",
        "  'sell': '1',\n",
        "  'stockId': '3008',\n",
        "  'trader': u'\\u6469\\u6839\\u5927\\u901a'},\n",
        " {'buy': '98',\n",
        "  'dateString': '2014-10-16',\n",
        "  'net': '+38',\n",
        "  'sell': '60',\n",
        "  'stockId': '3008',\n",
        "  'trader': u'\\u7f8e\\u6797'},\n",
        " {'buy': '229',\n",
        "  'dateString': '2014-10-16',\n",
        "  'net': '+28',\n",
        "  'sell': '201',\n",
        "  'stockId': '3008',\n",
        "  'trader': u'\\u51f1\\u57fa\\u8b49\\u5238'},\n",
        " {'buy': '25',\n",
        "  'dateString': '2014-10-16',\n",
        "  'net': '+12',\n",
        "  'sell': '13',\n",
        "  'stockId': '3008',\n",
        "  'trader': u'\\u65b0\\u52a0\\u5761\\u5546\\u745e'},\n",
        " {'buy': '35',\n",
        "  'dateString': '2014-10-16',\n",
        "  'net': '+12',\n",
        "  'sell': '23',\n",
        "  'stockId': '3008',\n",
        "  'trader': u'\\u7389\\u5c71\\u8b49\\u5238'},\n",
        " {'buy': '10',\n",
        "  'dateString': '2014-10-16',\n",
        "  'net': '+10',\n",
        "  'sell': '0',\n",
        "  'stockId': '3008',\n",
        "  'trader': u'\\u6e2f\\u5546\\u806f\\u660c'},\n",
        " {'buy': '16',\n",
        "  'dateString': '2014-10-16',\n",
        "  'net': '+8',\n",
        "  'sell': '8',\n",
        "  'stockId': '3008',\n",
        "  'trader': u'\\u5927\\u773e\\u8b49\\u5238'},\n",
        " {'buy': '9',\n",
        "  'dateString': '2014-10-16',\n",
        "  'net': '+7',\n",
        "  'sell': '2',\n",
        "  'stockId': '3008',\n",
        "  'trader': u'\\u5fb7\\u4fe1\\u8b49\\u5238'},\n",
        " {'buy': '156',\n",
        "  'dateString': '2014-10-16',\n",
        "  'net': '+5',\n",
        "  'sell': '151',\n",
        "  'stockId': '3008',\n",
        "  'trader': u'\\u6e2f\\u5546\\u5fb7\\u610f\\u5fd7'},\n",
        " {'buy': '7',\n",
        "  'dateString': '2014-10-16',\n",
        "  'net': '+5',\n",
        "  'sell': '2',\n",
        "  'stockId': '3008',\n",
        "  'trader': u'\\u5317\\u57ce\\u8b49\\u5238'},\n",
        " {'buy': '4',\n",
        "  'dateString': '2014-10-16',\n",
        "  'net': '+4',\n",
        "  'sell': '0',\n",
        "  'stockId': '3008',\n",
        "  'trader': u'\\u53f0\\u7063\\u6771\\u65b9\\u532f'},\n",
        " {'buy': '10',\n",
        "  'dateString': '2014-10-16',\n",
        "  'net': '+3',\n",
        "  'sell': '7',\n",
        "  'stockId': '3008',\n",
        "  'trader': u'\\u5927\\u660c\\u8b49\\u5238'},\n",
        " {'buy': '4',\n",
        "  'dateString': '2014-10-16',\n",
        "  'net': '+2',\n",
        "  'sell': '2',\n",
        "  'stockId': '3008',\n",
        "  'trader': u'\\u946b\\u8c50\\u8b49\\u5238'},\n",
        " {'buy': '5',\n",
        "  'dateString': '2014-10-16',\n",
        "  'net': '+1',\n",
        "  'sell': '4',\n",
        "  'stockId': '3008',\n",
        "  'trader': u'\\u5408\\u5eab'},\n",
        " {'buy': '1',\n",
        "  'dateString': '2014-10-16',\n",
        "  'net': '+1',\n",
        "  'sell': '0',\n",
        "  'stockId': '3008',\n",
        "  'trader': u'\\u6c38\\u5168\\u8b49\\u5238'},\n",
        " {'buy': '29',\n",
        "  'dateString': '2014-10-16',\n",
        "  'net': '-47',\n",
        "  'sell': '76',\n",
        "  'stockId': '3008',\n",
        "  'trader': u'\\u7fa4\\u76ca\\u91d1\\u9f0e'},\n",
        " {'buy': '98',\n",
        "  'dateString': '2014-10-16',\n",
        "  'net': '-45',\n",
        "  'sell': '143',\n",
        "  'stockId': '3008',\n",
        "  'trader': u'\\u5bcc\\u90a6\\u8b49\\u5238'},\n",
        " {'buy': '3',\n",
        "  'dateString': '2014-10-16',\n",
        "  'net': '-38',\n",
        "  'sell': '41',\n",
        "  'stockId': '3008',\n",
        "  'trader': u'\\u82b1\\u65d7\\u74b0\\u7403'},\n",
        " {'buy': '190',\n",
        "  'dateString': '2014-10-16',\n",
        "  'net': '-25',\n",
        "  'sell': '215',\n",
        "  'stockId': '3008',\n",
        "  'trader': u'\\u5143\\u5927\\u5bf6\\u4f86'},\n",
        " {'buy': '5',\n",
        "  'dateString': '2014-10-16',\n",
        "  'net': '-19',\n",
        "  'sell': '24',\n",
        "  'stockId': '3008',\n",
        "  'trader': u'\\u53f0\\u65b0\\u8b49\\u5238'},\n",
        " {'buy': '52',\n",
        "  'dateString': '2014-10-16',\n",
        "  'net': '-13',\n",
        "  'sell': '65',\n",
        "  'stockId': '3008',\n",
        "  'trader': u'\\u5143\\u5bcc'},\n",
        " {'buy': '7',\n",
        "  'dateString': '2014-10-16',\n",
        "  'net': '-12',\n",
        "  'sell': '19',\n",
        "  'stockId': '3008',\n",
        "  'trader': u'\\u4e2d\\u4fe1\\u9280\\u8b49'},\n",
        " {'buy': '12',\n",
        "  'dateString': '2014-10-16',\n",
        "  'net': '-11',\n",
        "  'sell': '23',\n",
        "  'stockId': '3008',\n",
        "  'trader': u'\\u53f0\\u7063\\u6469\\u6839\\u58eb'},\n",
        " {'buy': '25',\n",
        "  'dateString': '2014-10-16',\n",
        "  'net': '-11',\n",
        "  'sell': '36',\n",
        "  'stockId': '3008',\n",
        "  'trader': u'\\u5b8f\\u9060\\u8b49\\u5238'},\n",
        " {'buy': '2',\n",
        "  'dateString': '2014-10-16',\n",
        "  'net': '-10',\n",
        "  'sell': '12',\n",
        "  'stockId': '3008',\n",
        "  'trader': u'\\u571f\\u9280'},\n",
        " {'buy': '3',\n",
        "  'dateString': '2014-10-16',\n",
        "  'net': '-9',\n",
        "  'sell': '12',\n",
        "  'stockId': '3008',\n",
        "  'trader': u'\\u53f0\\u7063\\u4f01\\u9280'},\n",
        " {'buy': '18',\n",
        "  'dateString': '2014-10-16',\n",
        "  'net': '-8',\n",
        "  'sell': '26',\n",
        "  'stockId': '3008',\n",
        "  'trader': u'\\u7b2c\\u4e00\\u91d1'},\n",
        " {'buy': '157',\n",
        "  'dateString': '2014-10-16',\n",
        "  'net': '-8',\n",
        "  'sell': '165',\n",
        "  'stockId': '3008',\n",
        "  'trader': u'\\u6c38\\u8c50\\u91d1\\u8b49\\u5238'},\n",
        " {'buy': '8',\n",
        "  'dateString': '2014-10-16',\n",
        "  'net': '-7',\n",
        "  'sell': '15',\n",
        "  'stockId': '3008',\n",
        "  'trader': u'\\u81fa\\u9280'},\n",
        " {'buy': '1',\n",
        "  'dateString': '2014-10-16',\n",
        "  'net': '-7',\n",
        "  'sell': '8',\n",
        "  'stockId': '3008',\n",
        "  'trader': u'\\u745e\\u58eb\\u4fe1\\u8cb8'}]"
       ]
      }
     ],
     "prompt_number": 16
    },
    {
     "cell_type": "code",
     "collapsed": false,
     "input": [
      "df.to_dict?"
     ],
     "language": "python",
     "metadata": {},
     "outputs": [],
     "prompt_number": 15
    },
    {
     "cell_type": "code",
     "collapsed": false,
     "input": [],
     "language": "python",
     "metadata": {},
     "outputs": []
    },
    {
     "cell_type": "code",
     "collapsed": false,
     "input": [
      "one_stock_data[\"data\"].todict"
     ],
     "language": "python",
     "metadata": {},
     "outputs": []
    },
    {
     "cell_type": "code",
     "collapsed": false,
     "input": [
      "one_stock_data[\"data\"].to_dict"
     ],
     "language": "python",
     "metadata": {},
     "outputs": []
    },
    {
     "cell_type": "code",
     "collapsed": false,
     "input": [
      "from pymongo import MongoClient"
     ],
     "language": "python",
     "metadata": {},
     "outputs": [],
     "prompt_number": 5
    },
    {
     "cell_type": "code",
     "collapsed": false,
     "input": [
      "mongo_cli = MongoClient()"
     ],
     "language": "python",
     "metadata": {},
     "outputs": [],
     "prompt_number": 6
    },
    {
     "cell_type": "code",
     "collapsed": false,
     "input": [
      "import datetime"
     ],
     "language": "python",
     "metadata": {},
     "outputs": [],
     "prompt_number": 17
    },
    {
     "cell_type": "code",
     "collapsed": false,
     "input": [],
     "language": "python",
     "metadata": {},
     "outputs": []
    },
    {
     "cell_type": "code",
     "collapsed": false,
     "input": [
      "def update_all_stock_major_data(data_collection, error_collection):\n",
      "    \n",
      "    twse_ids = get_stockID_twse('sii').tolist()\n",
      "    twotc_ids = get_stockID_twse('otc').tolist()\n",
      "    \n",
      "    stock_ids = twse_ids + twotc_ids\n",
      "    #stock_ids = stock_ids[:10]\n",
      "    \n",
      "    while len(stock_ids) > 0:\n",
      "        print \"~~~~~~~~~~~~~~~~~~~~~~~~\"\n",
      "        print \"len(stock_ids) = \",len(stock_ids)\n",
      "        one_stock_id = stock_ids.pop()\n",
      "        \n",
      "        try:\n",
      "            one_stock_data = get_stock_major_data(one_stock_id)\n",
      "            one_stock_data_in_db = data_collection.find({\"stockId\":one_stock_data[\"stockId\"],\"dateString\":one_stock_data[\"dateString\"]}).count()>0\n",
      "            if not one_stock_data_in_db:\n",
      "                data_collection.insert(one_stock_data[\"data\"].to_dict(outtype=\"record\"))\n",
      "                print \"%s -- SUCCESS: insert into db \" % one_stock_id\n",
      "            else:\n",
      "                print \"%s -- SUCCESS: already in db \" % one_stock_id\n",
      "                \n",
      "            \n",
      "            \n",
      "        except Exception as e:\n",
      "            print \"%s -- ERROR\" % one_stock_id\n",
      "            print e\n",
      "            print traceback.format_exc()\n",
      "            #print e.__dict__\n",
      "            #print e.message\n",
      "            #print pickle.dumps(e.request)\n",
      "            error_collection.insert({\"stockId\":one_stock_id,\n",
      "                                    \"message\":e.message,\n",
      "                                    \"traceback\":traceback.format_exc(),\n",
      "                                    \"time\":datetime.datetime.now()})\n",
      "            \n",
      "    \n",
      "    \n",
      "    \n",
      "            "
     ],
     "language": "python",
     "metadata": {},
     "outputs": []
    }
   ],
   "metadata": {}
  }
 ]
}