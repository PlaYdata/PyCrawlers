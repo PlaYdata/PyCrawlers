{
 "metadata": {
  "name": "",
  "signature": "sha256:8353a9b2e5142fbd6e2eac5f5f1c182a2ded958864e4464c3388eb96bd0a4075"
 },
 "nbformat": 3,
 "nbformat_minor": 0,
 "worksheets": [
  {
   "cells": [
    {
     "cell_type": "code",
     "collapsed": false,
     "input": [
      "testing_book_pages = [\"http://shop.oreilly.com/product/0636920028918.do\",\n",
      "                      \"http://shop.oreilly.com/product/0636920018483.do\",\n",
      "                      \"http://shop.oreilly.com/product/9780596007126.do\",\n",
      "                      \"http://shop.oreilly.com/product/0636920027041.do\",\n",
      "                      \"http://shop.oreilly.com/product/0636920032175.do\",\n",
      "                      \"http://shop.oreilly.com/product/0636920033431.do\"]\n"
     ],
     "language": "python",
     "metadata": {},
     "outputs": [],
     "prompt_number": 1
    },
    {
     "cell_type": "code",
     "collapsed": false,
     "input": [
      "import requests\n",
      "from pyquery import PyQuery\n",
      "import pandas as pd"
     ],
     "language": "python",
     "metadata": {},
     "outputs": [],
     "prompt_number": 5
    },
    {
     "cell_type": "code",
     "collapsed": false,
     "input": [
      "one_book_page = testing_book_pages[0]\n",
      "one_book_page = \"http://shop.oreilly.com/product/0636920017493.do\""
     ],
     "language": "python",
     "metadata": {},
     "outputs": [],
     "prompt_number": 20
    },
    {
     "cell_type": "code",
     "collapsed": false,
     "input": [
      "r = requests.get(one_book_page)\n",
      "S = PyQuery(r.text)"
     ],
     "language": "python",
     "metadata": {},
     "outputs": [],
     "prompt_number": 21
    },
    {
     "cell_type": "code",
     "collapsed": false,
     "input": [
      "print PyQuery(S(\".detail-description-content p\")[0]).text()"
     ],
     "language": "python",
     "metadata": {},
     "outputs": [
      {
       "output_type": "stream",
       "stream": "stdout",
       "text": [
        "Once you've accumulated a pile of data through your web application, what do you do with it? In this insightful video course, bit.ly lead scientist Hilary Mason shows you how to solve data analysis problems using basic machine learning techniques and frameworks. You'll follow several examples through the entire process\u2014from obtaining, cleaning, and exploring data to building a model and interpreting the results.\n"
       ]
      }
     ],
     "prompt_number": 22
    },
    {
     "cell_type": "code",
     "collapsed": false,
     "input": [],
     "language": "python",
     "metadata": {},
     "outputs": [],
     "prompt_number": 22
    },
    {
     "cell_type": "code",
     "collapsed": false,
     "input": [],
     "language": "python",
     "metadata": {},
     "outputs": [],
     "prompt_number": 22
    },
    {
     "cell_type": "code",
     "collapsed": false,
     "input": [
      "def filter_blanks_in_sessions(one_session_string):\n",
      "    return \" \".join([xx for xx in one_session_string.split(\" \") if xx != \"\"])\n",
      "\n",
      "def get_chapters_and_sessions(one_book_page_url, output_type=\"json\"):\n",
      "    \"\"\"\n",
      "    output_type in [\"list_of_tuple\", \"json\"]\n",
      "    if output_type==\"list_of_tuple\" \n",
      "        return book_name, page_url, [(ch1_name, [session1_name, session2_name, ...]), (ch2_name, [session1_name, session2_name, ...]), ... ]\n",
      "    \n",
      "    if output_type==\"json\" \n",
      "        return {\"book_name\":book_name,\n",
      "                \"chapters\":[{\"chapter\":ch1_name, \"session\":[session1_name, session2_name, ...]}, \n",
      "                {\"chapter\":ch2_name, \"session\":[session1_name, session2_name, ...]}, ... ]}\n",
      "\n",
      "    \"\"\"\n",
      "    \n",
      "    assert output_type in [\"list_of_tuple\", \"json\"]\n",
      "    \n",
      "    r = requests.get(one_book_page_url)\n",
      "    S = PyQuery(r.text)\n",
      "    book_name = S(\".detailheader\").text()\n",
      "    chapters_and_sessions = S(\"#tab_02_2_content li.chapter\").map(lambda ii,ee:(PyQuery(ee)(\"h3\").text(),\n",
      "                                                                                map(filter_blanks_in_sessions,PyQuery(ee)(\"h4\").map(lambda i,e:PyQuery(e).text()))\n",
      "                                                                                ))\n",
      "    short_description = PyQuery(S(\".detail-description-content p\")[0]).text()\n",
      "    if output_type==\"list_of_tuple\" :\n",
      "        return book_name, page_url, chapters_and_sessions, short_description\n",
      "    elif output_type==\"json\":\n",
      "        return {\"book_name\":book_name, \n",
      "                \"page_url\":one_book_page_url,\n",
      "                \"chapters\":map(lambda xx:{\"chapter\":xx[0],\"sessions\":xx[1]},chapters_and_sessions),\n",
      "                \"short_description\":short_description}\n",
      "        "
     ],
     "language": "python",
     "metadata": {},
     "outputs": [],
     "prompt_number": 23
    },
    {
     "cell_type": "code",
     "collapsed": false,
     "input": [
      "test = get_chapters_and_sessions(one_book_page,output_type=\"json\")"
     ],
     "language": "python",
     "metadata": {},
     "outputs": [],
     "prompt_number": 24
    },
    {
     "cell_type": "code",
     "collapsed": false,
     "input": [
      "test"
     ],
     "language": "python",
     "metadata": {},
     "outputs": [
      {
       "metadata": {},
       "output_type": "pyout",
       "prompt_number": 25,
       "text": [
        "{'book_name': 'Hilary Mason: An Introduction to Machine Learning with Web Data',\n",
        " 'chapters': [],\n",
        " 'page_url': 'http://shop.oreilly.com/product/0636920017493.do',\n",
        " 'short_description': u\"Once you've accumulated a pile of data through your web application, what do you do with it? In this insightful video course, bit.ly lead scientist Hilary Mason shows you how to solve data analysis problems using basic machine learning techniques and frameworks. You'll follow several examples through the entire process\\u2014from obtaining, cleaning, and exploring data to building a model and interpreting the results.\"}"
       ]
      }
     ],
     "prompt_number": 25
    },
    {
     "cell_type": "code",
     "collapsed": false,
     "input": [],
     "language": "python",
     "metadata": {},
     "outputs": [],
     "prompt_number": 56
    },
    {
     "cell_type": "code",
     "collapsed": false,
     "input": [],
     "language": "python",
     "metadata": {},
     "outputs": [],
     "prompt_number": 50
    },
    {
     "cell_type": "code",
     "collapsed": false,
     "input": [],
     "language": "python",
     "metadata": {},
     "outputs": []
    }
   ],
   "metadata": {}
  }
 ]
}