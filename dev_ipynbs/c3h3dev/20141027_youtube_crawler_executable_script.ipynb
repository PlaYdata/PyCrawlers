{
 "metadata": {
  "name": "",
  "signature": "sha256:063c9412099bfa6fc164aee8cd3da14406160a394a6f546ff4d149da275f80dd"
 },
 "nbformat": 3,
 "nbformat_minor": 0,
 "worksheets": [
  {
   "cells": [
    {
     "cell_type": "code",
     "collapsed": false,
     "input": [
      "test_channel_ids_list = [\"thecoscup\", \"TWuseRGroup\"]"
     ],
     "language": "python",
     "metadata": {},
     "outputs": [],
     "prompt_number": 1
    },
    {
     "cell_type": "code",
     "collapsed": false,
     "input": [
      "one_channal_id = test_channel_ids_list[0]"
     ],
     "language": "python",
     "metadata": {},
     "outputs": [],
     "prompt_number": 2
    },
    {
     "cell_type": "code",
     "collapsed": false,
     "input": [
      "\n",
      "from pycrawlers.examples.youtube import crawlers\n",
      "video_data = crawlers.crawl_channel_uploads(one_channal_id)\n",
      "playlist_data = crawlers.crawl_channel_playlists_data(one_channal_id)"
     ],
     "language": "python",
     "metadata": {},
     "outputs": [
      {
       "output_type": "stream",
       "stream": "stdout",
       "text": [
        "next_page_list =  ['https://gdata.youtube.com/feeds/users/thecoscup/uploads/']\n",
        "next_page_list = "
       ]
      },
      {
       "output_type": "stream",
       "stream": "stdout",
       "text": [
        " [u'https://gdata.youtube.com/feeds/users/thecoscup/uploads?alt=json&start-index=26&max-results=25']\n",
        "next_page_list = "
       ]
      },
      {
       "output_type": "stream",
       "stream": "stdout",
       "text": [
        " [u'https://gdata.youtube.com/feeds/users/thecoscup/uploads?alt=json&start-index=51&max-results=25']\n",
        "next_page_list = "
       ]
      },
      {
       "output_type": "stream",
       "stream": "stdout",
       "text": [
        " [u'https://gdata.youtube.com/feeds/users/thecoscup/uploads?alt=json&start-index=76&max-results=25']\n",
        "next_page_list = "
       ]
      },
      {
       "output_type": "stream",
       "stream": "stdout",
       "text": [
        " [u'https://gdata.youtube.com/feeds/users/thecoscup/uploads?alt=json&start-index=101&max-results=25']\n",
        "next_page_list = "
       ]
      },
      {
       "output_type": "stream",
       "stream": "stdout",
       "text": [
        " [u'https://gdata.youtube.com/feeds/users/thecoscup/uploads?alt=json&start-index=126&max-results=25']\n",
        "next_page_list = "
       ]
      },
      {
       "output_type": "stream",
       "stream": "stdout",
       "text": [
        " [u'https://gdata.youtube.com/feeds/users/thecoscup/uploads?alt=json&start-index=151&max-results=25']\n",
        "next_page_list = "
       ]
      },
      {
       "output_type": "stream",
       "stream": "stdout",
       "text": [
        " [u'https://gdata.youtube.com/feeds/users/thecoscup/uploads?alt=json&start-index=176&max-results=25']\n",
        "next_page_list = "
       ]
      },
      {
       "output_type": "stream",
       "stream": "stdout",
       "text": [
        " [u'https://gdata.youtube.com/feeds/users/thecoscup/uploads?alt=json&start-index=201&max-results=25']\n",
        "next_page_list = "
       ]
      },
      {
       "output_type": "stream",
       "stream": "stdout",
       "text": [
        " [u'https://gdata.youtube.com/feeds/users/thecoscup/uploads?alt=json&start-index=226&max-results=25']\n",
        "next_page_list = "
       ]
      },
      {
       "output_type": "stream",
       "stream": "stdout",
       "text": [
        " [u'https://gdata.youtube.com/feeds/users/thecoscup/uploads?alt=json&start-index=251&max-results=25']\n",
        "next_page_list = "
       ]
      },
      {
       "output_type": "stream",
       "stream": "stdout",
       "text": [
        " [u'https://gdata.youtube.com/feeds/users/thecoscup/uploads?alt=json&start-index=276&max-results=25']\n",
        "next_page_list = "
       ]
      },
      {
       "output_type": "stream",
       "stream": "stdout",
       "text": [
        " [u'https://gdata.youtube.com/feeds/users/thecoscup/uploads?alt=json&start-index=301&max-results=25']\n",
        "next_page_list = "
       ]
      },
      {
       "output_type": "stream",
       "stream": "stdout",
       "text": [
        " [u'https://gdata.youtube.com/feeds/users/thecoscup/uploads?alt=json&start-index=326&max-results=25']\n",
        "next_page_list = "
       ]
      },
      {
       "output_type": "stream",
       "stream": "stdout",
       "text": [
        " [u'https://gdata.youtube.com/feeds/users/thecoscup/uploads?alt=json&start-index=351&max-results=25']\n",
        "next_page_list = "
       ]
      },
      {
       "output_type": "stream",
       "stream": "stdout",
       "text": [
        " [u'https://gdata.youtube.com/feeds/users/thecoscup/uploads?alt=json&start-index=376&max-results=25']\n",
        "next_page_list = "
       ]
      },
      {
       "output_type": "stream",
       "stream": "stdout",
       "text": [
        " []\n",
        "next_page_list =  ['https://gdata.youtube.com/feeds/users/thecoscup/playlists/']\n",
        "next_page_list = "
       ]
      },
      {
       "output_type": "stream",
       "stream": "stdout",
       "text": [
        " []\n",
        "next_page_list =  ['https://gdata.youtube.com/feeds/playlists/PLqfib4St70XMqJM3AL-Xe7jr6nbRwetcZ']\n",
        "next_page_list = "
       ]
      },
      {
       "output_type": "stream",
       "stream": "stdout",
       "text": [
        " []\n",
        "next_page_list = "
       ]
      },
      {
       "output_type": "stream",
       "stream": "stdout",
       "text": [
        " ['https://gdata.youtube.com/feeds/playlists/PLqfib4St70XPA2MCk1-nJFUFHsIQFdSM5']\n",
        "next_page_list = "
       ]
      },
      {
       "output_type": "stream",
       "stream": "stdout",
       "text": [
        " [u'https://gdata.youtube.com/feeds/playlists/PLqfib4St70XPA2MCk1-nJFUFHsIQFdSM5?alt=json&start-index=26&max-results=25']\n",
        "next_page_list = "
       ]
      },
      {
       "output_type": "stream",
       "stream": "stdout",
       "text": [
        " [u'https://gdata.youtube.com/feeds/playlists/PLqfib4St70XPA2MCk1-nJFUFHsIQFdSM5?alt=json&start-index=51&max-results=25']\n",
        "next_page_list = "
       ]
      },
      {
       "output_type": "stream",
       "stream": "stdout",
       "text": [
        " [u'https://gdata.youtube.com/feeds/playlists/PLqfib4St70XPA2MCk1-nJFUFHsIQFdSM5?alt=json&start-index=76&max-results=25']\n",
        "next_page_list = "
       ]
      },
      {
       "output_type": "stream",
       "stream": "stdout",
       "text": [
        " [u'https://gdata.youtube.com/feeds/playlists/PLqfib4St70XPA2MCk1-nJFUFHsIQFdSM5?alt=json&start-index=101&max-results=25']\n",
        "next_page_list = "
       ]
      },
      {
       "output_type": "stream",
       "stream": "stdout",
       "text": [
        " []\n",
        "next_page_list = "
       ]
      },
      {
       "output_type": "stream",
       "stream": "stdout",
       "text": [
        " ['https://gdata.youtube.com/feeds/playlists/PLqfib4St70XNspmD7hOJQrcXa3CnvCc9V']\n",
        "next_page_list = "
       ]
      },
      {
       "output_type": "stream",
       "stream": "stdout",
       "text": [
        " [u'https://gdata.youtube.com/feeds/playlists/PLqfib4St70XNspmD7hOJQrcXa3CnvCc9V?alt=json&start-index=26&max-results=25']\n",
        "next_page_list = "
       ]
      },
      {
       "output_type": "stream",
       "stream": "stdout",
       "text": [
        " [u'https://gdata.youtube.com/feeds/playlists/PLqfib4St70XNspmD7hOJQrcXa3CnvCc9V?alt=json&start-index=51&max-results=25']\n",
        "next_page_list = "
       ]
      },
      {
       "output_type": "stream",
       "stream": "stdout",
       "text": [
        " []\n",
        "next_page_list = "
       ]
      },
      {
       "output_type": "stream",
       "stream": "stdout",
       "text": [
        " ['https://gdata.youtube.com/feeds/playlists/PLE8DBA2A06F770766']\n",
        "next_page_list = "
       ]
      },
      {
       "output_type": "stream",
       "stream": "stdout",
       "text": [
        " [u'https://gdata.youtube.com/feeds/playlists/PLE8DBA2A06F770766?alt=json&start-index=26&max-results=25']\n",
        "next_page_list = "
       ]
      },
      {
       "output_type": "stream",
       "stream": "stdout",
       "text": [
        " [u'https://gdata.youtube.com/feeds/playlists/PLE8DBA2A06F770766?alt=json&start-index=51&max-results=25']\n",
        "next_page_list = "
       ]
      },
      {
       "output_type": "stream",
       "stream": "stdout",
       "text": [
        " []\n",
        "next_page_list = "
       ]
      },
      {
       "output_type": "stream",
       "stream": "stdout",
       "text": [
        " ['https://gdata.youtube.com/feeds/playlists/PLF80AC8951C806F74']\n",
        "next_page_list = "
       ]
      },
      {
       "output_type": "stream",
       "stream": "stdout",
       "text": [
        " [u'https://gdata.youtube.com/feeds/playlists/PLF80AC8951C806F74?alt=json&start-index=26&max-results=25']\n",
        "next_page_list = "
       ]
      },
      {
       "output_type": "stream",
       "stream": "stdout",
       "text": [
        " []\n",
        "next_page_list = "
       ]
      },
      {
       "output_type": "stream",
       "stream": "stdout",
       "text": [
        " ['https://gdata.youtube.com/feeds/playlists/PLB435557BA4B4BF0D']\n",
        "next_page_list = "
       ]
      },
      {
       "output_type": "stream",
       "stream": "stdout",
       "text": [
        " []\n",
        "next_page_list = "
       ]
      },
      {
       "output_type": "stream",
       "stream": "stdout",
       "text": [
        " ['https://gdata.youtube.com/feeds/playlists/PL1E00EBFE2E5E040F']\n",
        "next_page_list = "
       ]
      },
      {
       "output_type": "stream",
       "stream": "stdout",
       "text": [
        " [u'https://gdata.youtube.com/feeds/playlists/PL1E00EBFE2E5E040F?alt=json&start-index=26&max-results=25']\n",
        "next_page_list = "
       ]
      },
      {
       "output_type": "stream",
       "stream": "stdout",
       "text": [
        " [u'https://gdata.youtube.com/feeds/playlists/PL1E00EBFE2E5E040F?alt=json&start-index=51&max-results=25']\n",
        "next_page_list = "
       ]
      },
      {
       "output_type": "stream",
       "stream": "stdout",
       "text": [
        " []\n",
        "next_page_list = "
       ]
      },
      {
       "output_type": "stream",
       "stream": "stdout",
       "text": [
        " ['https://gdata.youtube.com/feeds/playlists/PL1FF14AC1502F9EE3']\n",
        "next_page_list = "
       ]
      },
      {
       "output_type": "stream",
       "stream": "stdout",
       "text": [
        " [u'https://gdata.youtube.com/feeds/playlists/PL1FF14AC1502F9EE3?alt=json&start-index=26&max-results=25']\n",
        "next_page_list = "
       ]
      },
      {
       "output_type": "stream",
       "stream": "stdout",
       "text": [
        " [u'https://gdata.youtube.com/feeds/playlists/PL1FF14AC1502F9EE3?alt=json&start-index=51&max-results=25']\n",
        "next_page_list = "
       ]
      },
      {
       "output_type": "stream",
       "stream": "stdout",
       "text": [
        " [u'https://gdata.youtube.com/feeds/playlists/PL1FF14AC1502F9EE3?alt=json&start-index=76&max-results=25']\n",
        "next_page_list = "
       ]
      },
      {
       "output_type": "stream",
       "stream": "stdout",
       "text": [
        " []\n"
       ]
      }
     ],
     "prompt_number": 3
    },
    {
     "cell_type": "code",
     "collapsed": false,
     "input": [
      "def set_video_mongo_data(one_video_data):\n",
      "    if \"ytid\" in one_video_data.keys():\n",
      "        one_video_data[\"_id\"] = one_video_data[\"ytid\"]\n",
      "        del one_video_data[\"ytid\"]\n",
      "        \n",
      "    return one_video_data"
     ],
     "language": "python",
     "metadata": {},
     "outputs": [],
     "prompt_number": 19
    },
    {
     "cell_type": "code",
     "collapsed": false,
     "input": [
      "def set_playlist_mongo_data(one_playlist_data):\n",
      "    if \"playlist_id\" in one_playlist_data.keys():\n",
      "        one_playlist_data[\"_id\"] = one_playlist_data[\"playlist_id\"]\n",
      "        del one_playlist_data[\"playlist_id\"]\n",
      "    \n",
      "    if \"video_ids\" in one_playlist_data.keys():\n",
      "        one_playlist_data[\"videoIds\"] = one_playlist_data[\"video_ids\"]\n",
      "        del one_playlist_data[\"video_ids\"]\n",
      "    \n",
      "    return one_playlist_data\n",
      "    "
     ],
     "language": "python",
     "metadata": {},
     "outputs": [],
     "prompt_number": 20
    },
    {
     "cell_type": "code",
     "collapsed": false,
     "input": [
      "test1 = map(set_video_mongo_data, test1)\n",
      "test2 = map(set_playlist_mongo_data, test2)"
     ],
     "language": "python",
     "metadata": {},
     "outputs": [],
     "prompt_number": 21
    },
    {
     "cell_type": "code",
     "collapsed": false,
     "input": [
      "test1[:5]"
     ],
     "language": "python",
     "metadata": {},
     "outputs": [
      {
       "metadata": {},
       "output_type": "pyout",
       "prompt_number": 22,
       "text": [
        "[{'_id': u'FhGK7nU-GTc',\n",
        "  'author': u'COSCUP \\u958b\\u6e90\\u4eba\\u5e74\\u6703',\n",
        "  'categories': [{u'scheme': u'http://schemas.google.com/g/2005#kind',\n",
        "    u'term': u'http://gdata.youtube.com/schemas/2007#video'},\n",
        "   {u'label': u'Travel & Events',\n",
        "    u'scheme': u'http://gdata.youtube.com/schemas/2007/categories.cat',\n",
        "    u'term': u'Travel'}],\n",
        "  'description': u'60X\\uff0c\\u901f\\u5ea6\\u5f88\\u5feb\\uff0c\\u5bb9\\u6613\\u982d\\u6688\\u8005\\u8acb\\u5c0f\\u5fc3\\u89c0\\u770b\\uff0c\\u4e5f\\u53ef\\u4ee5\\u4f7f\\u7528 YouTube \\u7684\\u6162\\u901f\\u64ad\\u653e\\u529f\\u80fd\\u3002',\n",
        "  'title': u'[COSCUP 2014] \\u8a18\\u9304\\u7d44\\u54e1\\u7684\\u4e00\\u5929'},\n",
        " {'_id': u'lxbq0VDF4sg',\n",
        "  'author': u'COSCUP \\u958b\\u6e90\\u4eba\\u5e74\\u6703',\n",
        "  'categories': [{u'scheme': u'http://schemas.google.com/g/2005#kind',\n",
        "    u'term': u'http://gdata.youtube.com/schemas/2007#video'},\n",
        "   {u'label': u'Nonprofits & Activism',\n",
        "    u'scheme': u'http://gdata.youtube.com/schemas/2007/categories.cat',\n",
        "    u'term': u'Nonprofit'}],\n",
        "  'description': u'',\n",
        "  'title': u'[COSCUP 2013] \\u958b\\u5e55\\u5f0f'},\n",
        " {'_id': u'pqdAAmy_yPM',\n",
        "  'author': u'COSCUP \\u958b\\u6e90\\u4eba\\u5e74\\u6703',\n",
        "  'categories': [{u'scheme': u'http://schemas.google.com/g/2005#kind',\n",
        "    u'term': u'http://gdata.youtube.com/schemas/2007#video'},\n",
        "   {u'label': u'Nonprofits & Activism',\n",
        "    u'scheme': u'http://gdata.youtube.com/schemas/2007/categories.cat',\n",
        "    u'term': u'Nonprofit'}],\n",
        "  'description': u'\\u4e3b\\u984c\\u5305\\u542b\\u76ee\\u524d\\u83ef\\u8a9e\\u5076\\u50cf\\u6b4c\\u624b\\u5be6\\u4f5c\\u9032\\u5ea6, \\u4ee5\\u53ca\\u81ea\\u52d5\\u8655\\u7406\\u5b50\\u97f3\\u8207\\u6bcd\\u97f3\\u5207\\u5272\\u7684\\u6280\\u8853. \\u8a9e\\u97f3\\u5408\\u6210\\u7684\\u8173\\u672c, \\u4e26\\u4e14 DEMO \\u76ee\\u524d\\u6240\\u64c1\\u6709\\u7684\\u6210\\u679c.',\n",
        "  'title': u'[COSCUP 2013] \\u7d14\\u81ea\\u7531\\u8edf\\u9ad4\\u7684\\u865b\\u64ec\\u5076\\u50cf\\u6b4c\\u624b\\u5be6\\u4f5c - PaulLiu (Ying-Chun Liu)'},\n",
        " {'_id': u'dZ5bRDW9bZU',\n",
        "  'author': u'COSCUP \\u958b\\u6e90\\u4eba\\u5e74\\u6703',\n",
        "  'categories': [{u'scheme': u'http://schemas.google.com/g/2005#kind',\n",
        "    u'term': u'http://gdata.youtube.com/schemas/2007#video'},\n",
        "   {u'label': u'Nonprofits & Activism',\n",
        "    u'scheme': u'http://gdata.youtube.com/schemas/2007/categories.cat',\n",
        "    u'term': u'Nonprofit'}],\n",
        "  'description': u'\\u672c\\u8b70\\u7a0b\\u5c07\\u767c\\u8868\\u4e00\\u500b\\u5177\\u9ad4\\u800c\\u5fae\\u7684\\u5373\\u6642\\u591a\\u5de5\\u4f5c\\u696d\\u7cfb\\u7d71 (RTOS)\\uff0c\\u9664\\u4e86\\u7d93\\u5178\\u7684\\u7279\\u6027\\u5916\\uff0c\\u672c\\u7cfb\\u7d71\\u5f37\\u8abf\\u91dd\\u5c0d\\u5d4c\\u5165\\u5f0f\\u88dd\\u7f6e\\u7684\\u6709\\u6548\\u4f4e\\u529f\\u8017\\u8655\\u7406\\uff0c\\u6db5\\u84cb Tickless scheduling, low-power mode\\uff0c\\u4e26\\u4ee5 ARM Cortex-M \\u5e73\\u53f0\\u4f5c\\u70ba\\u4e3b\\u8981\\u7684\\u74b0\\u5883\\u3002',\n",
        "  'title': u'[COSCUP 2013] Design Power-efficient RTOS - jserv (\\u9ec3\\u656c\\u7fa4)'},\n",
        " {'_id': u'hFbQOkfidD4',\n",
        "  'author': u'COSCUP \\u958b\\u6e90\\u4eba\\u5e74\\u6703',\n",
        "  'categories': [{u'scheme': u'http://schemas.google.com/g/2005#kind',\n",
        "    u'term': u'http://gdata.youtube.com/schemas/2007#video'},\n",
        "   {u'label': u'Nonprofits & Activism',\n",
        "    u'scheme': u'http://gdata.youtube.com/schemas/2007/categories.cat',\n",
        "    u'term': u'Nonprofit'}],\n",
        "  'description': u'During the last four years, a community of mobile communications enthusiasts has created a variety of projects under the Osmocom.org umbrella. Such projects include * the network-side GSM/GPRS protocol stack consisting of OpenBSC, OsmoBTS, OsmoPCU, OsmoSGSN * the telephone-side GSM protocol stack OsmocomBB * an ETSI TETRA receiver implementation called OsmocomTETRA * the SIMtrace SIM/USIM card protocol tracer hardware * the OsmocomGMR receiver for Thuraya satellite telephony signals * the OsmocomDECT Linux kernel DECT protocol stack * the OsmoSDR USB SDR hardware receiver * the rtl-sdr software for using DVB-T dongles for SDR\\n\\nThe presentation will give a broad overview about the various projects and their capabilities.',\n",
        "  'title': u'[COSCUP 2013] Osmocom - Open Source MObile COMmunications - Harald Welte'}]"
       ]
      }
     ],
     "prompt_number": 22
    },
    {
     "cell_type": "code",
     "collapsed": false,
     "input": [
      "test2[:5]"
     ],
     "language": "python",
     "metadata": {},
     "outputs": [
      {
       "metadata": {},
       "output_type": "pyout",
       "prompt_number": 23,
       "text": [
        "[{'_id': u'PLqfib4St70XMqJM3AL-Xe7jr6nbRwetcZ',\n",
        "  'author': u'COSCUP \\u958b\\u6e90\\u4eba\\u5e74\\u6703',\n",
        "  'logo': u'http://www.gstatic.com/youtube/img/logo.png',\n",
        "  'subtitle': u'',\n",
        "  'title': u'COSCUP 2014',\n",
        "  'updated': u'2014-09-10T12:56:42.000Z',\n",
        "  'videoIds': [u'FhGK7nU-GTc']},\n",
        " {'_id': u'PLqfib4St70XPA2MCk1-nJFUFHsIQFdSM5',\n",
        "  'author': u'COSCUP \\u958b\\u6e90\\u4eba\\u5e74\\u6703',\n",
        "  'logo': u'http://www.gstatic.com/youtube/img/logo.png',\n",
        "  'subtitle': u'',\n",
        "  'title': u'COSCUP 2013',\n",
        "  'updated': u'2014-06-12T10:33:23.000Z',\n",
        "  'videoIds': [u'VwAtYGyjTks',\n",
        "   u'8a-ji70_7k0',\n",
        "   u'rvdfWuyysms',\n",
        "   u'ZWwI0q5Ryw0',\n",
        "   u'vQNU-Ij5c5w',\n",
        "   u'gtVcMjo4vjs',\n",
        "   u'iWBH1aqeeLw',\n",
        "   u'N719bgeI--I',\n",
        "   u'ej8TPBd4kOg',\n",
        "   u'ITehdhhkhCE',\n",
        "   u'gHXXjU9p1j8',\n",
        "   u'0hzjTgURohc',\n",
        "   u'JEt4lmoy2hQ',\n",
        "   u'JSd4wOBJbDQ',\n",
        "   u'zkOVUnhiDVg',\n",
        "   u'Vieda2fJuFY',\n",
        "   u'oxqfr3mZEcA',\n",
        "   u'K1zcxJM6NO8',\n",
        "   u'FqNVqtHL_3w',\n",
        "   u'enGVV29B6v0',\n",
        "   u'6oEtGb7YIEY',\n",
        "   u'KrM1EDLV6oM',\n",
        "   u'DOtSNOzPW04',\n",
        "   u'Z5kJgDs7P7w',\n",
        "   u'vpiWNEmfHZQ',\n",
        "   u'AVB5oPUw6GQ',\n",
        "   u'Hdfojn8Ia1g',\n",
        "   u'jd_XBV6f4Rw',\n",
        "   u'MWaRnCOffB4',\n",
        "   u'fHLqSWdDrpA',\n",
        "   u'CidKovMNaL8',\n",
        "   u'jwpdc5jU22Y',\n",
        "   u'dE52LLcUhYk',\n",
        "   u'dF8_DspMaEA',\n",
        "   u'fBiPe_9i724',\n",
        "   u'wE1yQOz_jqM',\n",
        "   u'ZisECCTpotU',\n",
        "   u'pqdAAmy_yPM',\n",
        "   u'hFbQOkfidD4',\n",
        "   u'dZ5bRDW9bZU',\n",
        "   u'lxbq0VDF4sg',\n",
        "   u'X2797zh9x74',\n",
        "   u'9QvuJQ3NNxE',\n",
        "   u'sutQFecmStY',\n",
        "   u'SxrVV-p2dG4',\n",
        "   u'30TOcMX2hlo',\n",
        "   u'mBs1zfNgxOQ',\n",
        "   u'vIV8joT9qlE',\n",
        "   u'twRFIOfr97o',\n",
        "   u'cytlfnbcE_Y',\n",
        "   u'AF5x4gxsGCA',\n",
        "   u'E3aArwN6SqI',\n",
        "   u'Of0g1XrEDLc',\n",
        "   u'NgK5Tgza4W4',\n",
        "   u'kDyia-sFeHw',\n",
        "   u'bdjpk0FEOmA',\n",
        "   u'5uWj_IkfjrE',\n",
        "   u'hPxOpQCqcR4',\n",
        "   u'5YP2Tb45Pyo',\n",
        "   u'BrRTwl2m024',\n",
        "   u'YhamlvLQ8F4',\n",
        "   u'NfZbVoR4Hq8',\n",
        "   u'AGgvfndmunI',\n",
        "   u'8HQTRS6AGsY',\n",
        "   u'liZuNh7Sw7s',\n",
        "   u'eJVld1qnJB8',\n",
        "   u'xdWypsV7f6o',\n",
        "   u'igDgpo3hmeA',\n",
        "   u'-5WSvaSuTEk',\n",
        "   u'bPK2NxzUMGs',\n",
        "   u'1QhNm7aqMcc',\n",
        "   u'pQ-OpkbECuU',\n",
        "   u'IFtFlCN-DNE',\n",
        "   u'dHeIlkI9prs',\n",
        "   u'3Y81BCQvd-o',\n",
        "   u'tAL9IZQY_6A',\n",
        "   u'ERfetj2RXEc',\n",
        "   u'QJODy8qDPcY',\n",
        "   u'OsXI2imoT9I',\n",
        "   u'YOv6MawVKQc',\n",
        "   u'aC6WsTK05cc',\n",
        "   u'zMiNxDJpgws',\n",
        "   u'lOPB8im0yOo',\n",
        "   u'escsixrqG6M',\n",
        "   u'Dc0L2KptNG0',\n",
        "   u'Q2uX3cR2_OI',\n",
        "   u'W4BbHx0G5jE',\n",
        "   u'ZQFfK0Emd8w',\n",
        "   u'OUIyn4b7nxQ',\n",
        "   u'OGbAHXWPlD4',\n",
        "   u'Ztad1Dqj4-M',\n",
        "   u'I6OBszFGlOM',\n",
        "   u'rvdfWuyysms',\n",
        "   u'ZWwI0q5Ryw0',\n",
        "   u'vQNU-Ij5c5w',\n",
        "   u'gtVcMjo4vjs',\n",
        "   u'iWBH1aqeeLw',\n",
        "   u'ITehdhhkhCE',\n",
        "   u'gHXXjU9p1j8',\n",
        "   u'0hzjTgURohc',\n",
        "   u'JEt4lmoy2hQ',\n",
        "   u'JSd4wOBJbDQ',\n",
        "   u'zkOVUnhiDVg',\n",
        "   u'Vieda2fJuFY',\n",
        "   u'8a-ji70_7k0',\n",
        "   u'VwAtYGyjTks',\n",
        "   u'Tn2SQSHfCr4',\n",
        "   u'IhAL1nLIFT0',\n",
        "   u'rc-GL7xF_WI',\n",
        "   u'3QJN-zEsnug',\n",
        "   u'ayQO6H4Mnio',\n",
        "   u'WA38EYL0D9Y',\n",
        "   u'Yg4GafmIuGY',\n",
        "   u'SY5SbymCsUo',\n",
        "   u'vZ31HS28xY0',\n",
        "   u'9MH7smRV8Zc',\n",
        "   u'V2FymnCXeSc']},\n",
        " {'_id': u'PLqfib4St70XNspmD7hOJQrcXa3CnvCc9V',\n",
        "  'author': u'COSCUP \\u958b\\u6e90\\u4eba\\u5e74\\u6703',\n",
        "  'logo': u'http://www.gstatic.com/youtube/img/logo.png',\n",
        "  'subtitle': u'',\n",
        "  'title': u'COSCUP 2012',\n",
        "  'updated': u'2014-05-24T12:48:52.000Z',\n",
        "  'videoIds': [u'nhergxHoVYY',\n",
        "   u'qv4SiMSK5SY',\n",
        "   u'yyMhjim9RjY',\n",
        "   u'jpt5oCkfef4',\n",
        "   u'm6R1mFpifa4',\n",
        "   u'kv6AyVkmQZU',\n",
        "   u'VF2-s5wgsS0',\n",
        "   u'FdDf4DrCmjQ',\n",
        "   u'SqEpwNhymuQ',\n",
        "   u'nwPSSxB8oe4',\n",
        "   u'd2B_9oMUx40',\n",
        "   u'yjfJ2fC1T3s',\n",
        "   u'TT6johw6_14',\n",
        "   u'BD9_q6Zl1WI',\n",
        "   u'8yYE07D0ysk',\n",
        "   u'2YyyrQFgmT4',\n",
        "   u'lmVegM_vS9Q',\n",
        "   u'Z_lkUT6h7Hs',\n",
        "   u'wcME4URpLLs',\n",
        "   u'zkLgj1LzK0I',\n",
        "   u'2X7pacN3Ulk',\n",
        "   u'qoGu3NV_jvM',\n",
        "   u'KpZAzD3Fqmw',\n",
        "   u'pwBva_XYjIc',\n",
        "   u'j-v7bhI0dh4',\n",
        "   u'iG4c4ZlXl4M',\n",
        "   u'6dLb_MBOVqw',\n",
        "   u'HuKWKBN1OBU',\n",
        "   u'kh0LKHjmvNg',\n",
        "   u'V31dd8mPXDc',\n",
        "   u'4ajpUhvHDGo',\n",
        "   u'nQfLfHVq50c',\n",
        "   u'HEW39KXn0a4',\n",
        "   u'DNQaudJt-Ak',\n",
        "   u'nCAlAoXKWVk',\n",
        "   u'b-4sigZ3ks0',\n",
        "   u'5e-0DmuLnoM',\n",
        "   u'Iz1hJK6Cz3Q',\n",
        "   u'dweJFWBUXls',\n",
        "   u'6YPpoL_nR6w',\n",
        "   u'LIwQtqHFSlk',\n",
        "   u'eXeK4bSCr_8',\n",
        "   u'xHrMfxj0vt4',\n",
        "   u'7fykQmZuock',\n",
        "   u'CW91J4alArM',\n",
        "   u'b5h9NX9DIwQ',\n",
        "   u'2NlfQjmvXII',\n",
        "   u'YWMQMlQI7FM',\n",
        "   u'dCXd-dD96zs',\n",
        "   u'6lfAjdtwECc',\n",
        "   u'1s3uw9ZfZGc',\n",
        "   u'7s4QtQR56Ns',\n",
        "   u'Rgk7Ld8a2Vg',\n",
        "   u'E_-8lGBi8-k',\n",
        "   u'tZ9fY08wfVM',\n",
        "   u'nWANGhmqINY',\n",
        "   u'ADP098v_EUs',\n",
        "   u'8fablNfKLqU',\n",
        "   u'e3I9wiLhQjc',\n",
        "   u'neOcLyNkHMM',\n",
        "   u'NgpAub45XH4',\n",
        "   u'l0ibyDmTtw0',\n",
        "   u'6oCvLCmWVkk',\n",
        "   u'AkNwNkVemNw',\n",
        "   u'Q5czZT5eXoM',\n",
        "   u'BZ2PMr0n-dM',\n",
        "   u'gA_ScYs_oTk']},\n",
        " {'_id': u'PLE8DBA2A06F770766',\n",
        "  'author': u'COSCUP \\u958b\\u6e90\\u4eba\\u5e74\\u6703',\n",
        "  'logo': u'http://www.gstatic.com/youtube/img/logo.png',\n",
        "  'subtitle': u'',\n",
        "  'title': u'COSCUP 2009',\n",
        "  'updated': u'2012-04-26T10:14:20.000Z',\n",
        "  'videoIds': [u'dVgr-VvQFIk',\n",
        "   u'5eT8Lu1Kcrc',\n",
        "   u'RCCsyjT-Xuw',\n",
        "   u'dCqLlcT3n3w',\n",
        "   u'KNfFynIDlMs',\n",
        "   u'nq1qpHhYSSE',\n",
        "   u'pdT0nVYN3SM',\n",
        "   u'KMX-xmSEaPY',\n",
        "   u'VA96uyFbEYs',\n",
        "   u'RhIE_c_amr8',\n",
        "   u'KGj9UgXWHTA',\n",
        "   u'58_UyZnxg9M',\n",
        "   u's9ICWgpaIe0',\n",
        "   u'q0DRFrqagzg',\n",
        "   u'MWnUS0zNB3Q',\n",
        "   u'V7PfZqp8-OE',\n",
        "   u'Stap825iQr4',\n",
        "   u'hy01QtIGIUw',\n",
        "   u'HGNytuGj3io',\n",
        "   u'0uE5wNOho48',\n",
        "   u'j2sEKyHm7Bk',\n",
        "   u'N3ZWXnZBUwo',\n",
        "   u'24iqFC68Fik',\n",
        "   u'XM41L6mMANo',\n",
        "   u'ozEaxJx6Tws',\n",
        "   u'EiK3tsz6Cco',\n",
        "   u'bq-jE4BbhE4',\n",
        "   u'8lbo1jCHWHE',\n",
        "   u'OnfpcqE9QJ0',\n",
        "   u'mz7NKBKmrw8',\n",
        "   u'87eNcOlPS7s',\n",
        "   u'Qm1W1ATTcBQ',\n",
        "   u'efEX0hBkxfo',\n",
        "   u'gRjaP4s8BRw',\n",
        "   u'AO0buIohn_c',\n",
        "   u'Ote_xEf-u0A',\n",
        "   u'RERcZF_cBc8',\n",
        "   u'KzU82n5vjqU',\n",
        "   u'sjlLO7uvkVo',\n",
        "   u'QMxpR6jaT-0',\n",
        "   u'MefozEc7_bQ',\n",
        "   u'tL4A0-sOtEY',\n",
        "   u'oGiDyqTb2gg',\n",
        "   u'h-alZ3u_ryM',\n",
        "   u'C8683MGjgqc',\n",
        "   u'Sm0ni2mXQlU',\n",
        "   u'a1DPXyLJqc8',\n",
        "   u'BX65iJiD6vU',\n",
        "   u'g-YgPoNy-Do',\n",
        "   u'_jx1i3r4lzQ',\n",
        "   u'qZbXhABqzKs',\n",
        "   u'cwmjl_WUedA',\n",
        "   u'8VGbC3OblAA']},\n",
        " {'_id': u'PLF80AC8951C806F74',\n",
        "  'author': u'COSCUP \\u958b\\u6e90\\u4eba\\u5e74\\u6703',\n",
        "  'logo': u'http://www.gstatic.com/youtube/img/logo.png',\n",
        "  'subtitle': u'',\n",
        "  'title': u'COSCUP 2008',\n",
        "  'updated': u'2012-04-26T06:27:30.000Z',\n",
        "  'videoIds': [u'kVEuFTZIVL8',\n",
        "   u'AydzO1skFig',\n",
        "   u'hHZiLjQRifY',\n",
        "   u'Qca9hwS2sdg',\n",
        "   u'3kPmojZUAI8',\n",
        "   u'JCcKSHp2Qo0',\n",
        "   u'Vv5QI25xQqI',\n",
        "   u'IoAPUdkACAs',\n",
        "   u'HdWweqU05Mg',\n",
        "   u'O5_XDoytJcw',\n",
        "   u'TI_JabfziRo',\n",
        "   u'94hVcahYRVc',\n",
        "   u'v4mjoP4X10A',\n",
        "   u'Y5unLUwSlgQ',\n",
        "   u'T01AkCKenTA',\n",
        "   u'PDKJ2BbmP88',\n",
        "   u'_DZNRcpV9qY',\n",
        "   u'Fxz15Qqs0jg',\n",
        "   u'AlsFx8ZTI_w',\n",
        "   u'IUhFs4ld27Y',\n",
        "   u'cbEv1tD6eBs',\n",
        "   u'_BI2fmAw_nE',\n",
        "   u'7ZymAAReneo',\n",
        "   u'7gk3jMEwEkw',\n",
        "   u'o7iuTJTPjfQ',\n",
        "   u'00bPH8iEsPg',\n",
        "   u'ULFUozDfUcc']}]"
       ]
      }
     ],
     "prompt_number": 23
    },
    {
     "cell_type": "code",
     "collapsed": false,
     "input": [],
     "language": "python",
     "metadata": {},
     "outputs": []
    }
   ],
   "metadata": {}
  }
 ]
}