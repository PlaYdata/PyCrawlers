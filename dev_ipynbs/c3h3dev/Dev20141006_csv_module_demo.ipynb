{
 "metadata": {
  "name": "",
  "signature": "sha256:e1f4ca7df7bb4e7d2bb195615acac70f5a54d520fbd9857af438f0cd73d7c5b7"
 },
 "nbformat": 3,
 "nbformat_minor": 0,
 "worksheets": [
  {
   "cells": [
    {
     "cell_type": "code",
     "collapsed": false,
     "input": [
      "import pandas as pd\n",
      "from pandas.io.parsers import StringIO\n",
      "import numpy as np\n",
      "from pyquery import PyQuery as pq\n",
      "import requests\n",
      "import re"
     ],
     "language": "python",
     "metadata": {},
     "outputs": [
      {
       "output_type": "stream",
       "stream": "stderr",
       "text": [
        "/home/c3h3/.pyenv/versions/py27/lib/python2.7/site-packages/pytz/__init__.py:29: UserWarning: Module argparse was already imported from /home/c3h3/.pyenv/versions/2.7.7/lib/python2.7/argparse.pyc, but /home/c3h3/.pyenv/versions/py27/lib/python2.7/site-packages is being added to sys.path\n",
        "  from pkg_resources import resource_stream\n"
       ]
      }
     ],
     "prompt_number": 1
    },
    {
     "cell_type": "code",
     "collapsed": false,
     "input": [
      "res = requests.get(\"http://www.twse.com.tw/en/trading/exchange/MI_INDEX/MI_INDEX3_print.php?genpage=genpage/Report201410/A11220141003ALLBUT0999_1.php&type=csv\")"
     ],
     "language": "python",
     "metadata": {},
     "outputs": [],
     "prompt_number": 2
    },
    {
     "cell_type": "code",
     "collapsed": false,
     "input": [
      "res.encoding"
     ],
     "language": "python",
     "metadata": {},
     "outputs": [
      {
       "metadata": {},
       "output_type": "pyout",
       "prompt_number": 3,
       "text": [
        "'ISO-8859-1'"
       ]
      }
     ],
     "prompt_number": 3
    },
    {
     "cell_type": "code",
     "collapsed": false,
     "input": [
      "res.encoding = \"big5\""
     ],
     "language": "python",
     "metadata": {},
     "outputs": [],
     "prompt_number": 4
    },
    {
     "cell_type": "code",
     "collapsed": false,
     "input": [
      "print res.text[:200]"
     ],
     "language": "python",
     "metadata": {},
     "outputs": [
      {
       "output_type": "stream",
       "stream": "stdout",
       "text": [
        "2014/10/03 Market Summary\n",
        "Index,Closing Index,Dir(+/-),Change,Change(%)\n",
        "Formosa Index,\"10,603.36\",\uff0b,148.91,1.42\n",
        "TAIEX,\"9,106.28\",\uff0b,131.09,1.46\n",
        "FTSE TWSE Taiwan 50 Index,\"6,506.30\",\uff0b,121.59,1.90\n",
        "FTSE T\n"
       ]
      }
     ],
     "prompt_number": 5
    },
    {
     "cell_type": "code",
     "collapsed": false,
     "input": [
      "text = res.text.replace(u'\\uff0b',u\"+\").replace(u'\\uff0d',u\"-\").replace(u'\\uff1a',u\":\").replace(u'\\u2019',\"`\")"
     ],
     "language": "python",
     "metadata": {},
     "outputs": [],
     "prompt_number": 48
    },
    {
     "cell_type": "code",
     "collapsed": false,
     "input": [],
     "language": "python",
     "metadata": {},
     "outputs": [],
     "prompt_number": 48
    },
    {
     "cell_type": "code",
     "collapsed": false,
     "input": [
      "print text[:200]"
     ],
     "language": "python",
     "metadata": {},
     "outputs": [
      {
       "output_type": "stream",
       "stream": "stdout",
       "text": [
        "2014/10/03 Market Summary\n",
        "Index,Closing Index,Dir(+/-),Change,Change(%)\n",
        "Formosa Index,\"10,603.36\",+,148.91,1.42\n",
        "TAIEX,\"9,106.28\",+,131.09,1.46\n",
        "FTSE TWSE Taiwan 50 Index,\"6,506.30\",+,121.59,1.90\n",
        "FTSE T\n"
       ]
      }
     ],
     "prompt_number": 49
    },
    {
     "cell_type": "code",
     "collapsed": false,
     "input": [
      "import csv\n",
      "\n",
      "# csvfile = open('comma.csv', 'rb') # 1\n",
      "csvfile = StringIO(text)\n"
     ],
     "language": "python",
     "metadata": {},
     "outputs": [],
     "prompt_number": 50
    },
    {
     "cell_type": "code",
     "collapsed": false,
     "input": [
      "rows_list = list(csv.reader(csvfile))"
     ],
     "language": "python",
     "metadata": {},
     "outputs": [],
     "prompt_number": 51
    },
    {
     "cell_type": "code",
     "collapsed": false,
     "input": [
      "set(map(len,rows_list))"
     ],
     "language": "python",
     "metadata": {},
     "outputs": [
      {
       "metadata": {},
       "output_type": "pyout",
       "prompt_number": 57,
       "text": [
        "{1, 2, 3, 4, 5, 15}"
       ]
      }
     ],
     "prompt_number": 57
    },
    {
     "cell_type": "code",
     "collapsed": false,
     "input": [
      "len15_data = [one_row for one_row in rows_list if len(one_row) ==15]"
     ],
     "language": "python",
     "metadata": {},
     "outputs": [],
     "prompt_number": 63
    },
    {
     "cell_type": "code",
     "collapsed": false,
     "input": [
      "df = pd.DataFrame(len15_data)"
     ],
     "language": "python",
     "metadata": {},
     "outputs": [],
     "prompt_number": 64
    },
    {
     "cell_type": "code",
     "collapsed": false,
     "input": [
      "df.head()"
     ],
     "language": "python",
     "metadata": {},
     "outputs": [
      {
       "html": [
        "<div style=\"max-height:1000px;max-width:1500px;overflow:auto;\">\n",
        "<table border=\"1\" class=\"dataframe\">\n",
        "  <thead>\n",
        "    <tr style=\"text-align: right;\">\n",
        "      <th></th>\n",
        "      <th>0</th>\n",
        "      <th>1</th>\n",
        "      <th>2</th>\n",
        "      <th>3</th>\n",
        "      <th>4</th>\n",
        "      <th>5</th>\n",
        "      <th>6</th>\n",
        "      <th>7</th>\n",
        "      <th>8</th>\n",
        "      <th>9</th>\n",
        "      <th>10</th>\n",
        "      <th>11</th>\n",
        "      <th>12</th>\n",
        "      <th>13</th>\n",
        "      <th>14</th>\n",
        "    </tr>\n",
        "  </thead>\n",
        "  <tbody>\n",
        "    <tr>\n",
        "      <th>0</th>\n",
        "      <td> Security Code</td>\n",
        "      <td> Trade Volume</td>\n",
        "      <td> Transaction</td>\n",
        "      <td>   Trade Value</td>\n",
        "      <td> Opening Price</td>\n",
        "      <td> Highest Price</td>\n",
        "      <td> Lowest Price</td>\n",
        "      <td> Closing Price</td>\n",
        "      <td> Dir(+/-)</td>\n",
        "      <td> Change</td>\n",
        "      <td> Last Best Bid Price</td>\n",
        "      <td> Last Best Bid Volume</td>\n",
        "      <td> Last Best Ask Price</td>\n",
        "      <td> Last Best Ask Volume</td>\n",
        "      <td> Price-Earning ratio</td>\n",
        "    </tr>\n",
        "    <tr>\n",
        "      <th>1</th>\n",
        "      <td>       =\"0050\"</td>\n",
        "      <td>   16,238,916</td>\n",
        "      <td>       3,058</td>\n",
        "      <td> 1,074,509,403</td>\n",
        "      <td>         65.80</td>\n",
        "      <td>         66.70</td>\n",
        "      <td>        65.60</td>\n",
        "      <td>         66.70</td>\n",
        "      <td>        +</td>\n",
        "      <td>   1.20</td>\n",
        "      <td>               66.65</td>\n",
        "      <td>                   35</td>\n",
        "      <td>               66.70</td>\n",
        "      <td>                  266</td>\n",
        "      <td>                0.00</td>\n",
        "    </tr>\n",
        "    <tr>\n",
        "      <th>2</th>\n",
        "      <td>       =\"0051\"</td>\n",
        "      <td>       41,485</td>\n",
        "      <td>          29</td>\n",
        "      <td>     1,247,885</td>\n",
        "      <td>         30.04</td>\n",
        "      <td>         30.20</td>\n",
        "      <td>        29.96</td>\n",
        "      <td>         30.18</td>\n",
        "      <td>        -</td>\n",
        "      <td>   0.01</td>\n",
        "      <td>               30.18</td>\n",
        "      <td>                    2</td>\n",
        "      <td>               30.19</td>\n",
        "      <td>                    1</td>\n",
        "      <td>                0.00</td>\n",
        "    </tr>\n",
        "    <tr>\n",
        "      <th>3</th>\n",
        "      <td>       =\"0052\"</td>\n",
        "      <td>        2,000</td>\n",
        "      <td>           2</td>\n",
        "      <td>        77,240</td>\n",
        "      <td>         38.62</td>\n",
        "      <td>         38.62</td>\n",
        "      <td>        38.62</td>\n",
        "      <td>         38.62</td>\n",
        "      <td>        +</td>\n",
        "      <td>   0.58</td>\n",
        "      <td>               38.62</td>\n",
        "      <td>                    5</td>\n",
        "      <td>               39.13</td>\n",
        "      <td>                   13</td>\n",
        "      <td>                0.00</td>\n",
        "    </tr>\n",
        "    <tr>\n",
        "      <th>4</th>\n",
        "      <td>       =\"0053\"</td>\n",
        "      <td>       97,000</td>\n",
        "      <td>          49</td>\n",
        "      <td>     2,795,650</td>\n",
        "      <td>         28.84</td>\n",
        "      <td>         29.10</td>\n",
        "      <td>        28.50</td>\n",
        "      <td>         29.10</td>\n",
        "      <td>        +</td>\n",
        "      <td>   0.77</td>\n",
        "      <td>               29.13</td>\n",
        "      <td>                    1</td>\n",
        "      <td>               29.61</td>\n",
        "      <td>                    3</td>\n",
        "      <td>                0.00</td>\n",
        "    </tr>\n",
        "  </tbody>\n",
        "</table>\n",
        "</div>"
       ],
       "metadata": {},
       "output_type": "pyout",
       "prompt_number": 61,
       "text": [
        "              0             1            2              3              4   \\\n",
        "0  Security Code  Trade Volume  Transaction    Trade Value  Opening Price   \n",
        "1        =\"0050\"    16,238,916        3,058  1,074,509,403          65.80   \n",
        "2        =\"0051\"        41,485           29      1,247,885          30.04   \n",
        "3        =\"0052\"         2,000            2         77,240          38.62   \n",
        "4        =\"0053\"        97,000           49      2,795,650          28.84   \n",
        "\n",
        "              5             6              7         8       9   \\\n",
        "0  Highest Price  Lowest Price  Closing Price  Dir(+/-)  Change   \n",
        "1          66.70         65.60          66.70         +    1.20   \n",
        "2          30.20         29.96          30.18         -    0.01   \n",
        "3          38.62         38.62          38.62         +    0.58   \n",
        "4          29.10         28.50          29.10         +    0.77   \n",
        "\n",
        "                    10                    11                   12  \\\n",
        "0  Last Best Bid Price  Last Best Bid Volume  Last Best Ask Price   \n",
        "1                66.65                    35                66.70   \n",
        "2                30.18                     2                30.19   \n",
        "3                38.62                     5                39.13   \n",
        "4                29.13                     1                29.61   \n",
        "\n",
        "                     13                   14  \n",
        "0  Last Best Ask Volume  Price-Earning ratio  \n",
        "1                   266                 0.00  \n",
        "2                     1                 0.00  \n",
        "3                    13                 0.00  \n",
        "4                     3                 0.00  "
       ]
      }
     ],
     "prompt_number": 61
    },
    {
     "cell_type": "code",
     "collapsed": false,
     "input": [
      "df.tail()"
     ],
     "language": "python",
     "metadata": {},
     "outputs": [
      {
       "html": [
        "<div style=\"max-height:1000px;max-width:1500px;overflow:auto;\">\n",
        "<table border=\"1\" class=\"dataframe\">\n",
        "  <thead>\n",
        "    <tr style=\"text-align: right;\">\n",
        "      <th></th>\n",
        "      <th>0</th>\n",
        "      <th>1</th>\n",
        "      <th>2</th>\n",
        "      <th>3</th>\n",
        "      <th>4</th>\n",
        "      <th>5</th>\n",
        "      <th>6</th>\n",
        "      <th>7</th>\n",
        "      <th>8</th>\n",
        "      <th>9</th>\n",
        "      <th>10</th>\n",
        "      <th>11</th>\n",
        "      <th>12</th>\n",
        "      <th>13</th>\n",
        "      <th>14</th>\n",
        "    </tr>\n",
        "  </thead>\n",
        "  <tbody>\n",
        "    <tr>\n",
        "      <th>895</th>\n",
        "      <td> 9944</td>\n",
        "      <td>   196,164</td>\n",
        "      <td>   161</td>\n",
        "      <td>  12,556,577</td>\n",
        "      <td> 63.30</td>\n",
        "      <td> 64.70</td>\n",
        "      <td> 63.00</td>\n",
        "      <td> 63.90</td>\n",
        "      <td> +</td>\n",
        "      <td> 1.00</td>\n",
        "      <td> 63.80</td>\n",
        "      <td>  4</td>\n",
        "      <td> 63.90</td>\n",
        "      <td> 1</td>\n",
        "      <td> 69.46</td>\n",
        "    </tr>\n",
        "    <tr>\n",
        "      <th>896</th>\n",
        "      <td> 9945</td>\n",
        "      <td> 4,143,081</td>\n",
        "      <td> 2,257</td>\n",
        "      <td> 203,870,614</td>\n",
        "      <td> 48.00</td>\n",
        "      <td> 49.85</td>\n",
        "      <td> 47.95</td>\n",
        "      <td> 49.60</td>\n",
        "      <td> +</td>\n",
        "      <td> 1.70</td>\n",
        "      <td> 49.60</td>\n",
        "      <td> 11</td>\n",
        "      <td> 49.65</td>\n",
        "      <td> 1</td>\n",
        "      <td>  1.99</td>\n",
        "    </tr>\n",
        "    <tr>\n",
        "      <th>897</th>\n",
        "      <td> 9946</td>\n",
        "      <td>   355,000</td>\n",
        "      <td>   122</td>\n",
        "      <td>   8,111,650</td>\n",
        "      <td> 22.65</td>\n",
        "      <td> 23.00</td>\n",
        "      <td> 22.65</td>\n",
        "      <td> 22.65</td>\n",
        "      <td> +</td>\n",
        "      <td> 0.05</td>\n",
        "      <td> 22.65</td>\n",
        "      <td> 45</td>\n",
        "      <td> 22.80</td>\n",
        "      <td> 1</td>\n",
        "      <td>  7.21</td>\n",
        "    </tr>\n",
        "    <tr>\n",
        "      <th>898</th>\n",
        "      <td> 9955</td>\n",
        "      <td>    23,051</td>\n",
        "      <td>    15</td>\n",
        "      <td>     448,488</td>\n",
        "      <td> 19.40</td>\n",
        "      <td> 19.60</td>\n",
        "      <td> 19.40</td>\n",
        "      <td> 19.40</td>\n",
        "      <td> +</td>\n",
        "      <td> 0.05</td>\n",
        "      <td> 19.40</td>\n",
        "      <td> 10</td>\n",
        "      <td> 19.55</td>\n",
        "      <td> 1</td>\n",
        "      <td> 57.06</td>\n",
        "    </tr>\n",
        "    <tr>\n",
        "      <th>899</th>\n",
        "      <td> 9958</td>\n",
        "      <td>   164,000</td>\n",
        "      <td>    97</td>\n",
        "      <td>   1,786,550</td>\n",
        "      <td> 10.80</td>\n",
        "      <td> 11.00</td>\n",
        "      <td> 10.80</td>\n",
        "      <td> 10.90</td>\n",
        "      <td> +</td>\n",
        "      <td> 0.10</td>\n",
        "      <td> 10.85</td>\n",
        "      <td> 26</td>\n",
        "      <td> 10.90</td>\n",
        "      <td> 1</td>\n",
        "      <td> 16.27</td>\n",
        "    </tr>\n",
        "  </tbody>\n",
        "</table>\n",
        "</div>"
       ],
       "metadata": {},
       "output_type": "pyout",
       "prompt_number": 62,
       "text": [
        "       0          1      2            3      4      5      6      7  8     9   \\\n",
        "895  9944    196,164    161   12,556,577  63.30  64.70  63.00  63.90  +  1.00   \n",
        "896  9945  4,143,081  2,257  203,870,614  48.00  49.85  47.95  49.60  +  1.70   \n",
        "897  9946    355,000    122    8,111,650  22.65  23.00  22.65  22.65  +  0.05   \n",
        "898  9955     23,051     15      448,488  19.40  19.60  19.40  19.40  +  0.05   \n",
        "899  9958    164,000     97    1,786,550  10.80  11.00  10.80  10.90  +  0.10   \n",
        "\n",
        "        10  11     12 13     14  \n",
        "895  63.80   4  63.90  1  69.46  \n",
        "896  49.60  11  49.65  1   1.99  \n",
        "897  22.65  45  22.80  1   7.21  \n",
        "898  19.40  10  19.55  1  57.06  \n",
        "899  10.85  26  10.90  1  16.27  "
       ]
      }
     ],
     "prompt_number": 62
    },
    {
     "cell_type": "code",
     "collapsed": false,
     "input": [
      "#df"
     ],
     "language": "python",
     "metadata": {},
     "outputs": [],
     "prompt_number": 76
    },
    {
     "cell_type": "code",
     "collapsed": false,
     "input": [],
     "language": "python",
     "metadata": {},
     "outputs": []
    },
    {
     "cell_type": "code",
     "collapsed": false,
     "input": [
      "len5_data = [one_row for one_row in rows_list if len(one_row) ==5]"
     ],
     "language": "python",
     "metadata": {},
     "outputs": [],
     "prompt_number": 65
    },
    {
     "cell_type": "code",
     "collapsed": false,
     "input": [
      "#len5_data"
     ],
     "language": "python",
     "metadata": {},
     "outputs": [],
     "prompt_number": 67
    },
    {
     "cell_type": "code",
     "collapsed": false,
     "input": [
      "len4_data = [one_row for one_row in rows_list if len(one_row) ==4]"
     ],
     "language": "python",
     "metadata": {},
     "outputs": [],
     "prompt_number": 68
    },
    {
     "cell_type": "code",
     "collapsed": false,
     "input": [
      "#len4_data"
     ],
     "language": "python",
     "metadata": {},
     "outputs": [],
     "prompt_number": 70
    },
    {
     "cell_type": "code",
     "collapsed": false,
     "input": [
      "len3_data = [one_row for one_row in rows_list if len(one_row) ==3]"
     ],
     "language": "python",
     "metadata": {},
     "outputs": [],
     "prompt_number": 71
    },
    {
     "cell_type": "code",
     "collapsed": false,
     "input": [
      "len3_data"
     ],
     "language": "python",
     "metadata": {},
     "outputs": [
      {
       "metadata": {},
       "output_type": "pyout",
       "prompt_number": 72,
       "text": [
        "[['Type', 'Overall Market', 'Stocks'],\n",
        " ['Up (Limit Up)', '3,855(16)', '599(13)'],\n",
        " ['Down (Limit Down)', '1,807(28)', '150(1)'],\n",
        " ['Unchanged', '429', '88'],\n",
        " ['Unmatched', '3,208', '4'],\n",
        " ['N/A', '1,049', '3']]"
       ]
      }
     ],
     "prompt_number": 72
    },
    {
     "cell_type": "code",
     "collapsed": false,
     "input": [
      "len2_data = [one_row for one_row in rows_list if len(one_row) ==2]"
     ],
     "language": "python",
     "metadata": {},
     "outputs": [],
     "prompt_number": 73
    },
    {
     "cell_type": "code",
     "collapsed": false,
     "input": [
      "len2_data"
     ],
     "language": "python",
     "metadata": {},
     "outputs": [
      {
       "metadata": {},
       "output_type": "pyout",
       "prompt_number": 74,
       "text": [
        "[['Note:',\n",
        "  \"The movement between today`s closing price and the previous day's closing price will be disclosed in &quot;Change&quot; column.If the security goes ex-dividend, or ex-right, or is a new listing or resumes trading it will be marked as &quot;N/A&quot;.\"],\n",
        " ['2014/10/03(NT$,share)', '(NT$,Trading Unit)']]"
       ]
      }
     ],
     "prompt_number": 74
    },
    {
     "cell_type": "code",
     "collapsed": false,
     "input": [],
     "language": "python",
     "metadata": {},
     "outputs": []
    }
   ],
   "metadata": {}
  }
 ]
}