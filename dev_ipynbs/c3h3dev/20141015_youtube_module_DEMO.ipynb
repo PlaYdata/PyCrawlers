{
 "metadata": {
  "name": "",
  "signature": "sha256:2de171b5cf3389a8512a08705112ce4f4c03052fc4f66bf255b9351d502a1462"
 },
 "nbformat": 3,
 "nbformat_minor": 0,
 "worksheets": [
  {
   "cells": [
    {
     "cell_type": "code",
     "collapsed": false,
     "input": [
      "test_channel_ids_list = [\"thecoscup\", \"TWuseRGroup\"]"
     ],
     "language": "python",
     "metadata": {},
     "outputs": [],
     "prompt_number": 1
    },
    {
     "cell_type": "code",
     "collapsed": false,
     "input": [
      "from pycrawlers.examples.youtube import crawlers"
     ],
     "language": "python",
     "metadata": {},
     "outputs": [],
     "prompt_number": 2
    },
    {
     "cell_type": "code",
     "collapsed": false,
     "input": [
      "test1 = crawlers.crawl_channel_uploads(test_channel_ids_list[0])"
     ],
     "language": "python",
     "metadata": {},
     "outputs": [
      {
       "output_type": "stream",
       "stream": "stdout",
       "text": [
        "next_page_list =  ['https://gdata.youtube.com/feeds/users/thecoscup/uploads/']\n",
        "next_page_list = "
       ]
      },
      {
       "output_type": "stream",
       "stream": "stdout",
       "text": [
        " [u'https://gdata.youtube.com/feeds/users/thecoscup/uploads?alt=json&start-index=26&max-results=25']\n",
        "next_page_list = "
       ]
      },
      {
       "output_type": "stream",
       "stream": "stdout",
       "text": [
        " [u'https://gdata.youtube.com/feeds/users/thecoscup/uploads?alt=json&start-index=51&max-results=25']\n",
        "next_page_list = "
       ]
      },
      {
       "output_type": "stream",
       "stream": "stdout",
       "text": [
        " [u'https://gdata.youtube.com/feeds/users/thecoscup/uploads?alt=json&start-index=76&max-results=25']\n",
        "next_page_list = "
       ]
      },
      {
       "output_type": "stream",
       "stream": "stdout",
       "text": [
        " [u'https://gdata.youtube.com/feeds/users/thecoscup/uploads?alt=json&start-index=101&max-results=25']\n",
        "next_page_list = "
       ]
      },
      {
       "output_type": "stream",
       "stream": "stdout",
       "text": [
        " [u'https://gdata.youtube.com/feeds/users/thecoscup/uploads?alt=json&start-index=126&max-results=25']\n",
        "next_page_list = "
       ]
      },
      {
       "output_type": "stream",
       "stream": "stdout",
       "text": [
        " [u'https://gdata.youtube.com/feeds/users/thecoscup/uploads?alt=json&start-index=151&max-results=25']\n",
        "next_page_list = "
       ]
      },
      {
       "output_type": "stream",
       "stream": "stdout",
       "text": [
        " [u'https://gdata.youtube.com/feeds/users/thecoscup/uploads?alt=json&start-index=176&max-results=25']\n",
        "next_page_list = "
       ]
      },
      {
       "output_type": "stream",
       "stream": "stdout",
       "text": [
        " [u'https://gdata.youtube.com/feeds/users/thecoscup/uploads?alt=json&start-index=201&max-results=25']\n",
        "next_page_list = "
       ]
      },
      {
       "output_type": "stream",
       "stream": "stdout",
       "text": [
        " [u'https://gdata.youtube.com/feeds/users/thecoscup/uploads?alt=json&start-index=226&max-results=25']\n",
        "next_page_list = "
       ]
      },
      {
       "output_type": "stream",
       "stream": "stdout",
       "text": [
        " [u'https://gdata.youtube.com/feeds/users/thecoscup/uploads?alt=json&start-index=251&max-results=25']\n",
        "next_page_list = "
       ]
      },
      {
       "output_type": "stream",
       "stream": "stdout",
       "text": [
        " [u'https://gdata.youtube.com/feeds/users/thecoscup/uploads?alt=json&start-index=276&max-results=25']\n",
        "next_page_list = "
       ]
      },
      {
       "output_type": "stream",
       "stream": "stdout",
       "text": [
        " [u'https://gdata.youtube.com/feeds/users/thecoscup/uploads?alt=json&start-index=301&max-results=25']\n",
        "next_page_list = "
       ]
      },
      {
       "output_type": "stream",
       "stream": "stdout",
       "text": [
        " [u'https://gdata.youtube.com/feeds/users/thecoscup/uploads?alt=json&start-index=326&max-results=25']\n",
        "next_page_list = "
       ]
      },
      {
       "output_type": "stream",
       "stream": "stdout",
       "text": [
        " [u'https://gdata.youtube.com/feeds/users/thecoscup/uploads?alt=json&start-index=351&max-results=25']\n",
        "next_page_list = "
       ]
      },
      {
       "output_type": "stream",
       "stream": "stdout",
       "text": [
        " [u'https://gdata.youtube.com/feeds/users/thecoscup/uploads?alt=json&start-index=376&max-results=25']\n",
        "next_page_list = "
       ]
      },
      {
       "output_type": "stream",
       "stream": "stdout",
       "text": [
        " []\n"
       ]
      }
     ],
     "prompt_number": 3
    },
    {
     "cell_type": "code",
     "collapsed": false,
     "input": [
      "test1[:10]"
     ],
     "language": "python",
     "metadata": {},
     "outputs": [
      {
       "metadata": {},
       "output_type": "pyout",
       "prompt_number": 8,
       "text": [
        "[{'author': u'COSCUP \\u958b\\u6e90\\u4eba\\u5e74\\u6703',\n",
        "  'categories': [{u'scheme': u'http://schemas.google.com/g/2005#kind',\n",
        "    u'term': u'http://gdata.youtube.com/schemas/2007#video'},\n",
        "   {u'label': u'Travel & Events',\n",
        "    u'scheme': u'http://gdata.youtube.com/schemas/2007/categories.cat',\n",
        "    u'term': u'Travel'}],\n",
        "  'description': u'60X\\uff0c\\u901f\\u5ea6\\u5f88\\u5feb\\uff0c\\u5bb9\\u6613\\u982d\\u6688\\u8005\\u8acb\\u5c0f\\u5fc3\\u89c0\\u770b\\uff0c\\u4e5f\\u53ef\\u4ee5\\u4f7f\\u7528 YouTube \\u7684\\u6162\\u901f\\u64ad\\u653e\\u529f\\u80fd\\u3002',\n",
        "  'title': u'[COSCUP 2014] \\u8a18\\u9304\\u7d44\\u54e1\\u7684\\u4e00\\u5929',\n",
        "  'ytid': u'FhGK7nU-GTc'},\n",
        " {'author': u'COSCUP \\u958b\\u6e90\\u4eba\\u5e74\\u6703',\n",
        "  'categories': [{u'scheme': u'http://schemas.google.com/g/2005#kind',\n",
        "    u'term': u'http://gdata.youtube.com/schemas/2007#video'},\n",
        "   {u'label': u'Nonprofits & Activism',\n",
        "    u'scheme': u'http://gdata.youtube.com/schemas/2007/categories.cat',\n",
        "    u'term': u'Nonprofit'}],\n",
        "  'description': u'',\n",
        "  'title': u'[COSCUP 2013] \\u958b\\u5e55\\u5f0f',\n",
        "  'ytid': u'lxbq0VDF4sg'},\n",
        " {'author': u'COSCUP \\u958b\\u6e90\\u4eba\\u5e74\\u6703',\n",
        "  'categories': [{u'scheme': u'http://schemas.google.com/g/2005#kind',\n",
        "    u'term': u'http://gdata.youtube.com/schemas/2007#video'},\n",
        "   {u'label': u'Nonprofits & Activism',\n",
        "    u'scheme': u'http://gdata.youtube.com/schemas/2007/categories.cat',\n",
        "    u'term': u'Nonprofit'}],\n",
        "  'description': u'\\u4e3b\\u984c\\u5305\\u542b\\u76ee\\u524d\\u83ef\\u8a9e\\u5076\\u50cf\\u6b4c\\u624b\\u5be6\\u4f5c\\u9032\\u5ea6, \\u4ee5\\u53ca\\u81ea\\u52d5\\u8655\\u7406\\u5b50\\u97f3\\u8207\\u6bcd\\u97f3\\u5207\\u5272\\u7684\\u6280\\u8853. \\u8a9e\\u97f3\\u5408\\u6210\\u7684\\u8173\\u672c, \\u4e26\\u4e14 DEMO \\u76ee\\u524d\\u6240\\u64c1\\u6709\\u7684\\u6210\\u679c.',\n",
        "  'title': u'[COSCUP 2013] \\u7d14\\u81ea\\u7531\\u8edf\\u9ad4\\u7684\\u865b\\u64ec\\u5076\\u50cf\\u6b4c\\u624b\\u5be6\\u4f5c - PaulLiu (Ying-Chun Liu)',\n",
        "  'ytid': u'pqdAAmy_yPM'},\n",
        " {'author': u'COSCUP \\u958b\\u6e90\\u4eba\\u5e74\\u6703',\n",
        "  'categories': [{u'scheme': u'http://schemas.google.com/g/2005#kind',\n",
        "    u'term': u'http://gdata.youtube.com/schemas/2007#video'},\n",
        "   {u'label': u'Nonprofits & Activism',\n",
        "    u'scheme': u'http://gdata.youtube.com/schemas/2007/categories.cat',\n",
        "    u'term': u'Nonprofit'}],\n",
        "  'description': u'\\u672c\\u8b70\\u7a0b\\u5c07\\u767c\\u8868\\u4e00\\u500b\\u5177\\u9ad4\\u800c\\u5fae\\u7684\\u5373\\u6642\\u591a\\u5de5\\u4f5c\\u696d\\u7cfb\\u7d71 (RTOS)\\uff0c\\u9664\\u4e86\\u7d93\\u5178\\u7684\\u7279\\u6027\\u5916\\uff0c\\u672c\\u7cfb\\u7d71\\u5f37\\u8abf\\u91dd\\u5c0d\\u5d4c\\u5165\\u5f0f\\u88dd\\u7f6e\\u7684\\u6709\\u6548\\u4f4e\\u529f\\u8017\\u8655\\u7406\\uff0c\\u6db5\\u84cb Tickless scheduling, low-power mode\\uff0c\\u4e26\\u4ee5 ARM Cortex-M \\u5e73\\u53f0\\u4f5c\\u70ba\\u4e3b\\u8981\\u7684\\u74b0\\u5883\\u3002',\n",
        "  'title': u'[COSCUP 2013] Design Power-efficient RTOS - jserv (\\u9ec3\\u656c\\u7fa4)',\n",
        "  'ytid': u'dZ5bRDW9bZU'},\n",
        " {'author': u'COSCUP \\u958b\\u6e90\\u4eba\\u5e74\\u6703',\n",
        "  'categories': [{u'scheme': u'http://schemas.google.com/g/2005#kind',\n",
        "    u'term': u'http://gdata.youtube.com/schemas/2007#video'},\n",
        "   {u'label': u'Nonprofits & Activism',\n",
        "    u'scheme': u'http://gdata.youtube.com/schemas/2007/categories.cat',\n",
        "    u'term': u'Nonprofit'}],\n",
        "  'description': u'During the last four years, a community of mobile communications enthusiasts has created a variety of projects under the Osmocom.org umbrella. Such projects include * the network-side GSM/GPRS protocol stack consisting of OpenBSC, OsmoBTS, OsmoPCU, OsmoSGSN * the telephone-side GSM protocol stack OsmocomBB * an ETSI TETRA receiver implementation called OsmocomTETRA * the SIMtrace SIM/USIM card protocol tracer hardware * the OsmocomGMR receiver for Thuraya satellite telephony signals * the OsmocomDECT Linux kernel DECT protocol stack * the OsmoSDR USB SDR hardware receiver * the rtl-sdr software for using DVB-T dongles for SDR\\n\\nThe presentation will give a broad overview about the various projects and their capabilities.',\n",
        "  'title': u'[COSCUP 2013] Osmocom - Open Source MObile COMmunications - Harald Welte',\n",
        "  'ytid': u'hFbQOkfidD4'},\n",
        " {'author': u'COSCUP \\u958b\\u6e90\\u4eba\\u5e74\\u6703',\n",
        "  'categories': [{u'scheme': u'http://schemas.google.com/g/2005#kind',\n",
        "    u'term': u'http://gdata.youtube.com/schemas/2007#video'},\n",
        "   {u'label': u'Nonprofits & Activism',\n",
        "    u'scheme': u'http://gdata.youtube.com/schemas/2007/categories.cat',\n",
        "    u'term': u'Nonprofit'}],\n",
        "  'description': u'\\u96ea\\u723e\\u840a\\u514b\\u4f7f\\u7528\\u8fd1\\u8ddd\\u96e2\\u7121\\u7dda\\u901a\\u4fe1\\u6280\\u8853(Near Field Communication, NFC)\\uff0c\\u5c07\\u5831\\u5230\\u8cc7\\u6599\\u8207NFC\\u8cbc\\u7d19\\u9023\\u7d50\\uff0c\\u7e2e\\u77ed\\u5927\\u578b\\u6d3b\\u52d5\\u5197\\u9577\\u7684\\u9032\\u5834\\u7b49\\u5f85\\u6642\\u9593\\u3002\\u672c\\u6b21\\u8b70\\u7a0b\\u5c07\\u5e36\\u9818\\u5927\\u5bb6\\u8a8d\\u8b58\\u9019\\u500b\\u6642\\u4e0b\\u6700\\u592f\\u7684\\u6280\\u8853\\uff0c\\u4e26\\u70ba\\u5927\\u5bb6\\u5e36\\u4f86\\u9019\\u500b\\u6280\\u8853\\u5168\\u65b0\\u7684\\u8996\\u91ce\\u3002 NFC\\u4e0d\\u53ea\\u662f\\u9280\\u884c\\u3001\\u4ea4\\u901a\\u3001\\u96fb\\u4fe1\\u696d\\u8005\\u7684\\u5c08\\u5229\\uff0c\\u5229\\u7528\\u8eab\\u908a\\u7684NFC\\u79d1\\u6280\\u7522\\u54c1\\u8207opensource\\u8cc7\\u6e90\\uff0c\\u6211\\u5011\\u90fd\\u53ef\\u4ee5\\u958b\\u767c\\u81ea\\u5df1\\u7684NFC\\u61c9\\u7528\\uff01',\n",
        "  'title': u'[COSCUP 2013] Hello! NFC! - Marcoarxi',\n",
        "  'ytid': u'ZisECCTpotU'},\n",
        " {'author': u'COSCUP \\u958b\\u6e90\\u4eba\\u5e74\\u6703',\n",
        "  'categories': [{u'scheme': u'http://schemas.google.com/g/2005#kind',\n",
        "    u'term': u'http://gdata.youtube.com/schemas/2007#video'},\n",
        "   {u'label': u'Nonprofits & Activism',\n",
        "    u'scheme': u'http://gdata.youtube.com/schemas/2007/categories.cat',\n",
        "    u'term': u'Nonprofit'}],\n",
        "  'description': u'Raspberry PI and the future - Leveraging Open Source hardware and software for education and commercial development \\n\\n\\nBroadcom has an history of being involved in Open Source projects, but Raspberry PI was our first engagement with the community for Open Source hardware and Software development for a full SOC solution. In the keynote I will discuss the objectives of the Raspberry PI Foundation as well as Broadcom for getting involved in the project, some of the challenges we faced along the way and how we brought the solution to market. I will also highlight some of the key lessons we learnt as well as some of the advantages we achieved by being involved with the community for this project. Lastly I will discuss some of the areas where we are looking to expand our involvement with the community and some exciting new technologies we plan to bring to the table.',\n",
        "  'title': u'[COSCUP 2013] Raspberry PI and the future - Narendra Sankar',\n",
        "  'ytid': u'dF8_DspMaEA'},\n",
        " {'author': u'COSCUP \\u958b\\u6e90\\u4eba\\u5e74\\u6703',\n",
        "  'categories': [{u'scheme': u'http://schemas.google.com/g/2005#kind',\n",
        "    u'term': u'http://gdata.youtube.com/schemas/2007#video'},\n",
        "   {u'label': u'Nonprofits & Activism',\n",
        "    u'scheme': u'http://gdata.youtube.com/schemas/2007/categories.cat',\n",
        "    u'term': u'Nonprofit'}],\n",
        "  'description': u'Wikidata - open structured data by Wikimedia for everyone\\nby Nightrose (Lydia Pintscher)\\n\\nIt is nearly impossible to go online today without stumbling upon Wikipedia at some point along the way. Wikipedia, however, is just one of several projects in the Wikimedia movement next to Wikimedia Commons, Wiktionary and more. Last year a team started working on a new Wikimedia project. The project is called Wikidata. The goal is to provide Wikipedia and the world with a large free and open data repository. It is bringing Wikimedia closer to its vision of a world in which every single human being can freely share in the sum of all knowledge.',\n",
        "  'title': u'[COSCUP 2013] Wikidata - open structured data by Wikimedia for everyone - Nightrose',\n",
        "  'ytid': u'dE52LLcUhYk'},\n",
        " {'author': u'COSCUP \\u958b\\u6e90\\u4eba\\u5e74\\u6703',\n",
        "  'categories': [{u'scheme': u'http://schemas.google.com/g/2005#kind',\n",
        "    u'term': u'http://gdata.youtube.com/schemas/2007#video'},\n",
        "   {u'label': u'Nonprofits & Activism',\n",
        "    u'scheme': u'http://gdata.youtube.com/schemas/2007/categories.cat',\n",
        "    u'term': u'Nonprofit'}],\n",
        "  'description': u'I made Pseudo-Google Glass by using Android as OSS device platform & some devices. This device functions are gesture controlling system by using Kinect & See-Through display device. I made them by myself. So I will explain about How To Make the devices & softwares.',\n",
        "  'title': u'[COSCUP 2013] How To Make \"Pseudo-Google Glass\" - Noritsuna (Noritsuna Imamura)',\n",
        "  'ytid': u'jwpdc5jU22Y'},\n",
        " {'author': u'COSCUP \\u958b\\u6e90\\u4eba\\u5e74\\u6703',\n",
        "  'categories': [{u'scheme': u'http://schemas.google.com/g/2005#kind',\n",
        "    u'term': u'http://gdata.youtube.com/schemas/2007#video'},\n",
        "   {u'label': u'Nonprofits & Activism',\n",
        "    u'scheme': u'http://gdata.youtube.com/schemas/2007/categories.cat',\n",
        "    u'term': u'Nonprofit'}],\n",
        "  'description': u'Open Source Governance Today - Where We Are and Where We Are Going\\n\\nThis talk will explore developments in Open Source governance around the world over the last twelve months with a particular focus on the outcomes of recent events, meetings and discussions held in Europe, Japan, Korea and Taiwan. It will explain how Open Source is being managed in server, desktop, mobile and embedded products, and discusses how this knowledge will prove useful for future products in the embedded, mobile and automative markets. It will put emphasis on how governance is broader than technical or legal concerns, and includes issues of business strategy. This talk is intended for project leaders, legal experts and managers who want to understand copyright, trademark and patent challenges in the context of the commercial market. It will be delivered in accessible language by one of the most experienced figures in this area, based on his work supporting Linux and wider OSS technologies.',\n",
        "  'title': u'[COSCUP 2013] Open Source Governance Today - shanecoughlan (Shane Coughlan)',\n",
        "  'ytid': u'CidKovMNaL8'}]"
       ]
      }
     ],
     "prompt_number": 8
    },
    {
     "cell_type": "code",
     "collapsed": false,
     "input": [
      "import pandas as pd"
     ],
     "language": "python",
     "metadata": {},
     "outputs": [
      {
       "output_type": "stream",
       "stream": "stderr",
       "text": [
        "/home/c3h3/.pyenv/versions/py27/lib/python2.7/site-packages/pytz/__init__.py:29: UserWarning: Module argparse was already imported from /home/c3h3/.pyenv/versions/2.7.7/lib/python2.7/argparse.pyc, but /home/c3h3/.pyenv/versions/py27/lib/python2.7/site-packages is being added to sys.path\n",
        "  from pkg_resources import resource_stream\n"
       ]
      }
     ],
     "prompt_number": 9
    },
    {
     "cell_type": "code",
     "collapsed": false,
     "input": [
      "test1_df = pd.DataFrame(test1)"
     ],
     "language": "python",
     "metadata": {},
     "outputs": [],
     "prompt_number": 10
    },
    {
     "cell_type": "code",
     "collapsed": false,
     "input": [
      "test1_df.head()"
     ],
     "language": "python",
     "metadata": {},
     "outputs": [
      {
       "html": [
        "<div style=\"max-height:1000px;max-width:1500px;overflow:auto;\">\n",
        "<table border=\"1\" class=\"dataframe\">\n",
        "  <thead>\n",
        "    <tr style=\"text-align: right;\">\n",
        "      <th></th>\n",
        "      <th>author</th>\n",
        "      <th>categories</th>\n",
        "      <th>description</th>\n",
        "      <th>title</th>\n",
        "      <th>ytid</th>\n",
        "    </tr>\n",
        "  </thead>\n",
        "  <tbody>\n",
        "    <tr>\n",
        "      <th>0</th>\n",
        "      <td> COSCUP \u958b\u6e90\u4eba\u5e74\u6703</td>\n",
        "      <td> [{u'term': u'http://gdata.youtube.com/schemas/...</td>\n",
        "      <td>        60X\uff0c\u901f\u5ea6\u5f88\u5feb\uff0c\u5bb9\u6613\u982d\u6688\u8005\u8acb\u5c0f\u5fc3\u89c0\u770b\uff0c\u4e5f\u53ef\u4ee5\u4f7f\u7528 YouTube \u7684\u6162\u901f\u64ad\u653e\u529f\u80fd\u3002</td>\n",
        "      <td>                             [COSCUP 2014] \u8a18\u9304\u7d44\u54e1\u7684\u4e00\u5929</td>\n",
        "      <td> FhGK7nU-GTc</td>\n",
        "    </tr>\n",
        "    <tr>\n",
        "      <th>1</th>\n",
        "      <td> COSCUP \u958b\u6e90\u4eba\u5e74\u6703</td>\n",
        "      <td> [{u'term': u'http://gdata.youtube.com/schemas/...</td>\n",
        "      <td>                                                  </td>\n",
        "      <td>                                 [COSCUP 2013] \u958b\u5e55\u5f0f</td>\n",
        "      <td> lxbq0VDF4sg</td>\n",
        "    </tr>\n",
        "    <tr>\n",
        "      <th>2</th>\n",
        "      <td> COSCUP \u958b\u6e90\u4eba\u5e74\u6703</td>\n",
        "      <td> [{u'term': u'http://gdata.youtube.com/schemas/...</td>\n",
        "      <td> \u4e3b\u984c\u5305\u542b\u76ee\u524d\u83ef\u8a9e\u5076\u50cf\u6b4c\u624b\u5be6\u4f5c\u9032\u5ea6, \u4ee5\u53ca\u81ea\u52d5\u8655\u7406\u5b50\u97f3\u8207\u6bcd\u97f3\u5207\u5272\u7684\u6280\u8853. \u8a9e\u97f3\u5408\u6210\u7684\u8173\u672c, \u4e26...</td>\n",
        "      <td> [COSCUP 2013] \u7d14\u81ea\u7531\u8edf\u9ad4\u7684\u865b\u64ec\u5076\u50cf\u6b4c\u624b\u5be6\u4f5c - PaulLiu (Ying-C...</td>\n",
        "      <td> pqdAAmy_yPM</td>\n",
        "    </tr>\n",
        "    <tr>\n",
        "      <th>3</th>\n",
        "      <td> COSCUP \u958b\u6e90\u4eba\u5e74\u6703</td>\n",
        "      <td> [{u'term': u'http://gdata.youtube.com/schemas/...</td>\n",
        "      <td> \u672c\u8b70\u7a0b\u5c07\u767c\u8868\u4e00\u500b\u5177\u9ad4\u800c\u5fae\u7684\u5373\u6642\u591a\u5de5\u4f5c\u696d\u7cfb\u7d71 (RTOS)\uff0c\u9664\u4e86\u7d93\u5178\u7684\u7279\u6027\u5916\uff0c\u672c\u7cfb\u7d71\u5f37\u8abf\u91dd\u5c0d\u5d4c...</td>\n",
        "      <td> [COSCUP 2013] Design Power-efficient RTOS - js...</td>\n",
        "      <td> dZ5bRDW9bZU</td>\n",
        "    </tr>\n",
        "    <tr>\n",
        "      <th>4</th>\n",
        "      <td> COSCUP \u958b\u6e90\u4eba\u5e74\u6703</td>\n",
        "      <td> [{u'term': u'http://gdata.youtube.com/schemas/...</td>\n",
        "      <td> During the last four years, a community of mob...</td>\n",
        "      <td> [COSCUP 2013] Osmocom - Open Source MObile COM...</td>\n",
        "      <td> hFbQOkfidD4</td>\n",
        "    </tr>\n",
        "  </tbody>\n",
        "</table>\n",
        "</div>"
       ],
       "metadata": {},
       "output_type": "pyout",
       "prompt_number": 11,
       "text": [
        "         author                                         categories  \\\n",
        "0  COSCUP \u958b\u6e90\u4eba\u5e74\u6703  [{u'term': u'http://gdata.youtube.com/schemas/...   \n",
        "1  COSCUP \u958b\u6e90\u4eba\u5e74\u6703  [{u'term': u'http://gdata.youtube.com/schemas/...   \n",
        "2  COSCUP \u958b\u6e90\u4eba\u5e74\u6703  [{u'term': u'http://gdata.youtube.com/schemas/...   \n",
        "3  COSCUP \u958b\u6e90\u4eba\u5e74\u6703  [{u'term': u'http://gdata.youtube.com/schemas/...   \n",
        "4  COSCUP \u958b\u6e90\u4eba\u5e74\u6703  [{u'term': u'http://gdata.youtube.com/schemas/...   \n",
        "\n",
        "                                         description  \\\n",
        "0         60X\uff0c\u901f\u5ea6\u5f88\u5feb\uff0c\u5bb9\u6613\u982d\u6688\u8005\u8acb\u5c0f\u5fc3\u89c0\u770b\uff0c\u4e5f\u53ef\u4ee5\u4f7f\u7528 YouTube \u7684\u6162\u901f\u64ad\u653e\u529f\u80fd\u3002   \n",
        "1                                                      \n",
        "2  \u4e3b\u984c\u5305\u542b\u76ee\u524d\u83ef\u8a9e\u5076\u50cf\u6b4c\u624b\u5be6\u4f5c\u9032\u5ea6, \u4ee5\u53ca\u81ea\u52d5\u8655\u7406\u5b50\u97f3\u8207\u6bcd\u97f3\u5207\u5272\u7684\u6280\u8853. \u8a9e\u97f3\u5408\u6210\u7684\u8173\u672c, \u4e26...   \n",
        "3  \u672c\u8b70\u7a0b\u5c07\u767c\u8868\u4e00\u500b\u5177\u9ad4\u800c\u5fae\u7684\u5373\u6642\u591a\u5de5\u4f5c\u696d\u7cfb\u7d71 (RTOS)\uff0c\u9664\u4e86\u7d93\u5178\u7684\u7279\u6027\u5916\uff0c\u672c\u7cfb\u7d71\u5f37\u8abf\u91dd\u5c0d\u5d4c...   \n",
        "4  During the last four years, a community of mob...   \n",
        "\n",
        "                                               title         ytid  \n",
        "0                              [COSCUP 2014] \u8a18\u9304\u7d44\u54e1\u7684\u4e00\u5929  FhGK7nU-GTc  \n",
        "1                                  [COSCUP 2013] \u958b\u5e55\u5f0f  lxbq0VDF4sg  \n",
        "2  [COSCUP 2013] \u7d14\u81ea\u7531\u8edf\u9ad4\u7684\u865b\u64ec\u5076\u50cf\u6b4c\u624b\u5be6\u4f5c - PaulLiu (Ying-C...  pqdAAmy_yPM  \n",
        "3  [COSCUP 2013] Design Power-efficient RTOS - js...  dZ5bRDW9bZU  \n",
        "4  [COSCUP 2013] Osmocom - Open Source MObile COM...  hFbQOkfidD4  "
       ]
      }
     ],
     "prompt_number": 11
    },
    {
     "cell_type": "code",
     "collapsed": false,
     "input": [],
     "language": "python",
     "metadata": {},
     "outputs": []
    },
    {
     "cell_type": "code",
     "collapsed": false,
     "input": [
      "test2 = crawlers.crawl_channel_playlists_data(test_channel_ids_list[0])"
     ],
     "language": "python",
     "metadata": {},
     "outputs": [
      {
       "output_type": "stream",
       "stream": "stdout",
       "text": [
        "next_page_list =  ['https://gdata.youtube.com/feeds/users/thecoscup/playlists/']\n",
        "next_page_list = "
       ]
      },
      {
       "output_type": "stream",
       "stream": "stdout",
       "text": [
        " []\n",
        "next_page_list =  ['https://gdata.youtube.com/feeds/playlists/PLqfib4St70XMqJM3AL-Xe7jr6nbRwetcZ']\n",
        "next_page_list = "
       ]
      },
      {
       "output_type": "stream",
       "stream": "stdout",
       "text": [
        " []\n",
        "next_page_list = "
       ]
      },
      {
       "output_type": "stream",
       "stream": "stdout",
       "text": [
        " ['https://gdata.youtube.com/feeds/playlists/PLqfib4St70XPA2MCk1-nJFUFHsIQFdSM5']\n",
        "next_page_list = "
       ]
      },
      {
       "output_type": "stream",
       "stream": "stdout",
       "text": [
        " [u'https://gdata.youtube.com/feeds/playlists/PLqfib4St70XPA2MCk1-nJFUFHsIQFdSM5?alt=json&start-index=26&max-results=25']\n",
        "next_page_list = "
       ]
      },
      {
       "output_type": "stream",
       "stream": "stdout",
       "text": [
        " [u'https://gdata.youtube.com/feeds/playlists/PLqfib4St70XPA2MCk1-nJFUFHsIQFdSM5?alt=json&start-index=51&max-results=25']\n",
        "next_page_list = "
       ]
      },
      {
       "output_type": "stream",
       "stream": "stdout",
       "text": [
        " [u'https://gdata.youtube.com/feeds/playlists/PLqfib4St70XPA2MCk1-nJFUFHsIQFdSM5?alt=json&start-index=76&max-results=25']\n",
        "next_page_list = "
       ]
      },
      {
       "output_type": "stream",
       "stream": "stdout",
       "text": [
        " [u'https://gdata.youtube.com/feeds/playlists/PLqfib4St70XPA2MCk1-nJFUFHsIQFdSM5?alt=json&start-index=101&max-results=25']\n",
        "next_page_list = "
       ]
      },
      {
       "output_type": "stream",
       "stream": "stdout",
       "text": [
        " []\n",
        "next_page_list = "
       ]
      },
      {
       "output_type": "stream",
       "stream": "stdout",
       "text": [
        " ['https://gdata.youtube.com/feeds/playlists/PLqfib4St70XNspmD7hOJQrcXa3CnvCc9V']\n",
        "next_page_list = "
       ]
      },
      {
       "output_type": "stream",
       "stream": "stdout",
       "text": [
        " [u'https://gdata.youtube.com/feeds/playlists/PLqfib4St70XNspmD7hOJQrcXa3CnvCc9V?alt=json&start-index=26&max-results=25']\n",
        "next_page_list = "
       ]
      },
      {
       "output_type": "stream",
       "stream": "stdout",
       "text": [
        " [u'https://gdata.youtube.com/feeds/playlists/PLqfib4St70XNspmD7hOJQrcXa3CnvCc9V?alt=json&start-index=51&max-results=25']\n",
        "next_page_list = "
       ]
      },
      {
       "output_type": "stream",
       "stream": "stdout",
       "text": [
        " []\n",
        "next_page_list = "
       ]
      },
      {
       "output_type": "stream",
       "stream": "stdout",
       "text": [
        " ['https://gdata.youtube.com/feeds/playlists/PLE8DBA2A06F770766']\n",
        "next_page_list = "
       ]
      },
      {
       "output_type": "stream",
       "stream": "stdout",
       "text": [
        " [u'https://gdata.youtube.com/feeds/playlists/PLE8DBA2A06F770766?alt=json&start-index=26&max-results=25']\n",
        "next_page_list = "
       ]
      },
      {
       "output_type": "stream",
       "stream": "stdout",
       "text": [
        " [u'https://gdata.youtube.com/feeds/playlists/PLE8DBA2A06F770766?alt=json&start-index=51&max-results=25']\n",
        "next_page_list = "
       ]
      },
      {
       "output_type": "stream",
       "stream": "stdout",
       "text": [
        " []\n",
        "next_page_list = "
       ]
      },
      {
       "output_type": "stream",
       "stream": "stdout",
       "text": [
        " ['https://gdata.youtube.com/feeds/playlists/PLF80AC8951C806F74']\n",
        "next_page_list = "
       ]
      },
      {
       "output_type": "stream",
       "stream": "stdout",
       "text": [
        " [u'https://gdata.youtube.com/feeds/playlists/PLF80AC8951C806F74?alt=json&start-index=26&max-results=25']\n",
        "next_page_list = "
       ]
      },
      {
       "output_type": "stream",
       "stream": "stdout",
       "text": [
        " []\n",
        "next_page_list = "
       ]
      },
      {
       "output_type": "stream",
       "stream": "stdout",
       "text": [
        " ['https://gdata.youtube.com/feeds/playlists/PLB435557BA4B4BF0D']\n",
        "next_page_list = "
       ]
      },
      {
       "output_type": "stream",
       "stream": "stdout",
       "text": [
        " []\n",
        "next_page_list = "
       ]
      },
      {
       "output_type": "stream",
       "stream": "stdout",
       "text": [
        " ['https://gdata.youtube.com/feeds/playlists/PL1E00EBFE2E5E040F']\n",
        "next_page_list = "
       ]
      },
      {
       "output_type": "stream",
       "stream": "stdout",
       "text": [
        " [u'https://gdata.youtube.com/feeds/playlists/PL1E00EBFE2E5E040F?alt=json&start-index=26&max-results=25']\n",
        "next_page_list = "
       ]
      },
      {
       "output_type": "stream",
       "stream": "stdout",
       "text": [
        " [u'https://gdata.youtube.com/feeds/playlists/PL1E00EBFE2E5E040F?alt=json&start-index=51&max-results=25']\n",
        "next_page_list = "
       ]
      },
      {
       "output_type": "stream",
       "stream": "stdout",
       "text": [
        " []\n",
        "next_page_list = "
       ]
      },
      {
       "output_type": "stream",
       "stream": "stdout",
       "text": [
        " ['https://gdata.youtube.com/feeds/playlists/PL1FF14AC1502F9EE3']\n",
        "next_page_list = "
       ]
      },
      {
       "output_type": "stream",
       "stream": "stdout",
       "text": [
        " [u'https://gdata.youtube.com/feeds/playlists/PL1FF14AC1502F9EE3?alt=json&start-index=26&max-results=25']\n",
        "next_page_list = "
       ]
      },
      {
       "output_type": "stream",
       "stream": "stdout",
       "text": [
        " [u'https://gdata.youtube.com/feeds/playlists/PL1FF14AC1502F9EE3?alt=json&start-index=51&max-results=25']\n",
        "next_page_list = "
       ]
      },
      {
       "output_type": "stream",
       "stream": "stdout",
       "text": [
        " [u'https://gdata.youtube.com/feeds/playlists/PL1FF14AC1502F9EE3?alt=json&start-index=76&max-results=25']\n",
        "next_page_list = "
       ]
      },
      {
       "output_type": "stream",
       "stream": "stdout",
       "text": [
        " []\n"
       ]
      }
     ],
     "prompt_number": 12
    },
    {
     "cell_type": "code",
     "collapsed": false,
     "input": [
      "test2[:10]"
     ],
     "language": "python",
     "metadata": {},
     "outputs": [
      {
       "metadata": {},
       "output_type": "pyout",
       "prompt_number": 13,
       "text": [
        "[{'author': u'COSCUP \\u958b\\u6e90\\u4eba\\u5e74\\u6703',\n",
        "  'logo': u'http://www.gstatic.com/youtube/img/logo.png',\n",
        "  'playlist_id': u'PLqfib4St70XMqJM3AL-Xe7jr6nbRwetcZ',\n",
        "  'subtitle': u'',\n",
        "  'title': u'COSCUP 2014',\n",
        "  'video_ids': [u'FhGK7nU-GTc']},\n",
        " {'author': u'COSCUP \\u958b\\u6e90\\u4eba\\u5e74\\u6703',\n",
        "  'logo': u'http://www.gstatic.com/youtube/img/logo.png',\n",
        "  'playlist_id': u'PLqfib4St70XPA2MCk1-nJFUFHsIQFdSM5',\n",
        "  'subtitle': u'',\n",
        "  'title': u'COSCUP 2013',\n",
        "  'video_ids': [u'VwAtYGyjTks',\n",
        "   u'8a-ji70_7k0',\n",
        "   u'rvdfWuyysms',\n",
        "   u'ZWwI0q5Ryw0',\n",
        "   u'vQNU-Ij5c5w',\n",
        "   u'gtVcMjo4vjs',\n",
        "   u'iWBH1aqeeLw',\n",
        "   u'N719bgeI--I',\n",
        "   u'ej8TPBd4kOg',\n",
        "   u'ITehdhhkhCE',\n",
        "   u'gHXXjU9p1j8',\n",
        "   u'0hzjTgURohc',\n",
        "   u'JEt4lmoy2hQ',\n",
        "   u'JSd4wOBJbDQ',\n",
        "   u'zkOVUnhiDVg',\n",
        "   u'Vieda2fJuFY',\n",
        "   u'oxqfr3mZEcA',\n",
        "   u'K1zcxJM6NO8',\n",
        "   u'FqNVqtHL_3w',\n",
        "   u'enGVV29B6v0',\n",
        "   u'6oEtGb7YIEY',\n",
        "   u'KrM1EDLV6oM',\n",
        "   u'DOtSNOzPW04',\n",
        "   u'Z5kJgDs7P7w',\n",
        "   u'vpiWNEmfHZQ',\n",
        "   u'AVB5oPUw6GQ',\n",
        "   u'Hdfojn8Ia1g',\n",
        "   u'jd_XBV6f4Rw',\n",
        "   u'MWaRnCOffB4',\n",
        "   u'fHLqSWdDrpA',\n",
        "   u'CidKovMNaL8',\n",
        "   u'jwpdc5jU22Y',\n",
        "   u'dE52LLcUhYk',\n",
        "   u'dF8_DspMaEA',\n",
        "   u'fBiPe_9i724',\n",
        "   u'wE1yQOz_jqM',\n",
        "   u'ZisECCTpotU',\n",
        "   u'pqdAAmy_yPM',\n",
        "   u'hFbQOkfidD4',\n",
        "   u'dZ5bRDW9bZU',\n",
        "   u'lxbq0VDF4sg',\n",
        "   u'X2797zh9x74',\n",
        "   u'9QvuJQ3NNxE',\n",
        "   u'sutQFecmStY',\n",
        "   u'SxrVV-p2dG4',\n",
        "   u'30TOcMX2hlo',\n",
        "   u'mBs1zfNgxOQ',\n",
        "   u'vIV8joT9qlE',\n",
        "   u'twRFIOfr97o',\n",
        "   u'cytlfnbcE_Y',\n",
        "   u'AF5x4gxsGCA',\n",
        "   u'E3aArwN6SqI',\n",
        "   u'Of0g1XrEDLc',\n",
        "   u'NgK5Tgza4W4',\n",
        "   u'kDyia-sFeHw',\n",
        "   u'bdjpk0FEOmA',\n",
        "   u'5uWj_IkfjrE',\n",
        "   u'hPxOpQCqcR4',\n",
        "   u'5YP2Tb45Pyo',\n",
        "   u'BrRTwl2m024',\n",
        "   u'YhamlvLQ8F4',\n",
        "   u'NfZbVoR4Hq8',\n",
        "   u'AGgvfndmunI',\n",
        "   u'8HQTRS6AGsY',\n",
        "   u'liZuNh7Sw7s',\n",
        "   u'eJVld1qnJB8',\n",
        "   u'xdWypsV7f6o',\n",
        "   u'igDgpo3hmeA',\n",
        "   u'-5WSvaSuTEk',\n",
        "   u'bPK2NxzUMGs',\n",
        "   u'1QhNm7aqMcc',\n",
        "   u'pQ-OpkbECuU',\n",
        "   u'IFtFlCN-DNE',\n",
        "   u'dHeIlkI9prs',\n",
        "   u'3Y81BCQvd-o',\n",
        "   u'tAL9IZQY_6A',\n",
        "   u'ERfetj2RXEc',\n",
        "   u'QJODy8qDPcY',\n",
        "   u'OsXI2imoT9I',\n",
        "   u'YOv6MawVKQc',\n",
        "   u'aC6WsTK05cc',\n",
        "   u'zMiNxDJpgws',\n",
        "   u'lOPB8im0yOo',\n",
        "   u'escsixrqG6M',\n",
        "   u'Dc0L2KptNG0',\n",
        "   u'Q2uX3cR2_OI',\n",
        "   u'W4BbHx0G5jE',\n",
        "   u'ZQFfK0Emd8w',\n",
        "   u'OUIyn4b7nxQ',\n",
        "   u'OGbAHXWPlD4',\n",
        "   u'Ztad1Dqj4-M',\n",
        "   u'I6OBszFGlOM',\n",
        "   u'rvdfWuyysms',\n",
        "   u'ZWwI0q5Ryw0',\n",
        "   u'vQNU-Ij5c5w',\n",
        "   u'gtVcMjo4vjs',\n",
        "   u'iWBH1aqeeLw',\n",
        "   u'ITehdhhkhCE',\n",
        "   u'gHXXjU9p1j8',\n",
        "   u'0hzjTgURohc',\n",
        "   u'JEt4lmoy2hQ',\n",
        "   u'JSd4wOBJbDQ',\n",
        "   u'zkOVUnhiDVg',\n",
        "   u'Vieda2fJuFY',\n",
        "   u'8a-ji70_7k0',\n",
        "   u'VwAtYGyjTks',\n",
        "   u'Tn2SQSHfCr4',\n",
        "   u'IhAL1nLIFT0',\n",
        "   u'rc-GL7xF_WI',\n",
        "   u'3QJN-zEsnug',\n",
        "   u'ayQO6H4Mnio',\n",
        "   u'WA38EYL0D9Y',\n",
        "   u'Yg4GafmIuGY',\n",
        "   u'SY5SbymCsUo',\n",
        "   u'vZ31HS28xY0',\n",
        "   u'9MH7smRV8Zc',\n",
        "   u'V2FymnCXeSc']},\n",
        " {'author': u'COSCUP \\u958b\\u6e90\\u4eba\\u5e74\\u6703',\n",
        "  'logo': u'http://www.gstatic.com/youtube/img/logo.png',\n",
        "  'playlist_id': u'PLqfib4St70XNspmD7hOJQrcXa3CnvCc9V',\n",
        "  'subtitle': u'',\n",
        "  'title': u'COSCUP 2012',\n",
        "  'video_ids': [u'nhergxHoVYY',\n",
        "   u'qv4SiMSK5SY',\n",
        "   u'yyMhjim9RjY',\n",
        "   u'jpt5oCkfef4',\n",
        "   u'm6R1mFpifa4',\n",
        "   u'kv6AyVkmQZU',\n",
        "   u'VF2-s5wgsS0',\n",
        "   u'FdDf4DrCmjQ',\n",
        "   u'SqEpwNhymuQ',\n",
        "   u'nwPSSxB8oe4',\n",
        "   u'd2B_9oMUx40',\n",
        "   u'yjfJ2fC1T3s',\n",
        "   u'TT6johw6_14',\n",
        "   u'BD9_q6Zl1WI',\n",
        "   u'8yYE07D0ysk',\n",
        "   u'2YyyrQFgmT4',\n",
        "   u'lmVegM_vS9Q',\n",
        "   u'Z_lkUT6h7Hs',\n",
        "   u'wcME4URpLLs',\n",
        "   u'zkLgj1LzK0I',\n",
        "   u'2X7pacN3Ulk',\n",
        "   u'qoGu3NV_jvM',\n",
        "   u'KpZAzD3Fqmw',\n",
        "   u'pwBva_XYjIc',\n",
        "   u'j-v7bhI0dh4',\n",
        "   u'iG4c4ZlXl4M',\n",
        "   u'6dLb_MBOVqw',\n",
        "   u'HuKWKBN1OBU',\n",
        "   u'kh0LKHjmvNg',\n",
        "   u'V31dd8mPXDc',\n",
        "   u'4ajpUhvHDGo',\n",
        "   u'nQfLfHVq50c',\n",
        "   u'HEW39KXn0a4',\n",
        "   u'DNQaudJt-Ak',\n",
        "   u'nCAlAoXKWVk',\n",
        "   u'b-4sigZ3ks0',\n",
        "   u'5e-0DmuLnoM',\n",
        "   u'Iz1hJK6Cz3Q',\n",
        "   u'dweJFWBUXls',\n",
        "   u'6YPpoL_nR6w',\n",
        "   u'LIwQtqHFSlk',\n",
        "   u'eXeK4bSCr_8',\n",
        "   u'xHrMfxj0vt4',\n",
        "   u'7fykQmZuock',\n",
        "   u'CW91J4alArM',\n",
        "   u'b5h9NX9DIwQ',\n",
        "   u'2NlfQjmvXII',\n",
        "   u'YWMQMlQI7FM',\n",
        "   u'dCXd-dD96zs',\n",
        "   u'6lfAjdtwECc',\n",
        "   u'1s3uw9ZfZGc',\n",
        "   u'7s4QtQR56Ns',\n",
        "   u'Rgk7Ld8a2Vg',\n",
        "   u'E_-8lGBi8-k',\n",
        "   u'tZ9fY08wfVM',\n",
        "   u'nWANGhmqINY',\n",
        "   u'ADP098v_EUs',\n",
        "   u'8fablNfKLqU',\n",
        "   u'e3I9wiLhQjc',\n",
        "   u'neOcLyNkHMM',\n",
        "   u'NgpAub45XH4',\n",
        "   u'l0ibyDmTtw0',\n",
        "   u'6oCvLCmWVkk',\n",
        "   u'AkNwNkVemNw',\n",
        "   u'Q5czZT5eXoM',\n",
        "   u'BZ2PMr0n-dM',\n",
        "   u'gA_ScYs_oTk']},\n",
        " {'author': u'COSCUP \\u958b\\u6e90\\u4eba\\u5e74\\u6703',\n",
        "  'logo': u'http://www.gstatic.com/youtube/img/logo.png',\n",
        "  'playlist_id': u'PLE8DBA2A06F770766',\n",
        "  'subtitle': u'',\n",
        "  'title': u'COSCUP 2009',\n",
        "  'video_ids': [u'dVgr-VvQFIk',\n",
        "   u'5eT8Lu1Kcrc',\n",
        "   u'RCCsyjT-Xuw',\n",
        "   u'dCqLlcT3n3w',\n",
        "   u'KNfFynIDlMs',\n",
        "   u'nq1qpHhYSSE',\n",
        "   u'pdT0nVYN3SM',\n",
        "   u'KMX-xmSEaPY',\n",
        "   u'VA96uyFbEYs',\n",
        "   u'RhIE_c_amr8',\n",
        "   u'KGj9UgXWHTA',\n",
        "   u'58_UyZnxg9M',\n",
        "   u's9ICWgpaIe0',\n",
        "   u'q0DRFrqagzg',\n",
        "   u'MWnUS0zNB3Q',\n",
        "   u'V7PfZqp8-OE',\n",
        "   u'Stap825iQr4',\n",
        "   u'hy01QtIGIUw',\n",
        "   u'HGNytuGj3io',\n",
        "   u'0uE5wNOho48',\n",
        "   u'j2sEKyHm7Bk',\n",
        "   u'N3ZWXnZBUwo',\n",
        "   u'24iqFC68Fik',\n",
        "   u'XM41L6mMANo',\n",
        "   u'ozEaxJx6Tws',\n",
        "   u'EiK3tsz6Cco',\n",
        "   u'bq-jE4BbhE4',\n",
        "   u'8lbo1jCHWHE',\n",
        "   u'OnfpcqE9QJ0',\n",
        "   u'mz7NKBKmrw8',\n",
        "   u'87eNcOlPS7s',\n",
        "   u'Qm1W1ATTcBQ',\n",
        "   u'efEX0hBkxfo',\n",
        "   u'gRjaP4s8BRw',\n",
        "   u'AO0buIohn_c',\n",
        "   u'Ote_xEf-u0A',\n",
        "   u'RERcZF_cBc8',\n",
        "   u'KzU82n5vjqU',\n",
        "   u'sjlLO7uvkVo',\n",
        "   u'QMxpR6jaT-0',\n",
        "   u'MefozEc7_bQ',\n",
        "   u'tL4A0-sOtEY',\n",
        "   u'oGiDyqTb2gg',\n",
        "   u'h-alZ3u_ryM',\n",
        "   u'C8683MGjgqc',\n",
        "   u'Sm0ni2mXQlU',\n",
        "   u'a1DPXyLJqc8',\n",
        "   u'BX65iJiD6vU',\n",
        "   u'g-YgPoNy-Do',\n",
        "   u'_jx1i3r4lzQ',\n",
        "   u'qZbXhABqzKs',\n",
        "   u'cwmjl_WUedA',\n",
        "   u'8VGbC3OblAA']},\n",
        " {'author': u'COSCUP \\u958b\\u6e90\\u4eba\\u5e74\\u6703',\n",
        "  'logo': u'http://www.gstatic.com/youtube/img/logo.png',\n",
        "  'playlist_id': u'PLF80AC8951C806F74',\n",
        "  'subtitle': u'',\n",
        "  'title': u'COSCUP 2008',\n",
        "  'video_ids': [u'kVEuFTZIVL8',\n",
        "   u'AydzO1skFig',\n",
        "   u'hHZiLjQRifY',\n",
        "   u'Qca9hwS2sdg',\n",
        "   u'3kPmojZUAI8',\n",
        "   u'JCcKSHp2Qo0',\n",
        "   u'Vv5QI25xQqI',\n",
        "   u'IoAPUdkACAs',\n",
        "   u'HdWweqU05Mg',\n",
        "   u'O5_XDoytJcw',\n",
        "   u'TI_JabfziRo',\n",
        "   u'94hVcahYRVc',\n",
        "   u'v4mjoP4X10A',\n",
        "   u'Y5unLUwSlgQ',\n",
        "   u'T01AkCKenTA',\n",
        "   u'PDKJ2BbmP88',\n",
        "   u'_DZNRcpV9qY',\n",
        "   u'Fxz15Qqs0jg',\n",
        "   u'AlsFx8ZTI_w',\n",
        "   u'IUhFs4ld27Y',\n",
        "   u'cbEv1tD6eBs',\n",
        "   u'_BI2fmAw_nE',\n",
        "   u'7ZymAAReneo',\n",
        "   u'7gk3jMEwEkw',\n",
        "   u'o7iuTJTPjfQ',\n",
        "   u'00bPH8iEsPg',\n",
        "   u'ULFUozDfUcc']},\n",
        " {'author': u'COSCUP \\u958b\\u6e90\\u4eba\\u5e74\\u6703',\n",
        "  'logo': u'http://www.gstatic.com/youtube/img/logo.png',\n",
        "  'playlist_id': u'PLB435557BA4B4BF0D',\n",
        "  'subtitle': u'',\n",
        "  'title': u'COSCUP 2007',\n",
        "  'video_ids': [u'z7EfCGuyxUU',\n",
        "   u'C__hV6TZRw8',\n",
        "   u'5AEoaej8pOE',\n",
        "   u'oCcEvtA6b84',\n",
        "   u'eysVKuf30ps',\n",
        "   u'lgX44SwSz80',\n",
        "   u'uOv-Lz_fv6g',\n",
        "   u'FXIK0fWShBs']},\n",
        " {'author': u'COSCUP \\u958b\\u6e90\\u4eba\\u5e74\\u6703',\n",
        "  'logo': u'http://www.gstatic.com/youtube/img/logo.png',\n",
        "  'playlist_id': u'PL1E00EBFE2E5E040F',\n",
        "  'subtitle': u'',\n",
        "  'title': u'COSCUP 2011',\n",
        "  'video_ids': [u'_ymE599jcTY',\n",
        "   u'TuF3JVccfeM',\n",
        "   u'CCEY1BSP9pU',\n",
        "   u'FtEg9mviu8s',\n",
        "   u'-MFk1-8fg0k',\n",
        "   u'sgXmqwY1ma0',\n",
        "   u's5uRe0zTbDw',\n",
        "   u'E_n21MdGOGY',\n",
        "   u'YPgCzaBQzuE',\n",
        "   u'CDOTMOUXqR4',\n",
        "   u'S3yMeeyziJM',\n",
        "   u'k3ja9I6bGvU',\n",
        "   u'ObgBglnElZ4',\n",
        "   u'pYtIH7J4fOc',\n",
        "   u'FOiO8jiGYjw',\n",
        "   u'5b_2ySc9cqQ',\n",
        "   u'fNKEr0peLSw',\n",
        "   u'y81PGSFX_Pc',\n",
        "   u'GYOIZYrpu2c',\n",
        "   u'8PaEiU2gBUQ',\n",
        "   u'44_tMv7gE8U',\n",
        "   u'J9UzrN7An-Y',\n",
        "   u'ppHneWZW81M',\n",
        "   u'vJ23tPluHiU',\n",
        "   u'EQlvcLkIe6g',\n",
        "   u'ikpOCfH5OOg',\n",
        "   u'sTZ-SoSfoTc',\n",
        "   u'DyJ1bXZJOyo',\n",
        "   u'OpGUKAuDKSw',\n",
        "   u'aoIlvxTLPKU',\n",
        "   u'SPV1tMGmLT4',\n",
        "   u'9XwsRlBpCIs',\n",
        "   u'wBSv_GQwH0A',\n",
        "   u'3IRy_nkaYLU',\n",
        "   u'CjXhqj2ghIY',\n",
        "   u'k2r-MA2CuN4',\n",
        "   u'Rp9XnJdS5Ns',\n",
        "   u'KG4tnQttZxE',\n",
        "   u'GcYJPTbYtZk',\n",
        "   u'li6PqLn4Bl4',\n",
        "   u'4yP00yx0YcU',\n",
        "   u'HpRj4jgV-XA',\n",
        "   u'mh8EeD9Qjv0',\n",
        "   u'2XvdZ0dbPLY',\n",
        "   u'boY4vcrC-1M',\n",
        "   u'fD-VGqlN0fw',\n",
        "   u'5SCGymyZZv4',\n",
        "   u'goi-VUwUnjI',\n",
        "   u'BWQbR4o4HLY',\n",
        "   u'JwQTF-feVaY',\n",
        "   u'_CZDs_mnVZI',\n",
        "   u'XcaDmNhXbUQ',\n",
        "   u'yZsEGuLAnu8',\n",
        "   u'77nMm6gn0Pk',\n",
        "   u'ANr3nam7F18',\n",
        "   u'Hte8S_DvQTM',\n",
        "   u'lI9glPno6J8',\n",
        "   u'LNxAiNsTH-Y',\n",
        "   u'r9KdpTHIefk',\n",
        "   u'FMrGjLJLHwI',\n",
        "   u'5OjheG_CFks',\n",
        "   u'P2qrRjGeijs',\n",
        "   u'IynVX4aWPUM',\n",
        "   u'qNTb3t-5k4g',\n",
        "   u'LhCh7bXlCaQ']},\n",
        " {'author': u'COSCUP \\u958b\\u6e90\\u4eba\\u5e74\\u6703',\n",
        "  'logo': u'http://www.gstatic.com/youtube/img/logo.png',\n",
        "  'playlist_id': u'PL1FF14AC1502F9EE3',\n",
        "  'subtitle': u'',\n",
        "  'title': u'COSCUP 2010',\n",
        "  'video_ids': [u'cloHoCVJ6M4',\n",
        "   u'3L-BTcz54TU',\n",
        "   u'D3H98yYjfvE',\n",
        "   u'rUjRskCZUks',\n",
        "   u'v_YVkTBke_4',\n",
        "   u'waXGzzBnFhY',\n",
        "   u'jm4MovPl0_8',\n",
        "   u'U47kZ8KMCuQ',\n",
        "   u'HeKToLRsQZ4',\n",
        "   u'zi3xjWLQhks',\n",
        "   u'HnqrQtRZ2K4',\n",
        "   u'qwFXySKZBMo',\n",
        "   u'dvmBiiGmWv8',\n",
        "   u'EpB-ko7MxHQ',\n",
        "   u'h6SMCQYhyc0',\n",
        "   u'dVi_0bfZwxI',\n",
        "   u'aE705_TZuHc',\n",
        "   u'2Fe-xTkWP5Y',\n",
        "   u'gGcQH_YfVxg',\n",
        "   u'y7Nj6ODjiLA',\n",
        "   u'KpizXr9p2q8',\n",
        "   u'ISqAXiTca_s',\n",
        "   u'qY454YyY2lk',\n",
        "   u'YUWHb7yLdPE',\n",
        "   u'64Up432F2OU',\n",
        "   u'WX0qLt_HPv8',\n",
        "   u'jIM3H1lvPnk',\n",
        "   u'RXNIDMWqZ9Q',\n",
        "   u'CTIZaJWb_kA',\n",
        "   u'LhCh7bXlCaQ',\n",
        "   u'wVBitkk_2Uw',\n",
        "   u'pyfcoC63Tcc',\n",
        "   u'hjKHFDFBfOY',\n",
        "   u'Uni04qyHqZY',\n",
        "   u'BmOPWAPIh2g',\n",
        "   u'f0rtlw_6Z7U',\n",
        "   u'dRT0PbpFWPg',\n",
        "   u'ddx64Kq2SEI',\n",
        "   u'yTNNlKVORZ4',\n",
        "   u'8iBGF4Uzmgs',\n",
        "   u'ZdveDS9lsr0',\n",
        "   u'P9jr-8ox_QE',\n",
        "   u'v0rNYzJGS-Q',\n",
        "   u'Zao4ftXK448',\n",
        "   u'e4HWYUOV_nE',\n",
        "   u'7SsLiTPGijc',\n",
        "   u'XyRYF_JvUU8',\n",
        "   u'NEKls3iPbSA',\n",
        "   u'KKt6QLGV8NA',\n",
        "   u'xD4yvaaZ5jY',\n",
        "   u'VXeMThkY1uc',\n",
        "   u'Ae2DKbH__x4',\n",
        "   u'ci-d2g7s0Uo',\n",
        "   u'tgImHTaihdM',\n",
        "   u'ympXaudSnEw',\n",
        "   u'Hkv-ZNz1wCk',\n",
        "   u'rnBuSR6-99I',\n",
        "   u'QrHKliUTjcg',\n",
        "   u'9siu0pUN7M0',\n",
        "   u'mzLCGJnwEnQ',\n",
        "   u'87s6jQaL0w4',\n",
        "   u'TnK8lAyIAjs',\n",
        "   u'oqQuKnzKes0',\n",
        "   u'ZgU0NHdr6uE',\n",
        "   u'NiAjCUInUd8',\n",
        "   u'R81hMuiepsc',\n",
        "   u'kmE49x20xKQ',\n",
        "   u'Vr5lSj9mnBA',\n",
        "   u'pvF40laqV9U',\n",
        "   u'pGRLtVtHHYI',\n",
        "   u'U5gAEMrSo48',\n",
        "   u'yiS05lNcYr0',\n",
        "   u'4HlKt055fWA',\n",
        "   u'aEo7J64fIG0',\n",
        "   u'UlRT_cFNNHA',\n",
        "   u'UuFKSeQhSXY',\n",
        "   u'NM1MyJwLo7s',\n",
        "   u'WVmTQhiM9dQ',\n",
        "   u'WZYN9moRpVQ',\n",
        "   u'8Zj16mueaw8',\n",
        "   u'_dLt5wUsy7s',\n",
        "   u'b2TUQPlVibg',\n",
        "   u'VNHy7XWb134',\n",
        "   u'69dahts_46U',\n",
        "   u'9TBroPjGKMw']}]"
       ]
      }
     ],
     "prompt_number": 13
    },
    {
     "cell_type": "code",
     "collapsed": false,
     "input": [
      "pd.DataFrame(test2[:10])"
     ],
     "language": "python",
     "metadata": {},
     "outputs": [
      {
       "html": [
        "<div style=\"max-height:1000px;max-width:1500px;overflow:auto;\">\n",
        "<table border=\"1\" class=\"dataframe\">\n",
        "  <thead>\n",
        "    <tr style=\"text-align: right;\">\n",
        "      <th></th>\n",
        "      <th>author</th>\n",
        "      <th>logo</th>\n",
        "      <th>playlist_id</th>\n",
        "      <th>subtitle</th>\n",
        "      <th>title</th>\n",
        "      <th>video_ids</th>\n",
        "    </tr>\n",
        "  </thead>\n",
        "  <tbody>\n",
        "    <tr>\n",
        "      <th>0</th>\n",
        "      <td> COSCUP \u958b\u6e90\u4eba\u5e74\u6703</td>\n",
        "      <td> http://www.gstatic.com/youtube/img/logo.png</td>\n",
        "      <td> PLqfib4St70XMqJM3AL-Xe7jr6nbRwetcZ</td>\n",
        "      <td> </td>\n",
        "      <td> COSCUP 2014</td>\n",
        "      <td>                                     [FhGK7nU-GTc]</td>\n",
        "    </tr>\n",
        "    <tr>\n",
        "      <th>1</th>\n",
        "      <td> COSCUP \u958b\u6e90\u4eba\u5e74\u6703</td>\n",
        "      <td> http://www.gstatic.com/youtube/img/logo.png</td>\n",
        "      <td> PLqfib4St70XPA2MCk1-nJFUFHsIQFdSM5</td>\n",
        "      <td> </td>\n",
        "      <td> COSCUP 2013</td>\n",
        "      <td> [VwAtYGyjTks, 8a-ji70_7k0, rvdfWuyysms, ZWwI0q...</td>\n",
        "    </tr>\n",
        "    <tr>\n",
        "      <th>2</th>\n",
        "      <td> COSCUP \u958b\u6e90\u4eba\u5e74\u6703</td>\n",
        "      <td> http://www.gstatic.com/youtube/img/logo.png</td>\n",
        "      <td> PLqfib4St70XNspmD7hOJQrcXa3CnvCc9V</td>\n",
        "      <td> </td>\n",
        "      <td> COSCUP 2012</td>\n",
        "      <td> [nhergxHoVYY, qv4SiMSK5SY, yyMhjim9RjY, jpt5oC...</td>\n",
        "    </tr>\n",
        "    <tr>\n",
        "      <th>3</th>\n",
        "      <td> COSCUP \u958b\u6e90\u4eba\u5e74\u6703</td>\n",
        "      <td> http://www.gstatic.com/youtube/img/logo.png</td>\n",
        "      <td>                 PLE8DBA2A06F770766</td>\n",
        "      <td> </td>\n",
        "      <td> COSCUP 2009</td>\n",
        "      <td> [dVgr-VvQFIk, 5eT8Lu1Kcrc, RCCsyjT-Xuw, dCqLlc...</td>\n",
        "    </tr>\n",
        "    <tr>\n",
        "      <th>4</th>\n",
        "      <td> COSCUP \u958b\u6e90\u4eba\u5e74\u6703</td>\n",
        "      <td> http://www.gstatic.com/youtube/img/logo.png</td>\n",
        "      <td>                 PLF80AC8951C806F74</td>\n",
        "      <td> </td>\n",
        "      <td> COSCUP 2008</td>\n",
        "      <td> [kVEuFTZIVL8, AydzO1skFig, hHZiLjQRifY, Qca9hw...</td>\n",
        "    </tr>\n",
        "    <tr>\n",
        "      <th>5</th>\n",
        "      <td> COSCUP \u958b\u6e90\u4eba\u5e74\u6703</td>\n",
        "      <td> http://www.gstatic.com/youtube/img/logo.png</td>\n",
        "      <td>                 PLB435557BA4B4BF0D</td>\n",
        "      <td> </td>\n",
        "      <td> COSCUP 2007</td>\n",
        "      <td> [z7EfCGuyxUU, C__hV6TZRw8, 5AEoaej8pOE, oCcEvt...</td>\n",
        "    </tr>\n",
        "    <tr>\n",
        "      <th>6</th>\n",
        "      <td> COSCUP \u958b\u6e90\u4eba\u5e74\u6703</td>\n",
        "      <td> http://www.gstatic.com/youtube/img/logo.png</td>\n",
        "      <td>                 PL1E00EBFE2E5E040F</td>\n",
        "      <td> </td>\n",
        "      <td> COSCUP 2011</td>\n",
        "      <td> [_ymE599jcTY, TuF3JVccfeM, CCEY1BSP9pU, FtEg9m...</td>\n",
        "    </tr>\n",
        "    <tr>\n",
        "      <th>7</th>\n",
        "      <td> COSCUP \u958b\u6e90\u4eba\u5e74\u6703</td>\n",
        "      <td> http://www.gstatic.com/youtube/img/logo.png</td>\n",
        "      <td>                 PL1FF14AC1502F9EE3</td>\n",
        "      <td> </td>\n",
        "      <td> COSCUP 2010</td>\n",
        "      <td> [cloHoCVJ6M4, 3L-BTcz54TU, D3H98yYjfvE, rUjRsk...</td>\n",
        "    </tr>\n",
        "  </tbody>\n",
        "</table>\n",
        "</div>"
       ],
       "metadata": {},
       "output_type": "pyout",
       "prompt_number": 14,
       "text": [
        "         author                                         logo  \\\n",
        "0  COSCUP \u958b\u6e90\u4eba\u5e74\u6703  http://www.gstatic.com/youtube/img/logo.png   \n",
        "1  COSCUP \u958b\u6e90\u4eba\u5e74\u6703  http://www.gstatic.com/youtube/img/logo.png   \n",
        "2  COSCUP \u958b\u6e90\u4eba\u5e74\u6703  http://www.gstatic.com/youtube/img/logo.png   \n",
        "3  COSCUP \u958b\u6e90\u4eba\u5e74\u6703  http://www.gstatic.com/youtube/img/logo.png   \n",
        "4  COSCUP \u958b\u6e90\u4eba\u5e74\u6703  http://www.gstatic.com/youtube/img/logo.png   \n",
        "5  COSCUP \u958b\u6e90\u4eba\u5e74\u6703  http://www.gstatic.com/youtube/img/logo.png   \n",
        "6  COSCUP \u958b\u6e90\u4eba\u5e74\u6703  http://www.gstatic.com/youtube/img/logo.png   \n",
        "7  COSCUP \u958b\u6e90\u4eba\u5e74\u6703  http://www.gstatic.com/youtube/img/logo.png   \n",
        "\n",
        "                          playlist_id subtitle        title  \\\n",
        "0  PLqfib4St70XMqJM3AL-Xe7jr6nbRwetcZ           COSCUP 2014   \n",
        "1  PLqfib4St70XPA2MCk1-nJFUFHsIQFdSM5           COSCUP 2013   \n",
        "2  PLqfib4St70XNspmD7hOJQrcXa3CnvCc9V           COSCUP 2012   \n",
        "3                  PLE8DBA2A06F770766           COSCUP 2009   \n",
        "4                  PLF80AC8951C806F74           COSCUP 2008   \n",
        "5                  PLB435557BA4B4BF0D           COSCUP 2007   \n",
        "6                  PL1E00EBFE2E5E040F           COSCUP 2011   \n",
        "7                  PL1FF14AC1502F9EE3           COSCUP 2010   \n",
        "\n",
        "                                           video_ids  \n",
        "0                                      [FhGK7nU-GTc]  \n",
        "1  [VwAtYGyjTks, 8a-ji70_7k0, rvdfWuyysms, ZWwI0q...  \n",
        "2  [nhergxHoVYY, qv4SiMSK5SY, yyMhjim9RjY, jpt5oC...  \n",
        "3  [dVgr-VvQFIk, 5eT8Lu1Kcrc, RCCsyjT-Xuw, dCqLlc...  \n",
        "4  [kVEuFTZIVL8, AydzO1skFig, hHZiLjQRifY, Qca9hw...  \n",
        "5  [z7EfCGuyxUU, C__hV6TZRw8, 5AEoaej8pOE, oCcEvt...  \n",
        "6  [_ymE599jcTY, TuF3JVccfeM, CCEY1BSP9pU, FtEg9m...  \n",
        "7  [cloHoCVJ6M4, 3L-BTcz54TU, D3H98yYjfvE, rUjRsk...  "
       ]
      }
     ],
     "prompt_number": 14
    },
    {
     "cell_type": "code",
     "collapsed": false,
     "input": [],
     "language": "python",
     "metadata": {},
     "outputs": [],
     "prompt_number": 2
    },
    {
     "cell_type": "code",
     "collapsed": false,
     "input": [],
     "language": "python",
     "metadata": {},
     "outputs": []
    },
    {
     "cell_type": "code",
     "collapsed": false,
     "input": [],
     "language": "python",
     "metadata": {},
     "outputs": []
    }
   ],
   "metadata": {}
  }
 ]
}