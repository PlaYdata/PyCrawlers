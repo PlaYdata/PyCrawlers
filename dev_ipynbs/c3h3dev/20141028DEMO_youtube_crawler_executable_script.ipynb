{
 "metadata": {
  "name": "",
  "signature": "sha256:bb179cd8fa5c77aeae9919369cdba11ddc0e86d3d9251e3fbcaa55752eed8c93"
 },
 "nbformat": 3,
 "nbformat_minor": 0,
 "worksheets": [
  {
   "cells": [
    {
     "cell_type": "code",
     "collapsed": false,
     "input": [
      "from pycrawlers.examples.youtube import crawlers"
     ],
     "language": "python",
     "metadata": {},
     "outputs": [],
     "prompt_number": 6
    },
    {
     "cell_type": "code",
     "collapsed": false,
     "input": [
      "update_channel_ids_list = []\n",
      "update_channel_ids_list += [\"thecoscup\", \"TWuseRGroup\", \"taipeipython\", \"UCHLnNgRnfGYDzPCCH8qGbQw\"]\n",
      "update_channel_ids_list += [\"EnthoughtMedia\",\"sentdex\",\"edurekaIN\",\"MeteorVideos\"]\n",
      "update_channel_ids_list += [\"cloudyj\"] # OSDC "
     ],
     "language": "python",
     "metadata": {},
     "outputs": [],
     "prompt_number": 7
    },
    {
     "cell_type": "code",
     "collapsed": false,
     "input": [
      "update_channel_ids_list"
     ],
     "language": "python",
     "metadata": {},
     "outputs": [
      {
       "metadata": {},
       "output_type": "pyout",
       "prompt_number": 8,
       "text": [
        "['thecoscup',\n",
        " 'TWuseRGroup',\n",
        " 'taipeipython',\n",
        " 'UCHLnNgRnfGYDzPCCH8qGbQw',\n",
        " 'EnthoughtMedia',\n",
        " 'sentdex',\n",
        " 'edurekaIN',\n",
        " 'MeteorVideos',\n",
        " 'cloudyj']"
       ]
      }
     ],
     "prompt_number": 8
    },
    {
     "cell_type": "code",
     "collapsed": false,
     "input": [
      "map(crawlers.update_youtube_channel_data_to_mongo, update_channel_ids_list)"
     ],
     "language": "python",
     "metadata": {},
     "outputs": [
      {
       "output_type": "stream",
       "stream": "stdout",
       "text": [
        "next_page_list =  ['https://gdata.youtube.com/feeds/users/thecoscup/uploads/']\n",
        "next_page_list = "
       ]
      },
      {
       "output_type": "stream",
       "stream": "stdout",
       "text": [
        " [u'https://gdata.youtube.com/feeds/users/thecoscup/uploads?alt=json&start-index=26&max-results=25']\n",
        "next_page_list = "
       ]
      },
      {
       "output_type": "stream",
       "stream": "stdout",
       "text": [
        " [u'https://gdata.youtube.com/feeds/users/thecoscup/uploads?alt=json&start-index=51&max-results=25']\n",
        "next_page_list = "
       ]
      },
      {
       "output_type": "stream",
       "stream": "stdout",
       "text": [
        " [u'https://gdata.youtube.com/feeds/users/thecoscup/uploads?alt=json&start-index=76&max-results=25']\n",
        "next_page_list = "
       ]
      },
      {
       "output_type": "stream",
       "stream": "stdout",
       "text": [
        " [u'https://gdata.youtube.com/feeds/users/thecoscup/uploads?alt=json&start-index=101&max-results=25']\n",
        "next_page_list = "
       ]
      },
      {
       "output_type": "stream",
       "stream": "stdout",
       "text": [
        " [u'https://gdata.youtube.com/feeds/users/thecoscup/uploads?alt=json&start-index=126&max-results=25']\n",
        "next_page_list = "
       ]
      },
      {
       "output_type": "stream",
       "stream": "stdout",
       "text": [
        " [u'https://gdata.youtube.com/feeds/users/thecoscup/uploads?alt=json&start-index=151&max-results=25']\n",
        "next_page_list = "
       ]
      },
      {
       "output_type": "stream",
       "stream": "stdout",
       "text": [
        " [u'https://gdata.youtube.com/feeds/users/thecoscup/uploads?alt=json&start-index=176&max-results=25']\n",
        "next_page_list = "
       ]
      },
      {
       "output_type": "stream",
       "stream": "stdout",
       "text": [
        " [u'https://gdata.youtube.com/feeds/users/thecoscup/uploads?alt=json&start-index=201&max-results=25']\n",
        "next_page_list = "
       ]
      },
      {
       "output_type": "stream",
       "stream": "stdout",
       "text": [
        " [u'https://gdata.youtube.com/feeds/users/thecoscup/uploads?alt=json&start-index=226&max-results=25']\n",
        "next_page_list = "
       ]
      },
      {
       "output_type": "stream",
       "stream": "stdout",
       "text": [
        " [u'https://gdata.youtube.com/feeds/users/thecoscup/uploads?alt=json&start-index=251&max-results=25']\n",
        "next_page_list = "
       ]
      },
      {
       "output_type": "stream",
       "stream": "stdout",
       "text": [
        " [u'https://gdata.youtube.com/feeds/users/thecoscup/uploads?alt=json&start-index=276&max-results=25']\n",
        "next_page_list = "
       ]
      },
      {
       "output_type": "stream",
       "stream": "stdout",
       "text": [
        " [u'https://gdata.youtube.com/feeds/users/thecoscup/uploads?alt=json&start-index=301&max-results=25']\n",
        "next_page_list = "
       ]
      },
      {
       "output_type": "stream",
       "stream": "stdout",
       "text": [
        " [u'https://gdata.youtube.com/feeds/users/thecoscup/uploads?alt=json&start-index=326&max-results=25']\n",
        "next_page_list = "
       ]
      },
      {
       "output_type": "stream",
       "stream": "stdout",
       "text": [
        " [u'https://gdata.youtube.com/feeds/users/thecoscup/uploads?alt=json&start-index=351&max-results=25']\n",
        "next_page_list = "
       ]
      },
      {
       "output_type": "stream",
       "stream": "stdout",
       "text": [
        " [u'https://gdata.youtube.com/feeds/users/thecoscup/uploads?alt=json&start-index=376&max-results=25']\n",
        "next_page_list = "
       ]
      },
      {
       "output_type": "stream",
       "stream": "stdout",
       "text": [
        " []\n",
        "next_page_list =  ['https://gdata.youtube.com/feeds/users/thecoscup/playlists/']\n",
        "next_page_list = "
       ]
      },
      {
       "output_type": "stream",
       "stream": "stdout",
       "text": [
        " []\n",
        "next_page_list =  ['https://gdata.youtube.com/feeds/playlists/PLqfib4St70XMqJM3AL-Xe7jr6nbRwetcZ']\n",
        "next_page_list = "
       ]
      },
      {
       "output_type": "stream",
       "stream": "stdout",
       "text": [
        " []\n",
        "next_page_list = "
       ]
      },
      {
       "output_type": "stream",
       "stream": "stdout",
       "text": [
        " ['https://gdata.youtube.com/feeds/playlists/PLqfib4St70XPA2MCk1-nJFUFHsIQFdSM5']\n",
        "next_page_list = "
       ]
      },
      {
       "output_type": "stream",
       "stream": "stdout",
       "text": [
        " [u'https://gdata.youtube.com/feeds/playlists/PLqfib4St70XPA2MCk1-nJFUFHsIQFdSM5?alt=json&start-index=26&max-results=25']\n",
        "next_page_list = "
       ]
      },
      {
       "output_type": "stream",
       "stream": "stdout",
       "text": [
        " [u'https://gdata.youtube.com/feeds/playlists/PLqfib4St70XPA2MCk1-nJFUFHsIQFdSM5?alt=json&start-index=51&max-results=25']\n",
        "next_page_list = "
       ]
      },
      {
       "output_type": "stream",
       "stream": "stdout",
       "text": [
        " [u'https://gdata.youtube.com/feeds/playlists/PLqfib4St70XPA2MCk1-nJFUFHsIQFdSM5?alt=json&start-index=76&max-results=25']\n",
        "next_page_list = "
       ]
      },
      {
       "output_type": "stream",
       "stream": "stdout",
       "text": [
        " [u'https://gdata.youtube.com/feeds/playlists/PLqfib4St70XPA2MCk1-nJFUFHsIQFdSM5?alt=json&start-index=101&max-results=25']\n",
        "next_page_list = "
       ]
      },
      {
       "output_type": "stream",
       "stream": "stdout",
       "text": [
        " []\n",
        "next_page_list = "
       ]
      },
      {
       "output_type": "stream",
       "stream": "stdout",
       "text": [
        " ['https://gdata.youtube.com/feeds/playlists/PLqfib4St70XNspmD7hOJQrcXa3CnvCc9V']\n",
        "next_page_list = "
       ]
      },
      {
       "output_type": "stream",
       "stream": "stdout",
       "text": [
        " [u'https://gdata.youtube.com/feeds/playlists/PLqfib4St70XNspmD7hOJQrcXa3CnvCc9V?alt=json&start-index=26&max-results=25']\n",
        "next_page_list = "
       ]
      },
      {
       "output_type": "stream",
       "stream": "stdout",
       "text": [
        " [u'https://gdata.youtube.com/feeds/playlists/PLqfib4St70XNspmD7hOJQrcXa3CnvCc9V?alt=json&start-index=51&max-results=25']\n",
        "next_page_list = "
       ]
      },
      {
       "output_type": "stream",
       "stream": "stdout",
       "text": [
        " []\n",
        "next_page_list = "
       ]
      },
      {
       "output_type": "stream",
       "stream": "stdout",
       "text": [
        " ['https://gdata.youtube.com/feeds/playlists/PLE8DBA2A06F770766']\n",
        "next_page_list = "
       ]
      },
      {
       "output_type": "stream",
       "stream": "stdout",
       "text": [
        " [u'https://gdata.youtube.com/feeds/playlists/PLE8DBA2A06F770766?alt=json&start-index=26&max-results=25']\n",
        "next_page_list = "
       ]
      },
      {
       "output_type": "stream",
       "stream": "stdout",
       "text": [
        " [u'https://gdata.youtube.com/feeds/playlists/PLE8DBA2A06F770766?alt=json&start-index=51&max-results=25']\n",
        "next_page_list = "
       ]
      },
      {
       "output_type": "stream",
       "stream": "stdout",
       "text": [
        " []\n",
        "next_page_list = "
       ]
      },
      {
       "output_type": "stream",
       "stream": "stdout",
       "text": [
        " ['https://gdata.youtube.com/feeds/playlists/PLF80AC8951C806F74']\n",
        "next_page_list = "
       ]
      },
      {
       "output_type": "stream",
       "stream": "stdout",
       "text": [
        " [u'https://gdata.youtube.com/feeds/playlists/PLF80AC8951C806F74?alt=json&start-index=26&max-results=25']\n",
        "next_page_list = "
       ]
      },
      {
       "output_type": "stream",
       "stream": "stdout",
       "text": [
        " []\n",
        "next_page_list = "
       ]
      },
      {
       "output_type": "stream",
       "stream": "stdout",
       "text": [
        " ['https://gdata.youtube.com/feeds/playlists/PLB435557BA4B4BF0D']\n",
        "next_page_list = "
       ]
      },
      {
       "output_type": "stream",
       "stream": "stdout",
       "text": [
        " []\n",
        "next_page_list = "
       ]
      },
      {
       "output_type": "stream",
       "stream": "stdout",
       "text": [
        " ['https://gdata.youtube.com/feeds/playlists/PL1E00EBFE2E5E040F']\n",
        "next_page_list = "
       ]
      },
      {
       "output_type": "stream",
       "stream": "stdout",
       "text": [
        " [u'https://gdata.youtube.com/feeds/playlists/PL1E00EBFE2E5E040F?alt=json&start-index=26&max-results=25']\n",
        "next_page_list = "
       ]
      },
      {
       "output_type": "stream",
       "stream": "stdout",
       "text": [
        " [u'https://gdata.youtube.com/feeds/playlists/PL1E00EBFE2E5E040F?alt=json&start-index=51&max-results=25']\n",
        "next_page_list = "
       ]
      },
      {
       "output_type": "stream",
       "stream": "stdout",
       "text": [
        " []\n",
        "next_page_list = "
       ]
      },
      {
       "output_type": "stream",
       "stream": "stdout",
       "text": [
        " ['https://gdata.youtube.com/feeds/playlists/PL1FF14AC1502F9EE3']\n",
        "next_page_list = "
       ]
      },
      {
       "output_type": "stream",
       "stream": "stdout",
       "text": [
        " [u'https://gdata.youtube.com/feeds/playlists/PL1FF14AC1502F9EE3?alt=json&start-index=26&max-results=25']\n",
        "next_page_list = "
       ]
      },
      {
       "output_type": "stream",
       "stream": "stdout",
       "text": [
        " [u'https://gdata.youtube.com/feeds/playlists/PL1FF14AC1502F9EE3?alt=json&start-index=51&max-results=25']\n",
        "next_page_list = "
       ]
      },
      {
       "output_type": "stream",
       "stream": "stdout",
       "text": [
        " [u'https://gdata.youtube.com/feeds/playlists/PL1FF14AC1502F9EE3?alt=json&start-index=76&max-results=25']\n",
        "next_page_list = "
       ]
      },
      {
       "output_type": "stream",
       "stream": "stdout",
       "text": [
        " []\n",
        "next_page_list = "
       ]
      },
      {
       "output_type": "stream",
       "stream": "stdout",
       "text": [
        " ['https://gdata.youtube.com/feeds/users/TWuseRGroup/uploads/']\n",
        "next_page_list = "
       ]
      },
      {
       "output_type": "stream",
       "stream": "stdout",
       "text": [
        " [u'https://gdata.youtube.com/feeds/users/TWuseRGroup/uploads?alt=json&start-index=26&max-results=25']\n",
        "next_page_list = "
       ]
      },
      {
       "output_type": "stream",
       "stream": "stdout",
       "text": [
        " [u'https://gdata.youtube.com/feeds/users/TWuseRGroup/uploads?alt=json&start-index=51&max-results=25']\n",
        "next_page_list = "
       ]
      },
      {
       "output_type": "stream",
       "stream": "stdout",
       "text": [
        " [u'https://gdata.youtube.com/feeds/users/TWuseRGroup/uploads?alt=json&start-index=76&max-results=25']\n",
        "next_page_list = "
       ]
      },
      {
       "output_type": "stream",
       "stream": "stdout",
       "text": [
        " [u'https://gdata.youtube.com/feeds/users/TWuseRGroup/uploads?alt=json&start-index=101&max-results=25']\n",
        "next_page_list = "
       ]
      },
      {
       "output_type": "stream",
       "stream": "stdout",
       "text": [
        " [u'https://gdata.youtube.com/feeds/users/TWuseRGroup/uploads?alt=json&start-index=126&max-results=25']\n",
        "next_page_list = "
       ]
      },
      {
       "output_type": "stream",
       "stream": "stdout",
       "text": [
        " [u'https://gdata.youtube.com/feeds/users/TWuseRGroup/uploads?alt=json&start-index=151&max-results=25']\n",
        "next_page_list = "
       ]
      },
      {
       "output_type": "stream",
       "stream": "stdout",
       "text": [
        " [u'https://gdata.youtube.com/feeds/users/TWuseRGroup/uploads?alt=json&start-index=176&max-results=25']\n",
        "next_page_list = "
       ]
      },
      {
       "output_type": "stream",
       "stream": "stdout",
       "text": [
        " [u'https://gdata.youtube.com/feeds/users/TWuseRGroup/uploads?alt=json&start-index=201&max-results=25']\n",
        "next_page_list = "
       ]
      },
      {
       "output_type": "stream",
       "stream": "stdout",
       "text": [
        " [u'https://gdata.youtube.com/feeds/users/TWuseRGroup/uploads?alt=json&start-index=226&max-results=25']\n",
        "next_page_list = "
       ]
      },
      {
       "output_type": "stream",
       "stream": "stdout",
       "text": [
        " []\n",
        "next_page_list =  ['https://gdata.youtube.com/feeds/users/TWuseRGroup/playlists/']\n",
        "next_page_list = "
       ]
      },
      {
       "output_type": "stream",
       "stream": "stdout",
       "text": [
        " [u'https://gdata.youtube.com/feeds/users/TWuseRGroup/playlists?alt=json&start-index=26&max-results=25']\n",
        "next_page_list = "
       ]
      },
      {
       "output_type": "stream",
       "stream": "stdout",
       "text": [
        " [u'https://gdata.youtube.com/feeds/users/TWuseRGroup/playlists?alt=json&start-index=51&max-results=25']\n",
        "next_page_list = "
       ]
      },
      {
       "output_type": "stream",
       "stream": "stdout",
       "text": [
        " [u'https://gdata.youtube.com/feeds/users/TWuseRGroup/playlists?alt=json&start-index=76&max-results=25']\n",
        "next_page_list = "
       ]
      },
      {
       "output_type": "stream",
       "stream": "stdout",
       "text": [
        " []\n",
        "next_page_list =  ['https://gdata.youtube.com/feeds/playlists/PLM7HGQkDNOHuOloa7Z6qDV_7lAAEbcSk-']\n",
        "next_page_list = "
       ]
      },
      {
       "output_type": "stream",
       "stream": "stdout",
       "text": [
        " [u'https://gdata.youtube.com/feeds/playlists/PLM7HGQkDNOHuOloa7Z6qDV_7lAAEbcSk-?alt=json&start-index=26&max-results=25']\n",
        "next_page_list = "
       ]
      },
      {
       "output_type": "stream",
       "stream": "stdout",
       "text": [
        " []\n",
        "next_page_list = "
       ]
      },
      {
       "output_type": "stream",
       "stream": "stdout",
       "text": [
        " ['https://gdata.youtube.com/feeds/playlists/PLM7HGQkDNOHu4d6mK1PvyluGCe9DamwyC']\n",
        "next_page_list = "
       ]
      },
      {
       "output_type": "stream",
       "stream": "stdout",
       "text": [
        " []\n",
        "next_page_list = "
       ]
      },
      {
       "output_type": "stream",
       "stream": "stdout",
       "text": [
        " ['https://gdata.youtube.com/feeds/playlists/PLM7HGQkDNOHv4MfqMMil2LaMQLyajutWJ']\n",
        "next_page_list = "
       ]
      },
      {
       "output_type": "stream",
       "stream": "stdout",
       "text": [
        " []\n",
        "next_page_list = "
       ]
      },
      {
       "output_type": "stream",
       "stream": "stdout",
       "text": [
        " ['https://gdata.youtube.com/feeds/playlists/PLM7HGQkDNOHvSpSzHzXaXUNNpFWTmuxl4']\n",
        "next_page_list = "
       ]
      },
      {
       "output_type": "stream",
       "stream": "stdout",
       "text": [
        " []\n",
        "next_page_list = "
       ]
      },
      {
       "output_type": "stream",
       "stream": "stdout",
       "text": [
        " ['https://gdata.youtube.com/feeds/playlists/PLM7HGQkDNOHtG-4dpKqy-Oz6ju5PRV_RD']\n",
        "next_page_list = "
       ]
      },
      {
       "output_type": "stream",
       "stream": "stdout",
       "text": [
        " []\n",
        "next_page_list = "
       ]
      },
      {
       "output_type": "stream",
       "stream": "stdout",
       "text": [
        " ['https://gdata.youtube.com/feeds/playlists/PLM7HGQkDNOHuwaaGX0LPl0AmS6HxRnzVa']\n",
        "next_page_list = "
       ]
      },
      {
       "output_type": "stream",
       "stream": "stdout",
       "text": [
        " []\n",
        "next_page_list = "
       ]
      },
      {
       "output_type": "stream",
       "stream": "stdout",
       "text": [
        " ['https://gdata.youtube.com/feeds/playlists/PLM7HGQkDNOHveBuNqLpnWFl09IbiKi-5b']\n",
        "next_page_list = "
       ]
      },
      {
       "output_type": "stream",
       "stream": "stdout",
       "text": [
        " []\n",
        "next_page_list = "
       ]
      },
      {
       "output_type": "stream",
       "stream": "stdout",
       "text": [
        " ['https://gdata.youtube.com/feeds/playlists/PLM7HGQkDNOHsxqfJS6tErHwmIXHBEl-sL']\n",
        "next_page_list = "
       ]
      },
      {
       "output_type": "stream",
       "stream": "stdout",
       "text": [
        " []\n",
        "next_page_list = "
       ]
      },
      {
       "output_type": "stream",
       "stream": "stdout",
       "text": [
        " ['https://gdata.youtube.com/feeds/playlists/PLM7HGQkDNOHtecWgrICYEHBNmMETZyLni']\n",
        "next_page_list = "
       ]
      },
      {
       "output_type": "stream",
       "stream": "stdout",
       "text": [
        " []\n",
        "next_page_list = "
       ]
      },
      {
       "output_type": "stream",
       "stream": "stdout",
       "text": [
        " ['https://gdata.youtube.com/feeds/playlists/PLM7HGQkDNOHsRBSJrJfcU3cJtwUxeokdi']\n",
        "next_page_list = "
       ]
      },
      {
       "output_type": "stream",
       "stream": "stdout",
       "text": [
        " []\n",
        "next_page_list = "
       ]
      },
      {
       "output_type": "stream",
       "stream": "stdout",
       "text": [
        " ['https://gdata.youtube.com/feeds/playlists/PLM7HGQkDNOHt9GkzsOlS2QUMIP5vdjzYM']\n",
        "next_page_list = "
       ]
      },
      {
       "output_type": "stream",
       "stream": "stdout",
       "text": [
        " []\n",
        "next_page_list = "
       ]
      },
      {
       "output_type": "stream",
       "stream": "stdout",
       "text": [
        " ['https://gdata.youtube.com/feeds/playlists/PLM7HGQkDNOHs6Be929aEKyX4Vx_9mFRFY']\n",
        "next_page_list = "
       ]
      },
      {
       "output_type": "stream",
       "stream": "stdout",
       "text": [
        " []\n",
        "next_page_list = "
       ]
      },
      {
       "output_type": "stream",
       "stream": "stdout",
       "text": [
        " ['https://gdata.youtube.com/feeds/playlists/PLM7HGQkDNOHuUZmybw9mzv0w_9-EQm39U']\n",
        "next_page_list = "
       ]
      },
      {
       "output_type": "stream",
       "stream": "stdout",
       "text": [
        " []\n",
        "next_page_list = "
       ]
      },
      {
       "output_type": "stream",
       "stream": "stdout",
       "text": [
        " ['https://gdata.youtube.com/feeds/playlists/PLM7HGQkDNOHsfNjKzrdNpB19TSVypm9nu']\n",
        "next_page_list = "
       ]
      },
      {
       "output_type": "stream",
       "stream": "stdout",
       "text": [
        " []\n",
        "next_page_list = "
       ]
      },
      {
       "output_type": "stream",
       "stream": "stdout",
       "text": [
        " ['https://gdata.youtube.com/feeds/playlists/PLM7HGQkDNOHuGxJTvhujNdE87yhhVtuEN']\n",
        "next_page_list = "
       ]
      },
      {
       "output_type": "stream",
       "stream": "stdout",
       "text": [
        " []\n",
        "next_page_list = "
       ]
      },
      {
       "output_type": "stream",
       "stream": "stdout",
       "text": [
        " ['https://gdata.youtube.com/feeds/playlists/PLM7HGQkDNOHtInKc6VW2fz__5nPIHu-nU']\n",
        "next_page_list = "
       ]
      },
      {
       "output_type": "stream",
       "stream": "stdout",
       "text": [
        " []\n",
        "next_page_list = "
       ]
      },
      {
       "output_type": "stream",
       "stream": "stdout",
       "text": [
        " ['https://gdata.youtube.com/feeds/playlists/PLM7HGQkDNOHs2IAn1-lK-YjAHIAaoowEg']\n",
        "next_page_list = "
       ]
      },
      {
       "output_type": "stream",
       "stream": "stdout",
       "text": [
        " []\n",
        "next_page_list = "
       ]
      },
      {
       "output_type": "stream",
       "stream": "stdout",
       "text": [
        " ['https://gdata.youtube.com/feeds/playlists/PLM7HGQkDNOHs6h_SguGNZfqg_Knfo-D7m']\n",
        "next_page_list = "
       ]
      },
      {
       "output_type": "stream",
       "stream": "stdout",
       "text": [
        " []\n",
        "next_page_list = "
       ]
      },
      {
       "output_type": "stream",
       "stream": "stdout",
       "text": [
        " ['https://gdata.youtube.com/feeds/playlists/PLM7HGQkDNOHtbfKRoB6KAsQPG4RGHkYyE']\n",
        "next_page_list = "
       ]
      },
      {
       "output_type": "stream",
       "stream": "stdout",
       "text": [
        " []\n",
        "next_page_list = "
       ]
      },
      {
       "output_type": "stream",
       "stream": "stdout",
       "text": [
        " ['https://gdata.youtube.com/feeds/playlists/PLM7HGQkDNOHurvnl6aX1Tr6-ItORmhMi8']\n",
        "next_page_list = "
       ]
      },
      {
       "output_type": "stream",
       "stream": "stdout",
       "text": [
        " []\n",
        "next_page_list = "
       ]
      },
      {
       "output_type": "stream",
       "stream": "stdout",
       "text": [
        " ['https://gdata.youtube.com/feeds/playlists/PLM7HGQkDNOHs3AOmaPVLuCtmgo03Pbkxr']\n",
        "next_page_list = "
       ]
      },
      {
       "output_type": "stream",
       "stream": "stdout",
       "text": [
        " []\n",
        "next_page_list = "
       ]
      },
      {
       "output_type": "stream",
       "stream": "stdout",
       "text": [
        " ['https://gdata.youtube.com/feeds/playlists/PLM7HGQkDNOHtXrBvW5JY1hfpKruJeJ7pP']\n",
        "next_page_list = "
       ]
      },
      {
       "output_type": "stream",
       "stream": "stdout",
       "text": [
        " []\n",
        "next_page_list = "
       ]
      },
      {
       "output_type": "stream",
       "stream": "stdout",
       "text": [
        " ['https://gdata.youtube.com/feeds/playlists/PLM7HGQkDNOHtB8o-SVg2E1SUJWJP1J4TE']\n",
        "next_page_list = "
       ]
      },
      {
       "output_type": "stream",
       "stream": "stdout",
       "text": [
        " []\n",
        "next_page_list = "
       ]
      },
      {
       "output_type": "stream",
       "stream": "stdout",
       "text": [
        " ['https://gdata.youtube.com/feeds/playlists/PLM7HGQkDNOHsOizmST3wE7mHm5FlaSITY']\n",
        "next_page_list = "
       ]
      },
      {
       "output_type": "stream",
       "stream": "stdout",
       "text": [
        " []\n",
        "next_page_list = "
       ]
      },
      {
       "output_type": "stream",
       "stream": "stdout",
       "text": [
        " ['https://gdata.youtube.com/feeds/playlists/PLM7HGQkDNOHu5b3fJyhEmgkZ3NLvQbFny']\n",
        "next_page_list = "
       ]
      },
      {
       "output_type": "stream",
       "stream": "stdout",
       "text": [
        " []\n",
        "next_page_list = "
       ]
      },
      {
       "output_type": "stream",
       "stream": "stdout",
       "text": [
        " ['https://gdata.youtube.com/feeds/playlists/PLM7HGQkDNOHsQ0CVmH_hw1n_7pgcrH6Ya']\n",
        "next_page_list = "
       ]
      },
      {
       "output_type": "stream",
       "stream": "stdout",
       "text": [
        " []\n",
        "next_page_list = "
       ]
      },
      {
       "output_type": "stream",
       "stream": "stdout",
       "text": [
        " ['https://gdata.youtube.com/feeds/playlists/PLM7HGQkDNOHuTH4HDRFuQ8PixLBnXiJCZ']\n",
        "next_page_list = "
       ]
      },
      {
       "output_type": "stream",
       "stream": "stdout",
       "text": [
        " []\n",
        "next_page_list = "
       ]
      },
      {
       "output_type": "stream",
       "stream": "stdout",
       "text": [
        " ['https://gdata.youtube.com/feeds/playlists/PLM7HGQkDNOHtisJ-LrOT9ist_Ka7eL4AB']\n",
        "next_page_list = "
       ]
      },
      {
       "output_type": "stream",
       "stream": "stdout",
       "text": [
        " []\n",
        "next_page_list = "
       ]
      },
      {
       "output_type": "stream",
       "stream": "stdout",
       "text": [
        " ['https://gdata.youtube.com/feeds/playlists/PLM7HGQkDNOHtqUTowalvnOwZCx4mWDmte']\n",
        "next_page_list = "
       ]
      },
      {
       "output_type": "stream",
       "stream": "stdout",
       "text": [
        " []\n",
        "next_page_list = "
       ]
      },
      {
       "output_type": "stream",
       "stream": "stdout",
       "text": [
        " ['https://gdata.youtube.com/feeds/playlists/PLM7HGQkDNOHuwN43cj1f2LdPi-ZV11_Po']\n",
        "next_page_list = "
       ]
      },
      {
       "output_type": "stream",
       "stream": "stdout",
       "text": [
        " []\n",
        "next_page_list = "
       ]
      },
      {
       "output_type": "stream",
       "stream": "stdout",
       "text": [
        " ['https://gdata.youtube.com/feeds/playlists/PLM7HGQkDNOHsRD25mAv7KydtrrvuOPv_F']\n",
        "next_page_list = "
       ]
      },
      {
       "output_type": "stream",
       "stream": "stdout",
       "text": [
        " []\n",
        "next_page_list = "
       ]
      },
      {
       "output_type": "stream",
       "stream": "stdout",
       "text": [
        " ['https://gdata.youtube.com/feeds/playlists/PLM7HGQkDNOHvlAOs55LUkhcGLV6GVTogT']\n",
        "next_page_list = "
       ]
      },
      {
       "output_type": "stream",
       "stream": "stdout",
       "text": [
        " []\n",
        "next_page_list = "
       ]
      },
      {
       "output_type": "stream",
       "stream": "stdout",
       "text": [
        " ['https://gdata.youtube.com/feeds/playlists/PLM7HGQkDNOHsGIYuyiKo2uYD5huIkwc76']\n",
        "next_page_list = "
       ]
      },
      {
       "output_type": "stream",
       "stream": "stdout",
       "text": [
        " []\n",
        "next_page_list = "
       ]
      },
      {
       "output_type": "stream",
       "stream": "stdout",
       "text": [
        " ['https://gdata.youtube.com/feeds/playlists/PLM7HGQkDNOHtCGTVZnIDrIBCubbU8KuP7']\n",
        "next_page_list = "
       ]
      },
      {
       "output_type": "stream",
       "stream": "stdout",
       "text": [
        " []\n",
        "next_page_list = "
       ]
      },
      {
       "output_type": "stream",
       "stream": "stdout",
       "text": [
        " ['https://gdata.youtube.com/feeds/playlists/PLM7HGQkDNOHs0EaF9UreRwzQt3cVcoo6G']\n",
        "next_page_list = "
       ]
      },
      {
       "output_type": "stream",
       "stream": "stdout",
       "text": [
        " []\n",
        "next_page_list = "
       ]
      },
      {
       "output_type": "stream",
       "stream": "stdout",
       "text": [
        " ['https://gdata.youtube.com/feeds/playlists/PLM7HGQkDNOHsR3XNwrBUXE8-P435It2LP']\n",
        "next_page_list = "
       ]
      },
      {
       "output_type": "stream",
       "stream": "stdout",
       "text": [
        " []\n",
        "next_page_list = "
       ]
      },
      {
       "output_type": "stream",
       "stream": "stdout",
       "text": [
        " ['https://gdata.youtube.com/feeds/playlists/PLM7HGQkDNOHueXh2Pn_L4wsXa_CxdAL0g']\n",
        "next_page_list = "
       ]
      },
      {
       "output_type": "stream",
       "stream": "stdout",
       "text": [
        " []\n",
        "next_page_list = "
       ]
      },
      {
       "output_type": "stream",
       "stream": "stdout",
       "text": [
        " ['https://gdata.youtube.com/feeds/playlists/PLM7HGQkDNOHsiqAHRhQmwocX7GwS96zoP']\n",
        "next_page_list = "
       ]
      },
      {
       "output_type": "stream",
       "stream": "stdout",
       "text": [
        " []\n",
        "next_page_list = "
       ]
      },
      {
       "output_type": "stream",
       "stream": "stdout",
       "text": [
        " ['https://gdata.youtube.com/feeds/playlists/PLM7HGQkDNOHuIdsYGnQVJlYdFAP4dI_Zo']\n",
        "next_page_list = "
       ]
      },
      {
       "output_type": "stream",
       "stream": "stdout",
       "text": [
        " []\n",
        "next_page_list = "
       ]
      },
      {
       "output_type": "stream",
       "stream": "stdout",
       "text": [
        " ['https://gdata.youtube.com/feeds/playlists/PLM7HGQkDNOHuNiF7Ml9Y8IIrjlUzms6Du']\n",
        "next_page_list = "
       ]
      },
      {
       "output_type": "stream",
       "stream": "stdout",
       "text": [
        " []\n",
        "next_page_list = "
       ]
      },
      {
       "output_type": "stream",
       "stream": "stdout",
       "text": [
        " ['https://gdata.youtube.com/feeds/playlists/PLM7HGQkDNOHv-1CchDajrmgwAFs5xjqLg']\n",
        "next_page_list = "
       ]
      },
      {
       "output_type": "stream",
       "stream": "stdout",
       "text": [
        " []\n",
        "next_page_list = "
       ]
      },
      {
       "output_type": "stream",
       "stream": "stdout",
       "text": [
        " ['https://gdata.youtube.com/feeds/playlists/PLM7HGQkDNOHsaFMMbABbMCdMy7oVdVxxg']\n",
        "next_page_list = "
       ]
      },
      {
       "output_type": "stream",
       "stream": "stdout",
       "text": [
        " []\n",
        "next_page_list = "
       ]
      },
      {
       "output_type": "stream",
       "stream": "stdout",
       "text": [
        " ['https://gdata.youtube.com/feeds/playlists/PLM7HGQkDNOHvodmvoIBx3-R5AFOeO4N3B']\n",
        "next_page_list = "
       ]
      },
      {
       "output_type": "stream",
       "stream": "stdout",
       "text": [
        " []\n",
        "next_page_list = "
       ]
      },
      {
       "output_type": "stream",
       "stream": "stdout",
       "text": [
        " ['https://gdata.youtube.com/feeds/playlists/PLM7HGQkDNOHvl3HaMeaiq0Y07z-YdA1Uq']\n",
        "next_page_list = "
       ]
      },
      {
       "output_type": "stream",
       "stream": "stdout",
       "text": [
        " []\n",
        "next_page_list = "
       ]
      },
      {
       "output_type": "stream",
       "stream": "stdout",
       "text": [
        " ['https://gdata.youtube.com/feeds/playlists/PLM7HGQkDNOHsxYeXHWb-JUSdFWPIbu9lx']\n",
        "next_page_list = "
       ]
      },
      {
       "output_type": "stream",
       "stream": "stdout",
       "text": [
        " []\n",
        "next_page_list = "
       ]
      },
      {
       "output_type": "stream",
       "stream": "stdout",
       "text": [
        " ['https://gdata.youtube.com/feeds/playlists/PLM7HGQkDNOHvH5jpUBsAT0AOL2EalWcly']\n",
        "next_page_list = "
       ]
      },
      {
       "output_type": "stream",
       "stream": "stdout",
       "text": [
        " []\n",
        "next_page_list = "
       ]
      },
      {
       "output_type": "stream",
       "stream": "stdout",
       "text": [
        " ['https://gdata.youtube.com/feeds/playlists/PLM7HGQkDNOHuk2_Nt902YdMGKY3pisEH2']\n",
        "next_page_list = "
       ]
      },
      {
       "output_type": "stream",
       "stream": "stdout",
       "text": [
        " []\n",
        "next_page_list = "
       ]
      },
      {
       "output_type": "stream",
       "stream": "stdout",
       "text": [
        " ['https://gdata.youtube.com/feeds/playlists/PLM7HGQkDNOHu4PQsIEDIRn_j3VqhtVebK']\n",
        "next_page_list = "
       ]
      },
      {
       "output_type": "stream",
       "stream": "stdout",
       "text": [
        " []\n",
        "next_page_list = "
       ]
      },
      {
       "output_type": "stream",
       "stream": "stdout",
       "text": [
        " ['https://gdata.youtube.com/feeds/playlists/PLM7HGQkDNOHvIMzWYu4CHVq6zY7-XjbYD']\n",
        "next_page_list = "
       ]
      },
      {
       "output_type": "stream",
       "stream": "stdout",
       "text": [
        " []\n",
        "next_page_list = "
       ]
      },
      {
       "output_type": "stream",
       "stream": "stdout",
       "text": [
        " ['https://gdata.youtube.com/feeds/playlists/PLM7HGQkDNOHst-R532qBUTR1EqAPLGJ7p']\n",
        "next_page_list = "
       ]
      },
      {
       "output_type": "stream",
       "stream": "stdout",
       "text": [
        " []\n",
        "next_page_list = "
       ]
      },
      {
       "output_type": "stream",
       "stream": "stdout",
       "text": [
        " ['https://gdata.youtube.com/feeds/playlists/PLM7HGQkDNOHtQRkHTsX0C_h9ZHPyZvmkE']\n",
        "next_page_list = "
       ]
      },
      {
       "output_type": "stream",
       "stream": "stdout",
       "text": [
        " []\n",
        "next_page_list = "
       ]
      },
      {
       "output_type": "stream",
       "stream": "stdout",
       "text": [
        " ['https://gdata.youtube.com/feeds/playlists/PLM7HGQkDNOHs04zTGvfyyHESvo7gqqedf']\n",
        "next_page_list = "
       ]
      },
      {
       "output_type": "stream",
       "stream": "stdout",
       "text": [
        " []\n",
        "next_page_list = "
       ]
      },
      {
       "output_type": "stream",
       "stream": "stdout",
       "text": [
        " ['https://gdata.youtube.com/feeds/playlists/PLM7HGQkDNOHvJrJ_S9toPeLNgx-CnFH4L']\n",
        "next_page_list = "
       ]
      },
      {
       "output_type": "stream",
       "stream": "stdout",
       "text": [
        " []\n",
        "next_page_list = "
       ]
      },
      {
       "output_type": "stream",
       "stream": "stdout",
       "text": [
        " ['https://gdata.youtube.com/feeds/playlists/PLM7HGQkDNOHtobSzUmOfefibiDtP35kJZ']\n",
        "next_page_list = "
       ]
      },
      {
       "output_type": "stream",
       "stream": "stdout",
       "text": [
        " []\n",
        "next_page_list = "
       ]
      },
      {
       "output_type": "stream",
       "stream": "stdout",
       "text": [
        " ['https://gdata.youtube.com/feeds/playlists/PLM7HGQkDNOHtrOgCigS-chwOwQuLfmvij']\n",
        "next_page_list = "
       ]
      },
      {
       "output_type": "stream",
       "stream": "stdout",
       "text": [
        " []\n",
        "next_page_list = "
       ]
      },
      {
       "output_type": "stream",
       "stream": "stdout",
       "text": [
        " ['https://gdata.youtube.com/feeds/playlists/PLM7HGQkDNOHszs0RYPemn-_PD0XCNihuS']\n",
        "next_page_list = "
       ]
      },
      {
       "output_type": "stream",
       "stream": "stdout",
       "text": [
        " []\n",
        "next_page_list = "
       ]
      },
      {
       "output_type": "stream",
       "stream": "stdout",
       "text": [
        " ['https://gdata.youtube.com/feeds/playlists/PLM7HGQkDNOHvDa8EdfLV1nKC-m8QQ_dPy']\n",
        "next_page_list = "
       ]
      },
      {
       "output_type": "stream",
       "stream": "stdout",
       "text": [
        " []\n",
        "next_page_list = "
       ]
      },
      {
       "output_type": "stream",
       "stream": "stdout",
       "text": [
        " ['https://gdata.youtube.com/feeds/playlists/PLM7HGQkDNOHtUmjpIuO-aOJ0Rhj0sxT9B']\n",
        "next_page_list = "
       ]
      },
      {
       "output_type": "stream",
       "stream": "stdout",
       "text": [
        " []\n",
        "next_page_list = "
       ]
      },
      {
       "output_type": "stream",
       "stream": "stdout",
       "text": [
        " ['https://gdata.youtube.com/feeds/playlists/PLM7HGQkDNOHvRPotW8UUh3ZH2mCXSm1jY']\n",
        "next_page_list = "
       ]
      },
      {
       "output_type": "stream",
       "stream": "stdout",
       "text": [
        " []\n",
        "next_page_list = "
       ]
      },
      {
       "output_type": "stream",
       "stream": "stdout",
       "text": [
        " ['https://gdata.youtube.com/feeds/playlists/PLM7HGQkDNOHuhJs3S_DGtsqIhwpY-8IBL']\n",
        "next_page_list = "
       ]
      },
      {
       "output_type": "stream",
       "stream": "stdout",
       "text": [
        " []\n",
        "next_page_list = "
       ]
      },
      {
       "output_type": "stream",
       "stream": "stdout",
       "text": [
        " ['https://gdata.youtube.com/feeds/playlists/PLM7HGQkDNOHv_FLBoGEOkQT8O0PRhegSR']\n",
        "next_page_list = "
       ]
      },
      {
       "output_type": "stream",
       "stream": "stdout",
       "text": [
        " []\n",
        "next_page_list = "
       ]
      },
      {
       "output_type": "stream",
       "stream": "stdout",
       "text": [
        " ['https://gdata.youtube.com/feeds/playlists/PLM7HGQkDNOHu4_A9YTrOVfjMx-zz2EJ6G']\n",
        "next_page_list = "
       ]
      },
      {
       "output_type": "stream",
       "stream": "stdout",
       "text": [
        " []\n",
        "next_page_list = "
       ]
      },
      {
       "output_type": "stream",
       "stream": "stdout",
       "text": [
        " ['https://gdata.youtube.com/feeds/playlists/PLM7HGQkDNOHuRDz-59vgGBo8snlXidiy4']\n",
        "next_page_list = "
       ]
      },
      {
       "output_type": "stream",
       "stream": "stdout",
       "text": [
        " []\n",
        "next_page_list = "
       ]
      },
      {
       "output_type": "stream",
       "stream": "stdout",
       "text": [
        " ['https://gdata.youtube.com/feeds/playlists/PLM7HGQkDNOHuiD8twac_hr4jbwMoEfINv']\n",
        "next_page_list = "
       ]
      },
      {
       "output_type": "stream",
       "stream": "stdout",
       "text": [
        " []\n",
        "next_page_list = "
       ]
      },
      {
       "output_type": "stream",
       "stream": "stdout",
       "text": [
        " ['https://gdata.youtube.com/feeds/playlists/PLM7HGQkDNOHsDoD3ZDqgBC4IiD2b5n9-M']\n",
        "next_page_list = "
       ]
      },
      {
       "output_type": "stream",
       "stream": "stdout",
       "text": [
        " []\n",
        "next_page_list = "
       ]
      },
      {
       "output_type": "stream",
       "stream": "stdout",
       "text": [
        " ['https://gdata.youtube.com/feeds/playlists/PLM7HGQkDNOHuAgaqhasSGs_DRkWWHqk4W']\n",
        "next_page_list = "
       ]
      },
      {
       "output_type": "stream",
       "stream": "stdout",
       "text": [
        " []\n",
        "next_page_list = "
       ]
      },
      {
       "output_type": "stream",
       "stream": "stdout",
       "text": [
        " ['https://gdata.youtube.com/feeds/playlists/PLM7HGQkDNOHvS7wl8H_ET47ZWeSj_KCRS']\n",
        "next_page_list = "
       ]
      },
      {
       "output_type": "stream",
       "stream": "stdout",
       "text": [
        " []\n",
        "next_page_list = "
       ]
      },
      {
       "output_type": "stream",
       "stream": "stdout",
       "text": [
        " ['https://gdata.youtube.com/feeds/playlists/PLM7HGQkDNOHtUpVGfwhBMkBITovffU6g0']\n",
        "next_page_list = "
       ]
      },
      {
       "output_type": "stream",
       "stream": "stdout",
       "text": [
        " []\n",
        "next_page_list = "
       ]
      },
      {
       "output_type": "stream",
       "stream": "stdout",
       "text": [
        " ['https://gdata.youtube.com/feeds/playlists/PLM7HGQkDNOHvlBCFXMA3ZYIwNnCFTvUNw']\n",
        "next_page_list = "
       ]
      },
      {
       "output_type": "stream",
       "stream": "stdout",
       "text": [
        " []\n",
        "next_page_list = "
       ]
      },
      {
       "output_type": "stream",
       "stream": "stdout",
       "text": [
        " ['https://gdata.youtube.com/feeds/playlists/PLM7HGQkDNOHt161z4Aks7ojwrBF4Wg7Wc']\n",
        "next_page_list = "
       ]
      },
      {
       "output_type": "stream",
       "stream": "stdout",
       "text": [
        " []\n",
        "next_page_list = "
       ]
      },
      {
       "output_type": "stream",
       "stream": "stdout",
       "text": [
        " ['https://gdata.youtube.com/feeds/playlists/PLM7HGQkDNOHuckZnsB2LL-bdHVUoQRr_k']\n",
        "next_page_list = "
       ]
      },
      {
       "output_type": "stream",
       "stream": "stdout",
       "text": [
        " []\n",
        "next_page_list = "
       ]
      },
      {
       "output_type": "stream",
       "stream": "stdout",
       "text": [
        " ['https://gdata.youtube.com/feeds/playlists/PLM7HGQkDNOHu8jbohhftR0G9m4FH6ki7f']\n",
        "next_page_list = "
       ]
      },
      {
       "output_type": "stream",
       "stream": "stdout",
       "text": [
        " []\n",
        "next_page_list = "
       ]
      },
      {
       "output_type": "stream",
       "stream": "stdout",
       "text": [
        " ['https://gdata.youtube.com/feeds/playlists/PLM7HGQkDNOHvGUCG1pcfoHLYI1vD7WKly']\n",
        "next_page_list = "
       ]
      },
      {
       "output_type": "stream",
       "stream": "stdout",
       "text": [
        " []\n",
        "next_page_list = "
       ]
      },
      {
       "output_type": "stream",
       "stream": "stdout",
       "text": [
        " ['https://gdata.youtube.com/feeds/playlists/PLM7HGQkDNOHtZwH2VndeKN3aHTMiDRtGH']\n",
        "next_page_list = "
       ]
      },
      {
       "output_type": "stream",
       "stream": "stdout",
       "text": [
        " []\n",
        "next_page_list = "
       ]
      },
      {
       "output_type": "stream",
       "stream": "stdout",
       "text": [
        " ['https://gdata.youtube.com/feeds/playlists/PLM7HGQkDNOHtVmLgbgFJzAwFWWyEyClhl']\n",
        "next_page_list = "
       ]
      },
      {
       "output_type": "stream",
       "stream": "stdout",
       "text": [
        " [u'https://gdata.youtube.com/feeds/playlists/PLM7HGQkDNOHtVmLgbgFJzAwFWWyEyClhl?alt=json&start-index=26&max-results=25']\n",
        "next_page_list = "
       ]
      },
      {
       "output_type": "stream",
       "stream": "stdout",
       "text": [
        " []\n",
        "next_page_list = "
       ]
      },
      {
       "output_type": "stream",
       "stream": "stdout",
       "text": [
        " ['https://gdata.youtube.com/feeds/playlists/PLM7HGQkDNOHsic2Q9cD7gyJMe8RJXqtj5']\n",
        "next_page_list = "
       ]
      },
      {
       "output_type": "stream",
       "stream": "stdout",
       "text": [
        " []\n",
        "next_page_list = "
       ]
      },
      {
       "output_type": "stream",
       "stream": "stdout",
       "text": [
        " ['https://gdata.youtube.com/feeds/playlists/PLM7HGQkDNOHuxeWxljFN1CI2X-1KEqBDt']\n",
        "next_page_list = "
       ]
      },
      {
       "output_type": "stream",
       "stream": "stdout",
       "text": [
        " []\n",
        "next_page_list = "
       ]
      },
      {
       "output_type": "stream",
       "stream": "stdout",
       "text": [
        " ['https://gdata.youtube.com/feeds/playlists/PLM7HGQkDNOHuO2Z0XR3lnEHU86lbv8x9w']\n",
        "next_page_list = "
       ]
      },
      {
       "output_type": "stream",
       "stream": "stdout",
       "text": [
        " [u'https://gdata.youtube.com/feeds/playlists/PLM7HGQkDNOHuO2Z0XR3lnEHU86lbv8x9w?alt=json&start-index=26&max-results=25']\n",
        "next_page_list = "
       ]
      },
      {
       "output_type": "stream",
       "stream": "stdout",
       "text": [
        " [u'https://gdata.youtube.com/feeds/playlists/PLM7HGQkDNOHuO2Z0XR3lnEHU86lbv8x9w?alt=json&start-index=51&max-results=25']\n",
        "next_page_list = "
       ]
      },
      {
       "output_type": "stream",
       "stream": "stdout",
       "text": [
        " [u'https://gdata.youtube.com/feeds/playlists/PLM7HGQkDNOHuO2Z0XR3lnEHU86lbv8x9w?alt=json&start-index=76&max-results=25']\n",
        "next_page_list = "
       ]
      },
      {
       "output_type": "stream",
       "stream": "stdout",
       "text": [
        " [u'https://gdata.youtube.com/feeds/playlists/PLM7HGQkDNOHuO2Z0XR3lnEHU86lbv8x9w?alt=json&start-index=101&max-results=25']\n",
        "next_page_list = "
       ]
      },
      {
       "output_type": "stream",
       "stream": "stdout",
       "text": [
        " [u'https://gdata.youtube.com/feeds/playlists/PLM7HGQkDNOHuO2Z0XR3lnEHU86lbv8x9w?alt=json&start-index=126&max-results=25']\n",
        "next_page_list = "
       ]
      },
      {
       "output_type": "stream",
       "stream": "stdout",
       "text": [
        " [u'https://gdata.youtube.com/feeds/playlists/PLM7HGQkDNOHuO2Z0XR3lnEHU86lbv8x9w?alt=json&start-index=151&max-results=25']\n",
        "next_page_list = "
       ]
      },
      {
       "output_type": "stream",
       "stream": "stdout",
       "text": [
        " []\n",
        "next_page_list = "
       ]
      },
      {
       "output_type": "stream",
       "stream": "stdout",
       "text": [
        " ['https://gdata.youtube.com/feeds/playlists/PLM7HGQkDNOHtUwxRB99zR4ieOBbJatnhO']\n",
        "next_page_list = "
       ]
      },
      {
       "output_type": "stream",
       "stream": "stdout",
       "text": [
        " []\n",
        "next_page_list = "
       ]
      },
      {
       "output_type": "stream",
       "stream": "stdout",
       "text": [
        " ['https://gdata.youtube.com/feeds/playlists/PLM7HGQkDNOHu3SXXZjsBvZ2AzVMxSr57A']\n",
        "next_page_list = "
       ]
      },
      {
       "output_type": "stream",
       "stream": "stdout",
       "text": [
        " []\n",
        "next_page_list = "
       ]
      },
      {
       "output_type": "stream",
       "stream": "stdout",
       "text": [
        " ['https://gdata.youtube.com/feeds/playlists/PLM7HGQkDNOHuYOOo98-cfhP-opcEDl7RO']\n",
        "next_page_list = "
       ]
      },
      {
       "output_type": "stream",
       "stream": "stdout",
       "text": [
        " []\n",
        "next_page_list = "
       ]
      },
      {
       "output_type": "stream",
       "stream": "stdout",
       "text": [
        " ['https://gdata.youtube.com/feeds/users/taipeipython/uploads/']\n",
        "next_page_list = "
       ]
      },
      {
       "output_type": "stream",
       "stream": "stdout",
       "text": [
        " [u'https://gdata.youtube.com/feeds/users/taipeipython/uploads?alt=json&start-index=26&max-results=25']\n",
        "next_page_list = "
       ]
      },
      {
       "output_type": "stream",
       "stream": "stdout",
       "text": [
        " [u'https://gdata.youtube.com/feeds/users/taipeipython/uploads?alt=json&start-index=51&max-results=25']\n",
        "next_page_list = "
       ]
      },
      {
       "output_type": "stream",
       "stream": "stdout",
       "text": [
        " [u'https://gdata.youtube.com/feeds/users/taipeipython/uploads?alt=json&start-index=76&max-results=25']\n",
        "next_page_list = "
       ]
      },
      {
       "output_type": "stream",
       "stream": "stdout",
       "text": [
        " []\n",
        "next_page_list =  ['https://gdata.youtube.com/feeds/users/taipeipython/playlists/']\n",
        "next_page_list = "
       ]
      },
      {
       "output_type": "stream",
       "stream": "stdout",
       "text": [
        " []\n",
        "next_page_list =  ['https://gdata.youtube.com/feeds/playlists/PL5WMgeviwb1tOliFamLX51oNn-HrjISXx']\n",
        "next_page_list = "
       ]
      },
      {
       "output_type": "stream",
       "stream": "stdout",
       "text": [
        " []\n",
        "next_page_list = "
       ]
      },
      {
       "output_type": "stream",
       "stream": "stdout",
       "text": [
        " ['https://gdata.youtube.com/feeds/playlists/PL5WMgeviwb1vRpano1qjd09y9K-49Yj_u']\n",
        "next_page_list = "
       ]
      },
      {
       "output_type": "stream",
       "stream": "stdout",
       "text": [
        " []\n",
        "next_page_list = "
       ]
      },
      {
       "output_type": "stream",
       "stream": "stdout",
       "text": [
        " ['https://gdata.youtube.com/feeds/playlists/PL5WMgeviwb1tNt5V1q050q7h_3_WDkZdk']\n",
        "next_page_list = "
       ]
      },
      {
       "output_type": "stream",
       "stream": "stdout",
       "text": [
        " []\n",
        "next_page_list = "
       ]
      },
      {
       "output_type": "stream",
       "stream": "stdout",
       "text": [
        " ['https://gdata.youtube.com/feeds/playlists/PL5WMgeviwb1u1tXI0jx3E8FFvyNqIUWV6']\n",
        "next_page_list = "
       ]
      },
      {
       "output_type": "stream",
       "stream": "stdout",
       "text": [
        " []\n",
        "next_page_list = "
       ]
      },
      {
       "output_type": "stream",
       "stream": "stdout",
       "text": [
        " ['https://gdata.youtube.com/feeds/playlists/PL5WMgeviwb1uaBfU8Ma_a-tkrrKdeYFK6']\n",
        "next_page_list = "
       ]
      },
      {
       "output_type": "stream",
       "stream": "stdout",
       "text": [
        " []\n",
        "next_page_list = "
       ]
      },
      {
       "output_type": "stream",
       "stream": "stdout",
       "text": [
        " ['https://gdata.youtube.com/feeds/playlists/PL5WMgeviwb1ttQL7Pxmy2Umj2EphbDhIk']\n",
        "next_page_list = "
       ]
      },
      {
       "output_type": "stream",
       "stream": "stdout",
       "text": [
        " []\n",
        "next_page_list = "
       ]
      },
      {
       "output_type": "stream",
       "stream": "stdout",
       "text": [
        " ['https://gdata.youtube.com/feeds/playlists/PL5WMgeviwb1u9dIjZDMHFyX3D0KHmf_w7']\n",
        "next_page_list = "
       ]
      },
      {
       "output_type": "stream",
       "stream": "stdout",
       "text": [
        " []\n",
        "next_page_list = "
       ]
      },
      {
       "output_type": "stream",
       "stream": "stdout",
       "text": [
        " ['https://gdata.youtube.com/feeds/playlists/PL5WMgeviwb1sZdEtele6VSGIBNXb0M9i2']\n",
        "next_page_list = "
       ]
      },
      {
       "output_type": "stream",
       "stream": "stdout",
       "text": [
        " []\n",
        "next_page_list = "
       ]
      },
      {
       "output_type": "stream",
       "stream": "stdout",
       "text": [
        " ['https://gdata.youtube.com/feeds/playlists/PL5WMgeviwb1uevrKVyYdjxJX1rOApIA0l']\n",
        "next_page_list = "
       ]
      },
      {
       "output_type": "stream",
       "stream": "stdout",
       "text": [
        " []\n",
        "next_page_list = "
       ]
      },
      {
       "output_type": "stream",
       "stream": "stdout",
       "text": [
        " ['https://gdata.youtube.com/feeds/playlists/PL5WMgeviwb1uUOOZb-tq2DRsScuC6ousj']\n",
        "next_page_list = "
       ]
      },
      {
       "output_type": "stream",
       "stream": "stdout",
       "text": [
        " []\n",
        "next_page_list = "
       ]
      },
      {
       "output_type": "stream",
       "stream": "stdout",
       "text": [
        " ['https://gdata.youtube.com/feeds/playlists/PL5WMgeviwb1teAVsDSQBZ6fjBVz5CKbY9']\n",
        "next_page_list = "
       ]
      },
      {
       "output_type": "stream",
       "stream": "stdout",
       "text": [
        " []\n",
        "next_page_list = "
       ]
      },
      {
       "output_type": "stream",
       "stream": "stdout",
       "text": [
        " ['https://gdata.youtube.com/feeds/playlists/PL5WMgeviwb1v7dTvnpkrKxzlz8ItSzTcK']\n",
        "next_page_list = "
       ]
      },
      {
       "output_type": "stream",
       "stream": "stdout",
       "text": [
        " []\n",
        "next_page_list = "
       ]
      },
      {
       "output_type": "stream",
       "stream": "stdout",
       "text": [
        " ['https://gdata.youtube.com/feeds/playlists/PL5WMgeviwb1vjZlNCLPpZ_S8VRF2MHJbI']\n",
        "next_page_list = "
       ]
      },
      {
       "output_type": "stream",
       "stream": "stdout",
       "text": [
        " []\n",
        "next_page_list = "
       ]
      },
      {
       "output_type": "stream",
       "stream": "stdout",
       "text": [
        " ['https://gdata.youtube.com/feeds/playlists/PL5WMgeviwb1uV2zghWlsVRTGgm6rd2JxI']\n",
        "next_page_list = "
       ]
      },
      {
       "output_type": "stream",
       "stream": "stdout",
       "text": [
        " []\n",
        "next_page_list = "
       ]
      },
      {
       "output_type": "stream",
       "stream": "stdout",
       "text": [
        " ['https://gdata.youtube.com/feeds/playlists/PL5WMgeviwb1vNsxD_g_wLKIXJ3COMlOL8']\n",
        "next_page_list = "
       ]
      },
      {
       "output_type": "stream",
       "stream": "stdout",
       "text": [
        " []\n",
        "next_page_list = "
       ]
      },
      {
       "output_type": "stream",
       "stream": "stdout",
       "text": [
        " ['https://gdata.youtube.com/feeds/playlists/PL5WMgeviwb1sdp2kCx6SsROVNkYLTH5mH']\n",
        "next_page_list = "
       ]
      },
      {
       "output_type": "stream",
       "stream": "stdout",
       "text": [
        " []\n",
        "next_page_list = "
       ]
      },
      {
       "output_type": "stream",
       "stream": "stdout",
       "text": [
        " ['https://gdata.youtube.com/feeds/users/UCHLnNgRnfGYDzPCCH8qGbQw/uploads/']\n",
        "next_page_list = "
       ]
      },
      {
       "output_type": "stream",
       "stream": "stdout",
       "text": [
        " [u'https://gdata.youtube.com/feeds/users/UCHLnNgRnfGYDzPCCH8qGbQw/uploads?alt=json&start-index=26&max-results=25']\n",
        "next_page_list = "
       ]
      },
      {
       "output_type": "stream",
       "stream": "stdout",
       "text": [
        " [u'https://gdata.youtube.com/feeds/users/UCHLnNgRnfGYDzPCCH8qGbQw/uploads?alt=json&start-index=51&max-results=25']\n",
        "next_page_list = "
       ]
      },
      {
       "output_type": "stream",
       "stream": "stdout",
       "text": [
        " [u'https://gdata.youtube.com/feeds/users/UCHLnNgRnfGYDzPCCH8qGbQw/uploads?alt=json&start-index=76&max-results=25']\n",
        "next_page_list = "
       ]
      },
      {
       "output_type": "stream",
       "stream": "stdout",
       "text": [
        " []\n",
        "next_page_list =  ['https://gdata.youtube.com/feeds/users/UCHLnNgRnfGYDzPCCH8qGbQw/playlists/']\n",
        "next_page_list = "
       ]
      },
      {
       "output_type": "stream",
       "stream": "stdout",
       "text": [
        " []\n",
        "next_page_list =  ['https://gdata.youtube.com/feeds/playlists/PLqtzN042QpfchDXDABJb9yM53OJ_1A0Yk']\n",
        "next_page_list = "
       ]
      },
      {
       "output_type": "stream",
       "stream": "stdout",
       "text": [
        " [u'https://gdata.youtube.com/feeds/playlists/PLqtzN042QpfchDXDABJb9yM53OJ_1A0Yk?alt=json&start-index=26&max-results=25']\n",
        "next_page_list = "
       ]
      },
      {
       "output_type": "stream",
       "stream": "stdout",
       "text": [
        " []\n",
        "next_page_list = "
       ]
      },
      {
       "output_type": "stream",
       "stream": "stdout",
       "text": [
        " ['https://gdata.youtube.com/feeds/users/EnthoughtMedia/uploads/']\n",
        "next_page_list = "
       ]
      },
      {
       "output_type": "stream",
       "stream": "stdout",
       "text": [
        " [u'https://gdata.youtube.com/feeds/users/EnthoughtMedia/uploads?alt=json&start-index=26&max-results=25']\n",
        "next_page_list = "
       ]
      },
      {
       "output_type": "stream",
       "stream": "stdout",
       "text": [
        " [u'https://gdata.youtube.com/feeds/users/EnthoughtMedia/uploads?alt=json&start-index=51&max-results=25']\n",
        "next_page_list = "
       ]
      },
      {
       "output_type": "stream",
       "stream": "stdout",
       "text": [
        " [u'https://gdata.youtube.com/feeds/users/EnthoughtMedia/uploads?alt=json&start-index=76&max-results=25']\n",
        "next_page_list = "
       ]
      },
      {
       "output_type": "stream",
       "stream": "stdout",
       "text": [
        " [u'https://gdata.youtube.com/feeds/users/EnthoughtMedia/uploads?alt=json&start-index=101&max-results=25']\n",
        "next_page_list = "
       ]
      },
      {
       "output_type": "stream",
       "stream": "stdout",
       "text": [
        " [u'https://gdata.youtube.com/feeds/users/EnthoughtMedia/uploads?alt=json&start-index=126&max-results=25']\n",
        "next_page_list = "
       ]
      },
      {
       "output_type": "stream",
       "stream": "stdout",
       "text": [
        " [u'https://gdata.youtube.com/feeds/users/EnthoughtMedia/uploads?alt=json&start-index=151&max-results=25']\n",
        "next_page_list = "
       ]
      },
      {
       "output_type": "stream",
       "stream": "stdout",
       "text": [
        " [u'https://gdata.youtube.com/feeds/users/EnthoughtMedia/uploads?alt=json&start-index=176&max-results=25']\n",
        "next_page_list = "
       ]
      },
      {
       "output_type": "stream",
       "stream": "stdout",
       "text": [
        " [u'https://gdata.youtube.com/feeds/users/EnthoughtMedia/uploads?alt=json&start-index=201&max-results=25']\n",
        "next_page_list = "
       ]
      },
      {
       "output_type": "stream",
       "stream": "stdout",
       "text": [
        " [u'https://gdata.youtube.com/feeds/users/EnthoughtMedia/uploads?alt=json&start-index=226&max-results=25']\n",
        "next_page_list = "
       ]
      },
      {
       "output_type": "stream",
       "stream": "stdout",
       "text": [
        " [u'https://gdata.youtube.com/feeds/users/EnthoughtMedia/uploads?alt=json&start-index=251&max-results=25']\n",
        "next_page_list = "
       ]
      },
      {
       "output_type": "stream",
       "stream": "stdout",
       "text": [
        " [u'https://gdata.youtube.com/feeds/users/EnthoughtMedia/uploads?alt=json&start-index=276&max-results=25']\n",
        "next_page_list = "
       ]
      },
      {
       "output_type": "stream",
       "stream": "stdout",
       "text": [
        " [u'https://gdata.youtube.com/feeds/users/EnthoughtMedia/uploads?alt=json&start-index=301&max-results=25']\n",
        "next_page_list = "
       ]
      },
      {
       "output_type": "stream",
       "stream": "stdout",
       "text": [
        " []\n",
        "next_page_list =  ['https://gdata.youtube.com/feeds/users/EnthoughtMedia/playlists/']\n",
        "next_page_list = "
       ]
      },
      {
       "output_type": "stream",
       "stream": "stdout",
       "text": [
        " []\n",
        "next_page_list =  ['https://gdata.youtube.com/feeds/playlists/PLYx7XA2nY5GfavGAILg08spnrR7QWLimi']\n",
        "next_page_list = "
       ]
      },
      {
       "output_type": "stream",
       "stream": "stdout",
       "text": [
        " []\n",
        "next_page_list = "
       ]
      },
      {
       "output_type": "stream",
       "stream": "stdout",
       "text": [
        " ['https://gdata.youtube.com/feeds/playlists/PLYx7XA2nY5Gczod-4oJbrPdiCn1YCgq9Z']\n",
        "next_page_list = "
       ]
      },
      {
       "output_type": "stream",
       "stream": "stdout",
       "text": [
        " []\n",
        "next_page_list = "
       ]
      },
      {
       "output_type": "stream",
       "stream": "stdout",
       "text": [
        " ['https://gdata.youtube.com/feeds/playlists/PLYx7XA2nY5GdwD2FMEhuNKD8yAgWL0SR3']\n",
        "next_page_list = "
       ]
      },
      {
       "output_type": "stream",
       "stream": "stdout",
       "text": [
        " []\n",
        "next_page_list = "
       ]
      },
      {
       "output_type": "stream",
       "stream": "stdout",
       "text": [
        " ['https://gdata.youtube.com/feeds/playlists/PLYx7XA2nY5GeFmvlFLGZWLjMhqTD-01PM']\n",
        "next_page_list = "
       ]
      },
      {
       "output_type": "stream",
       "stream": "stdout",
       "text": [
        " []\n",
        "next_page_list = "
       ]
      },
      {
       "output_type": "stream",
       "stream": "stdout",
       "text": [
        " ['https://gdata.youtube.com/feeds/playlists/PLYx7XA2nY5GfuhCvStxgbynFNrxr3VFog']\n",
        "next_page_list = "
       ]
      },
      {
       "output_type": "stream",
       "stream": "stdout",
       "text": [
        " [u'https://gdata.youtube.com/feeds/playlists/PLYx7XA2nY5GfuhCvStxgbynFNrxr3VFog?alt=json&start-index=26&max-results=25']\n",
        "next_page_list = "
       ]
      },
      {
       "output_type": "stream",
       "stream": "stdout",
       "text": [
        " [u'https://gdata.youtube.com/feeds/playlists/PLYx7XA2nY5GfuhCvStxgbynFNrxr3VFog?alt=json&start-index=51&max-results=25']\n",
        "next_page_list = "
       ]
      },
      {
       "output_type": "stream",
       "stream": "stdout",
       "text": [
        " [u'https://gdata.youtube.com/feeds/playlists/PLYx7XA2nY5GfuhCvStxgbynFNrxr3VFog?alt=json&start-index=76&max-results=25']\n",
        "next_page_list = "
       ]
      },
      {
       "output_type": "stream",
       "stream": "stdout",
       "text": [
        " [u'https://gdata.youtube.com/feeds/playlists/PLYx7XA2nY5GfuhCvStxgbynFNrxr3VFog?alt=json&start-index=101&max-results=25']\n",
        "next_page_list = "
       ]
      },
      {
       "output_type": "stream",
       "stream": "stdout",
       "text": [
        " []\n",
        "next_page_list = "
       ]
      },
      {
       "output_type": "stream",
       "stream": "stdout",
       "text": [
        " ['https://gdata.youtube.com/feeds/playlists/FLkhm72fuzkS9fYGlGpEmj7A']\n",
        "next_page_list = "
       ]
      },
      {
       "output_type": "stream",
       "stream": "stdout",
       "text": [
        " []\n",
        "next_page_list = "
       ]
      },
      {
       "output_type": "stream",
       "stream": "stdout",
       "text": [
        " ['https://gdata.youtube.com/feeds/users/sentdex/uploads/']\n",
        "next_page_list = "
       ]
      },
      {
       "output_type": "stream",
       "stream": "stdout",
       "text": [
        " [u'https://gdata.youtube.com/feeds/users/sentdex/uploads?alt=json&start-index=26&max-results=25']\n",
        "next_page_list = "
       ]
      },
      {
       "output_type": "stream",
       "stream": "stdout",
       "text": [
        " [u'https://gdata.youtube.com/feeds/users/sentdex/uploads?alt=json&start-index=51&max-results=25']\n",
        "next_page_list = "
       ]
      },
      {
       "output_type": "stream",
       "stream": "stdout",
       "text": [
        " [u'https://gdata.youtube.com/feeds/users/sentdex/uploads?alt=json&start-index=76&max-results=25']\n",
        "next_page_list = "
       ]
      },
      {
       "output_type": "stream",
       "stream": "stdout",
       "text": [
        " [u'https://gdata.youtube.com/feeds/users/sentdex/uploads?alt=json&start-index=101&max-results=25']\n",
        "next_page_list = "
       ]
      },
      {
       "output_type": "stream",
       "stream": "stdout",
       "text": [
        " [u'https://gdata.youtube.com/feeds/users/sentdex/uploads?alt=json&start-index=126&max-results=25']\n",
        "next_page_list = "
       ]
      },
      {
       "output_type": "stream",
       "stream": "stdout",
       "text": [
        " [u'https://gdata.youtube.com/feeds/users/sentdex/uploads?alt=json&start-index=151&max-results=25']\n",
        "next_page_list = "
       ]
      },
      {
       "output_type": "stream",
       "stream": "stdout",
       "text": [
        " [u'https://gdata.youtube.com/feeds/users/sentdex/uploads?alt=json&start-index=176&max-results=25']\n",
        "next_page_list = "
       ]
      },
      {
       "output_type": "stream",
       "stream": "stdout",
       "text": [
        " [u'https://gdata.youtube.com/feeds/users/sentdex/uploads?alt=json&start-index=201&max-results=25']\n",
        "next_page_list = "
       ]
      },
      {
       "output_type": "stream",
       "stream": "stdout",
       "text": [
        " [u'https://gdata.youtube.com/feeds/users/sentdex/uploads?alt=json&start-index=226&max-results=25']\n",
        "next_page_list = "
       ]
      },
      {
       "output_type": "stream",
       "stream": "stdout",
       "text": [
        " [u'https://gdata.youtube.com/feeds/users/sentdex/uploads?alt=json&start-index=251&max-results=25']\n",
        "next_page_list = "
       ]
      },
      {
       "output_type": "stream",
       "stream": "stdout",
       "text": [
        " [u'https://gdata.youtube.com/feeds/users/sentdex/uploads?alt=json&start-index=276&max-results=25']\n",
        "next_page_list = "
       ]
      },
      {
       "output_type": "stream",
       "stream": "stdout",
       "text": [
        " [u'https://gdata.youtube.com/feeds/users/sentdex/uploads?alt=json&start-index=301&max-results=25']\n",
        "next_page_list = "
       ]
      },
      {
       "output_type": "stream",
       "stream": "stdout",
       "text": [
        " [u'https://gdata.youtube.com/feeds/users/sentdex/uploads?alt=json&start-index=326&max-results=25']\n",
        "next_page_list = "
       ]
      },
      {
       "output_type": "stream",
       "stream": "stdout",
       "text": [
        " [u'https://gdata.youtube.com/feeds/users/sentdex/uploads?alt=json&start-index=351&max-results=25']\n",
        "next_page_list = "
       ]
      },
      {
       "output_type": "stream",
       "stream": "stdout",
       "text": [
        " [u'https://gdata.youtube.com/feeds/users/sentdex/uploads?alt=json&start-index=376&max-results=25']\n",
        "next_page_list = "
       ]
      },
      {
       "output_type": "stream",
       "stream": "stdout",
       "text": [
        " [u'https://gdata.youtube.com/feeds/users/sentdex/uploads?alt=json&start-index=401&max-results=25']\n",
        "next_page_list = "
       ]
      },
      {
       "output_type": "stream",
       "stream": "stdout",
       "text": [
        " [u'https://gdata.youtube.com/feeds/users/sentdex/uploads?alt=json&start-index=426&max-results=25']\n",
        "next_page_list = "
       ]
      },
      {
       "output_type": "stream",
       "stream": "stdout",
       "text": [
        " [u'https://gdata.youtube.com/feeds/users/sentdex/uploads?alt=json&start-index=451&max-results=25']\n",
        "next_page_list = "
       ]
      },
      {
       "output_type": "stream",
       "stream": "stdout",
       "text": [
        " [u'https://gdata.youtube.com/feeds/users/sentdex/uploads?alt=json&start-index=476&max-results=25']\n",
        "next_page_list = "
       ]
      },
      {
       "output_type": "stream",
       "stream": "stdout",
       "text": [
        " [u'https://gdata.youtube.com/feeds/users/sentdex/uploads?alt=json&start-index=501&max-results=25']\n",
        "next_page_list = "
       ]
      },
      {
       "output_type": "stream",
       "stream": "stdout",
       "text": [
        " [u'https://gdata.youtube.com/feeds/users/sentdex/uploads?alt=json&start-index=526&max-results=25']\n",
        "next_page_list = "
       ]
      },
      {
       "output_type": "stream",
       "stream": "stdout",
       "text": [
        " [u'https://gdata.youtube.com/feeds/users/sentdex/uploads?alt=json&start-index=551&max-results=25']\n",
        "next_page_list = "
       ]
      },
      {
       "output_type": "stream",
       "stream": "stdout",
       "text": [
        " [u'https://gdata.youtube.com/feeds/users/sentdex/uploads?alt=json&start-index=576&max-results=25']\n",
        "next_page_list = "
       ]
      },
      {
       "output_type": "stream",
       "stream": "stdout",
       "text": [
        " [u'https://gdata.youtube.com/feeds/users/sentdex/uploads?alt=json&start-index=601&max-results=25']\n",
        "next_page_list = "
       ]
      },
      {
       "output_type": "stream",
       "stream": "stdout",
       "text": [
        " [u'https://gdata.youtube.com/feeds/users/sentdex/uploads?alt=json&start-index=626&max-results=25']\n",
        "next_page_list = "
       ]
      },
      {
       "output_type": "stream",
       "stream": "stdout",
       "text": [
        " []\n",
        "next_page_list =  ['https://gdata.youtube.com/feeds/users/sentdex/playlists/']\n",
        "next_page_list = "
       ]
      },
      {
       "output_type": "stream",
       "stream": "stdout",
       "text": [
        " [u'https://gdata.youtube.com/feeds/users/sentdex/playlists?alt=json&start-index=26&max-results=25']\n",
        "next_page_list = "
       ]
      },
      {
       "output_type": "stream",
       "stream": "stdout",
       "text": [
        " []\n",
        "next_page_list =  ['https://gdata.youtube.com/feeds/playlists/PLQVvvaa0QuDclKx-QpC9wntnURXVJqLyk']\n",
        "next_page_list = "
       ]
      },
      {
       "output_type": "stream",
       "stream": "stdout",
       "text": [
        " []\n",
        "next_page_list = "
       ]
      },
      {
       "output_type": "stream",
       "stream": "stdout",
       "text": [
        " ['https://gdata.youtube.com/feeds/playlists/PLQVvvaa0QuDcOS4l8RCWh0olq_je0OKaP']\n",
        "next_page_list = "
       ]
      },
      {
       "output_type": "stream",
       "stream": "stdout",
       "text": [
        " []\n",
        "next_page_list = "
       ]
      },
      {
       "output_type": "stream",
       "stream": "stdout",
       "text": [
        " ['https://gdata.youtube.com/feeds/playlists/PLQVvvaa0QuDdLkP8MrOXLe_rKuf6r80KO']\n",
        "next_page_list = "
       ]
      },
      {
       "output_type": "stream",
       "stream": "stdout",
       "text": [
        " []\n",
        "next_page_list = "
       ]
      },
      {
       "output_type": "stream",
       "stream": "stdout",
       "text": [
        " ['https://gdata.youtube.com/feeds/playlists/PLQVvvaa0QuDfHt4XU7vTm22xDegR0v0fQ']\n",
        "next_page_list = "
       ]
      },
      {
       "output_type": "stream",
       "stream": "stdout",
       "text": [
        " []\n",
        "next_page_list = "
       ]
      },
      {
       "output_type": "stream",
       "stream": "stdout",
       "text": [
        " ['https://gdata.youtube.com/feeds/playlists/PLQVvvaa0QuDeCRnenZ7_uAQjT2LBTVB1p']\n",
        "next_page_list = "
       ]
      },
      {
       "output_type": "stream",
       "stream": "stdout",
       "text": [
        " []\n",
        "next_page_list = "
       ]
      },
      {
       "output_type": "stream",
       "stream": "stdout",
       "text": [
        " ['https://gdata.youtube.com/feeds/playlists/PLQVvvaa0QuDcOkhgRiBdaJ_2Tt7SZC6Xe']\n",
        "next_page_list = "
       ]
      },
      {
       "output_type": "stream",
       "stream": "stdout",
       "text": [
        " []\n",
        "next_page_list = "
       ]
      },
      {
       "output_type": "stream",
       "stream": "stdout",
       "text": [
        " ['https://gdata.youtube.com/feeds/playlists/PLQVvvaa0QuDdktuSQRsofoGxC2PTSdsi7']\n",
        "next_page_list = "
       ]
      },
      {
       "output_type": "stream",
       "stream": "stdout",
       "text": [
        " []\n",
        "next_page_list = "
       ]
      },
      {
       "output_type": "stream",
       "stream": "stdout",
       "text": [
        " ['https://gdata.youtube.com/feeds/playlists/PLQVvvaa0QuDeJlgD1RX9_49tMLUxvIxF4']\n",
        "next_page_list = "
       ]
      },
      {
       "output_type": "stream",
       "stream": "stdout",
       "text": [
        " []\n",
        "next_page_list = "
       ]
      },
      {
       "output_type": "stream",
       "stream": "stdout",
       "text": [
        " ['https://gdata.youtube.com/feeds/playlists/PLQVvvaa0QuDdhOnp-FnVStDsALpYk2hk0']\n",
        "next_page_list = "
       ]
      },
      {
       "output_type": "stream",
       "stream": "stdout",
       "text": [
        " []\n",
        "next_page_list = "
       ]
      },
      {
       "output_type": "stream",
       "stream": "stdout",
       "text": [
        " ['https://gdata.youtube.com/feeds/playlists/PLQVvvaa0QuDf9IW-fe6No8SCw-aVnCfRi']\n",
        "next_page_list = "
       ]
      },
      {
       "output_type": "stream",
       "stream": "stdout",
       "text": [
        " []\n",
        "next_page_list = "
       ]
      },
      {
       "output_type": "stream",
       "stream": "stdout",
       "text": [
        " ['https://gdata.youtube.com/feeds/playlists/PLQVvvaa0QuDcq2QME4pfeh0cE71mkb_qz']\n",
        "next_page_list = "
       ]
      },
      {
       "output_type": "stream",
       "stream": "stdout",
       "text": [
        " []\n",
        "next_page_list = "
       ]
      },
      {
       "output_type": "stream",
       "stream": "stdout",
       "text": [
        " ['https://gdata.youtube.com/feeds/playlists/PLQVvvaa0QuDe8XSftW-RAxdo6OmaeL85M']\n",
        "next_page_list = "
       ]
      },
      {
       "output_type": "stream",
       "stream": "stdout",
       "text": [
        " [u'https://gdata.youtube.com/feeds/playlists/PLQVvvaa0QuDe8XSftW-RAxdo6OmaeL85M?alt=json&start-index=26&max-results=25']\n",
        "next_page_list = "
       ]
      },
      {
       "output_type": "stream",
       "stream": "stdout",
       "text": [
        " [u'https://gdata.youtube.com/feeds/playlists/PLQVvvaa0QuDe8XSftW-RAxdo6OmaeL85M?alt=json&start-index=51&max-results=25']\n",
        "next_page_list = "
       ]
      },
      {
       "output_type": "stream",
       "stream": "stdout",
       "text": [
        " []\n",
        "next_page_list = "
       ]
      },
      {
       "output_type": "stream",
       "stream": "stdout",
       "text": [
        " ['https://gdata.youtube.com/feeds/playlists/PLQVvvaa0QuDebbCxrDPCux6SzC1RET4mF']\n",
        "next_page_list = "
       ]
      },
      {
       "output_type": "stream",
       "stream": "stdout",
       "text": [
        " [u'https://gdata.youtube.com/feeds/playlists/PLQVvvaa0QuDebbCxrDPCux6SzC1RET4mF?alt=json&start-index=26&max-results=25']\n",
        "next_page_list = "
       ]
      },
      {
       "output_type": "stream",
       "stream": "stdout",
       "text": [
        " []\n",
        "next_page_list = "
       ]
      },
      {
       "output_type": "stream",
       "stream": "stdout",
       "text": [
        " ['https://gdata.youtube.com/feeds/playlists/PLQVvvaa0QuDdOmhRb_AHkhHv7aBfHalhX']\n",
        "next_page_list = "
       ]
      },
      {
       "output_type": "stream",
       "stream": "stdout",
       "text": [
        " [u'https://gdata.youtube.com/feeds/playlists/PLQVvvaa0QuDdOmhRb_AHkhHv7aBfHalhX?alt=json&start-index=26&max-results=25']\n",
        "next_page_list = "
       ]
      },
      {
       "output_type": "stream",
       "stream": "stdout",
       "text": [
        " [u'https://gdata.youtube.com/feeds/playlists/PLQVvvaa0QuDdOmhRb_AHkhHv7aBfHalhX?alt=json&start-index=51&max-results=25']\n",
        "next_page_list = "
       ]
      },
      {
       "output_type": "stream",
       "stream": "stdout",
       "text": [
        " []\n",
        "next_page_list = "
       ]
      },
      {
       "output_type": "stream",
       "stream": "stdout",
       "text": [
        " ['https://gdata.youtube.com/feeds/playlists/PLQVvvaa0QuDerJ6zgyBIsJZMk8w4hZb1A']\n",
        "next_page_list = "
       ]
      },
      {
       "output_type": "stream",
       "stream": "stdout",
       "text": [
        " []\n",
        "next_page_list = "
       ]
      },
      {
       "output_type": "stream",
       "stream": "stdout",
       "text": [
        " ['https://gdata.youtube.com/feeds/playlists/PLQVvvaa0QuDcxG_Cajz1JyTH6eAvka93C']\n",
        "next_page_list = "
       ]
      },
      {
       "output_type": "stream",
       "stream": "stdout",
       "text": [
        " []\n",
        "next_page_list = "
       ]
      },
      {
       "output_type": "stream",
       "stream": "stdout",
       "text": [
        " ['https://gdata.youtube.com/feeds/playlists/PLQVvvaa0QuDffXBfcH9ZJuvctJV3OtB8A']\n",
        "next_page_list = "
       ]
      },
      {
       "output_type": "stream",
       "stream": "stdout",
       "text": [
        " []\n",
        "next_page_list = "
       ]
      },
      {
       "output_type": "stream",
       "stream": "stdout",
       "text": [
        " ['https://gdata.youtube.com/feeds/playlists/FLfzlCWGWYyIQ0aLC5w48gBQ']\n"
       ]
      },
      {
       "ename": "KeyError",
       "evalue": "'entry'",
       "output_type": "pyerr",
       "traceback": [
        "\u001b[1;31m---------------------------------------------------------------------------\u001b[0m\n\u001b[1;31mKeyError\u001b[0m                                  Traceback (most recent call last)",
        "\u001b[1;32m<ipython-input-9-c2daca7197a4>\u001b[0m in \u001b[0;36m<module>\u001b[1;34m()\u001b[0m\n\u001b[1;32m----> 1\u001b[1;33m \u001b[0mmap\u001b[0m\u001b[1;33m(\u001b[0m\u001b[0mcrawlers\u001b[0m\u001b[1;33m.\u001b[0m\u001b[0mupdate_youtube_channel_data_to_mongo\u001b[0m\u001b[1;33m,\u001b[0m \u001b[0mupdate_channel_ids_list\u001b[0m\u001b[1;33m)\u001b[0m\u001b[1;33m\u001b[0m\u001b[0m\n\u001b[0m",
        "\u001b[1;32m/home/c3h3/.pyenv/versions/py278/lib/python2.7/site-packages/pycrawler-0.0.1dev-py2.7.egg/pycrawlers/examples/youtube/crawlers.pyc\u001b[0m in \u001b[0;36mupdate_youtube_channel_data_to_mongo\u001b[1;34m(one_channel_id, yt_video_collection, yt_playlist_collection, yt_channel_collection)\u001b[0m\n\u001b[0;32m    187\u001b[0m \u001b[1;33m\u001b[0m\u001b[0m\n\u001b[0;32m    188\u001b[0m     \u001b[0mvideo_data\u001b[0m \u001b[1;33m=\u001b[0m \u001b[0mcrawl_channel_uploads\u001b[0m\u001b[1;33m(\u001b[0m\u001b[0mone_channel_id\u001b[0m\u001b[1;33m)\u001b[0m\u001b[1;33m\u001b[0m\u001b[0m\n\u001b[1;32m--> 189\u001b[1;33m     \u001b[0mplaylist_data\u001b[0m \u001b[1;33m=\u001b[0m \u001b[0mcrawl_channel_playlists_data\u001b[0m\u001b[1;33m(\u001b[0m\u001b[0mone_channel_id\u001b[0m\u001b[1;33m)\u001b[0m\u001b[1;33m\u001b[0m\u001b[0m\n\u001b[0m\u001b[0;32m    190\u001b[0m \u001b[1;33m\u001b[0m\u001b[0m\n\u001b[0;32m    191\u001b[0m     \u001b[0mvideo_data\u001b[0m \u001b[1;33m=\u001b[0m \u001b[0mmap\u001b[0m\u001b[1;33m(\u001b[0m\u001b[0mset_video_mongo_data\u001b[0m\u001b[1;33m,\u001b[0m \u001b[0mvideo_data\u001b[0m\u001b[1;33m)\u001b[0m\u001b[1;33m\u001b[0m\u001b[0m\n",
        "\u001b[1;32m/home/c3h3/.pyenv/versions/py278/lib/python2.7/site-packages/pycrawler-0.0.1dev-py2.7.egg/pycrawlers/examples/youtube/crawlers.pyc\u001b[0m in \u001b[0;36mcrawl_channel_playlists_data\u001b[1;34m(channel_id)\u001b[0m\n\u001b[0;32m    140\u001b[0m \u001b[1;32mdef\u001b[0m \u001b[0mcrawl_channel_playlists_data\u001b[0m\u001b[1;33m(\u001b[0m\u001b[0mchannel_id\u001b[0m\u001b[1;33m)\u001b[0m\u001b[1;33m:\u001b[0m\u001b[1;33m\u001b[0m\u001b[0m\n\u001b[0;32m    141\u001b[0m     \u001b[0mytcrawler\u001b[0m \u001b[1;33m=\u001b[0m \u001b[0mYoutubeChannelOpenData\u001b[0m\u001b[1;33m(\u001b[0m\u001b[0mchannel_id\u001b[0m\u001b[1;33m=\u001b[0m\u001b[0mchannel_id\u001b[0m\u001b[1;33m)\u001b[0m\u001b[1;33m\u001b[0m\u001b[0m\n\u001b[1;32m--> 142\u001b[1;33m     \u001b[1;32mreturn\u001b[0m \u001b[0mytcrawler\u001b[0m\u001b[1;33m.\u001b[0m\u001b[0mget_all_playlist_all_video_ids\u001b[0m\u001b[1;33m(\u001b[0m\u001b[1;33m)\u001b[0m\u001b[1;33m\u001b[0m\u001b[0m\n\u001b[0m\u001b[0;32m    143\u001b[0m \u001b[1;33m\u001b[0m\u001b[0m\n\u001b[0;32m    144\u001b[0m \u001b[1;33m\u001b[0m\u001b[0m\n",
        "\u001b[1;32m/home/c3h3/.pyenv/versions/py278/lib/python2.7/site-packages/pycrawler-0.0.1dev-py2.7.egg/pycrawlers/examples/youtube/crawlers.pyc\u001b[0m in \u001b[0;36mget_all_playlist_all_video_ids\u001b[1;34m(self)\u001b[0m\n\u001b[0;32m    126\u001b[0m         \u001b[1;32mfor\u001b[0m \u001b[0mone_id\u001b[0m \u001b[1;32min\u001b[0m \u001b[0mall_playlist_ids\u001b[0m\u001b[1;33m:\u001b[0m\u001b[1;33m\u001b[0m\u001b[0m\n\u001b[0;32m    127\u001b[0m             one_playlisy_data = {\"playlist_id\":one_id,\n\u001b[1;32m--> 128\u001b[1;33m                                  \"video_ids\":self.get_one_playlist_all_video_ids(one_id)}\n\u001b[0m\u001b[0;32m    129\u001b[0m             \u001b[0mone_playlisy_data\u001b[0m\u001b[1;33m.\u001b[0m\u001b[0mupdate\u001b[0m\u001b[1;33m(\u001b[0m\u001b[0mself\u001b[0m\u001b[1;33m.\u001b[0m\u001b[0mget_one_playlist_meta_data\u001b[0m\u001b[1;33m(\u001b[0m\u001b[0mone_id\u001b[0m\u001b[1;33m)\u001b[0m\u001b[1;33m)\u001b[0m\u001b[1;33m\u001b[0m\u001b[0m\n\u001b[0;32m    130\u001b[0m             \u001b[0mresults\u001b[0m\u001b[1;33m.\u001b[0m\u001b[0mappend\u001b[0m\u001b[1;33m(\u001b[0m\u001b[0mone_playlisy_data\u001b[0m\u001b[1;33m)\u001b[0m\u001b[1;33m\u001b[0m\u001b[0m\n",
        "\u001b[1;32m/home/c3h3/.pyenv/versions/py278/lib/python2.7/site-packages/pycrawler-0.0.1dev-py2.7.egg/pycrawlers/examples/youtube/crawlers.pyc\u001b[0m in \u001b[0;36mget_one_playlist_all_video_ids\u001b[1;34m(self, playlist_id, entry_parser)\u001b[0m\n\u001b[0;32m    104\u001b[0m             \u001b[0mplaylist_data\u001b[0m \u001b[1;33m=\u001b[0m \u001b[0mself\u001b[0m\u001b[1;33m.\u001b[0m\u001b[0m_get_data\u001b[0m\u001b[1;33m(\u001b[0m\u001b[0mnext_page_list\u001b[0m\u001b[1;33m[\u001b[0m\u001b[1;36m0\u001b[0m\u001b[1;33m]\u001b[0m\u001b[1;33m)\u001b[0m\u001b[1;33m\u001b[0m\u001b[0m\n\u001b[0;32m    105\u001b[0m \u001b[1;33m\u001b[0m\u001b[0m\n\u001b[1;32m--> 106\u001b[1;33m             \u001b[0mall_video_ids_list\u001b[0m\u001b[1;33m.\u001b[0m\u001b[0mextend\u001b[0m\u001b[1;33m(\u001b[0m\u001b[0mmap\u001b[0m\u001b[1;33m(\u001b[0m\u001b[0mentry_parser\u001b[0m\u001b[1;33m,\u001b[0m \u001b[0mplaylist_data\u001b[0m\u001b[1;33m[\u001b[0m\u001b[1;34m\"feed\"\u001b[0m\u001b[1;33m]\u001b[0m\u001b[1;33m[\u001b[0m\u001b[1;34m\"entry\"\u001b[0m\u001b[1;33m]\u001b[0m\u001b[1;33m)\u001b[0m\u001b[1;33m)\u001b[0m\u001b[1;33m\u001b[0m\u001b[0m\n\u001b[0m\u001b[0;32m    107\u001b[0m             \u001b[0mnext_page_list\u001b[0m \u001b[1;33m=\u001b[0m \u001b[1;33m[\u001b[0m\u001b[0mxx\u001b[0m\u001b[1;33m[\u001b[0m\u001b[1;34m\"href\"\u001b[0m\u001b[1;33m]\u001b[0m \u001b[1;32mfor\u001b[0m \u001b[0mxx\u001b[0m \u001b[1;32min\u001b[0m \u001b[0mplaylist_data\u001b[0m\u001b[1;33m[\u001b[0m\u001b[1;34m\"feed\"\u001b[0m\u001b[1;33m]\u001b[0m\u001b[1;33m[\u001b[0m\u001b[1;34m\"link\"\u001b[0m\u001b[1;33m]\u001b[0m \u001b[1;32mif\u001b[0m \u001b[0mxx\u001b[0m\u001b[1;33m[\u001b[0m\u001b[1;34m\"rel\"\u001b[0m\u001b[1;33m]\u001b[0m \u001b[1;33m==\u001b[0m \u001b[1;34m\"next\"\u001b[0m\u001b[1;33m]\u001b[0m\u001b[1;33m\u001b[0m\u001b[0m\n\u001b[0;32m    108\u001b[0m             \u001b[1;32mprint\u001b[0m \u001b[1;34m\"next_page_list = \"\u001b[0m\u001b[1;33m,\u001b[0m\u001b[0mnext_page_list\u001b[0m\u001b[1;33m\u001b[0m\u001b[0m\n",
        "\u001b[1;31mKeyError\u001b[0m: 'entry'"
       ]
      }
     ],
     "prompt_number": 9
    },
    {
     "cell_type": "code",
     "collapsed": false,
     "input": [],
     "language": "python",
     "metadata": {},
     "outputs": []
    }
   ],
   "metadata": {}
  }
 ]
}