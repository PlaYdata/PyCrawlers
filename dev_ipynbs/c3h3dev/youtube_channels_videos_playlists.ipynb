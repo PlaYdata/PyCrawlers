{
 "metadata": {
  "name": "",
  "signature": "sha256:ba683df4f1a0e3b2af4683bc9c54531a664f93029bc2729db816ee848d5c4bd4"
 },
 "nbformat": 3,
 "nbformat_minor": 0,
 "worksheets": [
  {
   "cells": [
    {
     "cell_type": "code",
     "collapsed": false,
     "input": [
      "import requests\n",
      "\n",
      "try:\n",
      "    import ujson as json \n",
      "except:\n",
      "    import json"
     ],
     "language": "python",
     "metadata": {},
     "outputs": [],
     "prompt_number": 1
    },
    {
     "cell_type": "code",
     "collapsed": false,
     "input": [
      "test_channel_ids_list = [\"thecoscup\", \"TWuseRGroup\"]"
     ],
     "language": "python",
     "metadata": {},
     "outputs": [],
     "prompt_number": 2
    },
    {
     "cell_type": "code",
     "collapsed": false,
     "input": [],
     "language": "python",
     "metadata": {},
     "outputs": [],
     "prompt_number": 2
    },
    {
     "cell_type": "code",
     "collapsed": false,
     "input": [
      "\n",
      "channel_id = test_channel_ids_list[0]\n",
      "\n",
      "r = requests.get(\"https://gdata.youtube.com/feeds/users/TWuseRGroup\",params={\"alt\":\"json\"})"
     ],
     "language": "python",
     "metadata": {},
     "outputs": [],
     "prompt_number": 3
    },
    {
     "cell_type": "code",
     "collapsed": false,
     "input": [
      "data = json.loads(r.text)"
     ],
     "language": "python",
     "metadata": {},
     "outputs": [],
     "prompt_number": 4
    },
    {
     "cell_type": "code",
     "collapsed": false,
     "input": [
      "print data[\"entry\"][\"author\"][0][\"name\"][\"$t\"]\n",
      "\n",
      "data[\"entry\"][\"gd$feedLink\"]"
     ],
     "language": "python",
     "metadata": {},
     "outputs": [
      {
       "output_type": "stream",
       "stream": "stdout",
       "text": [
        "TW use-R\n"
       ]
      },
      {
       "metadata": {},
       "output_type": "pyout",
       "prompt_number": 5,
       "text": [
        "[{u'countHint': 9,\n",
        "  u'href': u'https://gdata.youtube.com/feeds/users/twusergroup/subscriptions',\n",
        "  u'rel': u'http://gdata.youtube.com/schemas/2007#user.subscriptions'},\n",
        " {u'countHint': 0,\n",
        "  u'href': u'https://gdata.youtube.com/feeds/users/twusergroup/contacts',\n",
        "  u'rel': u'http://gdata.youtube.com/schemas/2007#user.contacts'},\n",
        " {u'href': u'https://gdata.youtube.com/feeds/users/twusergroup/inbox',\n",
        "  u'rel': u'http://gdata.youtube.com/schemas/2007#user.inbox'},\n",
        " {u'href': u'https://gdata.youtube.com/feeds/users/twusergroup/playlists',\n",
        "  u'rel': u'http://gdata.youtube.com/schemas/2007#user.playlists'},\n",
        " {u'countHint': 237,\n",
        "  u'href': u'https://gdata.youtube.com/feeds/users/twusergroup/uploads',\n",
        "  u'rel': u'http://gdata.youtube.com/schemas/2007#user.uploads'},\n",
        " {u'href': u'https://gdata.youtube.com/feeds/api/users/twusergroup/newsubscriptionvideos',\n",
        "  u'rel': u'http://gdata.youtube.com/schemas/2007#user.newsubscriptionvideos'}]"
       ]
      }
     ],
     "prompt_number": 5
    },
    {
     "cell_type": "code",
     "collapsed": false,
     "input": [],
     "language": "python",
     "metadata": {},
     "outputs": [],
     "prompt_number": 5
    },
    {
     "cell_type": "code",
     "collapsed": false,
     "input": [
      "class YoutubeChannelOpenData(object):\n",
      "    def __init__(self, channel_id, datatype=\"json\"):\n",
      "        \n",
      "        assert datatype in [\"xml\", \"json\"], 'datatype must in [\"xml\", \"json\"]'\n",
      "        \n",
      "        self.channel_id = channel_id\n",
      "        self.datatype = datatype\n",
      "        \n",
      "    \n",
      "    def get_data(self, datafeed_url):\n",
      "        if self.datatype == \"json\":\n",
      "            return json.loads(requests.get(datafeed_url, params={\"alt\":\"json\"}))\n",
      "        else:\n",
      "            return requests.get(datafeed_url)\n",
      "            \n",
      "    \n",
      "    @property\n",
      "    def base_url(self):\n",
      "        return \"https://gdata.youtube.com/feeds/users/{channel_id}\".format(channel_id=self.channel_id)\n",
      "    \n",
      "    \n",
      "    @property\n",
      "    def \n",
      "    \n",
      "    \n",
      "    \n",
      "    "
     ],
     "language": "python",
     "metadata": {},
     "outputs": [
      {
       "ename": "SyntaxError",
       "evalue": "invalid syntax (<ipython-input-6-3f04b9058ac0>, line 23)",
       "output_type": "pyerr",
       "traceback": [
        "\u001b[1;36m  File \u001b[1;32m\"<ipython-input-6-3f04b9058ac0>\"\u001b[1;36m, line \u001b[1;32m23\u001b[0m\n\u001b[1;33m    def\u001b[0m\n\u001b[1;37m        ^\u001b[0m\n\u001b[1;31mSyntaxError\u001b[0m\u001b[1;31m:\u001b[0m invalid syntax\n"
       ]
      }
     ],
     "prompt_number": 6
    },
    {
     "cell_type": "code",
     "collapsed": false,
     "input": [
      "yt_coscup = YoutubeChannelOpenData(\"thecoscup\")"
     ],
     "language": "python",
     "metadata": {},
     "outputs": [],
     "prompt_number": 40
    },
    {
     "cell_type": "code",
     "collapsed": false,
     "input": [
      "yt_coscup.base_url"
     ],
     "language": "python",
     "metadata": {},
     "outputs": [
      {
       "metadata": {},
       "output_type": "pyout",
       "prompt_number": 41,
       "text": [
        "'https://gdata.youtube.com/feeds/users/thecoscup'"
       ]
      }
     ],
     "prompt_number": 41
    },
    {
     "cell_type": "code",
     "collapsed": false,
     "input": [
      "r = requests.get(yt_coscup.base_url, params=yt_coscup.datatype_params)"
     ],
     "language": "python",
     "metadata": {},
     "outputs": [],
     "prompt_number": 42
    },
    {
     "cell_type": "code",
     "collapsed": false,
     "input": [
      "data = json.loads(r.text)"
     ],
     "language": "python",
     "metadata": {},
     "outputs": [],
     "prompt_number": 43
    },
    {
     "cell_type": "code",
     "collapsed": false,
     "input": [
      "data"
     ],
     "language": "python",
     "metadata": {},
     "outputs": [
      {
       "metadata": {},
       "output_type": "pyout",
       "prompt_number": 44,
       "text": [
        "{u'encoding': u'UTF-8',\n",
        " u'entry': {u'author': [{u'name': {u'$t': u'COSCUP \\u958b\\u6e90\\u4eba\\u5e74\\u6703'},\n",
        "    u'uri': {u'$t': u'https://gdata.youtube.com/feeds/users/thecoscup'}}],\n",
        "  u'category': [{u'scheme': u'http://schemas.google.com/g/2005#kind',\n",
        "    u'term': u'http://gdata.youtube.com/schemas/2007#userProfile'}],\n",
        "  u'content': {u'$t': u'The official YouTube channel of the COSCUP conference (http://coscup.org/).',\n",
        "   u'type': u'text'},\n",
        "  u'gd$feedLink': [{u'countHint': 0,\n",
        "    u'href': u'https://gdata.youtube.com/feeds/users/thecoscup/subscriptions',\n",
        "    u'rel': u'http://gdata.youtube.com/schemas/2007#user.subscriptions'},\n",
        "   {u'countHint': 0,\n",
        "    u'href': u'https://gdata.youtube.com/feeds/users/thecoscup/contacts',\n",
        "    u'rel': u'http://gdata.youtube.com/schemas/2007#user.contacts'},\n",
        "   {u'href': u'https://gdata.youtube.com/feeds/users/thecoscup/inbox',\n",
        "    u'rel': u'http://gdata.youtube.com/schemas/2007#user.inbox'},\n",
        "   {u'href': u'https://gdata.youtube.com/feeds/users/thecoscup/playlists',\n",
        "    u'rel': u'http://gdata.youtube.com/schemas/2007#user.playlists'},\n",
        "   {u'countHint': 399,\n",
        "    u'href': u'https://gdata.youtube.com/feeds/users/thecoscup/uploads',\n",
        "    u'rel': u'http://gdata.youtube.com/schemas/2007#user.uploads'},\n",
        "   {u'href': u'https://gdata.youtube.com/feeds/api/users/thecoscup/newsubscriptionvideos',\n",
        "    u'rel': u'http://gdata.youtube.com/schemas/2007#user.newsubscriptionvideos'}],\n",
        "  u'id': {u'$t': u'http://gdata.youtube.com/feeds/users/U8s-nDqbsKnitUNaVJ2Xvg'},\n",
        "  u'link': [{u'href': u'https://www.youtube.com/channel/UCU8s-nDqbsKnitUNaVJ2Xvg',\n",
        "    u'rel': u'alternate',\n",
        "    u'type': u'text/html'},\n",
        "   {u'href': u'https://gdata.youtube.com/feeds/users/U8s-nDqbsKnitUNaVJ2Xvg',\n",
        "    u'rel': u'self',\n",
        "    u'type': u'application/atom+xml'}],\n",
        "  u'media$thumbnail': {u'url': u'https://yt3.ggpht.com/-bTJhaitz7aA/AAAAAAAAAAI/AAAAAAAAAAA/JyUlBt6Y-us/s88-c-k-no/photo.jpg'},\n",
        "  u'published': {u'$t': u'2012-03-26T15:15:15.000Z'},\n",
        "  u'title': {u'$t': u'COSCUP \\u958b\\u6e90\\u4eba\\u5e74\\u6703',\n",
        "   u'type': u'text'},\n",
        "  u'updated': {u'$t': u'2014-09-08T11:57:47.000Z'},\n",
        "  u'xmlns': u'http://www.w3.org/2005/Atom',\n",
        "  u'xmlns$gd': u'http://schemas.google.com/g/2005',\n",
        "  u'xmlns$media': u'http://search.yahoo.com/mrss/',\n",
        "  u'xmlns$yt': u'http://gdata.youtube.com/schemas/2007',\n",
        "  u'yt$googlePlusUserId': {u'$t': u'101434041225212178932'},\n",
        "  u'yt$location': {u'$t': u'TW'},\n",
        "  u'yt$statistics': {u'lastWebAccess': u'1970-01-01T00:00:00.000Z',\n",
        "   u'subscriberCount': u'1221',\n",
        "   u'totalUploadViews': u'73422',\n",
        "   u'videoWatchCount': 0,\n",
        "   u'viewCount': u'0'},\n",
        "  u'yt$username': {u'$t': u'thecoscup'}},\n",
        " u'version': u'1.0'}"
       ]
      }
     ],
     "prompt_number": 44
    },
    {
     "cell_type": "code",
     "collapsed": false,
     "input": [],
     "language": "python",
     "metadata": {},
     "outputs": []
    },
    {
     "cell_type": "code",
     "collapsed": false,
     "input": [],
     "language": "python",
     "metadata": {},
     "outputs": []
    },
    {
     "cell_type": "code",
     "collapsed": false,
     "input": [
      "print data.keys()\n",
      "data_urls = [xx[\"href\"] + \"?alt=json\" for xx in data[\"entry\"][\"gd$feedLink\"]]"
     ],
     "language": "python",
     "metadata": {},
     "outputs": [
      {
       "output_type": "stream",
       "stream": "stdout",
       "text": [
        "[u'entry', u'version', u'encoding']\n"
       ]
      }
     ],
     "prompt_number": 10
    },
    {
     "cell_type": "code",
     "collapsed": false,
     "input": [],
     "language": "python",
     "metadata": {},
     "outputs": []
    },
    {
     "cell_type": "code",
     "collapsed": false,
     "input": [],
     "language": "python",
     "metadata": {},
     "outputs": []
    },
    {
     "cell_type": "code",
     "collapsed": false,
     "input": [
      "data_urls"
     ],
     "language": "python",
     "metadata": {},
     "outputs": [
      {
       "metadata": {},
       "output_type": "pyout",
       "prompt_number": 11,
       "text": [
        "[u'https://gdata.youtube.com/feeds/users/thecoscup/subscriptions?alt=json',\n",
        " u'https://gdata.youtube.com/feeds/users/thecoscup/contacts?alt=json',\n",
        " u'https://gdata.youtube.com/feeds/users/thecoscup/inbox?alt=json',\n",
        " u'https://gdata.youtube.com/feeds/users/thecoscup/playlists?alt=json',\n",
        " u'https://gdata.youtube.com/feeds/users/thecoscup/uploads?alt=json',\n",
        " u'https://gdata.youtube.com/feeds/api/users/thecoscup/newsubscriptionvideos?alt=json']"
       ]
      }
     ],
     "prompt_number": 11
    },
    {
     "cell_type": "code",
     "collapsed": false,
     "input": [
      "data_urls_res = map(requests.get,data_urls)"
     ],
     "language": "python",
     "metadata": {},
     "outputs": [],
     "prompt_number": 12
    },
    {
     "cell_type": "code",
     "collapsed": false,
     "input": [
      "data_urls_res_json = map(lambda xx:json.loads(xx.text) if xx.status_code == 200 else None ,data_urls_res)"
     ],
     "language": "python",
     "metadata": {},
     "outputs": [],
     "prompt_number": 28
    },
    {
     "cell_type": "code",
     "collapsed": false,
     "input": [
      "data_urls_res_json[4][]"
     ],
     "language": "python",
     "metadata": {},
     "outputs": [
      {
       "metadata": {},
       "output_type": "pyout",
       "prompt_number": 35,
       "text": [
        "[u'feed', u'version', u'encoding']"
       ]
      }
     ],
     "prompt_number": 35
    },
    {
     "cell_type": "code",
     "collapsed": false,
     "input": [],
     "language": "python",
     "metadata": {},
     "outputs": []
    }
   ],
   "metadata": {}
  }
 ]
}