{
 "metadata": {
  "name": "",
  "signature": "sha256:369ca293437547fd69573d4f34ecf335db4f2fc58824cc33ff0bbbacf656345c"
 },
 "nbformat": 3,
 "nbformat_minor": 0,
 "worksheets": [
  {
   "cells": [
    {
     "cell_type": "code",
     "collapsed": false,
     "input": [
      "import pandas as pd\n",
      "from pandas.io.parsers import StringIO\n",
      "import numpy as np\n",
      "import requests\n",
      "import json\n",
      "import re\n",
      "import time\n",
      "import random"
     ],
     "language": "python",
     "metadata": {},
     "outputs": [],
     "prompt_number": 1
    },
    {
     "cell_type": "code",
     "collapsed": false,
     "input": [
      "res = requests.get(\"http://opendata.dot.taipei.gov.tw/opendata/gwjs_cityhall.json\")\n",
      "rjson = res.json()"
     ],
     "language": "python",
     "metadata": {},
     "outputs": [],
     "prompt_number": 2
    },
    {
     "cell_type": "code",
     "collapsed": false,
     "input": [
      "# print res.encoding\n",
      "# res.encoding = \"big5\"\n",
      "# data_str = res.text.replace(\",\",\",\")"
     ],
     "language": "python",
     "metadata": {},
     "outputs": [],
     "prompt_number": 3
    },
    {
     "cell_type": "code",
     "collapsed": false,
     "input": [
      "# data = json.loads(data_str)\n",
      "# data"
     ],
     "language": "python",
     "metadata": {},
     "outputs": [],
     "prompt_number": 5
    },
    {
     "cell_type": "code",
     "collapsed": false,
     "input": [
      "len(rjson)"
     ],
     "language": "python",
     "metadata": {},
     "outputs": [
      {
       "metadata": {},
       "output_type": "pyout",
       "prompt_number": 7,
       "text": [
        "2"
       ]
      }
     ],
     "prompt_number": 7
    },
    {
     "cell_type": "code",
     "collapsed": false,
     "input": [
      "rjson.keys()"
     ],
     "language": "python",
     "metadata": {},
     "outputs": [
      {
       "metadata": {},
       "output_type": "pyout",
       "prompt_number": 12,
       "text": [
        "[u'retVal', u'retCode']"
       ]
      }
     ],
     "prompt_number": 12
    },
    {
     "cell_type": "code",
     "collapsed": false,
     "input": [
      "len(rjson[\"retVal\"])"
     ],
     "language": "python",
     "metadata": {},
     "outputs": [
      {
       "metadata": {},
       "output_type": "pyout",
       "prompt_number": 17,
       "text": [
        "214"
       ]
      }
     ],
     "prompt_number": 17
    },
    {
     "cell_type": "code",
     "collapsed": false,
     "input": [
      "len(rjson[\"retVal\"][0])\n",
      "rjson[\"retVal\"][0]"
     ],
     "language": "python",
     "metadata": {},
     "outputs": [
      {
       "metadata": {},
       "output_type": "pyout",
       "prompt_number": 24,
       "text": [
        "{u'act': u'1',\n",
        " u'ar': u'\\u5fe0\\u5b5d\\u6771\\u8def/\\u677e\\u4ec1\\u8def(\\u6771\\u5357\\u5074)',\n",
        " u'aren': u'The S.W. side of Road Zhongxiao East Road & Road Chung Yan.',\n",
        " u'bemp': u'177',\n",
        " u'iid': u'339',\n",
        " u'lat': u'25.0408578889',\n",
        " u'lng': u'121.567904444',\n",
        " u'mday': u'20141204210300',\n",
        " u'nbcnt': u'0',\n",
        " u'sarea': u'\\u4fe1\\u7fa9\\u5340',\n",
        " u'sareaen': u'Xinyi Dist.',\n",
        " u'sbi': u'2',\n",
        " u'sd': u'20000101000000',\n",
        " u'sip': u'10.7.0.11',\n",
        " u'sna': u'\\u6377\\u904b\\u5e02\\u653f\\u5e9c\\u7ad9(3\\u865f\\u51fa\\u53e3)',\n",
        " u'snaen': u'MRT Taipei City Hall Stataion(Exit 3)-2',\n",
        " u'sno': u'0001',\n",
        " u'sv': u'1',\n",
        " u'tot': u'180',\n",
        " u'vtyp': u'1'}"
       ]
      }
     ],
     "prompt_number": 24
    },
    {
     "cell_type": "code",
     "collapsed": false,
     "input": [
      "# rjson[\"retVal\"][0]\n",
      "# columns_num_set = set(map(lambda xx: len(xx), rows))\n",
      "# for i in rjson[\"retVal\"][0]:\n",
      "#     df = pd.DataFrame( i, columns = rjson[\"retVal\"][0].keys())\n",
      "# pd.DataFrame(rjson[\"retVal\"][0].items() , columns=rjson[\"retVal\"][0].keys())\n",
      "pd.DataFrame.from_dict( rjson[\"retVal\"][10], orient=\"index\")"
     ],
     "language": "python",
     "metadata": {},
     "outputs": [
      {
       "html": [
        "<div style=\"max-height:1000px;max-width:1500px;overflow:auto;\">\n",
        "<table border=\"1\" class=\"dataframe\">\n",
        "  <thead>\n",
        "    <tr style=\"text-align: right;\">\n",
        "      <th></th>\n",
        "      <th>0</th>\n",
        "    </tr>\n",
        "  </thead>\n",
        "  <tbody>\n",
        "    <tr>\n",
        "      <th>sip</th>\n",
        "      <td>                                       10.250.11.1</td>\n",
        "    </tr>\n",
        "    <tr>\n",
        "      <th>vtyp</th>\n",
        "      <td>                                                 1</td>\n",
        "    </tr>\n",
        "    <tr>\n",
        "      <th>sareaen</th>\n",
        "      <td>                                       Xinyi Dist.</td>\n",
        "    </tr>\n",
        "    <tr>\n",
        "      <th>sna</th>\n",
        "      <td>                                               \u4e09\u5f35\u7281</td>\n",
        "    </tr>\n",
        "    <tr>\n",
        "      <th>aren</th>\n",
        "      <td> The S.E. side of Road Guangfu South &amp; Ln. 346,...</td>\n",
        "    </tr>\n",
        "    <tr>\n",
        "      <th>sno</th>\n",
        "      <td>                                              0011</td>\n",
        "    </tr>\n",
        "    <tr>\n",
        "      <th>bemp</th>\n",
        "      <td>                                                62</td>\n",
        "    </tr>\n",
        "    <tr>\n",
        "      <th>mday</th>\n",
        "      <td>                                    20141204210304</td>\n",
        "    </tr>\n",
        "    <tr>\n",
        "      <th>nbcnt</th>\n",
        "      <td>                                                 1</td>\n",
        "    </tr>\n",
        "    <tr>\n",
        "      <th>sv</th>\n",
        "      <td>                                                 1</td>\n",
        "    </tr>\n",
        "    <tr>\n",
        "      <th>tot</th>\n",
        "      <td>                                                66</td>\n",
        "    </tr>\n",
        "    <tr>\n",
        "      <th>snaen</th>\n",
        "      <td>                                        Sanchangli</td>\n",
        "    </tr>\n",
        "    <tr>\n",
        "      <th>iid</th>\n",
        "      <td>                                               349</td>\n",
        "    </tr>\n",
        "    <tr>\n",
        "      <th>ar</th>\n",
        "      <td>                                    \u5149\u5fa9\u5357\u8def/\u57fa\u9686\u8def\u4e00\u6bb5364\u5df7</td>\n",
        "    </tr>\n",
        "    <tr>\n",
        "      <th>act</th>\n",
        "      <td>                                                 1</td>\n",
        "    </tr>\n",
        "    <tr>\n",
        "      <th>lat</th>\n",
        "      <td>                                         25.034937</td>\n",
        "    </tr>\n",
        "    <tr>\n",
        "      <th>lng</th>\n",
        "      <td>                                         121.55762</td>\n",
        "    </tr>\n",
        "    <tr>\n",
        "      <th>sbi</th>\n",
        "      <td>                                                 2</td>\n",
        "    </tr>\n",
        "    <tr>\n",
        "      <th>sarea</th>\n",
        "      <td>                                               \u4fe1\u7fa9\u5340</td>\n",
        "    </tr>\n",
        "    <tr>\n",
        "      <th>sd</th>\n",
        "      <td>                                    20000101000000</td>\n",
        "    </tr>\n",
        "  </tbody>\n",
        "</table>\n",
        "</div>"
       ],
       "metadata": {},
       "output_type": "pyout",
       "prompt_number": 52,
       "text": [
        "                                                         0\n",
        "sip                                            10.250.11.1\n",
        "vtyp                                                     1\n",
        "sareaen                                        Xinyi Dist.\n",
        "sna                                                    \u4e09\u5f35\u7281\n",
        "aren     The S.E. side of Road Guangfu South & Ln. 346,...\n",
        "sno                                                   0011\n",
        "bemp                                                    62\n",
        "mday                                        20141204210304\n",
        "nbcnt                                                    1\n",
        "sv                                                       1\n",
        "tot                                                     66\n",
        "snaen                                           Sanchangli\n",
        "iid                                                    349\n",
        "ar                                          \u5149\u5fa9\u5357\u8def/\u57fa\u9686\u8def\u4e00\u6bb5364\u5df7\n",
        "act                                                      1\n",
        "lat                                              25.034937\n",
        "lng                                              121.55762\n",
        "sbi                                                      2\n",
        "sarea                                                  \u4fe1\u7fa9\u5340\n",
        "sd                                          20000101000000"
       ]
      }
     ],
     "prompt_number": 52
    }
   ],
   "metadata": {}
  }
 ]
}