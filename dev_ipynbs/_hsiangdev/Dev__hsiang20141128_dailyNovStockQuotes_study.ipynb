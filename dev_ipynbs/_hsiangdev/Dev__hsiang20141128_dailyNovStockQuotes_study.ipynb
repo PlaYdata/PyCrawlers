{
 "metadata": {
  "name": "",
  "signature": "sha256:1f7c2dd1168bcf2d757840aee8f8dc1b26a241e9aa3b5eb6a132a83822f72240"
 },
 "nbformat": 3,
 "nbformat_minor": 0,
 "worksheets": [
  {
   "cells": [
    {
     "cell_type": "markdown",
     "metadata": {},
     "source": [
      "## Target web site: Yahoo! Finance API\n",
      "\n",
      "CSV Historical Quotes Download\n",
      "\n",
      "https://code.google.com/p/yahoo-finance-managed/wiki/csvHistQuotesDownload"
     ]
    },
    {
     "cell_type": "code",
     "collapsed": false,
     "input": [
      "# Not YET, FUCK! Data is worng\n",
      "import pandas as pd\n",
      "from pandas.io.parsers import StringIO\n",
      "import numpy as np\n",
      "import requests\n",
      "import csv"
     ],
     "language": "python",
     "metadata": {},
     "outputs": [],
     "prompt_number": 1
    },
    {
     "cell_type": "code",
     "collapsed": false,
     "input": [
      "# CSVurl = \"http://ichart.yahoo.com/table.csv?s=GOOG&a=10&b=19&c=2014 &d=10&e=20&f=2014&g=d&ignore=.csv\"\n",
      "CSVurl = \"http://real-chart.finance.yahoo.com/table.csv?s=AMZN&a=09&b=16&c=2014&d=09&e=18&f=2014&g=d&ignore=.csv\"\n",
      "CSVurlSP = \"https://raw.githubusercontent.com/datasets/s-and-p-500-companies/master/data/constituents.csv\""
     ],
     "language": "python",
     "metadata": {},
     "outputs": [],
     "prompt_number": 2
    },
    {
     "cell_type": "code",
     "collapsed": false,
     "input": [
      "res = requests.get(CSVurl)\n",
      "SP_res = requests.get(CSVurlSP)"
     ],
     "language": "python",
     "metadata": {},
     "outputs": [],
     "prompt_number": 3
    },
    {
     "cell_type": "code",
     "collapsed": false,
     "input": [
      "# SP_res.text[:500]\n",
      "res.text[:500]"
     ],
     "language": "python",
     "metadata": {},
     "outputs": [
      {
       "metadata": {},
       "output_type": "pyout",
       "prompt_number": 4,
       "text": [
        "u'Date,Open,High,Low,Close,Volume,Adj Close\\n2014-10-17,307.15,309.20,302.72,303.64,4405100,303.64\\n2014-10-16,293.83,306.82,293.83,302.86,4731300,302.86\\n'"
       ]
      }
     ],
     "prompt_number": 4
    },
    {
     "cell_type": "code",
     "collapsed": false,
     "input": [
      "# type(res.text[:500])\n",
      "res.encoding = \"unicode\"\n",
      "SP_res.encoding=\"unicode\"\n",
      "res.text[:500]\n",
      "SP_res.text[:500]"
     ],
     "language": "python",
     "metadata": {},
     "outputs": [
      {
       "metadata": {},
       "output_type": "pyout",
       "prompt_number": 5,
       "text": [
        "u'Symbol,Name,Sector\\nMMM,3M Co.,Industrials\\nABT,Abbott Laboratories,Health Care\\nABBV,AbbVie Inc.,Health Care\\nACN,Accenture,Information Technology\\nACE,ACE Limited,Financials\\nACT,Actavis Inc,Health Care\\nADBE,Adobe Systems Inc,Information Technology\\nAES,AES Corp,Utilities\\nAET,Aetna Inc,Health Care\\nAFL,AFLAC Inc,Financials\\nA,Agilent Technologies Inc,Health Care\\nGAS,AGL Resources Inc.,Utilities\\nAPD,Air Products & Chemicals Inc,Materials\\nARG,Airgas Inc,Materials\\nAKAM,Akamai Technologies Inc,Information '"
       ]
      }
     ],
     "prompt_number": 5
    },
    {
     "cell_type": "code",
     "collapsed": false,
     "input": [
      "csv_string = res.text.replace(u'-',u\"\")\n",
      "SP_csv_string = SP_res.text"
     ],
     "language": "python",
     "metadata": {},
     "outputs": [],
     "prompt_number": 6
    },
    {
     "cell_type": "code",
     "collapsed": false,
     "input": [
      "csv_string[:500]"
     ],
     "language": "python",
     "metadata": {},
     "outputs": [
      {
       "metadata": {},
       "output_type": "pyout",
       "prompt_number": 7,
       "text": [
        "u'Date,Open,High,Low,Close,Volume,Adj Close\\n20141017,307.15,309.20,302.72,303.64,4405100,303.64\\n20141016,293.83,306.82,293.83,302.86,4731300,302.86\\n'"
       ]
      }
     ],
     "prompt_number": 7
    },
    {
     "cell_type": "code",
     "collapsed": false,
     "input": [
      "csvfile = StringIO(csv_string)\n",
      "SP_csvfile = StringIO(SP_csv_string)"
     ],
     "language": "python",
     "metadata": {},
     "outputs": [],
     "prompt_number": 8
    },
    {
     "cell_type": "code",
     "collapsed": false,
     "input": [
      "rows = list(csv.reader(csvfile))\n",
      "# len(rows[1])\n",
      "SP_rows = list(csv.reader(SP_csvfile))\n",
      "# len(SP_rows)\n",
      "# SP_rows"
     ],
     "language": "python",
     "metadata": {},
     "outputs": [],
     "prompt_number": 9
    },
    {
     "cell_type": "code",
     "collapsed": false,
     "input": [
      "columns_num_set = set(map(lambda xx: len(xx), rows))\n",
      "SP_columns_num_set = set(map(lambda xx: len(xx), SP_rows))"
     ],
     "language": "python",
     "metadata": {},
     "outputs": [],
     "prompt_number": 10
    },
    {
     "cell_type": "code",
     "collapsed": false,
     "input": [
      "columns_num_set, SP_columns_num_set"
     ],
     "language": "python",
     "metadata": {},
     "outputs": [
      {
       "metadata": {},
       "output_type": "pyout",
       "prompt_number": 11,
       "text": [
        "({7}, {3})"
       ]
      }
     ],
     "prompt_number": 11
    },
    {
     "cell_type": "code",
     "collapsed": false,
     "input": [
      "len7_data = [one_row for one_row in rows if len(one_row) == 7]\n",
      "SP_len3_data = [SP_one_row for SP_one_row in SP_rows if len(SP_one_row) == 3]\n",
      "# SP_len3_data"
     ],
     "language": "python",
     "metadata": {},
     "outputs": [],
     "prompt_number": 15
    },
    {
     "cell_type": "code",
     "collapsed": false,
     "input": [
      "df = pd.DataFrame(len7_data[1:], columns = len7_data[0])\n",
      "SP_df = pd.DataFrame(SP_len3_data[1:], columns = SP_len3_data[0])"
     ],
     "language": "python",
     "metadata": {},
     "outputs": [],
     "prompt_number": 16
    },
    {
     "cell_type": "code",
     "collapsed": false,
     "input": [
      "df\n",
      "# SP_df"
     ],
     "language": "python",
     "metadata": {},
     "outputs": [
      {
       "html": [
        "<div style=\"max-height:1000px;max-width:1500px;overflow:auto;\">\n",
        "<table border=\"1\" class=\"dataframe\">\n",
        "  <thead>\n",
        "    <tr style=\"text-align: right;\">\n",
        "      <th></th>\n",
        "      <th>Date</th>\n",
        "      <th>Open</th>\n",
        "      <th>High</th>\n",
        "      <th>Low</th>\n",
        "      <th>Close</th>\n",
        "      <th>Volume</th>\n",
        "      <th>Adj Close</th>\n",
        "    </tr>\n",
        "  </thead>\n",
        "  <tbody>\n",
        "    <tr>\n",
        "      <th>0</th>\n",
        "      <td> 20141017</td>\n",
        "      <td> 307.15</td>\n",
        "      <td> 309.20</td>\n",
        "      <td> 302.72</td>\n",
        "      <td> 303.64</td>\n",
        "      <td> 4405100</td>\n",
        "      <td> 303.64</td>\n",
        "    </tr>\n",
        "    <tr>\n",
        "      <th>1</th>\n",
        "      <td> 20141016</td>\n",
        "      <td> 293.83</td>\n",
        "      <td> 306.82</td>\n",
        "      <td> 293.83</td>\n",
        "      <td> 302.86</td>\n",
        "      <td> 4731300</td>\n",
        "      <td> 302.86</td>\n",
        "    </tr>\n",
        "  </tbody>\n",
        "</table>\n",
        "</div>"
       ],
       "metadata": {},
       "output_type": "pyout",
       "prompt_number": 19,
       "text": [
        "       Date    Open    High     Low   Close   Volume Adj Close\n",
        "0  20141017  307.15  309.20  302.72  303.64  4405100    303.64\n",
        "1  20141016  293.83  306.82  293.83  302.86  4731300    302.86"
       ]
      }
     ],
     "prompt_number": 19
    },
    {
     "cell_type": "code",
     "collapsed": false,
     "input": [
      "# df[\"Date\"] = \"20141117\""
     ],
     "language": "python",
     "metadata": {},
     "outputs": [],
     "prompt_number": 27
    },
    {
     "cell_type": "code",
     "collapsed": false,
     "input": [
      "SP_name = SP_df[\"Symbol\"].values.tolist()"
     ],
     "language": "python",
     "metadata": {},
     "outputs": [],
     "prompt_number": 18
    },
    {
     "cell_type": "code",
     "collapsed": false,
     "input": [],
     "language": "python",
     "metadata": {},
     "outputs": [],
     "prompt_number": 16
    },
    {
     "cell_type": "code",
     "collapsed": false,
     "input": [],
     "language": "python",
     "metadata": {},
     "outputs": []
    }
   ],
   "metadata": {}
  }
 ]
}