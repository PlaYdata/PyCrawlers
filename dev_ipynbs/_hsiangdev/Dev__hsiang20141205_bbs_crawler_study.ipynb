{
 "metadata": {
  "name": "",
  "signature": "sha256:1f4fcde8a06fee8434da75fbcdb9d44cabbe178ca642febbc81bb7bac7c6dfa9"
 },
 "nbformat": 3,
 "nbformat_minor": 0,
 "worksheets": [
  {
   "cells": [
    {
     "cell_type": "markdown",
     "metadata": {},
     "source": [
      "# BBS crawler \n",
      "\n",
      "* login(userm password)\n",
      "* search board \n",
      "    * input board-name\n",
      "    * output success or try-again\n",
      "* jump to article\n",
      "* colletc data (ex: author, date, content)\n",
      "* logout"
     ]
    },
    {
     "cell_type": "code",
     "collapsed": false,
     "input": [
      "import telnetlib\n",
      "import copy\n",
      "# import os\n",
      "import time\n",
      "# import pandas as pd\n",
      "# from pandas.io.parsers import StringIO\n",
      "# import numpy as np\n",
      "import re"
     ],
     "language": "python",
     "metadata": {},
     "outputs": [],
     "prompt_number": 1
    },
    {
     "cell_type": "code",
     "collapsed": false,
     "input": [
      "ptt = telnetlib.Telnet('ptt.cc')"
     ],
     "language": "python",
     "metadata": {},
     "outputs": [],
     "prompt_number": 2
    },
    {
     "cell_type": "code",
     "collapsed": false,
     "input": [
      "def ptt_login(user, password):\n",
      "    data = ptt.read_very_eager()\n",
      "    # Enter the username.\n",
      "    ptt.write(\"%s\\r\\n\" % user)\n",
      "    # pause a while for server to response.\n",
      "    time.sleep(1)\n",
      "    # Enter the password.\n",
      "    ptt.write(\"%s\\r\\n\" % password)\n",
      "    time.sleep(2)\n",
      "    # Login!!\n",
      "    data = ptt.read_very_eager()\n",
      "    print data.decode(\"big5\", \"ignore\").encode(\"utf-8\")\n",
      "    \n",
      "#     press arbitrary key to continue.\n",
      "    ptt.write(\"s\".encode(\"big5\"))\n",
      "    time.sleep(2)\n",
      "    data = ptt.read_very_eager()\n",
      "#     Home page!\n",
      "    print data.decode(\"big5\", \"ignore\")"
     ],
     "language": "python",
     "metadata": {},
     "outputs": [],
     "prompt_number": 3
    },
    {
     "cell_type": "code",
     "collapsed": false,
     "input": [
      "ptt_login(\"NCCUcrawler\", \"nccu\")"
     ],
     "language": "python",
     "metadata": {},
     "outputs": [
      {
       "output_type": "stream",
       "stream": "stdout",
       "text": [
        "NCCUcrawler\u001b[m\u001b[22;1H\u001b[K\u001b[m\u8acb\u8f38\u5165\u60a8\u7684\u5bc6\u78bc: \u0007\u001b[22;1H\u001b[K\u001b[m\u6b63\u5728\u6aa2\u67e5\u5e33\u865f\u8207\u5bc6\u78bc...\u001b[22;1H\u001b[K\u001b[m\u5bc6\u78bc\u6b63\u78ba\uff01 \u958b\u59cb\u767b\u5165\u7cfb\u7d71...\r\n",
        "\u001b[H\u001b[2J\u001b[H\u001b[2J\u001b[m\u001b[23;1H\u767b\u5165\u4e2d\uff0c\u8acb\u7a0d\u5019...\r",
        "\u6b63\u5728\u66f4\u65b0\u8207\u540c\u6b65\u7dda\u4e0a\u4f7f\u7528\u8005\u53ca\u597d\u53cb\u540d\u55ae\uff0c\u7cfb\u7d71\u8ca0\u8377\u91cf\u5927\u6642\u6703\u9700\u6642\u8f03\u4e45...\r\n",
        "\u001b[H\u001b[2J\u001b[1;36m** \u7ad9\u5167\u4fe1\u7bb1\u50c5\u4f9b\u8207\u7ad9\u5167\u5176\u5b83\u4f7f\u7528\u8005\u8a0a\u606f\u4ea4\u6d41\uff0c\u6216\u65b9\u4fbf\u8207\u5b83\u7ad9\u4ea4\u63db\u8cc7\u6599\u3002\r\n",
        "   \u8acb\u5404\u4f4d\u4f7f\u7528\u8005\u5225\u628a\u7ad9\u5167\u4fe1\u7bb1\u62ff\u4f86\u7576\u71b1\u9580\u770b\u677f\u6c38\u4e45\u5099\u4efd\u7a7a\u9593\u8d85\u6536\u4e0a\u5343\u6216\u4e0a\u842c\u5c01\u6587\u4ef6\uff0c\r\n",
        "   \u672a\u4f86\u7cfb\u7d71\u6709\u53ef\u80fd\u6703\u4e0d\u5b9a\u671f\u81ea\u52d5\u5075\u6e2c\u4e26\u522a\u9664\u6b64\u985e\u4fdd\u7559\u904e\u91cf\u4e14\u904e\u4e45\u7684\u770b\u677f\u5099\u4efd\u6587\u001b[m\r",
        "\u001b[24;1H\u001b[21;7H\u6b61\u8fce\u60a8\u518d\u5ea6\u62dc\u8a2a\uff0c\u4e0a\u6b21\u60a8\u662f\u5f9e \u001b[1;33m111.82.22.94 \u001b[m\u9023\u5f80\u672c\u7ad9\u3002\r\n",
        "\n",
        "\n",
        "\u001b[1;34;44m \u2584\u2584\u2584\u2584\u2584\u2584\u2584\u2584\u2584\u2584\u2584\u2584\u2584\u2584\u2584\u001b[0;1;37;44m \u8acb\u6309\u4efb\u610f\u9375\u7e7c\u7e8c \u001b[34m\u2584\u2584\u2584\u2584\u2584\u2584\u2584\u2584\u2584\u2584\u2584\u2584\u2584\u2584\u2584  \u001b[m\n",
        "\u001b[H\u001b[1;37;44m\u3010\u4e3b\u529f\u80fd\u8868\u3011                     \u001b[33m\u6279\u8e22\u8e22\u5be6\u696d\u574a\u001b[0;1;37;44m                                  \r\n",
        "\u001b[m\u001b[K\n",
        "\u001b[34mh                                     \u001b[30m[31mk\u2582)\u2582[30mb           \u001b[31m\u256e   \u256d          \u001b[m[1;36m  \u001b[4;7H\u001b[0;30m[0;1;37md[0;30mc     [1mc,                   \u001b[0;31m\u25e2\u001b[41m[1mb\u2582  \u001b[0;31m\u25e3, \u001b[30m[1mc   \u001b[0;31m\u2035\u001b[30m[31mc\\\u3011/\u001b[30m[31m\u828dd[30;41m[0;30m   \u001b[m[1;36mh  \u001b[m[1;36m  \u001b[5;3H\u001b[0;30m[47m[0;1;37m\u2582[47md[0;1;37me\u2584[0;30mf    \u001b[1m\u2035\ufe38\u001b[0;30m[1mV~ ,\u001b[0;33m\u2583\u001b[5m[0;30mk      [31m[43m\u25e5\u25e5[41m[1m\\\u001b[0;31;41m[0;31m\u5cb7\u001b[30m \u001b[1m[0;30mt\u001b[1m~ \u001b[0;31m\u2582\u001b[30;41m[0;31m[30;41m[0;31me\u001b[41m[30m[0;31m\u2583\ufe3b   \u001b[m[1;36m[  \u001b[m[1;36mN   \r\n",
        "\u001b[0;34mt \u001b[30m[m[30;47m\u2585\u001b[0;1;37;47m[0;30;47mg[0;1;37;47mh\u001b[0;1;37m[0;30mc\u001b[47m[0;30m            \u001b[43m[0;30mh       \u001b[1m\ufe35 \u001b[0;33m\u2587\u001b[43m   \u001b[31m6\u001b[41m  \u001b[0;1;35m[0;30mb\u001b[5;35m_\u001b[0;35m[30m   [41mg[31mf\u001b[5;30m[0;31;41m[30m|\u001b[31m[0;31md[5mb `  \u001b[m[1;36m \u001b[30m\uff0e   \u001b[7;5H\u001b[0;30m[47md\u001b[0;47m[30me[0;1;37;47mf\u001b[0;30;47m[0;30mg    \u001b[1m\uff3c           ,\ufe3f  \ufe59 \u001b[0;30m[1;35mc\u001b[0;35;43m\u2584\u2583\u2585\u001b[1;45m[0;35;45m\u828d\u001b[30me[0;30mg[1ms   \u001b[0;30m[41m\u828dg\u258d@\u001b[0;30m [41mh\u001b[0;31m\u301d   \u001b[m[1;36m \u001b[30m\uff0e   \u001b[8;4H\u001b[0;30m[47md[0;47me\u001b[30m\u2584\u001b[0;1;37;47m[0;30;47mf\u001b[0;30m      [1m        \u3008\uff20\\   \ufe36\u001b[0;30;45m[33mf[36me\u2585\u001b[30;46m, \u001b[0;36m[30m    \u001b[1m\u2035`~,\u001b[0;33m[1;30mN\u001b[0;30;41m[5mn\u001b[0;31m[5mn       \u001b[m[1;36mA  \u001b[30m\uff0e   \r\n",
        "\u001b[0;34mx \u001b[30m[mc[30;47me\u001b[0;30m \u001b[47m[0;1;37md\u25e5\u2585[0;30md    [1mc \ufe50       \uff0f    \u001b[0;30;46m\u258b [36m [30m[0;30m          \u001b[31m[41md[0;30m      \u001b[m[1;36ma       \u001b[10;3H\u001b[0;30;47m\u2587\u001b[0;30m  \u001b[m[30;47md\u001b[m[1;37m  \u001b[0;30;47m\u2587\u001b[0;30m         \u001b[1m\u2035\ufe38 \u2032   _  \u001b[0;30m[46m/    / [0;30m \u001b[33m\u2581\u2582\u2583\u2584\u001b[41m\u2586\u2585\u2586\u001b[0;33m\u2585\u2584\u2582\u001b[1;30m\uff0e       \u001b[11;7H\u001b[0;30;47m\u2586\u001b[m[1;37m   \u001b[30m\uff3c           \u001b[0;30m[1mc    (@\\    \u001b[0;34;46m\u2584\u2583\u2585[0;30mh  \u001b[43m\u2586\u2585\u2585\u2586\u2585\u2584\u2585\u2586\u2587\u001b[0;30m   \u001b[1m\uff0e       \r\n",
        "\u001b[0;34m9               \u001b[1;30m[0;30mt\u001b[1m~ , [0;30mc\u001b[1m[0;30md\u001b[33m[5mN \u001b[0;1;30m\u2035[0;30mt\u001b[1m[0;30mc\u001b[1m`  \u001b[0;30;44m\u258a   \u001b[1;34my  \u001b[0;34;44m[0;34m                      \u001b[1;30m\uff0e       \r\n",
        "\u001b[m\u2500\u2500\u2500\u2500\u2500\u2500\u2500\u2500\u2500 \u4e0a\u65b9\u70ba\u4f7f\u7528\u8005\u5fc3\u60c5\u9ede\u64ad\u7559\u8a00\u5340\uff0c\u4e0d\u4ee3\u8868\u672c\u7ad9\u7acb\u5834 \u2500\u2500\u2500\u2500\u2500\u2500\u2500\u2500\u001b[14;23H(\u001b[1;36mA\u001b[m)nnounce     \u3010 \u7cbe\u83ef\u516c\u4f48\u6b04 \u3011\u001b[15;23H(\u001b[1;36mF\u001b[m)avorite     \u3010 \u6211 \u7684 \u6700\u611b \u3011\u001b[16;21H> (\u001b[1;36mC\u001b[m)lass\u001b[16;38H\u3010 \u5206\u7d44\u8a0e\u8ad6\u5340 \u3011\u001b[17;23H(\u001b[1;36mM\u001b[m)ail\u001b[17;38H\u3010 \u79c1\u4eba\u4fe1\u4ef6\u5340 \u3011\u001b[18;23H(\u001b[1;36mT\u001b[m)alk\u001b[18;38H\u3010 \u4f11\u9592\u804a\u5929\u5340 \u3011\u001b[19;23H(\u001b[1;36mU\u001b[m)ser\u001b[19;38H\u3010 \u500b\u4eba\u8a2d\u5b9a\u5340 \u3011\u001b[20;23H(\u001b[1;36mX\u001b[m)yz\u001b[20;38H\u3010 \u7cfb\u7d71\u8cc7\u8a0a\u5340 \u3011\u001b[21;7H                (\u001b[1;36mP\u001b[m)lay         \u3010 \u5a1b\u6a02\u8207\u4f11\u9592 \u3011\u001b[K\u001b[22;23H(\u001b[1;36mN\u001b[m)amelist     \u3010 \u7de8\u7279\u5225\u540d\u55ae \u3011\u001b[23;23H(\u001b[1;36mG\u001b[m)oodbye\u001b[23;41H\u96e2\u958b\uff0c\u518d\u898b\u2026\r\n",
        "\u001b[34;46m[12/5 \u661f\u671f\u4e94 22:35]\u001b[1;33;45m [ \u7261\u7f8a\u6642 ]   \u001b[30;47m \u7dda\u4e0a\u001b[31m128950\u001b[30m\u4eba, \u6211\u662f\u001b[31mNCCUcrawler\u001b[30m   [\u547c\u53eb\u5668]\u001b[31m\u6253\u958b \u001b[m\u001b[16;21H"
       ]
      },
      {
       "output_type": "stream",
       "stream": "stdout",
       "text": [
        "\n"
       ]
      }
     ],
     "prompt_number": 4
    },
    {
     "cell_type": "code",
     "collapsed": false,
     "input": [
      "def ptt_board(board):\n",
      "    # Press s to search for specific board (ptt-only)\n",
      "    ptt.write(\"s\".encode(\"big5\"))\n",
      "    time.sleep(1)\n",
      "    # Search for Hate board.\n",
      "    ptt.write((\"%s\\r\\n\" % board).encode(\"big5\"))\n",
      "    time.sleep(1)\n",
      "    data = ptt.read_very_eager()\n",
      "    print \"searching\"\n",
      "#     print data.decode(\"big5\", \"ignore\")\n",
      "    # if board exit output success and print\n",
      "    ptt.write(\"\\r\\n\".encode(\"big5\"))\n",
      "    print \"enter to board\"\n",
      "    # else return and output false and print\n",
      "    data = ptt.read_very_eager()\n",
      "    return data.decode(\"big5\", \"ignore\").encode(\"utf-8\")\n",
      "#     print data.decode(\"big5\", \"ignore\")"
     ],
     "language": "python",
     "metadata": {},
     "outputs": [],
     "prompt_number": 5
    },
    {
     "cell_type": "code",
     "collapsed": false,
     "input": [
      "ptt_board(\"Gossiping\")"
     ],
     "language": "python",
     "metadata": {},
     "outputs": [
      {
       "output_type": "stream",
       "stream": "stdout",
       "text": [
        "searching\n",
        "enter to board\n"
       ]
      },
      {
       "metadata": {},
       "output_type": "pyout",
       "prompt_number": 6,
       "text": [
        "''"
       ]
      }
     ],
     "prompt_number": 6
    },
    {
     "cell_type": "code",
     "collapsed": false,
     "input": [
      "def jump2article(number):\n",
      "    ptt.write((\"%s\\r\\n\"% str(number)).encode(\"big5\"))\n",
      "    # wait for server's response\n",
      "    time.sleep(1)\n",
      "    data = ptt.read_very_eager()\n",
      "    del data\n",
      "    ptt.write(\"\\x27\\r\\n\".encode(\"big5\"))\n",
      "    # wait for server's response\n",
      "    time.sleep(1)\n",
      "    data = ptt.read_very_eager()\n",
      "    # clear the memory\n",
      "    datacopy = copy.copy(data)\n",
      "    del data\n",
      "    # leave artivle and back to board.\n",
      "    ptt.write(\"\\x25\\r\\n\".encode(\"big5\"))\n",
      "    # wait for server's response\n",
      "    time.sleep(1)\n",
      "    # just in case\n",
      "    return datacopy.decode(\"big5\", \"ignore\").encode(\"utf-8\")"
     ],
     "language": "python",
     "metadata": {},
     "outputs": [],
     "prompt_number": 7
    },
    {
     "cell_type": "code",
     "collapsed": true,
     "input": [
      "dataptt = jump2article(157116)\n",
      "print dataptt"
     ],
     "language": "python",
     "metadata": {},
     "outputs": [
      {
       "output_type": "stream",
       "stream": "stdout",
       "text": [
        "\u001b[H\u001b[34;47m \u4f5c\u8005 \u001b[0;44m Tasoce (AngTSAO)                                      \u001b[34;47m \u770b\u677f \u001b[0;44m Gossiping \u001b[m\u001b[K\r\n",
        "\u001b[34;47m \u6a19\u984c \u001b[0;44m Re: [\u65b0\u805e] \u52dd\u9078\u4e0d\u5230\u4e00\u5468\u3000\u67ef\u6587\u54f2\u65b0\u4eba\u4e8b\u3001\u653f\u7b56\u81f3\u5c11\u56db                      \r\n",
        "\u001b[34;47m \u6642\u9593 \u001b[0;44m Fri Dec  5 17:04:03 2014                                               \u001b[m\u001b[K\r\n",
        "\u001b[36m\u2500\u2500\u2500\u2500\u2500\u2500\u2500\u2500\u2500\u2500\u2500\u2500\u2500\u2500\u2500\u2500\u2500\u2500\u2500\u2500\u2500\u2500\u2500\u2500\u2500\u2500\u2500\u2500\u2500\u2500\u2500\u2500\u2500\u2500\u2500\u2500\u2500\u2500\u2500\r\n",
        "\u001b[m\u001b[K\n",
        "\u001b[32m\u203b \u5f15\u8ff0\u300axyz1981 (\u6c38\u9060\u7684\u53cd\u5c0d\u9ee8\uff01\uff01)\u300b\u4e4b\u9298\u8a00\uff1a\u001b[m\u001b[K\r\n",
        "\u001b[36m: \u52dd\u9078\u4e0d\u5230\u4e00\u5468\u3000\u67ef\u6587\u54f2\u65b0\u4eba\u4e8b\u3001\u653f\u7b56\u81f3\u5c11\u56db\u722d\u8b70\u001b[m\u001b[K\r\n",
        "\u001b[36m: NOWnews\u001b[m\u001b[K\r\n",
        "\u001b[36m: \u8a18\u8005\u6797\u9756\u5802\uff0f\u7d9c\u5408\u5831\u5c0e\u001b[m\u001b[K\r\n",
        "\u001b[36m: \u53f0\u5317\u5e02\u9577\u7576\u9078\u4eba\u67ef\u6587\u54f2\u4ee585\u842c\u7968\u7372\u5f97\u53f0\u5317\u5e02\u6c11\u9752\u775e\u7576\u9078\u53f0\u5317\u9577\uff0c\u7136\u800c\uff0c\u958b\u7968\u52dd\u9078\u4ee5\u4f86\uff0c\r\n",
        "\u7121\u8ad6\u5728\u5e02\u5e9c\u4eba\u4e8b\u8207\u653f\u7b56\u653f\u898b\u4e0a\uff0c\u67ef\u6587\u54f2\u63a5\u6162\u6162\u6d6e\u73fe\u4e0d\u5c11\u6709\u5f85\u8a0e\u8ad6\u7684\u8b70\u984c\u8207\u722d\u8b70\u3002\u4eba\u4e8b\u4e0a\uff0c\r\n",
        "\u5305\u62ec\u53f0\u5317\u5e02\u526f\u5e02\u9577\u6797\u6b3d\u69ae\u8207\u52de\u52d5\u5c40\u9577\u9074\u9078\u5236\u5ea6\u90fd\u51fa\u73fe\u722d\u8b70\uff1b\u653f\u7b56\u653f\u898b\u4e0a\uff0c\u4e00\u4e0a\u4efb\u5c31\u9762\u5c0d\u5fe0\r\n",
        "\u5b5d\u897f\u8def\u516c\u8eca\u5c08\u7528\u9053\u662f\u5426\u62c6\u9664\u7684\u5169\u96e3\uff0c\u73fe\u5728\u53c8\u7a81\u7136\u62cb\u51fa\u88c1\u64a4\u6d3e\u51fa\u6240\u7684\u60f3\u6cd5\uff0c\u9019\u4e9b\u98a8\u6ce2\u7d1b\u7d1b\u5f15\r\n",
        "\u767c\u7db2\u53cb\u71b1\u8b70\u3002\u001b[m\u001b[K\r\n",
        "\u001b[36m: \u67ef\u6587\u54f2\u52dd\u9078\u5f8c\uff0c\u9996\u5148\u62cb\u51fa\u662f\u5426\u62c6\u9664\u5fe0\u5b5d\u897f\u8def\u516c\u8eca\u5c08\u7528\u9053\uff0c\u539f\u672c\u7a31\u5c07\u300c\u627e\u4e00\u500b\u591c\u6df1\u4eba\u975c\u7684\r\n",
        "\u6642\u9593\u4f86\u62c6\u300d\uff0c\u4e0d\u904e\uff0c\u5728\u8207\u73fe\u4efb\u53f0\u5317\u5e02\u9577\u90dd\u9f8d\u658c\u898b\u9762\u8ac7\u4ea4\u63a5\u5f8c\uff0c\u96a8\u5373\u6539\u53e3\u56de\u53bb\u7814\u7a76\uff0c\u800c\u9019\u6a23\r\n",
        "\u7684\u8f49\u8b8a\u4e5f\u5f15\u767c\u7db2\u53cb\u5c0d\u5fe0\u5b5d\u897f\u8def\u5c08\u7528\u9053\u529f\u80fd\u7684\u8a0e\u8ad6\uff0c\u4f46\u6709\u66f4\u591a\u7db2\u53cb\u5247\u662f\u958b\u59cb\u8cea\u7591\u67ef\u6587\u54f2\u9078\u4e0a\r\n",
        "\u5f8c\u653f\u7b56\u7acb\u5373\u8df3\u7968\u3002\u001b[m\u001b[K\r\n",
        "\u001b[36m: \u5728\u4eba\u4e8b\u65b9\u9762\uff0c\u67ef\u6587\u54f2\u4e5f\u5728\u52dd\u9078\u5f8c\u7b2c\u4e8c\u5929\u96a8\u5373\u767c\u5e03\u7b2c\u4e8c\u6ce2\u5317\u5e02\u5e9c\u5c0f\u5167\u95a3\u4eba\u4e8b\uff0c\u4e26\u5ba3\u5e03\u7531\u524d\r\n",
        "\u71df\u5efa\u7f72\u9577\u3001\u53f0\u5357\u5e02\u524d\u526f\u5e02\u9577\u6797\u6b3d\u69ae\u64d4\u4efb\u7b2c\u4e8c\u526f\u5e02\u9577\u3002\u800c\u7531\u65bc\u6797\u6b3d\u69ae\u5728\u71df\u5efa\u7f72\u9577\u4efb\u5167\u66fe\u6838\u51c6\r\n",
        "\u7c21\u7a31\u749e\u7389\u8a08\u756b\uff0c\u800c\u56de\u4ea4\u5927\u4efb\u6559\u5f8c\uff0c\u537b\u53c8\u64d4\u4efb\u749e\u7389\u8a08\u756b\u63a8\u52d5\u5c0f\u7d44\u7684\u526f\u53ec\u96c6\u4eba\uff0c\u906d\u5916\u754c\u8cea\u7591\u300c\r\n",
        "\u7403\u54e1\u517c\u88c1\u5224\u300d\u4e4b\u5acc\uff1b\u5728\u53f0\u5357\u5e02\u64d4\u4efb\u526f\u5e02\u9577\u4efb\u5167\uff0c\u53c8\u56e0\u529b\u63a8\u9435\u8def\u6771\u79fb\uff0c\u906d\u793e\u904b\u5718\u63d0\u8cea\u7591\u571f\u5730\r\n",
        "\u6d6e\u6feb\u5fb5\u6536\u3002\u001b[m\u001b[K\r\n",
        "\u001b[33;45m  \u700f\u89bd \u7b2c 1/4 \u9801 ( 26%) \u001b[1;30;47m \u76ee\u524d\u986f\u793a: \u7b2c 01~11 \u884c\u001b[0;47m  \u001b[31m(y)\u001b[30m\u56de\u61c9\u001b[31m(X%)\u001b[30m\u63a8\u6587\u001b[31m(h)\u001b[30m\u8aaa\u660e\u001b[31m(\u2190)\u001b[30m\u96e2\u958b\u001b[m\u001b[24;80H\n"
       ]
      }
     ],
     "prompt_number": 8
    },
    {
     "cell_type": "code",
     "collapsed": false,
     "input": [
      "# first line, Author, board\n",
      "# print \"\u4f5c\u8005\"\n",
      "print dataptt.splitlines()[0].split(\" \")[3]#.split(\" \")[1]\n",
      "# print dataptt.splitlines()[0].split(\"[\")[3].split(\" \")[2]\n",
      "# print dataptt.splitlines()[0].split(\"[\")[4].split(\" \")[1]\n",
      "# print dataptt.splitlines()[0].split(\"[\")[5].split(\" \")[1]\n",
      "\n",
      "#second line. Topic, status\n",
      "print \"-------2rd-------\"\n",
      "print dataptt.splitlines()[1].split(\"[\")[1].split(\" \")[1]\n",
      "print dataptt.splitlines()[1].split(\"[\")[2].split(\" \")[1], \"Status\"\n",
      "print dataptt.splitlines()[1].split(\"[\")[3].split(\"]\")[0]\n",
      "# print dataptt.splitlines()[1].split(\"[\")[3].split(\"]\")[1].split(\" \")[0]\n",
      "print dataptt.splitlines()[1].split(\"[\")[3].split(\"]\")[1].split(\" \")[1]\n",
      "\n",
      "#Third line. post time\n",
      "print \"-------3rd-------\"\n",
      "# print dataptt.splitlines()[2].split(\"[\")[1].split(\" \")[1]\n",
      "print dataptt.splitlines()[2].split(\"[\")[2].split(\" \")[1]\n",
      "print dataptt.splitlines()[2].split(\"[\")[2].split(\" \")[2]\n",
      "print dataptt.splitlines()[2].split(\"[\")[2].split(\" \")[4]\n",
      "print dataptt.splitlines()[2].split(\"[\")[2].split(\" \")[5]\n",
      "print dataptt.splitlines()[2].split(\"[\")[2].split(\" \")[6]\n",
      "# Page end\n",
      "print \"------page-end----\"\n",
      "print dataptt.splitlines()[23]\n",
      "print dataptt.splitlines()[23].split(\" \")[7]#.split(\" \")[6]\n",
      "\n",
      "# ptt.write(\"\\x23\\r\\n\")\n",
      "# print dataptt.splitlines()[-1]#.split(\"[\")[2].split(\" \")[6]\n",
      "# print dataptt.splitlines()[-1].split(\"[\")[1].split(\"[\")[0].split(\" \")[6]"
     ],
     "language": "python",
     "metadata": {},
     "outputs": [
      {
       "output_type": "stream",
       "stream": "stdout",
       "text": [
        "Tasoce\n",
        "-------2rd-------\n",
        "\u6a19\u984c\n",
        "Re: Status\n",
        "\u65b0\u805e\n",
        "\u52dd\u9078\u4e0d\u5230\u4e00\u5468\u3000\u67ef\u6587\u54f2\u65b0\u4eba\u4e8b\u3001\u653f\u7b56\u81f3\u5c11\u56db\n",
        "-------3rd-------\n",
        "Fri\n",
        "Dec\n",
        "5\n",
        "17:04:03\n",
        "2014\n",
        "------page-end----\n",
        "\u001b[33;45m  \u700f\u89bd \u7b2c 1/4 \u9801 ( 26%) \u001b[1;30;47m \u76ee\u524d\u986f\u793a: \u7b2c 01~11 \u884c\u001b[0;47m  \u001b[31m(y)\u001b[30m\u56de\u61c9\u001b[31m(X%)\u001b[30m\u63a8\u6587\u001b[31m(h)\u001b[30m\u8aaa\u660e\u001b[31m(\u2190)\u001b[30m\u96e2\u958b\u001b[m\u001b[24;80H\n",
        "26%)\n"
       ]
      }
     ],
     "prompt_number": 9
    },
    {
     "cell_type": "code",
     "collapsed": false,
     "input": [
      "def ptt_post_save(dataptt):\n",
      "    potime = dataptt.splitlines()[2].split(\"[\")[2].split(\" \")[6]\\\n",
      "    + \"-\" + dataptt.splitlines()[2].split(\"[\")[2].split(\" \")[1]\\\n",
      "    + \"-\" + dataptt.splitlines()[2].split(\"[\")[2].split(\" \")[4]\\\n",
      "    + \"-\" + dataptt.splitlines()[2].split(\"[\")[2].split(\" \")[5]\\\n",
      "    + \"-\" + dataptt.splitlines()[2].split(\"[\")[2].split(\" \")[1]\n",
      "    \n",
      "    title = dataptt.splitlines()[1].split(\"[\")[3].split(\"]\")[1].split(\" \")[1]\n",
      "    title_status = dataptt.splitlines()[1].split(\"[\")[2].split(\" \")[1]\n",
      "    title_feature = dataptt.splitlines()[1].split(\"[\")[3].split(\"]\")[0]\n",
      "    \n",
      "    print potime\n",
      "    print title"
     ],
     "language": "python",
     "metadata": {},
     "outputs": [],
     "prompt_number": 10
    },
    {
     "cell_type": "code",
     "collapsed": false,
     "input": [
      "ptt_post_save(dataptt)"
     ],
     "language": "python",
     "metadata": {},
     "outputs": [
      {
       "output_type": "stream",
       "stream": "stdout",
       "text": [
        "2014-Fri-5-17:04:03-Fri\n",
        "\u52dd\u9078\u4e0d\u5230\u4e00\u5468\u3000\u67ef\u6587\u54f2\u65b0\u4eba\u4e8b\u3001\u653f\u7b56\u81f3\u5c11\u56db\n"
       ]
      }
     ],
     "prompt_number": 14
    },
    {
     "cell_type": "code",
     "collapsed": false,
     "input": [
      "print ptt.read_very_eager().decode(\"big5\", \"ignore\").encode(\"utf-8\")"
     ],
     "language": "python",
     "metadata": {},
     "outputs": [
      {
       "output_type": "stream",
       "stream": "stdout",
       "text": [
        "\n"
       ]
      }
     ],
     "prompt_number": 17
    },
    {
     "cell_type": "code",
     "collapsed": false,
     "input": [
      "def ppt_post_list():\n",
      "    "
     ],
     "language": "python",
     "metadata": {},
     "outputs": []
    },
    {
     "cell_type": "code",
     "collapsed": false,
     "input": [
      "# endpa = dataptt.splitlines()[46].split(\"[\")[1].split(\"[\")[0].split(\" \")[6]\n",
      "# a = 0\n",
      "# stt = \"\"\n",
      "# lili = []\n",
      "# for i in dataptt.splitlines():\n",
      "#     a = a + 1\n",
      "#     if a >= 4 :\n",
      "# #         stt = stt + i#.decode(\"big5\", \"ignore\").encode(\"utf-8\")\n",
      "#         lili\n",
      "#     print i,a\n",
      "    \n",
      "# print \"-------------LALA---------------\"\n",
      "# print stt"
     ],
     "language": "python",
     "metadata": {},
     "outputs": [],
     "prompt_number": 34
    }
   ],
   "metadata": {}
  }
 ]
}