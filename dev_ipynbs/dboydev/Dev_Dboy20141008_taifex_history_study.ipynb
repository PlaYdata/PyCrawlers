{
 "metadata": {
  "name": "",
  "signature": "sha256:e73caf3db1bceca75159b4b3607e3076b25484ea529e65bb21129a2e3721d54f"
 },
 "nbformat": 3,
 "nbformat_minor": 0,
 "worksheets": [
  {
   "cells": [
    {
     "cell_type": "markdown",
     "metadata": {},
     "source": [
      "## Target:\n",
      "http://www.taifex.com.tw/eng/eng3/eng3_2.asp"
     ]
    },
    {
     "cell_type": "code",
     "collapsed": false,
     "input": [
      "import pandas as pd\n",
      "from pandas.io.parsers import StringIO\n",
      "import numpy as np\n",
      "import requests\n",
      "import csv\n",
      "import re"
     ],
     "language": "python",
     "metadata": {},
     "outputs": [],
     "prompt_number": 1
    },
    {
     "cell_type": "code",
     "collapsed": false,
     "input": [
      "start_date = \"2014/10/01\"\n",
      "end_date = \"2014/10/06\""
     ],
     "language": "python",
     "metadata": {},
     "outputs": [],
     "prompt_number": 80
    },
    {
     "cell_type": "code",
     "collapsed": false,
     "input": [
      "req_data = {\"DATA_DATE\":start_date,\n",
      "            \"DATA_DATE1\":end_date,\n",
      "            \"COMMODITY_ID\":\"all\",\n",
      "            \"commodity_id2t\":\"\"}"
     ],
     "language": "python",
     "metadata": {},
     "outputs": [],
     "prompt_number": 81
    },
    {
     "cell_type": "code",
     "collapsed": false,
     "input": [
      "res = requests.post(\"http://www.taifex.com.tw/eng/eng3/eng3_2dl.asp\", data = req_data)"
     ],
     "language": "python",
     "metadata": {},
     "outputs": [],
     "prompt_number": 82
    },
    {
     "cell_type": "code",
     "collapsed": false,
     "input": [
      "print res.text[:399]"
     ],
     "language": "python",
     "metadata": {},
     "outputs": [
      {
       "output_type": "stream",
       "stream": "stdout",
       "text": [
        "date,contract,contract month(Week),open,high,low,last,Change,%,volume,settlement_price,open_interest,best_bid,best_ask,historical_high,historical_low\r\n",
        "2014/10/1,XIF,201410  ,11237,11298,11190,11258,-72,-0.64%,543,11258,520,11243,11252,11831,11156\r\n",
        "2014/10/1,XIF,201411  ,11212,11300,11186,11253,-74,-0.65%,153,11253,78,11241,11249,11525,11159\r\n",
        "2014/10/1,XIF,201412  ,-,-,-,-,-,-,-,11255,14,-,-,-,-\r\n",
        "\n"
       ]
      }
     ],
     "prompt_number": 84
    },
    {
     "cell_type": "code",
     "collapsed": false,
     "input": [
      "res.encoding = \"big5\""
     ],
     "language": "python",
     "metadata": {},
     "outputs": [],
     "prompt_number": 85
    },
    {
     "cell_type": "code",
     "collapsed": false,
     "input": [
      "csv_string = res.text.replace(u'\\uff0b',u\"+\").replace(u'\\uff0d',u\"-\").replace(u'\\uff1a',u\":\").replace(u\"\\u2019\", u\"`\")"
     ],
     "language": "python",
     "metadata": {},
     "outputs": [],
     "prompt_number": 86
    },
    {
     "cell_type": "code",
     "collapsed": false,
     "input": [
      "csvfile = StringIO(csv_string)"
     ],
     "language": "python",
     "metadata": {},
     "outputs": [],
     "prompt_number": 87
    },
    {
     "cell_type": "code",
     "collapsed": false,
     "input": [
      "rows = list(csv.reader(csvfile))"
     ],
     "language": "python",
     "metadata": {},
     "outputs": [],
     "prompt_number": 88
    },
    {
     "cell_type": "code",
     "collapsed": false,
     "input": [
      "rows[0]"
     ],
     "language": "python",
     "metadata": {},
     "outputs": [
      {
       "metadata": {},
       "output_type": "pyout",
       "prompt_number": 89,
       "text": [
        "['date',\n",
        " 'contract',\n",
        " 'contract month(Week)',\n",
        " 'open',\n",
        " 'high',\n",
        " 'low',\n",
        " 'last',\n",
        " 'Change',\n",
        " '%',\n",
        " 'volume',\n",
        " 'settlement_price',\n",
        " 'open_interest',\n",
        " 'best_bid',\n",
        " 'best_ask',\n",
        " 'historical_high',\n",
        " 'historical_low']"
       ]
      }
     ],
     "prompt_number": 89
    },
    {
     "cell_type": "code",
     "collapsed": false,
     "input": [
      "columns_number_set = set(map(lambda xx: len(xx), rows))"
     ],
     "language": "python",
     "metadata": {},
     "outputs": [],
     "prompt_number": 90
    },
    {
     "cell_type": "code",
     "collapsed": false,
     "input": [
      "columns_number_set"
     ],
     "language": "python",
     "metadata": {},
     "outputs": [
      {
       "metadata": {},
       "output_type": "pyout",
       "prompt_number": 91,
       "text": [
        "{16}"
       ]
      }
     ],
     "prompt_number": 91
    },
    {
     "cell_type": "code",
     "collapsed": false,
     "input": [
      "columns = map(lambda xx: \" \".join(map(lambda yy: yy.capitalize(), re.split(\" |_\", xx))), rows[0])\n",
      "df = pd.DataFrame(rows[1:], columns = columns)\n",
      "for colname in df.columns:\n",
      "    df[colname] = df[colname].map(lambda xx: xx.replace(u\"-\", \"\").replace(u\",\", \"\"))"
     ],
     "language": "python",
     "metadata": {},
     "outputs": [],
     "prompt_number": 92
    },
    {
     "cell_type": "code",
     "collapsed": false,
     "input": [
      "df.head()"
     ],
     "language": "python",
     "metadata": {},
     "outputs": [
      {
       "html": [
        "<div style=\"max-height:1000px;max-width:1500px;overflow:auto;\">\n",
        "<table border=\"1\" class=\"dataframe\">\n",
        "  <thead>\n",
        "    <tr style=\"text-align: right;\">\n",
        "      <th></th>\n",
        "      <th>Date</th>\n",
        "      <th>Contract</th>\n",
        "      <th>Contract Month(week)</th>\n",
        "      <th>Open</th>\n",
        "      <th>High</th>\n",
        "      <th>Low</th>\n",
        "      <th>Last</th>\n",
        "      <th>Change</th>\n",
        "      <th>%</th>\n",
        "      <th>Volume</th>\n",
        "      <th>Settlement Price</th>\n",
        "      <th>Open Interest</th>\n",
        "      <th>Best Bid</th>\n",
        "      <th>Best Ask</th>\n",
        "      <th>Historical High</th>\n",
        "      <th>Historical Low</th>\n",
        "    </tr>\n",
        "  </thead>\n",
        "  <tbody>\n",
        "    <tr>\n",
        "      <th>0</th>\n",
        "      <td> 2014/10/1</td>\n",
        "      <td> XIF</td>\n",
        "      <td> 201410  </td>\n",
        "      <td> 11237</td>\n",
        "      <td> 11298</td>\n",
        "      <td> 11190</td>\n",
        "      <td> 11258</td>\n",
        "      <td> 72</td>\n",
        "      <td> 0.64%</td>\n",
        "      <td> 543</td>\n",
        "      <td> 11258</td>\n",
        "      <td> 520</td>\n",
        "      <td> 11243</td>\n",
        "      <td> 11252</td>\n",
        "      <td> 11831</td>\n",
        "      <td> 11156</td>\n",
        "    </tr>\n",
        "    <tr>\n",
        "      <th>1</th>\n",
        "      <td> 2014/10/1</td>\n",
        "      <td> XIF</td>\n",
        "      <td> 201411  </td>\n",
        "      <td> 11212</td>\n",
        "      <td> 11300</td>\n",
        "      <td> 11186</td>\n",
        "      <td> 11253</td>\n",
        "      <td> 74</td>\n",
        "      <td> 0.65%</td>\n",
        "      <td> 153</td>\n",
        "      <td> 11253</td>\n",
        "      <td>  78</td>\n",
        "      <td> 11241</td>\n",
        "      <td> 11249</td>\n",
        "      <td> 11525</td>\n",
        "      <td> 11159</td>\n",
        "    </tr>\n",
        "    <tr>\n",
        "      <th>2</th>\n",
        "      <td> 2014/10/1</td>\n",
        "      <td> XIF</td>\n",
        "      <td> 201412  </td>\n",
        "      <td>      </td>\n",
        "      <td>      </td>\n",
        "      <td>      </td>\n",
        "      <td>      </td>\n",
        "      <td>   </td>\n",
        "      <td>      </td>\n",
        "      <td>    </td>\n",
        "      <td> 11255</td>\n",
        "      <td>  14</td>\n",
        "      <td>      </td>\n",
        "      <td>      </td>\n",
        "      <td>      </td>\n",
        "      <td>      </td>\n",
        "    </tr>\n",
        "    <tr>\n",
        "      <th>3</th>\n",
        "      <td> 2014/10/1</td>\n",
        "      <td> XIF</td>\n",
        "      <td> 201503  </td>\n",
        "      <td>      </td>\n",
        "      <td>      </td>\n",
        "      <td>      </td>\n",
        "      <td>      </td>\n",
        "      <td>   </td>\n",
        "      <td>      </td>\n",
        "      <td>    </td>\n",
        "      <td> 11073</td>\n",
        "      <td>   2</td>\n",
        "      <td>      </td>\n",
        "      <td>      </td>\n",
        "      <td>      </td>\n",
        "      <td>      </td>\n",
        "    </tr>\n",
        "    <tr>\n",
        "      <th>4</th>\n",
        "      <td> 2014/10/1</td>\n",
        "      <td> XIF</td>\n",
        "      <td> 201506  </td>\n",
        "      <td>      </td>\n",
        "      <td>      </td>\n",
        "      <td>      </td>\n",
        "      <td>      </td>\n",
        "      <td>   </td>\n",
        "      <td>      </td>\n",
        "      <td>    </td>\n",
        "      <td> 11102</td>\n",
        "      <td>   0</td>\n",
        "      <td>      </td>\n",
        "      <td>      </td>\n",
        "      <td>      </td>\n",
        "      <td>      </td>\n",
        "    </tr>\n",
        "  </tbody>\n",
        "</table>\n",
        "</div>"
       ],
       "metadata": {},
       "output_type": "pyout",
       "prompt_number": 93,
       "text": [
        "        Date Contract Contract Month(week)   Open   High    Low   Last Change  \\\n",
        "0  2014/10/1      XIF             201410    11237  11298  11190  11258     72   \n",
        "1  2014/10/1      XIF             201411    11212  11300  11186  11253     74   \n",
        "2  2014/10/1      XIF             201412                                        \n",
        "3  2014/10/1      XIF             201503                                        \n",
        "4  2014/10/1      XIF             201506                                        \n",
        "\n",
        "       % Volume Settlement Price Open Interest Best Bid Best Ask  \\\n",
        "0  0.64%    543            11258           520    11243    11252   \n",
        "1  0.65%    153            11253            78    11241    11249   \n",
        "2                          11255            14                     \n",
        "3                          11073             2                     \n",
        "4                          11102             0                     \n",
        "\n",
        "  Historical High Historical Low  \n",
        "0           11831          11156  \n",
        "1           11525          11159  \n",
        "2                                 \n",
        "3                                 \n",
        "4                                 "
       ]
      }
     ],
     "prompt_number": 93
    },
    {
     "cell_type": "code",
     "collapsed": false,
     "input": [
      "req_data2 = {\"his_year\":\"2013\"}\n",
      "res2 = requests.post(\"http://www.taifex.com.tw/eng/eng3/eng3_2_his_dl.asp\", data = req_data2)"
     ],
     "language": "python",
     "metadata": {},
     "outputs": [],
     "prompt_number": 94
    },
    {
     "cell_type": "code",
     "collapsed": false,
     "input": [
      "res2.__dict__.keys()"
     ],
     "language": "python",
     "metadata": {},
     "outputs": [
      {
       "metadata": {},
       "output_type": "pyout",
       "prompt_number": 95,
       "text": [
        "['cookies',\n",
        " '_content',\n",
        " 'headers',\n",
        " 'url',\n",
        " 'status_code',\n",
        " '_content_consumed',\n",
        " 'encoding',\n",
        " 'request',\n",
        " 'connection',\n",
        " 'elapsed',\n",
        " 'raw',\n",
        " 'reason',\n",
        " 'history']"
       ]
      }
     ],
     "prompt_number": 95
    },
    {
     "cell_type": "code",
     "collapsed": false,
     "input": [
      "print res2.headers\n",
      "print res2.url\n",
      "print "
     ],
     "language": "python",
     "metadata": {},
     "outputs": [
      {
       "output_type": "stream",
       "stream": "stdout",
       "text": [
        "{'content-length': '4161334', 'x-powered-by': 'TaiFex', 'accept-ranges': 'bytes', 'server': 'TaiFex', 'last-modified': 'Tue, 31 Dec 2013 07:27:15 GMT', 'etag': '\"621cc2baf95cf1:ce8\"', 'date': 'Wed, 08 Oct 2014 12:51:14 GMT', 'content-type': 'application/x-zip-compressed'}\n",
        "http://www.taifex.com.tw/eng/eng3/hisdata_fut/2013_fut.zip\n",
        "\n"
       ]
      }
     ],
     "prompt_number": 96
    },
    {
     "cell_type": "code",
     "collapsed": false,
     "input": [
      "url_template = \"http://www.taifex.com.tw/eng/eng3/hisdata_fut/{year}_fut.zip\""
     ],
     "language": "python",
     "metadata": {},
     "outputs": [],
     "prompt_number": 97
    },
    {
     "cell_type": "code",
     "collapsed": false,
     "input": [
      "test_res = requests.get(url_template.format(year=\"2011\"), stream = True)"
     ],
     "language": "python",
     "metadata": {},
     "outputs": [],
     "prompt_number": 98
    },
    {
     "cell_type": "code",
     "collapsed": false,
     "input": [
      "test_res.__dict__.keys()"
     ],
     "language": "python",
     "metadata": {},
     "outputs": [
      {
       "metadata": {},
       "output_type": "pyout",
       "prompt_number": 99,
       "text": [
        "['cookies',\n",
        " '_content',\n",
        " 'headers',\n",
        " 'url',\n",
        " 'status_code',\n",
        " '_content_consumed',\n",
        " 'encoding',\n",
        " 'request',\n",
        " 'connection',\n",
        " 'elapsed',\n",
        " 'raw',\n",
        " 'reason',\n",
        " 'history']"
       ]
      }
     ],
     "prompt_number": 99
    },
    {
     "cell_type": "code",
     "collapsed": false,
     "input": [
      "content = test_res.content"
     ],
     "language": "python",
     "metadata": {},
     "outputs": [],
     "prompt_number": 100
    },
    {
     "cell_type": "code",
     "collapsed": false,
     "input": [
      "content[:200]"
     ],
     "language": "python",
     "metadata": {},
     "outputs": [
      {
       "metadata": {},
       "output_type": "pyout",
       "prompt_number": 101,
       "text": [
        "'PK\\x03\\x04\\x14\\x00\\x00\\x00\\x08\\x00\\xc7D\\x9fCG*\\xaby~k\\x1d\\x00\\xbb+\\x99\\x00\\x12\\x00\\x00\\x002011_07_12_fut.csv\\xac\\xfd\\xcb\\xb2,9r%\\x88\\xce[\\xe4\\xfe\\x03\\'9\\xdb\\xc7\\xdb\\xf0\\x06\\x86Lw\\xf3\\xc7\\x8eL\\xb2H\\x06\\xc9`M(\\xec\\xea\\x94\\xae\\x92\\xcb\"[\\xaa\\xd8\\xdd\\xbf\\x7f\\xa1\\xaa\\x80\\x01\\xe6\\xa6\\xcb\\xfc\\xe4\\x95\\x96\\x88\\x83m\\x0e\\x87\\xaa=\\x1c\\x86\\x87.\\xd5\\xa5\\xff\\xfb\\xbf\\xfc\\xc7\\x9f\\xbe\\xfe\\xcb\\xbf\\xff\\xdb\\x7f\\xfc\\x8f\\x7f\\xf9/\\xff\\xb1\\x1d\\xfc\\xf3\\x7f\\xaf\\x07\\xff\\xf5\\xeb\\xdf\\xff\\xcf?\\xfd\\xdb\\xd7\\x7f\\xfdo\\xff\\xc7\\x7f\\xfd\\xfa\\xd7\\x7f\\xff\\x7f\\xbe\\xfe\\xf5_\\xfe\\xe7\\x7f|]\\xff\\xeb\\xbf\\xfc\\xdb\\xff\\xf1\\xa7\\xaf\\xdf}\\xfd\\xdf\\xff\\xfe\\xaf\\xff\\xd7\\x7f\\xff\\xd3\\xd7\\xff'"
       ]
      }
     ],
     "prompt_number": 101
    },
    {
     "cell_type": "code",
     "collapsed": false,
     "input": [
      "import os\n",
      "import pycrawlers"
     ],
     "language": "python",
     "metadata": {},
     "outputs": [],
     "prompt_number": 102
    },
    {
     "cell_type": "code",
     "collapsed": false,
     "input": [
      "site_packages_pattern = re.compile(\"site-packages\")"
     ],
     "language": "python",
     "metadata": {},
     "outputs": [],
     "prompt_number": 103
    },
    {
     "cell_type": "code",
     "collapsed": false,
     "input": [
      "match = site_packages_pattern.search(pycrawlers.__file__)"
     ],
     "language": "python",
     "metadata": {},
     "outputs": [],
     "prompt_number": 104
    },
    {
     "cell_type": "code",
     "collapsed": false,
     "input": [
      "match.end()"
     ],
     "language": "python",
     "metadata": {},
     "outputs": [
      {
       "metadata": {},
       "output_type": "pyout",
       "prompt_number": 105,
       "text": [
        "74"
       ]
      }
     ],
     "prompt_number": 105
    },
    {
     "cell_type": "code",
     "collapsed": false,
     "input": [
      "site_package_path = pycrawlers.__file__[:match.end()]"
     ],
     "language": "python",
     "metadata": {},
     "outputs": [],
     "prompt_number": 106
    },
    {
     "cell_type": "code",
     "collapsed": false,
     "input": [
      "site_package_path"
     ],
     "language": "python",
     "metadata": {},
     "outputs": [
      {
       "metadata": {},
       "output_type": "pyout",
       "prompt_number": 107,
       "text": [
        "'/Users/DboyLiao/.pyenv/versions/anaconda-2.0.1/lib/python2.7/site-packages'"
       ]
      }
     ],
     "prompt_number": 107
    },
    {
     "cell_type": "code",
     "collapsed": false,
     "input": [
      "temp_files_path = os.path.join(site_package_path, \"pycrawlers_temp_files\")\n",
      "temp_files_path"
     ],
     "language": "python",
     "metadata": {},
     "outputs": [
      {
       "metadata": {},
       "output_type": "pyout",
       "prompt_number": 108,
       "text": [
        "'/Users/DboyLiao/.pyenv/versions/anaconda-2.0.1/lib/python2.7/site-packages/pycrawlers_temp_files'"
       ]
      }
     ],
     "prompt_number": 108
    },
    {
     "cell_type": "code",
     "collapsed": false,
     "input": [
      "taifex_temp_path = os.path.join(temp_files_path, \"taifex_temp\")\n",
      "taifex_temp_path"
     ],
     "language": "python",
     "metadata": {},
     "outputs": [
      {
       "metadata": {},
       "output_type": "pyout",
       "prompt_number": 109,
       "text": [
        "'/Users/DboyLiao/.pyenv/versions/anaconda-2.0.1/lib/python2.7/site-packages/pycrawlers_temp_files/taifex_temp'"
       ]
      }
     ],
     "prompt_number": 109
    },
    {
     "cell_type": "code",
     "collapsed": false,
     "input": [
      "if not \"pycrawlers_temp_files\" in os.listdir(site_package_path):\n",
      "    os.mkdir(temp_files_path)\n",
      "if not \"taifex_temp\" in os.listdir(temp_files_path):\n",
      "    os.mkdir(os.path.join(temp_files_path, \"taifex_temp\"))"
     ],
     "language": "python",
     "metadata": {},
     "outputs": [],
     "prompt_number": 115
    },
    {
     "cell_type": "code",
     "collapsed": false,
     "input": [
      "import zipfile"
     ],
     "language": "python",
     "metadata": {},
     "outputs": [],
     "prompt_number": 116
    },
    {
     "cell_type": "code",
     "collapsed": false,
     "input": [
      "temp_zip_file = zipfile.ZipFile(StringIO(content))"
     ],
     "language": "python",
     "metadata": {},
     "outputs": [],
     "prompt_number": 117
    },
    {
     "cell_type": "code",
     "collapsed": false,
     "input": [
      "temp_zip_file.extractall(path = taifex_temp_path)"
     ],
     "language": "python",
     "metadata": {},
     "outputs": [],
     "prompt_number": 118
    },
    {
     "cell_type": "code",
     "collapsed": false,
     "input": [
      "os.listdir(taifex_temp_path)"
     ],
     "language": "python",
     "metadata": {},
     "outputs": [
      {
       "metadata": {},
       "output_type": "pyout",
       "prompt_number": 119,
       "text": [
        "['2011_01_06_fut.csv', '2011_07_12_fut.csv']"
       ]
      }
     ],
     "prompt_number": 119
    },
    {
     "cell_type": "code",
     "collapsed": false,
     "input": [
      "os.system(\"rm -rf {temp_path}\".format(temp_path = temp_files_path))"
     ],
     "language": "python",
     "metadata": {},
     "outputs": [
      {
       "metadata": {},
       "output_type": "pyout",
       "prompt_number": 120,
       "text": [
        "0"
       ]
      }
     ],
     "prompt_number": 120
    },
    {
     "cell_type": "code",
     "collapsed": false,
     "input": [],
     "language": "python",
     "metadata": {},
     "outputs": []
    }
   ],
   "metadata": {}
  }
 ]
}