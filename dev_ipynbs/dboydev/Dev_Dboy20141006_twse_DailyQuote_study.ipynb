{
 "metadata": {
  "name": "",
  "signature": "sha256:9b0b9a60399bfa3bb809e07bee9fdfd13fc4854be956e9a613275bcbd5959eb1"
 },
 "nbformat": 3,
 "nbformat_minor": 0,
 "worksheets": [
  {
   "cells": [
    {
     "cell_type": "code",
     "collapsed": false,
     "input": [
      "import pandas as pd\n",
      "from pandas.io.parsers import StringIO\n",
      "import numpy as np\n",
      "from pyquery import PyQuery\n",
      "import requests\n",
      "import re\n",
      "import csv"
     ],
     "language": "python",
     "metadata": {},
     "outputs": [],
     "prompt_number": 2
    },
    {
     "cell_type": "code",
     "collapsed": false,
     "input": [
      "url = \"http://www.twse.com.tw/en/trading/exchange/MI_INDEX/MI_INDEX3_print.php?genpage=genpage/Report{year}{month}/A112{year}{month}{day}ALLBUT0999_1.php&type=csv\""
     ],
     "language": "python",
     "metadata": {},
     "outputs": [],
     "prompt_number": 3
    },
    {
     "cell_type": "code",
     "collapsed": false,
     "input": [
      "date = \"2014/10/03\"\n",
      "year, month, day = date.split(\"/\")"
     ],
     "language": "python",
     "metadata": {},
     "outputs": [],
     "prompt_number": 4
    },
    {
     "cell_type": "code",
     "collapsed": false,
     "input": [
      "res = requests.get(url.format(year = year, month = month, day = day))"
     ],
     "language": "python",
     "metadata": {},
     "outputs": [],
     "prompt_number": 5
    },
    {
     "cell_type": "code",
     "collapsed": false,
     "input": [
      "res.text[:1000]"
     ],
     "language": "python",
     "metadata": {},
     "outputs": [
      {
       "metadata": {},
       "output_type": "pyout",
       "prompt_number": 7,
       "text": [
        "u'2014/10/03 Market Summary\\nIndex,Closing Index,Dir(+/-),Change,Change(%)\\nFormosa Index,\"10,603.36\",\\xa1\\xcf,148.91,1.42\\nTAIEX,\"9,106.28\",\\xa1\\xcf,131.09,1.46\\nFTSE TWSE Taiwan 50 Index,\"6,506.30\",\\xa1\\xcf,121.59,1.90\\nFTSE TWSE Taiwan Mid-Cap 100 Index,\"7,321.87\",\\xa1\\xcf,71.63,0.99\\nFTSE TWSE Taiwan Technology Index,\"7,484.50\",\\xa1\\xcf,155.73,2.12\\nFTSE TWSE Taiwan Eight Industries Index,\"7,920.46\",\\xa1\\xcf,94.11,1.20\\nFTSE TWSE Taiwan Dividend+ Index,\"5,727.16\",\\xa1\\xcf,79.51,1.41\\nTaiwan RAFI&reg; EMP 99 Index,\"5,440.12\",\\xa1\\xcf,94.37,1.77\\nTaiwan HC 100 Index,\"4,995.60\",\\xa1\\xcf,74.67,1.52\\nTaiwan CO 101 Index,\"5,772.87\",\\xa1\\xcf,90.59,1.59\\nS&P/TWSE Taiwan Low Volatility High Dividend Index,\"1,424.92\",\\xa1\\xcf,22.56,1.61\\nNon-Finance Sub-index,\"7,646.86\",\\xa1\\xcf,101.20,1.34\\nNon-Electronics Sub-index,\"13,201.50\",\\xa1\\xcf,149.63,1.15\\nNon-Finance Non-Electronics Sub-index,\"11,292.73\",\\xa1\\xcf,79.69,0.71\\nCement and Ceramic,591.43,\\xa1\\xcf,5.74,0.98\\nPlastic and Chemical,792.46,\\xa1\\xcf,6.06,0.77\\nElectrical,\"2,019.09\",\\xa1\\xcf,33.97,1.71\\nCement,149.45,\\xa1\\xcf,1.58,1.07\\nFood,\"1,265.24\",\\xa1\\xcf,13.07,1.04\\nP'"
       ]
      }
     ],
     "prompt_number": 7
    },
    {
     "cell_type": "code",
     "collapsed": false,
     "input": [
      "res.encoding"
     ],
     "language": "python",
     "metadata": {},
     "outputs": [
      {
       "metadata": {},
       "output_type": "pyout",
       "prompt_number": 8,
       "text": [
        "'ISO-8859-1'"
       ]
      }
     ],
     "prompt_number": 8
    },
    {
     "cell_type": "code",
     "collapsed": false,
     "input": [
      "res.encoding = \"big5\""
     ],
     "language": "python",
     "metadata": {},
     "outputs": [],
     "prompt_number": 9
    },
    {
     "cell_type": "code",
     "collapsed": false,
     "input": [
      "print res.text[:200]"
     ],
     "language": "python",
     "metadata": {},
     "outputs": [
      {
       "output_type": "stream",
       "stream": "stdout",
       "text": [
        "2014/10/03 Market Summary\n",
        "Index,Closing Index,Dir(+/-),Change,Change(%)\n",
        "Formosa Index,\"10,603.36\",\uff0b,148.91,1.42\n",
        "TAIEX,\"9,106.28\",\uff0b,131.09,1.46\n",
        "FTSE TWSE Taiwan 50 Index,\"6,506.30\",\uff0b,121.59,1.90\n",
        "FTSE T\n"
       ]
      }
     ],
     "prompt_number": 10
    },
    {
     "cell_type": "code",
     "collapsed": false,
     "input": [
      "csvfile = StringIO(res.text)"
     ],
     "language": "python",
     "metadata": {},
     "outputs": [],
     "prompt_number": 11
    },
    {
     "cell_type": "code",
     "collapsed": false,
     "input": [
      "csv_string = csv.reader(csvfile)"
     ],
     "language": "python",
     "metadata": {},
     "outputs": [],
     "prompt_number": 12
    },
    {
     "cell_type": "code",
     "collapsed": false,
     "input": [
      "rows_list = list(csv_string)"
     ],
     "language": "python",
     "metadata": {},
     "outputs": [
      {
       "ename": "UnicodeEncodeError",
       "evalue": "'ascii' codec can't encode character u'\\uff0b' in position 26: ordinal not in range(128)",
       "output_type": "pyerr",
       "traceback": [
        "\u001b[0;31m---------------------------------------------------------------------------\u001b[0m\n\u001b[0;31mUnicodeEncodeError\u001b[0m                        Traceback (most recent call last)",
        "\u001b[0;32m<ipython-input-13-55748e0d6757>\u001b[0m in \u001b[0;36m<module>\u001b[0;34m()\u001b[0m\n\u001b[0;32m----> 1\u001b[0;31m \u001b[0mrows_list\u001b[0m \u001b[0;34m=\u001b[0m \u001b[0mlist\u001b[0m\u001b[0;34m(\u001b[0m\u001b[0mcsv_string\u001b[0m\u001b[0;34m)\u001b[0m\u001b[0;34m\u001b[0m\u001b[0m\n\u001b[0m",
        "\u001b[0;31mUnicodeEncodeError\u001b[0m: 'ascii' codec can't encode character u'\\uff0b' in position 26: ordinal not in range(128)"
       ]
      }
     ],
     "prompt_number": 13
    },
    {
     "cell_type": "code",
     "collapsed": false,
     "input": [
      "csv_string = res.text.replace(u'\\uff0b',u\"+\").replace(u'\\uff0d',u\"-\").replace(u'\\uff1a',u\":\").replace(u'\\u2019',\"`\")"
     ],
     "language": "python",
     "metadata": {},
     "outputs": [],
     "prompt_number": 14
    },
    {
     "cell_type": "code",
     "collapsed": false,
     "input": [
      "csvfile = StringIO(csv_string)"
     ],
     "language": "python",
     "metadata": {},
     "outputs": [],
     "prompt_number": 15
    },
    {
     "cell_type": "code",
     "collapsed": false,
     "input": [
      "rows_list = list(csv.reader(csvfile))"
     ],
     "language": "python",
     "metadata": {},
     "outputs": [],
     "prompt_number": 16
    },
    {
     "cell_type": "code",
     "collapsed": false,
     "input": [
      "rows_list[:20]"
     ],
     "language": "python",
     "metadata": {},
     "outputs": [
      {
       "metadata": {},
       "output_type": "pyout",
       "prompt_number": 17,
       "text": [
        "[['2014/10/03 Market Summary'],\n",
        " ['Index', 'Closing Index', 'Dir(+/-)', 'Change', 'Change(%)'],\n",
        " ['Formosa Index', '10,603.36', '+', '148.91', '1.42'],\n",
        " ['TAIEX', '9,106.28', '+', '131.09', '1.46'],\n",
        " ['FTSE TWSE Taiwan 50 Index', '6,506.30', '+', '121.59', '1.90'],\n",
        " ['FTSE TWSE Taiwan Mid-Cap 100 Index', '7,321.87', '+', '71.63', '0.99'],\n",
        " ['FTSE TWSE Taiwan Technology Index', '7,484.50', '+', '155.73', '2.12'],\n",
        " ['FTSE TWSE Taiwan Eight Industries Index', '7,920.46', '+', '94.11', '1.20'],\n",
        " ['FTSE TWSE Taiwan Dividend+ Index', '5,727.16', '+', '79.51', '1.41'],\n",
        " ['Taiwan RAFI&reg; EMP 99 Index', '5,440.12', '+', '94.37', '1.77'],\n",
        " ['Taiwan HC 100 Index', '4,995.60', '+', '74.67', '1.52'],\n",
        " ['Taiwan CO 101 Index', '5,772.87', '+', '90.59', '1.59'],\n",
        " ['S&P/TWSE Taiwan Low Volatility High Dividend Index',\n",
        "  '1,424.92',\n",
        "  '+',\n",
        "  '22.56',\n",
        "  '1.61'],\n",
        " ['Non-Finance Sub-index', '7,646.86', '+', '101.20', '1.34'],\n",
        " ['Non-Electronics Sub-index', '13,201.50', '+', '149.63', '1.15'],\n",
        " ['Non-Finance Non-Electronics Sub-index', '11,292.73', '+', '79.69', '0.71'],\n",
        " ['Cement and Ceramic', '591.43', '+', '5.74', '0.98'],\n",
        " ['Plastic and Chemical', '792.46', '+', '6.06', '0.77'],\n",
        " ['Electrical', '2,019.09', '+', '33.97', '1.71'],\n",
        " ['Cement', '149.45', '+', '1.58', '1.07']]"
       ]
      }
     ],
     "prompt_number": 17
    },
    {
     "cell_type": "code",
     "collapsed": false,
     "input": [
      "set(map(len,rows_list))"
     ],
     "language": "python",
     "metadata": {},
     "outputs": [
      {
       "metadata": {},
       "output_type": "pyout",
       "prompt_number": 18,
       "text": [
        "{1, 2, 3, 4, 5, 15}"
       ]
      }
     ],
     "prompt_number": 18
    },
    {
     "cell_type": "code",
     "collapsed": false,
     "input": [
      "len15_data = [one_row for one_row in rows_list if len(one_row) ==15]"
     ],
     "language": "python",
     "metadata": {},
     "outputs": [],
     "prompt_number": 19
    },
    {
     "cell_type": "code",
     "collapsed": false,
     "input": [
      "df = pd.DataFrame(len15_data[1:], columns=len15_data[0])\n",
      "df.head()"
     ],
     "language": "python",
     "metadata": {},
     "outputs": [
      {
       "html": [
        "<div style=\"max-height:1000px;max-width:1500px;overflow:auto;\">\n",
        "<table border=\"1\" class=\"dataframe\">\n",
        "  <thead>\n",
        "    <tr style=\"text-align: right;\">\n",
        "      <th></th>\n",
        "      <th>Security Code</th>\n",
        "      <th>Trade Volume</th>\n",
        "      <th>Transaction</th>\n",
        "      <th>Trade Value</th>\n",
        "      <th>Opening Price</th>\n",
        "      <th>Highest Price</th>\n",
        "      <th>Lowest Price</th>\n",
        "      <th>Closing Price</th>\n",
        "      <th>Dir(+/-)</th>\n",
        "      <th>Change</th>\n",
        "      <th>Last Best Bid Price</th>\n",
        "      <th>Last Best Bid Volume</th>\n",
        "      <th>Last Best Ask Price</th>\n",
        "      <th>Last Best Ask Volume</th>\n",
        "      <th>Price-Earning ratio</th>\n",
        "    </tr>\n",
        "  </thead>\n",
        "  <tbody>\n",
        "    <tr>\n",
        "      <th>0</th>\n",
        "      <td> =\"0050\"</td>\n",
        "      <td> 16,238,916</td>\n",
        "      <td> 3,058</td>\n",
        "      <td> 1,074,509,403</td>\n",
        "      <td> 65.80</td>\n",
        "      <td> 66.70</td>\n",
        "      <td> 65.60</td>\n",
        "      <td> 66.70</td>\n",
        "      <td> +</td>\n",
        "      <td> 1.20</td>\n",
        "      <td> 66.65</td>\n",
        "      <td> 35</td>\n",
        "      <td> 66.70</td>\n",
        "      <td> 266</td>\n",
        "      <td> 0.00</td>\n",
        "    </tr>\n",
        "    <tr>\n",
        "      <th>1</th>\n",
        "      <td> =\"0051\"</td>\n",
        "      <td>     41,485</td>\n",
        "      <td>    29</td>\n",
        "      <td>     1,247,885</td>\n",
        "      <td> 30.04</td>\n",
        "      <td> 30.20</td>\n",
        "      <td> 29.96</td>\n",
        "      <td> 30.18</td>\n",
        "      <td> -</td>\n",
        "      <td> 0.01</td>\n",
        "      <td> 30.18</td>\n",
        "      <td>  2</td>\n",
        "      <td> 30.19</td>\n",
        "      <td>   1</td>\n",
        "      <td> 0.00</td>\n",
        "    </tr>\n",
        "    <tr>\n",
        "      <th>2</th>\n",
        "      <td> =\"0052\"</td>\n",
        "      <td>      2,000</td>\n",
        "      <td>     2</td>\n",
        "      <td>        77,240</td>\n",
        "      <td> 38.62</td>\n",
        "      <td> 38.62</td>\n",
        "      <td> 38.62</td>\n",
        "      <td> 38.62</td>\n",
        "      <td> +</td>\n",
        "      <td> 0.58</td>\n",
        "      <td> 38.62</td>\n",
        "      <td>  5</td>\n",
        "      <td> 39.13</td>\n",
        "      <td>  13</td>\n",
        "      <td> 0.00</td>\n",
        "    </tr>\n",
        "    <tr>\n",
        "      <th>3</th>\n",
        "      <td> =\"0053\"</td>\n",
        "      <td>     97,000</td>\n",
        "      <td>    49</td>\n",
        "      <td>     2,795,650</td>\n",
        "      <td> 28.84</td>\n",
        "      <td> 29.10</td>\n",
        "      <td> 28.50</td>\n",
        "      <td> 29.10</td>\n",
        "      <td> +</td>\n",
        "      <td> 0.77</td>\n",
        "      <td> 29.13</td>\n",
        "      <td>  1</td>\n",
        "      <td> 29.61</td>\n",
        "      <td>   3</td>\n",
        "      <td> 0.00</td>\n",
        "    </tr>\n",
        "    <tr>\n",
        "      <th>4</th>\n",
        "      <td> =\"0054\"</td>\n",
        "      <td>      8,000</td>\n",
        "      <td>     5</td>\n",
        "      <td>       188,230</td>\n",
        "      <td> 23.50</td>\n",
        "      <td> 23.59</td>\n",
        "      <td> 23.49</td>\n",
        "      <td> 23.59</td>\n",
        "      <td> +</td>\n",
        "      <td> 0.20</td>\n",
        "      <td> 23.59</td>\n",
        "      <td>  5</td>\n",
        "      <td> 23.67</td>\n",
        "      <td>   3</td>\n",
        "      <td> 0.00</td>\n",
        "    </tr>\n",
        "  </tbody>\n",
        "</table>\n",
        "</div>"
       ],
       "metadata": {},
       "output_type": "pyout",
       "prompt_number": 20,
       "text": [
        "  Security Code Trade Volume Transaction    Trade Value Opening Price  \\\n",
        "0       =\"0050\"   16,238,916       3,058  1,074,509,403         65.80   \n",
        "1       =\"0051\"       41,485          29      1,247,885         30.04   \n",
        "2       =\"0052\"        2,000           2         77,240         38.62   \n",
        "3       =\"0053\"       97,000          49      2,795,650         28.84   \n",
        "4       =\"0054\"        8,000           5        188,230         23.50   \n",
        "\n",
        "  Highest Price Lowest Price Closing Price Dir(+/-) Change  \\\n",
        "0         66.70        65.60         66.70        +   1.20   \n",
        "1         30.20        29.96         30.18        -   0.01   \n",
        "2         38.62        38.62         38.62        +   0.58   \n",
        "3         29.10        28.50         29.10        +   0.77   \n",
        "4         23.59        23.49         23.59        +   0.20   \n",
        "\n",
        "  Last Best Bid Price Last Best Bid Volume Last Best Ask Price  \\\n",
        "0               66.65                   35               66.70   \n",
        "1               30.18                    2               30.19   \n",
        "2               38.62                    5               39.13   \n",
        "3               29.13                    1               29.61   \n",
        "4               23.59                    5               23.67   \n",
        "\n",
        "  Last Best Ask Volume Price-Earning ratio  \n",
        "0                  266                0.00  \n",
        "1                    1                0.00  \n",
        "2                   13                0.00  \n",
        "3                    3                0.00  \n",
        "4                    3                0.00  "
       ]
      }
     ],
     "prompt_number": 20
    },
    {
     "cell_type": "code",
     "collapsed": false,
     "input": [
      "df.loc[0, \"Trade Volume\"]"
     ],
     "language": "python",
     "metadata": {},
     "outputs": [
      {
       "metadata": {},
       "output_type": "pyout",
       "prompt_number": 21,
       "text": [
        "'16,238,916'"
       ]
      }
     ],
     "prompt_number": 21
    },
    {
     "cell_type": "code",
     "collapsed": false,
     "input": [
      "for colname in df.columns:\n",
      "    df[colname] = df[colname].map(lambda xx: xx.replace(\"=\", \"\").replace(\",\", \"\").replace('\"', \"\").replace(\"--\", \"\"))"
     ],
     "language": "python",
     "metadata": {},
     "outputs": [],
     "prompt_number": 22
    },
    {
     "cell_type": "code",
     "collapsed": false,
     "input": [
      "df.head()"
     ],
     "language": "python",
     "metadata": {},
     "outputs": [
      {
       "html": [
        "<div style=\"max-height:1000px;max-width:1500px;overflow:auto;\">\n",
        "<table border=\"1\" class=\"dataframe\">\n",
        "  <thead>\n",
        "    <tr style=\"text-align: right;\">\n",
        "      <th></th>\n",
        "      <th>Security Code</th>\n",
        "      <th>Trade Volume</th>\n",
        "      <th>Transaction</th>\n",
        "      <th>Trade Value</th>\n",
        "      <th>Opening Price</th>\n",
        "      <th>Highest Price</th>\n",
        "      <th>Lowest Price</th>\n",
        "      <th>Closing Price</th>\n",
        "      <th>Dir(+/-)</th>\n",
        "      <th>Change</th>\n",
        "      <th>Last Best Bid Price</th>\n",
        "      <th>Last Best Bid Volume</th>\n",
        "      <th>Last Best Ask Price</th>\n",
        "      <th>Last Best Ask Volume</th>\n",
        "      <th>Price-Earning ratio</th>\n",
        "    </tr>\n",
        "  </thead>\n",
        "  <tbody>\n",
        "    <tr>\n",
        "      <th>0</th>\n",
        "      <td> 0050</td>\n",
        "      <td> 16238916</td>\n",
        "      <td> 3058</td>\n",
        "      <td> 1074509403</td>\n",
        "      <td> 65.80</td>\n",
        "      <td> 66.70</td>\n",
        "      <td> 65.60</td>\n",
        "      <td> 66.70</td>\n",
        "      <td> +</td>\n",
        "      <td> 1.20</td>\n",
        "      <td> 66.65</td>\n",
        "      <td> 35</td>\n",
        "      <td> 66.70</td>\n",
        "      <td> 266</td>\n",
        "      <td> 0.00</td>\n",
        "    </tr>\n",
        "    <tr>\n",
        "      <th>1</th>\n",
        "      <td> 0051</td>\n",
        "      <td>    41485</td>\n",
        "      <td>   29</td>\n",
        "      <td>    1247885</td>\n",
        "      <td> 30.04</td>\n",
        "      <td> 30.20</td>\n",
        "      <td> 29.96</td>\n",
        "      <td> 30.18</td>\n",
        "      <td> -</td>\n",
        "      <td> 0.01</td>\n",
        "      <td> 30.18</td>\n",
        "      <td>  2</td>\n",
        "      <td> 30.19</td>\n",
        "      <td>   1</td>\n",
        "      <td> 0.00</td>\n",
        "    </tr>\n",
        "    <tr>\n",
        "      <th>2</th>\n",
        "      <td> 0052</td>\n",
        "      <td>     2000</td>\n",
        "      <td>    2</td>\n",
        "      <td>      77240</td>\n",
        "      <td> 38.62</td>\n",
        "      <td> 38.62</td>\n",
        "      <td> 38.62</td>\n",
        "      <td> 38.62</td>\n",
        "      <td> +</td>\n",
        "      <td> 0.58</td>\n",
        "      <td> 38.62</td>\n",
        "      <td>  5</td>\n",
        "      <td> 39.13</td>\n",
        "      <td>  13</td>\n",
        "      <td> 0.00</td>\n",
        "    </tr>\n",
        "    <tr>\n",
        "      <th>3</th>\n",
        "      <td> 0053</td>\n",
        "      <td>    97000</td>\n",
        "      <td>   49</td>\n",
        "      <td>    2795650</td>\n",
        "      <td> 28.84</td>\n",
        "      <td> 29.10</td>\n",
        "      <td> 28.50</td>\n",
        "      <td> 29.10</td>\n",
        "      <td> +</td>\n",
        "      <td> 0.77</td>\n",
        "      <td> 29.13</td>\n",
        "      <td>  1</td>\n",
        "      <td> 29.61</td>\n",
        "      <td>   3</td>\n",
        "      <td> 0.00</td>\n",
        "    </tr>\n",
        "    <tr>\n",
        "      <th>4</th>\n",
        "      <td> 0054</td>\n",
        "      <td>     8000</td>\n",
        "      <td>    5</td>\n",
        "      <td>     188230</td>\n",
        "      <td> 23.50</td>\n",
        "      <td> 23.59</td>\n",
        "      <td> 23.49</td>\n",
        "      <td> 23.59</td>\n",
        "      <td> +</td>\n",
        "      <td> 0.20</td>\n",
        "      <td> 23.59</td>\n",
        "      <td>  5</td>\n",
        "      <td> 23.67</td>\n",
        "      <td>   3</td>\n",
        "      <td> 0.00</td>\n",
        "    </tr>\n",
        "  </tbody>\n",
        "</table>\n",
        "</div>"
       ],
       "metadata": {},
       "output_type": "pyout",
       "prompt_number": 23,
       "text": [
        "  Security Code Trade Volume Transaction Trade Value Opening Price  \\\n",
        "0          0050     16238916        3058  1074509403         65.80   \n",
        "1          0051        41485          29     1247885         30.04   \n",
        "2          0052         2000           2       77240         38.62   \n",
        "3          0053        97000          49     2795650         28.84   \n",
        "4          0054         8000           5      188230         23.50   \n",
        "\n",
        "  Highest Price Lowest Price Closing Price Dir(+/-) Change  \\\n",
        "0         66.70        65.60         66.70        +   1.20   \n",
        "1         30.20        29.96         30.18        -   0.01   \n",
        "2         38.62        38.62         38.62        +   0.58   \n",
        "3         29.10        28.50         29.10        +   0.77   \n",
        "4         23.59        23.49         23.59        +   0.20   \n",
        "\n",
        "  Last Best Bid Price Last Best Bid Volume Last Best Ask Price  \\\n",
        "0               66.65                   35               66.70   \n",
        "1               30.18                    2               30.19   \n",
        "2               38.62                    5               39.13   \n",
        "3               29.13                    1               29.61   \n",
        "4               23.59                    5               23.67   \n",
        "\n",
        "  Last Best Ask Volume Price-Earning ratio  \n",
        "0                  266                0.00  \n",
        "1                    1                0.00  \n",
        "2                   13                0.00  \n",
        "3                    3                0.00  \n",
        "4                    3                0.00  "
       ]
      }
     ],
     "prompt_number": 23
    },
    {
     "cell_type": "code",
     "collapsed": false,
     "input": [],
     "language": "python",
     "metadata": {},
     "outputs": []
    }
   ],
   "metadata": {}
  }
 ]
}