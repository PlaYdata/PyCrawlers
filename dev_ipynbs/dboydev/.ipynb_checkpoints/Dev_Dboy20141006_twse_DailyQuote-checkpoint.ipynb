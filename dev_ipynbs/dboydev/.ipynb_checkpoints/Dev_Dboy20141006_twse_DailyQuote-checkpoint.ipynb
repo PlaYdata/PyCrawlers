{
 "metadata": {
  "name": "",
  "signature": "sha256:800735cb3773e06b25fb32a495d801ed547dc6179dd5d599dffc51ce26271303"
 },
 "nbformat": 3,
 "nbformat_minor": 0,
 "worksheets": [
  {
   "cells": [
    {
     "cell_type": "code",
     "collapsed": false,
     "input": [
      "import pandas as pd\n",
      "from pandas.io.parsers import StringIO\n",
      "import numpy as np\n",
      "from pyquery import PyQuery as pq\n",
      "import requests\n",
      "import re"
     ],
     "language": "python",
     "metadata": {},
     "outputs": [],
     "prompt_number": 1
    },
    {
     "cell_type": "code",
     "collapsed": false,
     "input": [
      "def get_daily_quotes(date):\n",
      "    assert isinstance(date, str), \"date must be sting\"\n",
      "    year, month, day = date.split(\"/\")\n",
      "    ym = year + month\n",
      "    ymd = year + month + day\n",
      "    url = \"http://www.twse.com.tw/en/trading/exchange/MI_INDEX/MI_INDEX3_print.php?genpage=genpage/Report{year}{month}/A112{year}{month}{day}ALLBUT0999_1.php&type=csv\".format(year = year, month = month, day = day)\n",
      "    "
     ],
     "language": "python",
     "metadata": {},
     "outputs": []
    },
    {
     "cell_type": "code",
     "collapsed": false,
     "input": [],
     "language": "python",
     "metadata": {},
     "outputs": []
    },
    {
     "cell_type": "code",
     "collapsed": false,
     "input": [],
     "language": "python",
     "metadata": {},
     "outputs": []
    },
    {
     "cell_type": "code",
     "collapsed": false,
     "input": [],
     "language": "python",
     "metadata": {},
     "outputs": []
    },
    {
     "cell_type": "code",
     "collapsed": false,
     "input": [
      "date = \"2014/10/03\"\n",
      "year, month, day = date.split(\"/\")"
     ],
     "language": "python",
     "metadata": {},
     "outputs": [],
     "prompt_number": 3
    },
    {
     "cell_type": "code",
     "collapsed": false,
     "input": [],
     "language": "python",
     "metadata": {},
     "outputs": [
      {
       "metadata": {},
       "output_type": "pyout",
       "prompt_number": 4,
       "text": [
        "'2014'"
       ]
      }
     ],
     "prompt_number": 4
    },
    {
     "cell_type": "code",
     "collapsed": false,
     "input": [],
     "language": "python",
     "metadata": {},
     "outputs": []
    }
   ],
   "metadata": {}
  }
 ]
}