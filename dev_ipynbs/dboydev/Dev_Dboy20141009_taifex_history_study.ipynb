{
 "metadata": {
  "name": "",
  "signature": "sha256:37a12437f6a7692a58d9b941eee7ede3edf2a66491144508842b433da994b952"
 },
 "nbformat": 3,
 "nbformat_minor": 0,
 "worksheets": [
  {
   "cells": [
    {
     "cell_type": "code",
     "collapsed": false,
     "input": [
      "import pandas as pd\n",
      "from pandas.io.parsers import StringIO\n",
      "import numpy as np\n",
      "import requests\n",
      "import csv\n",
      "import re\n",
      "import tempfile"
     ],
     "language": "python",
     "metadata": {},
     "outputs": [],
     "prompt_number": 1
    },
    {
     "cell_type": "code",
     "collapsed": false,
     "input": [
      "import time"
     ],
     "language": "python",
     "metadata": {},
     "outputs": [],
     "prompt_number": 41
    },
    {
     "cell_type": "code",
     "collapsed": false,
     "input": [
      "d = time.strptime('2010/11/17', '%Y/%m/%d')"
     ],
     "language": "python",
     "metadata": {},
     "outputs": [],
     "prompt_number": 32
    },
    {
     "cell_type": "code",
     "collapsed": false,
     "input": [
      "d"
     ],
     "language": "python",
     "metadata": {},
     "outputs": [
      {
       "metadata": {},
       "output_type": "pyout",
       "prompt_number": 34,
       "text": [
        "time.struct_time(tm_year=2010, tm_mon=11, tm_mday=17, tm_hour=0, tm_min=0, tm_sec=0, tm_wday=2, tm_yday=321, tm_isdst=-1)"
       ]
      }
     ],
     "prompt_number": 34
    },
    {
     "cell_type": "code",
     "collapsed": false,
     "input": [
      "time.mktime(d)"
     ],
     "language": "python",
     "metadata": {},
     "outputs": [
      {
       "metadata": {},
       "output_type": "pyout",
       "prompt_number": 35,
       "text": [
        "1289923200.0"
       ]
      }
     ],
     "prompt_number": 35
    },
    {
     "cell_type": "code",
     "collapsed": false,
     "input": [
      "d1 = time.strptime('2013/09/01 0:0:0', '%Y/%m/%d %H:%M:%S')\n",
      "t1 = time.mktime(d1)"
     ],
     "language": "python",
     "metadata": {},
     "outputs": [],
     "prompt_number": 37
    },
    {
     "cell_type": "code",
     "collapsed": false,
     "input": [
      "d2 = time.strptime('2013/09/30 23:59:59', '%Y/%m/%d %H:%M:%S')\n",
      "t2 = time.mktime(d2)"
     ],
     "language": "python",
     "metadata": {},
     "outputs": [],
     "prompt_number": 38
    },
    {
     "cell_type": "code",
     "collapsed": false,
     "input": [
      "t2 - t1 + 1"
     ],
     "language": "python",
     "metadata": {},
     "outputs": [
      {
       "metadata": {},
       "output_type": "pyout",
       "prompt_number": 39,
       "text": [
        "2592000.0"
       ]
      }
     ],
     "prompt_number": 39
    },
    {
     "cell_type": "code",
     "collapsed": false,
     "input": [
      "30 * 24 * 60 * 60"
     ],
     "language": "python",
     "metadata": {},
     "outputs": [
      {
       "metadata": {},
       "output_type": "pyout",
       "prompt_number": 40,
       "text": [
        "2592000"
       ]
      }
     ],
     "prompt_number": 40
    },
    {
     "cell_type": "code",
     "collapsed": false,
     "input": [
      "def get_daily_history_taifex(start_date, end_date):\n",
      "    assert isinstance(start_date, str) and isinstance(end_date, str), \"date must be sting\"\n",
      "    pattern = re.compile(\"[0-9]{4}/[0-9]{2}/[0-9]{2}\")\n",
      "    match1 = pattern.match(start_date)\n",
      "    match2 = pattern.match(end_date)\n",
      "    assert not (match1 is None or match2 is None), \"Wrong format of date. Date must be of yyyy/mm/dd format.\"\n",
      "    \n",
      "    time_tuple1 = time.strptime('{start_date} 0:0:0'.format(start_date = start_date), '%Y/%m/%d %H:%M:%S')\n",
      "    time_in_sec1 = time.mktime(time_tuple1)\n",
      "    time_tuple2= time.strptime('{end_date} 23:59:59'.format(end_date = end_date), '%Y/%m/%d %H:%M:%S')\n",
      "    time_in_sec2 = time.mktime(time_tuple2)\n",
      "    dur = time_in_sec2 - time_in_sec1 + 1\n",
      "    assert dur <= 2592000.0, \"Can not query data longer than 30 days.\"\n",
      "    \n",
      "    req_data = {\"DATA_DATE\":start_date,\n",
      "                \"DATA_DATE1\":end_date,\n",
      "                \"COMMODITY_ID\":\"all\",\n",
      "                \"commodity_id2t\":\"\"}\n",
      "    res = requests.post(\"http://www.taifex.com.tw/eng/eng3/eng3_2dl.asp\", data = req_data)\n",
      "    res.encoding = \"big5\"\n",
      "    csv_string = res.text.replace(u'\\uff0b',u\"+\").replace(u'\\uff0d',u\"-\").replace(u'\\uff1a',u\":\").replace(u\"\\u2019\", u\"`\")\n",
      "    csvfile = StringIO(csv_string)\n",
      "    rows = list(csv.reader(csvfile))\n",
      "    columns_number_set = set(map(lambda xx: len(xx), rows))\n",
      "    df_list = []\n",
      "    for columns_number in columns_number_set:\n",
      "        temp_rows = [one_row for one_row in rows if len(one_row) == columns_number]\n",
      "        columns = map(lambda xx: \" \".join(map(lambda yy: yy.capitalize(), re.split(\" |_\", xx))), temp_rows[0])\n",
      "        temp_df = pd.DataFrame(temp_rows[1:], columns = columns)\n",
      "        for colname in temp_df.columns:\n",
      "            temp_df[colname] = temp_df[colname].map(lambda xx: xx.replace(u\"-\", \"\").replace(u\",\", \"\"))\n",
      "        df_list.append(temp_df)\n",
      "    return df_list"
     ],
     "language": "python",
     "metadata": {},
     "outputs": [],
     "prompt_number": 58
    },
    {
     "cell_type": "code",
     "collapsed": false,
     "input": [
      "test = get_daily_history_taifex(\"2014/10/01\", \"2014/10/09\")"
     ],
     "language": "python",
     "metadata": {},
     "outputs": [],
     "prompt_number": 59
    },
    {
     "cell_type": "code",
     "collapsed": false,
     "input": [
      "test[0].head()"
     ],
     "language": "python",
     "metadata": {},
     "outputs": [
      {
       "html": [
        "<div style=\"max-height:1000px;max-width:1500px;overflow:auto;\">\n",
        "<table border=\"1\" class=\"dataframe\">\n",
        "  <thead>\n",
        "    <tr style=\"text-align: right;\">\n",
        "      <th></th>\n",
        "      <th>Date</th>\n",
        "      <th>Contract</th>\n",
        "      <th>Contract Month(week)</th>\n",
        "      <th>Open</th>\n",
        "      <th>High</th>\n",
        "      <th>Low</th>\n",
        "      <th>Last</th>\n",
        "      <th>Change</th>\n",
        "      <th>%</th>\n",
        "      <th>Volume</th>\n",
        "      <th>Settlement Price</th>\n",
        "      <th>Open Interest</th>\n",
        "      <th>Best Bid</th>\n",
        "      <th>Best Ask</th>\n",
        "      <th>Historical High</th>\n",
        "      <th>Historical Low</th>\n",
        "    </tr>\n",
        "  </thead>\n",
        "  <tbody>\n",
        "    <tr>\n",
        "      <th>0</th>\n",
        "      <td> 2014/10/1</td>\n",
        "      <td> XIF</td>\n",
        "      <td> 201410  </td>\n",
        "      <td> 11237</td>\n",
        "      <td> 11298</td>\n",
        "      <td> 11190</td>\n",
        "      <td> 11258</td>\n",
        "      <td> 72</td>\n",
        "      <td> 0.64%</td>\n",
        "      <td> 543</td>\n",
        "      <td> 11258</td>\n",
        "      <td> 520</td>\n",
        "      <td> 11243</td>\n",
        "      <td> 11252</td>\n",
        "      <td> 11831</td>\n",
        "      <td> 11156</td>\n",
        "    </tr>\n",
        "    <tr>\n",
        "      <th>1</th>\n",
        "      <td> 2014/10/1</td>\n",
        "      <td> XIF</td>\n",
        "      <td> 201411  </td>\n",
        "      <td> 11212</td>\n",
        "      <td> 11300</td>\n",
        "      <td> 11186</td>\n",
        "      <td> 11253</td>\n",
        "      <td> 74</td>\n",
        "      <td> 0.65%</td>\n",
        "      <td> 153</td>\n",
        "      <td> 11253</td>\n",
        "      <td>  78</td>\n",
        "      <td> 11241</td>\n",
        "      <td> 11249</td>\n",
        "      <td> 11525</td>\n",
        "      <td> 11159</td>\n",
        "    </tr>\n",
        "    <tr>\n",
        "      <th>2</th>\n",
        "      <td> 2014/10/1</td>\n",
        "      <td> XIF</td>\n",
        "      <td> 201412  </td>\n",
        "      <td>      </td>\n",
        "      <td>      </td>\n",
        "      <td>      </td>\n",
        "      <td>      </td>\n",
        "      <td>   </td>\n",
        "      <td>      </td>\n",
        "      <td>    </td>\n",
        "      <td> 11255</td>\n",
        "      <td>  14</td>\n",
        "      <td>      </td>\n",
        "      <td>      </td>\n",
        "      <td>      </td>\n",
        "      <td>      </td>\n",
        "    </tr>\n",
        "    <tr>\n",
        "      <th>3</th>\n",
        "      <td> 2014/10/1</td>\n",
        "      <td> XIF</td>\n",
        "      <td> 201503  </td>\n",
        "      <td>      </td>\n",
        "      <td>      </td>\n",
        "      <td>      </td>\n",
        "      <td>      </td>\n",
        "      <td>   </td>\n",
        "      <td>      </td>\n",
        "      <td>    </td>\n",
        "      <td> 11073</td>\n",
        "      <td>   2</td>\n",
        "      <td>      </td>\n",
        "      <td>      </td>\n",
        "      <td>      </td>\n",
        "      <td>      </td>\n",
        "    </tr>\n",
        "    <tr>\n",
        "      <th>4</th>\n",
        "      <td> 2014/10/1</td>\n",
        "      <td> XIF</td>\n",
        "      <td> 201506  </td>\n",
        "      <td>      </td>\n",
        "      <td>      </td>\n",
        "      <td>      </td>\n",
        "      <td>      </td>\n",
        "      <td>   </td>\n",
        "      <td>      </td>\n",
        "      <td>    </td>\n",
        "      <td> 11102</td>\n",
        "      <td>   0</td>\n",
        "      <td>      </td>\n",
        "      <td>      </td>\n",
        "      <td>      </td>\n",
        "      <td>      </td>\n",
        "    </tr>\n",
        "  </tbody>\n",
        "</table>\n",
        "</div>"
       ],
       "metadata": {},
       "output_type": "pyout",
       "prompt_number": 60,
       "text": [
        "        Date Contract Contract Month(week)   Open   High    Low   Last Change  \\\n",
        "0  2014/10/1      XIF             201410    11237  11298  11190  11258     72   \n",
        "1  2014/10/1      XIF             201411    11212  11300  11186  11253     74   \n",
        "2  2014/10/1      XIF             201412                                        \n",
        "3  2014/10/1      XIF             201503                                        \n",
        "4  2014/10/1      XIF             201506                                        \n",
        "\n",
        "       % Volume Settlement Price Open Interest Best Bid Best Ask  \\\n",
        "0  0.64%    543            11258           520    11243    11252   \n",
        "1  0.65%    153            11253            78    11241    11249   \n",
        "2                          11255            14                     \n",
        "3                          11073             2                     \n",
        "4                          11102             0                     \n",
        "\n",
        "  Historical High Historical Low  \n",
        "0           11831          11156  \n",
        "1           11525          11159  \n",
        "2                                 \n",
        "3                                 \n",
        "4                                 "
       ]
      }
     ],
     "prompt_number": 60
    },
    {
     "cell_type": "code",
     "collapsed": false,
     "input": [
      "get_daily_history_taifex(\"2014/09/01\", \"2014/0930\")"
     ],
     "language": "python",
     "metadata": {},
     "outputs": [
      {
       "ename": "AssertionError",
       "evalue": "Wrong format of date. Date must be of yyyy/mm/dd format.",
       "output_type": "pyerr",
       "traceback": [
        "\u001b[0;31m---------------------------------------------------------------------------\u001b[0m\n\u001b[0;31mAssertionError\u001b[0m                            Traceback (most recent call last)",
        "\u001b[0;32m<ipython-input-61-4f4d0d87adb5>\u001b[0m in \u001b[0;36m<module>\u001b[0;34m()\u001b[0m\n\u001b[0;32m----> 1\u001b[0;31m \u001b[0mget_daily_history_taifex\u001b[0m\u001b[0;34m(\u001b[0m\u001b[0;34m\"2014/09/01\"\u001b[0m\u001b[0;34m,\u001b[0m \u001b[0;34m\"2014/0930\"\u001b[0m\u001b[0;34m)\u001b[0m\u001b[0;34m\u001b[0m\u001b[0m\n\u001b[0m",
        "\u001b[0;32m<ipython-input-58-eb830cfbc73c>\u001b[0m in \u001b[0;36mget_daily_history_taifex\u001b[0;34m(start_date, end_date)\u001b[0m\n\u001b[1;32m      4\u001b[0m     \u001b[0mmatch1\u001b[0m \u001b[0;34m=\u001b[0m \u001b[0mpattern\u001b[0m\u001b[0;34m.\u001b[0m\u001b[0mmatch\u001b[0m\u001b[0;34m(\u001b[0m\u001b[0mstart_date\u001b[0m\u001b[0;34m)\u001b[0m\u001b[0;34m\u001b[0m\u001b[0m\n\u001b[1;32m      5\u001b[0m     \u001b[0mmatch2\u001b[0m \u001b[0;34m=\u001b[0m \u001b[0mpattern\u001b[0m\u001b[0;34m.\u001b[0m\u001b[0mmatch\u001b[0m\u001b[0;34m(\u001b[0m\u001b[0mend_date\u001b[0m\u001b[0;34m)\u001b[0m\u001b[0;34m\u001b[0m\u001b[0m\n\u001b[0;32m----> 6\u001b[0;31m     \u001b[0;32massert\u001b[0m \u001b[0;32mnot\u001b[0m \u001b[0;34m(\u001b[0m\u001b[0mmatch1\u001b[0m \u001b[0;32mis\u001b[0m \u001b[0mNone\u001b[0m \u001b[0;32mor\u001b[0m \u001b[0mmatch2\u001b[0m \u001b[0;32mis\u001b[0m \u001b[0mNone\u001b[0m\u001b[0;34m)\u001b[0m\u001b[0;34m,\u001b[0m \u001b[0;34m\"Wrong format of date. Date must be of yyyy/mm/dd format.\"\u001b[0m\u001b[0;34m\u001b[0m\u001b[0m\n\u001b[0m\u001b[1;32m      7\u001b[0m \u001b[0;34m\u001b[0m\u001b[0m\n\u001b[1;32m      8\u001b[0m     \u001b[0mtime_tuple1\u001b[0m \u001b[0;34m=\u001b[0m \u001b[0mtime\u001b[0m\u001b[0;34m.\u001b[0m\u001b[0mstrptime\u001b[0m\u001b[0;34m(\u001b[0m\u001b[0;34m'{start_date} 0:0:0'\u001b[0m\u001b[0;34m.\u001b[0m\u001b[0mformat\u001b[0m\u001b[0;34m(\u001b[0m\u001b[0mstart_date\u001b[0m \u001b[0;34m=\u001b[0m \u001b[0mstart_date\u001b[0m\u001b[0;34m)\u001b[0m\u001b[0;34m,\u001b[0m \u001b[0;34m'%Y/%m/%d %H:%M:%S'\u001b[0m\u001b[0;34m)\u001b[0m\u001b[0;34m\u001b[0m\u001b[0m\n",
        "\u001b[0;31mAssertionError\u001b[0m: Wrong format of date. Date must be of yyyy/mm/dd format."
       ]
      }
     ],
     "prompt_number": 61
    },
    {
     "cell_type": "code",
     "collapsed": false,
     "input": [
      "get_daily_history_taifex(\"2014/0901\", \"2014/0930\")"
     ],
     "language": "python",
     "metadata": {},
     "outputs": [
      {
       "ename": "AssertionError",
       "evalue": "Wrong format of date. Date must be of yyyy/mm/dd format.",
       "output_type": "pyerr",
       "traceback": [
        "\u001b[0;31m---------------------------------------------------------------------------\u001b[0m\n\u001b[0;31mAssertionError\u001b[0m                            Traceback (most recent call last)",
        "\u001b[0;32m<ipython-input-62-a6fe3f531859>\u001b[0m in \u001b[0;36m<module>\u001b[0;34m()\u001b[0m\n\u001b[0;32m----> 1\u001b[0;31m \u001b[0mget_daily_history_taifex\u001b[0m\u001b[0;34m(\u001b[0m\u001b[0;34m\"2014/0901\"\u001b[0m\u001b[0;34m,\u001b[0m \u001b[0;34m\"2014/0930\"\u001b[0m\u001b[0;34m)\u001b[0m\u001b[0;34m\u001b[0m\u001b[0m\n\u001b[0m",
        "\u001b[0;32m<ipython-input-58-eb830cfbc73c>\u001b[0m in \u001b[0;36mget_daily_history_taifex\u001b[0;34m(start_date, end_date)\u001b[0m\n\u001b[1;32m      4\u001b[0m     \u001b[0mmatch1\u001b[0m \u001b[0;34m=\u001b[0m \u001b[0mpattern\u001b[0m\u001b[0;34m.\u001b[0m\u001b[0mmatch\u001b[0m\u001b[0;34m(\u001b[0m\u001b[0mstart_date\u001b[0m\u001b[0;34m)\u001b[0m\u001b[0;34m\u001b[0m\u001b[0m\n\u001b[1;32m      5\u001b[0m     \u001b[0mmatch2\u001b[0m \u001b[0;34m=\u001b[0m \u001b[0mpattern\u001b[0m\u001b[0;34m.\u001b[0m\u001b[0mmatch\u001b[0m\u001b[0;34m(\u001b[0m\u001b[0mend_date\u001b[0m\u001b[0;34m)\u001b[0m\u001b[0;34m\u001b[0m\u001b[0m\n\u001b[0;32m----> 6\u001b[0;31m     \u001b[0;32massert\u001b[0m \u001b[0;32mnot\u001b[0m \u001b[0;34m(\u001b[0m\u001b[0mmatch1\u001b[0m \u001b[0;32mis\u001b[0m \u001b[0mNone\u001b[0m \u001b[0;32mor\u001b[0m \u001b[0mmatch2\u001b[0m \u001b[0;32mis\u001b[0m \u001b[0mNone\u001b[0m\u001b[0;34m)\u001b[0m\u001b[0;34m,\u001b[0m \u001b[0;34m\"Wrong format of date. Date must be of yyyy/mm/dd format.\"\u001b[0m\u001b[0;34m\u001b[0m\u001b[0m\n\u001b[0m\u001b[1;32m      7\u001b[0m \u001b[0;34m\u001b[0m\u001b[0m\n\u001b[1;32m      8\u001b[0m     \u001b[0mtime_tuple1\u001b[0m \u001b[0;34m=\u001b[0m \u001b[0mtime\u001b[0m\u001b[0;34m.\u001b[0m\u001b[0mstrptime\u001b[0m\u001b[0;34m(\u001b[0m\u001b[0;34m'{start_date} 0:0:0'\u001b[0m\u001b[0;34m.\u001b[0m\u001b[0mformat\u001b[0m\u001b[0;34m(\u001b[0m\u001b[0mstart_date\u001b[0m \u001b[0;34m=\u001b[0m \u001b[0mstart_date\u001b[0m\u001b[0;34m)\u001b[0m\u001b[0;34m,\u001b[0m \u001b[0;34m'%Y/%m/%d %H:%M:%S'\u001b[0m\u001b[0;34m)\u001b[0m\u001b[0;34m\u001b[0m\u001b[0m\n",
        "\u001b[0;31mAssertionError\u001b[0m: Wrong format of date. Date must be of yyyy/mm/dd format."
       ]
      }
     ],
     "prompt_number": 62
    },
    {
     "cell_type": "code",
     "collapsed": false,
     "input": [
      "get_daily_history_taifex(\"2014/07/01\", \"2014/07/31\")"
     ],
     "language": "python",
     "metadata": {},
     "outputs": [
      {
       "ename": "AssertionError",
       "evalue": "Can not query data longer than 30 days.",
       "output_type": "pyerr",
       "traceback": [
        "\u001b[0;31m---------------------------------------------------------------------------\u001b[0m\n\u001b[0;31mAssertionError\u001b[0m                            Traceback (most recent call last)",
        "\u001b[0;32m<ipython-input-63-7e7ad48f3932>\u001b[0m in \u001b[0;36m<module>\u001b[0;34m()\u001b[0m\n\u001b[0;32m----> 1\u001b[0;31m \u001b[0mget_daily_history_taifex\u001b[0m\u001b[0;34m(\u001b[0m\u001b[0;34m\"2014/07/01\"\u001b[0m\u001b[0;34m,\u001b[0m \u001b[0;34m\"2014/07/31\"\u001b[0m\u001b[0;34m)\u001b[0m\u001b[0;34m\u001b[0m\u001b[0m\n\u001b[0m",
        "\u001b[0;32m<ipython-input-58-eb830cfbc73c>\u001b[0m in \u001b[0;36mget_daily_history_taifex\u001b[0;34m(start_date, end_date)\u001b[0m\n\u001b[1;32m     11\u001b[0m     \u001b[0mtime_in_sec2\u001b[0m \u001b[0;34m=\u001b[0m \u001b[0mtime\u001b[0m\u001b[0;34m.\u001b[0m\u001b[0mmktime\u001b[0m\u001b[0;34m(\u001b[0m\u001b[0mtime_tuple2\u001b[0m\u001b[0;34m)\u001b[0m\u001b[0;34m\u001b[0m\u001b[0m\n\u001b[1;32m     12\u001b[0m     \u001b[0mdur\u001b[0m \u001b[0;34m=\u001b[0m \u001b[0mtime_in_sec2\u001b[0m \u001b[0;34m-\u001b[0m \u001b[0mtime_in_sec1\u001b[0m \u001b[0;34m+\u001b[0m \u001b[0;36m1\u001b[0m\u001b[0;34m\u001b[0m\u001b[0m\n\u001b[0;32m---> 13\u001b[0;31m     \u001b[0;32massert\u001b[0m \u001b[0mdur\u001b[0m \u001b[0;34m<=\u001b[0m \u001b[0;36m2592000.0\u001b[0m\u001b[0;34m,\u001b[0m \u001b[0;34m\"Can not query data longer than 30 days.\"\u001b[0m\u001b[0;34m\u001b[0m\u001b[0m\n\u001b[0m\u001b[1;32m     14\u001b[0m \u001b[0;34m\u001b[0m\u001b[0m\n\u001b[1;32m     15\u001b[0m     req_data = {\"DATA_DATE\":start_date,\n",
        "\u001b[0;31mAssertionError\u001b[0m: Can not query data longer than 30 days."
       ]
      }
     ],
     "prompt_number": 63
    },
    {
     "cell_type": "code",
     "collapsed": false,
     "input": [
      "test2 = get_daily_history_taifex(\"2013/07/01\", \"2013/07/30\")"
     ],
     "language": "python",
     "metadata": {},
     "outputs": [],
     "prompt_number": 66
    },
    {
     "cell_type": "code",
     "collapsed": false,
     "input": [
      "test2[0].head()"
     ],
     "language": "python",
     "metadata": {},
     "outputs": [
      {
       "html": [
        "<div style=\"max-height:1000px;max-width:1500px;overflow:auto;\">\n",
        "<table border=\"1\" class=\"dataframe\">\n",
        "  <thead>\n",
        "    <tr style=\"text-align: right;\">\n",
        "      <th></th>\n",
        "      <th>Date</th>\n",
        "      <th>Contract</th>\n",
        "      <th>Contract Month(week)</th>\n",
        "      <th>Open</th>\n",
        "      <th>High</th>\n",
        "      <th>Low</th>\n",
        "      <th>Last</th>\n",
        "      <th>Change</th>\n",
        "      <th>%</th>\n",
        "      <th>Volume</th>\n",
        "      <th>Settlement Price</th>\n",
        "      <th>Open Interest</th>\n",
        "      <th>Best Bid</th>\n",
        "      <th>Best Ask</th>\n",
        "      <th>Historical High</th>\n",
        "      <th>Historical Low</th>\n",
        "    </tr>\n",
        "  </thead>\n",
        "  <tbody>\n",
        "    <tr>\n",
        "      <th>0</th>\n",
        "      <td> 2013/7/1</td>\n",
        "      <td> XIF</td>\n",
        "      <td> 201307</td>\n",
        "      <td> 10544</td>\n",
        "      <td> 10682</td>\n",
        "      <td> 10544</td>\n",
        "      <td> 10663</td>\n",
        "      <td> 64</td>\n",
        "      <td> 0.60%</td>\n",
        "      <td> 449</td>\n",
        "      <td> 10663</td>\n",
        "      <td> 347</td>\n",
        "      <td> 10661</td>\n",
        "      <td> 10675</td>\n",
        "      <td> 11211</td>\n",
        "      <td> 10155</td>\n",
        "    </tr>\n",
        "    <tr>\n",
        "      <th>1</th>\n",
        "      <td> 2013/7/1</td>\n",
        "      <td> XIF</td>\n",
        "      <td> 201308</td>\n",
        "      <td> 10442</td>\n",
        "      <td> 10508</td>\n",
        "      <td> 10431</td>\n",
        "      <td> 10489</td>\n",
        "      <td> 45</td>\n",
        "      <td> 0.43%</td>\n",
        "      <td>  36</td>\n",
        "      <td> 10502</td>\n",
        "      <td>  24</td>\n",
        "      <td> 10495</td>\n",
        "      <td> 10509</td>\n",
        "      <td> 10508</td>\n",
        "      <td> 10081</td>\n",
        "    </tr>\n",
        "    <tr>\n",
        "      <th>2</th>\n",
        "      <td> 2013/7/1</td>\n",
        "      <td> XIF</td>\n",
        "      <td> 201309</td>\n",
        "      <td>      </td>\n",
        "      <td>      </td>\n",
        "      <td>      </td>\n",
        "      <td>      </td>\n",
        "      <td>   </td>\n",
        "      <td>      </td>\n",
        "      <td>    </td>\n",
        "      <td> 10475</td>\n",
        "      <td>   6</td>\n",
        "      <td>      </td>\n",
        "      <td>      </td>\n",
        "      <td>      </td>\n",
        "      <td>      </td>\n",
        "    </tr>\n",
        "    <tr>\n",
        "      <th>3</th>\n",
        "      <td> 2013/7/1</td>\n",
        "      <td> XIF</td>\n",
        "      <td> 201312</td>\n",
        "      <td>      </td>\n",
        "      <td>      </td>\n",
        "      <td>      </td>\n",
        "      <td>      </td>\n",
        "      <td>   </td>\n",
        "      <td>      </td>\n",
        "      <td>    </td>\n",
        "      <td> 10423</td>\n",
        "      <td>   0</td>\n",
        "      <td>      </td>\n",
        "      <td>      </td>\n",
        "      <td>      </td>\n",
        "      <td>      </td>\n",
        "    </tr>\n",
        "    <tr>\n",
        "      <th>4</th>\n",
        "      <td> 2013/7/1</td>\n",
        "      <td> XIF</td>\n",
        "      <td> 201403</td>\n",
        "      <td>      </td>\n",
        "      <td>      </td>\n",
        "      <td>      </td>\n",
        "      <td>      </td>\n",
        "      <td>   </td>\n",
        "      <td>      </td>\n",
        "      <td>    </td>\n",
        "      <td> 10411</td>\n",
        "      <td>   0</td>\n",
        "      <td>      </td>\n",
        "      <td>      </td>\n",
        "      <td>      </td>\n",
        "      <td>      </td>\n",
        "    </tr>\n",
        "  </tbody>\n",
        "</table>\n",
        "</div>"
       ],
       "metadata": {},
       "output_type": "pyout",
       "prompt_number": 67,
       "text": [
        "       Date Contract Contract Month(week)   Open   High    Low   Last Change  \\\n",
        "0  2013/7/1      XIF               201307  10544  10682  10544  10663     64   \n",
        "1  2013/7/1      XIF               201308  10442  10508  10431  10489     45   \n",
        "2  2013/7/1      XIF               201309                                      \n",
        "3  2013/7/1      XIF               201312                                      \n",
        "4  2013/7/1      XIF               201403                                      \n",
        "\n",
        "       % Volume Settlement Price Open Interest Best Bid Best Ask  \\\n",
        "0  0.60%    449            10663           347    10661    10675   \n",
        "1  0.43%     36            10502            24    10495    10509   \n",
        "2                          10475             6                     \n",
        "3                          10423             0                     \n",
        "4                          10411             0                     \n",
        "\n",
        "  Historical High Historical Low  \n",
        "0           11211          10155  \n",
        "1           10508          10081  \n",
        "2                                 \n",
        "3                                 \n",
        "4                                 "
       ]
      }
     ],
     "prompt_number": 67
    },
    {
     "cell_type": "code",
     "collapsed": false,
     "input": [],
     "language": "python",
     "metadata": {},
     "outputs": []
    },
    {
     "cell_type": "code",
     "collapsed": false,
     "input": [],
     "language": "python",
     "metadata": {},
     "outputs": []
    },
    {
     "cell_type": "code",
     "collapsed": false,
     "input": [
      "temp_path = tempfile.mkdtemp(\"_pycrawlers\")"
     ],
     "language": "python",
     "metadata": {},
     "outputs": [],
     "prompt_number": 79
    },
    {
     "cell_type": "code",
     "collapsed": false,
     "input": [
      "temp_path"
     ],
     "language": "python",
     "metadata": {},
     "outputs": [
      {
       "metadata": {},
       "output_type": "pyout",
       "prompt_number": 80,
       "text": [
        "'/var/folders/5c/0p5zr2_n4xvbt2j6hkqczhph0000gn/T/tmpTxXgN3_pycrawlers'"
       ]
      }
     ],
     "prompt_number": 80
    },
    {
     "cell_type": "code",
     "collapsed": false,
     "input": [
      "tempfile.tempdir"
     ],
     "language": "python",
     "metadata": {},
     "outputs": [
      {
       "metadata": {},
       "output_type": "pyout",
       "prompt_number": 73,
       "text": [
        "'/var/folders/5c/0p5zr2_n4xvbt2j6hkqczhph0000gn/T'"
       ]
      }
     ],
     "prompt_number": 73
    },
    {
     "cell_type": "code",
     "collapsed": false,
     "input": [],
     "language": "python",
     "metadata": {},
     "outputs": []
    }
   ],
   "metadata": {}
  }
 ]
}